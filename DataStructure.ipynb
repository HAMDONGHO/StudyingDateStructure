{
 "cells": [
  {
   "cell_type": "code",
   "execution_count": 16,
   "metadata": {},
   "outputs": [
    {
     "name": "stdout",
     "output_type": "stream",
     "text": [
      "Your\n",
      "Passion\n",
      "5\n",
      "I said that my passion is better than you\n",
      "3\n",
      "3\n",
      "THIS STING IS EXAMPLE TO UPPER FUNCTION\n"
     ]
    }
   ],
   "source": [
    "a = 'Your Passion is so wonderful'\n",
    "print(a[0:4])\n",
    "Object = a[5:12]\n",
    "print(Object)\n",
    "print(a.find('P'))\n",
    "\n",
    "b='I said that my passion is better than %s' %'you'\n",
    "print(b)\n",
    "print(b.count('i'))\n",
    "print(b.index('a'))\n",
    "\n",
    "c='this sting is example to UPPER function'\n",
    "print(c.upper())"
   ]
  },
  {
   "cell_type": "code",
   "execution_count": 18,
   "metadata": {},
   "outputs": [
    {
     "name": "stdout",
     "output_type": "stream",
     "text": [
      "this string is example of format, i study Phython and so boring, now time is 3clock\n"
     ]
    }
   ],
   "source": [
    "d = 'this string is example of {}, i study {} and so {}, now time is {}clock'.format('format','Phython','boring','3')\n",
    "print(d)"
   ]
  },
  {
   "cell_type": "code",
   "execution_count": 28,
   "metadata": {},
   "outputs": [
    {
     "name": "stdout",
     "output_type": "stream",
     "text": [
      "sky\n",
      "['bird', 'Red', 3, 4, 8, ['sky', 'ground']]\n",
      "['bird', 'Red', 3, 4, 8, ['I', 'drink', 'coffee'], 9]\n",
      "['bird', 4, 8, ['I', 'drink', 'coffee'], 9]\n",
      "['bird', 8, ['I', 'drink', 'coffee'], 9]\n"
     ]
    }
   ],
   "source": [
    "e = ['bird', 'Red', 3, 4, 8, ['sky', 'ground'], 9]\n",
    "print(e[5][0])\n",
    "print(e[0:6])\n",
    "\n",
    "e[5] = ['I', 'drink', 'coffee']\n",
    "print(e)\n",
    "e[1:3] = []\n",
    "print(e)\n",
    "del e[1]\n",
    "print(e)"
   ]
  },
  {
   "cell_type": "code",
   "execution_count": 40,
   "metadata": {},
   "outputs": [
    {
     "name": "stdout",
     "output_type": "stream",
     "text": [
      "[2, 3, 5, 7, 9]\n",
      "[2, 4, 6, 8, 10]\n",
      "[5, 2, 10, 8, 1, 3]\n",
      "[1, 2, 3, 5, 8, 10]\n",
      "['c', 'a', 'j', 'd']\n",
      "['a', 'c', 'd', 'j']\n",
      "['j', 'd', 'c', 'a']\n",
      "[['j', 'd', 'c', 'a'], 2, 4, 6, 8, 10]\n",
      "[['j', 'd', 'c', 'a'], 2, 6, 8, 10]\n",
      "[2, 6, 8, 10]\n"
     ]
    }
   ],
   "source": [
    "f = [2, 3, 5, 7]\n",
    "f.append(9)\n",
    "print(f)\n",
    "f[0:] = [2, 4,6,8, 10]\n",
    "print(f)\n",
    "g = [ 5, 2, 10, 8, 1, 3]\n",
    "print(g)\n",
    "g.sort()\n",
    "print(g)\n",
    "h = ['c', 'a', 'j', 'd']\n",
    "print(h)\n",
    "h.sort()\n",
    "print(h)\n",
    "h.reverse()\n",
    "print(h)\n",
    "f.insert(0,h)\n",
    "print(f)\n",
    "f.remove(4)\n",
    "print(f)\n",
    "f.pop(0)\n",
    "print(f)"
   ]
  },
  {
   "cell_type": "code",
   "execution_count": 5,
   "metadata": {},
   "outputs": [
    {
     "name": "stdout",
     "output_type": "stream",
     "text": [
      "total :  790\n",
      "average :  79.0\n"
     ]
    }
   ],
   "source": [
    "a = [70, 60, 55, 75, 95, 90, 80, 80, 85, 100]\n",
    "total = 0\n",
    "for i in a:\n",
    "    total += i\n",
    "print(\"total : \", total)\n",
    "print(\"average : \", total/len(a))"
   ]
  },
  {
   "cell_type": "code",
   "execution_count": 15,
   "metadata": {
    "scrolled": false
   },
   "outputs": [
    {
     "name": "stdout",
     "output_type": "stream",
     "text": [
      "*\n",
      "**\n",
      "***\n",
      "****\n",
      "*****\n"
     ]
    }
   ],
   "source": [
    "for x in range(5):\n",
    "    print('*'*(x+1))"
   ]
  },
  {
   "cell_type": "code",
   "execution_count": 11,
   "metadata": {},
   "outputs": [
    {
     "name": "stdout",
     "output_type": "stream",
     "text": [
      "10\n",
      "짝수\n"
     ]
    }
   ],
   "source": [
    "a=int(input())\n",
    "\n",
    "if a % 2==0:\n",
    "    print('짝수')\n",
    "\n",
    "else:\n",
    "    print('홀수')"
   ]
  },
  {
   "cell_type": "code",
   "execution_count": 19,
   "metadata": {},
   "outputs": [
    {
     "name": "stdout",
     "output_type": "stream",
     "text": [
      "나머지\n",
      "나머지\n",
      "values: 53\n",
      "나머지\n",
      "18이다!!\n",
      "나머지\n"
     ]
    }
   ],
   "source": [
    "a=[1,20, 53,3,18,5]\n",
    "\n",
    "i = 0\n",
    "\n",
    "while i<len(a):\n",
    "    if a[i] > 20:\n",
    "        print('values:',a[i])\n",
    "    elif a[i] == 18:\n",
    "        print('18이다!!')\n",
    "    else:\n",
    "        print('나머지')\n",
    "    i+=1"
   ]
  },
  {
   "cell_type": "code",
   "execution_count": 22,
   "metadata": {},
   "outputs": [
    {
     "name": "stdout",
     "output_type": "stream",
     "text": [
      "5050\n"
     ]
    }
   ],
   "source": [
    "i = 1\n",
    "sum=0\n",
    "while i<=100:\n",
    "    sum +=i\n",
    "    i+=1\n",
    "    \n",
    "print(sum)"
   ]
  },
  {
   "cell_type": "code",
   "execution_count": 32,
   "metadata": {},
   "outputs": [
    {
     "name": "stdout",
     "output_type": "stream",
     "text": [
      "9 X 1 = 9\n",
      "9 X 2 = 18\n",
      "9 X 3 = 27\n",
      "9 X 4 = 36\n",
      "9 X 5 = 45\n",
      "9 X 6 = 54\n",
      "9 X 7 = 63\n",
      "9 X 8 = 72\n",
      "9 X 9 = 81\n",
      "8 X 1 = 8\n",
      "8 X 2 = 16\n",
      "8 X 3 = 24\n",
      "8 X 4 = 32\n",
      "8 X 5 = 40\n",
      "8 X 6 = 48\n",
      "8 X 7 = 56\n",
      "8 X 8 = 64\n",
      "8 X 9 = 72\n",
      "7 X 1 = 7\n",
      "7 X 2 = 14\n",
      "7 X 3 = 21\n",
      "7 X 4 = 28\n",
      "7 X 5 = 35\n",
      "7 X 6 = 42\n",
      "7 X 7 = 49\n",
      "7 X 8 = 56\n",
      "7 X 9 = 63\n",
      "6 X 1 = 6\n",
      "6 X 2 = 12\n",
      "6 X 3 = 18\n",
      "6 X 4 = 24\n",
      "6 X 5 = 30\n",
      "6 X 6 = 36\n",
      "6 X 7 = 42\n",
      "6 X 8 = 48\n",
      "6 X 9 = 54\n",
      "5 X 1 = 5\n",
      "5 X 2 = 10\n",
      "5 X 3 = 15\n",
      "5 X 4 = 20\n",
      "5 X 5 = 25\n",
      "5 X 6 = 30\n",
      "5 X 7 = 35\n",
      "5 X 8 = 40\n",
      "5 X 9 = 45\n",
      "4 X 1 = 4\n",
      "4 X 2 = 8\n",
      "4 X 3 = 12\n",
      "4 X 4 = 16\n",
      "4 X 5 = 20\n",
      "4 X 6 = 24\n",
      "4 X 7 = 28\n",
      "4 X 8 = 32\n",
      "4 X 9 = 36\n",
      "3 X 1 = 3\n",
      "3 X 2 = 6\n",
      "3 X 3 = 9\n",
      "3 X 4 = 12\n",
      "3 X 5 = 15\n",
      "3 X 6 = 18\n",
      "3 X 7 = 21\n",
      "3 X 8 = 24\n",
      "3 X 9 = 27\n",
      "2 X 1 = 2\n",
      "2 X 2 = 4\n",
      "2 X 3 = 6\n",
      "2 X 4 = 8\n",
      "2 X 5 = 10\n",
      "2 X 6 = 12\n",
      "2 X 7 = 14\n",
      "2 X 8 = 16\n",
      "2 X 9 = 18\n",
      "===========\n"
     ]
    }
   ],
   "source": [
    "a=[1,2,3,4,5,6,7,8,9]\n",
    "e=[9, 8 ,7, 6, 5, 4, 3, 2]\n",
    "for i in e:\n",
    "   for j in a:\n",
    "    print(i, 'X', j, '=', i*j)\n",
    "print(\"===========\")\n"
   ]
  },
  {
   "cell_type": "code",
   "execution_count": 77,
   "metadata": {},
   "outputs": [
    {
     "name": "stdout",
     "output_type": "stream",
     "text": [
      "2의 배수입니다, 2\n",
      "2의 배수입니다, 4\n",
      "2의 배수입니다, 6\n",
      "2의 배수입니다, 8\n",
      "2의 배수입니다, 10\n",
      "11의 배수입니다, 11\n",
      "2의 배수입니다, 12\n",
      "2의 배수입니다, 14\n",
      "2의 배수입니다, 16\n",
      "2의 배수입니다, 18\n",
      "2의 배수입니다, 20\n",
      "2의 배수입니다, 22\n",
      "2의 배수입니다, 24\n",
      "2의 배수입니다, 26\n",
      "2의 배수입니다, 28\n",
      "2의 배수입니다, 30\n",
      "2의 배수입니다, 32\n",
      "11의 배수입니다, 33\n",
      "2의 배수입니다, 34\n",
      "2의 배수입니다, 36\n",
      "2의 배수입니다, 38\n",
      "2의 배수입니다, 40\n",
      "2의 배수입니다, 42\n",
      "2의 배수입니다, 44\n",
      "2의 배수입니다, 46\n",
      "2의 배수입니다, 48\n",
      "2의 배수입니다, 50\n",
      "2의 배수입니다, 52\n",
      "2의 배수입니다, 54\n",
      "11의 배수입니다, 55\n",
      "2의 배수입니다, 56\n",
      "2의 배수입니다, 58\n",
      "2의 배수입니다, 60\n",
      "2의 배수입니다, 62\n",
      "2의 배수입니다, 64\n",
      "2의 배수입니다, 66\n",
      "2의 배수입니다, 68\n",
      "2의 배수입니다, 70\n",
      "2의 배수입니다, 72\n",
      "2의 배수입니다, 74\n",
      "2의 배수입니다, 76\n",
      "11의 배수입니다, 77\n",
      "2의 배수입니다, 78\n",
      "2의 배수입니다, 80\n",
      "2의 배수입니다, 82\n",
      "2의 배수입니다, 84\n",
      "2의 배수입니다, 86\n",
      "2의 배수입니다, 88\n",
      "2의 배수입니다, 90\n",
      "2의 배수입니다, 92\n",
      "2의 배수입니다, 94\n",
      "2의 배수입니다, 96\n",
      "2의 배수입니다, 98\n",
      "11의 배수입니다, 99\n",
      "2의 배수입니다, 100\n"
     ]
    }
   ],
   "source": [
    "a= list(range(1,101))\n",
    "for i in a:\n",
    "    if i % 2 ==0:\n",
    "        print(\"2의 배수입니다,\", i)\n",
    "    elif i % 11 == 0:\n",
    "        print(\"11의 배수입니다,\", i)"
   ]
  },
  {
   "cell_type": "code",
   "execution_count": 73,
   "metadata": {},
   "outputs": [
    {
     "name": "stdout",
     "output_type": "stream",
     "text": [
      "99 1\n"
     ]
    }
   ],
   "source": [
    "a= [22, 1, 3,4,7,98,21,55,87,99,19,20,45]\n",
    "min = a[0]\n",
    "max = a[0]\n",
    "\n",
    "for i in a:\n",
    "    if i < min:\n",
    "        min = i\n",
    "    if i > max:\n",
    "        max = i\n",
    "        \n",
    "print(max, min)\n",
    "    \n"
   ]
  },
  {
   "cell_type": "code",
   "execution_count": 75,
   "metadata": {},
   "outputs": [
    {
     "name": "stdout",
     "output_type": "stream",
     "text": [
      "462.46153846153845\n"
     ]
    }
   ],
   "source": [
    "a= [22, 1, 3,4,7,98,21,55,87,99,19,20,45]\n",
    "\n",
    "for i in a:\n",
    "    sum += i\n",
    "print(sum/len(a))"
   ]
  },
  {
   "cell_type": "code",
   "execution_count": 85,
   "metadata": {},
   "outputs": [],
   "source": [
    "def add(x, y, z):\n",
    "    return x+y+z\n",
    "\n",
    "def test():\n",
    "    print('hahahaha')"
   ]
  },
  {
   "cell_type": "code",
   "execution_count": 89,
   "metadata": {},
   "outputs": [
    {
     "name": "stdout",
     "output_type": "stream",
     "text": [
      "hahahaha\n",
      "25 None\n"
     ]
    }
   ],
   "source": [
    "print(add(19, 4, 2), test())"
   ]
  },
  {
   "cell_type": "code",
   "execution_count": 90,
   "metadata": {},
   "outputs": [
    {
     "name": "stdout",
     "output_type": "stream",
     "text": [
      "2.0\n"
     ]
    }
   ],
   "source": [
    "def Ave(nums):\n",
    "    sums=0\n",
    "    for i in nums:\n",
    "        sums += i\n",
    "    \n",
    "    return sums/len(nums)\n",
    "\n",
    "print(Ave([1,2,3,]))"
   ]
  },
  {
   "cell_type": "code",
   "execution_count": 163,
   "metadata": {},
   "outputs": [
    {
     "name": "stdout",
     "output_type": "stream",
     "text": [
      "소수가 아니다\n",
      "4\n",
      "소수이다.\n",
      "2\n",
      "소수가 아니다\n",
      "9\n",
      "소수이다.\n",
      "2\n"
     ]
    }
   ],
   "source": [
    "def sosu(a):\n",
    "    count = 0\n",
    "    for i in range(1, a+1): ##range로 안넣고 걍 a로 넣어서 오류뜸. 리스트 넣어줘야함\n",
    "        if a % i ==0 :\n",
    "            count +=1\n",
    "    if count > 2:\n",
    "        print(\"소수가 아니다\")\n",
    "    elif count <= 2 | count >=1:\n",
    "        print(\"소수이다.\")\n",
    "    return count\n",
    "        \n",
    "print(sosu(10))\n",
    "print(sosu(5))\n",
    "print(sosu(100))\n",
    "print(sosu(97))"
   ]
  },
  {
   "cell_type": "code",
   "execution_count": 165,
   "metadata": {},
   "outputs": [
    {
     "name": "stdout",
     "output_type": "stream",
     "text": [
      "소수이다.\n",
      "소수이다.\n",
      "소수가 아니다\n",
      "소수이다.\n",
      "소수가 아니다\n",
      "소수이다.\n",
      "4\n"
     ]
    }
   ],
   "source": [
    "def sosucount(a):\n",
    "    s_count = 0\n",
    "    for j in range(2, a+1):\n",
    "        if sosu(j) ==2:\n",
    "            s_count+=1\n",
    "    \n",
    "    return s_count\n",
    "\n",
    "print(sosucount(7))"
   ]
  },
  {
   "cell_type": "code",
   "execution_count": 154,
   "metadata": {},
   "outputs": [
    {
     "name": "stdout",
     "output_type": "stream",
     "text": [
      "False\n",
      "True\n",
      "False\n",
      "True\n"
     ]
    }
   ],
   "source": [
    "def sosu(a):\n",
    "    count = 0\n",
    "    for i in range(1, a+1): ##range로 안넣고 걍 a로 넣어서 오류뜸. 리스트 넣어줘야함\n",
    "        if a % i ==0 :\n",
    "            count +=1\n",
    "    if count > 2:\n",
    "        return False\n",
    "    elif count <= 2 | count >=1:\n",
    "        return True\n",
    "        \n",
    "print(sosu(10))\n",
    "print(sosu(5))\n",
    "print(sosu(100))\n",
    "print(sosu(97))"
   ]
  },
  {
   "cell_type": "code",
   "execution_count": 158,
   "metadata": {},
   "outputs": [
    {
     "name": "stdout",
     "output_type": "stream",
     "text": [
      "5\n"
     ]
    }
   ],
   "source": [
    "def sosucount(a):\n",
    "    s_count = 0\n",
    "    for j in range(2, a+1):\n",
    "        if sosu(j) == True:\n",
    "            s_count+=1\n",
    "    \n",
    "    return s_count\n",
    "\n",
    "print(sosucount(11))"
   ]
  },
  {
   "cell_type": "markdown",
   "metadata": {},
   "source": [
    "#### 홍길동이라는 사람의 눈, 코 입 등등 이런것들이 속성, 행동하는게 메소드 / 홍길동, 함동호 등 을 객체"
   ]
  },
  {
   "cell_type": "markdown",
   "metadata": {},
   "source": [
    "### a= [1,2,3,4] 타입을 정의하는게 클래스! \n",
    "### a.append(5) 이게 메소드\n",
    "###클래스로 생성되어 구체화된 객체(인스턴스)"
   ]
  },
  {
   "cell_type": "code",
   "execution_count": 1,
   "metadata": {},
   "outputs": [],
   "source": [
    "class person:\n",
    "    pass"
   ]
  },
  {
   "cell_type": "code",
   "execution_count": 2,
   "metadata": {},
   "outputs": [
    {
     "ename": "SyntaxError",
     "evalue": "unexpected EOF while parsing (<ipython-input-2-b3d556465c0a>, line 1)",
     "output_type": "error",
     "traceback": [
      "\u001b[1;36m  File \u001b[1;32m\"<ipython-input-2-b3d556465c0a>\"\u001b[1;36m, line \u001b[1;32m1\u001b[0m\n\u001b[1;33m    class person1:\u001b[0m\n\u001b[1;37m                  ^\u001b[0m\n\u001b[1;31mSyntaxError\u001b[0m\u001b[1;31m:\u001b[0m unexpected EOF while parsing\n"
     ]
    }
   ],
   "source": [
    "class person1:"
   ]
  },
  {
   "cell_type": "code",
   "execution_count": 3,
   "metadata": {},
   "outputs": [
    {
     "name": "stdout",
     "output_type": "stream",
     "text": [
      "<class '__main__.person'> <class '__main__.person'>\n",
      "<class 'list'> <class 'list'>\n"
     ]
    }
   ],
   "source": [
    "bob = person()\n",
    "cathy = person()\n",
    "## 똑같은 의미\n",
    "a= list()\n",
    "b= list()\n",
    "\n",
    "print(type(bob), type(cathy))\n",
    "print(type(a), type(b))"
   ]
  },
  {
   "cell_type": "code",
   "execution_count": 15,
   "metadata": {},
   "outputs": [
    {
     "name": "stdout",
     "output_type": "stream",
     "text": [
      "<__main__.person3 object at 0x000001987FE67710> is generated\n",
      "<__main__.person3 object at 0x000001987FE67748> is generated\n",
      "arron 20\n",
      "kate 10\n"
     ]
    }
   ],
   "source": [
    "class person3:\n",
    "    def __init__(self):\n",
    "        print(self,'is generated')\n",
    "        self.name = 'kate'\n",
    "        self.age = 10\n",
    "        \n",
    "p1 = person3() ###객체가 생성된 메모리 주소를 가킴 뒤에 is generated붙은거\n",
    "p2 = person3()\n",
    "\n",
    "p1.name = 'arron'\n",
    "p1.age = 20\n",
    "\n",
    "print(p1.name, p1.age)\n",
    "print(p2.name, p2.age)"
   ]
  },
  {
   "cell_type": "code",
   "execution_count": 26,
   "metadata": {},
   "outputs": [
    {
     "name": "stdout",
     "output_type": "stream",
     "text": [
      "sohee 24\n",
      "dongho 27\n",
      "arron 10\n",
      "<__main__.person4 object at 0x000001987FE72160>\n",
      "<__main__.person4 object at 0x000001987FE72080>\n",
      "<__main__.person4 object at 0x000001987FEDFB38>\n",
      "<__main__.person4 object at 0x000001987FE72160>\n",
      "sohee 은 잠을 잔다.\n"
     ]
    },
    {
     "data": {
      "text/plain": [
       "'sohee'"
      ]
     },
     "execution_count": 26,
     "metadata": {},
     "output_type": "execute_result"
    }
   ],
   "source": [
    "class person4:\n",
    "    def __init__(self, name, age=10): \n",
    "        ## self는 현재 해당 메소가 호출되는 객체 자기 자신 java의 this와 같음\n",
    "        #print(self, 'is victory')\n",
    "        self.name = name ##왼쪽이 속성의 이름, 오른쪽은 전달해주는 파라미터 이름일뿐\n",
    "        self.age = age\n",
    "        \n",
    "    def sleep(self):\n",
    "        print(self) ##자기 자신을 표현! 주소가 같음\n",
    "        print(self.name, '은 잠을 잔다.')\n",
    "\n",
    "\n",
    "p3 = person4('sohee', 24)\n",
    "p4 = person4('dongho', 27)\n",
    "p5 = person4('arron')\n",
    "\n",
    "print(p3.name, p3.age)\n",
    "print(p4.name, p4.age)\n",
    "print(p5.name, p5.age)\n",
    "print(p3)\n",
    "print(p4) ##각각 다른 메모리상에 생긴 객체라 주소가 다름\n",
    "print(p5)\n",
    "              \n",
    "p3.sleep() ##p3.~~~로 하여 메소드를 사용한 것 p3.name or p.append(100)이런게 메소드"
   ]
  },
  {
   "cell_type": "code",
   "execution_count": 32,
   "metadata": {},
   "outputs": [
    {
     "data": {
      "text/plain": [
       "600"
      ]
     },
     "execution_count": 32,
     "metadata": {},
     "output_type": "execute_result"
    }
   ],
   "source": [
    "class Math:\n",
    "    def add(self, a, b):\n",
    "        return a+b\n",
    "    def multiply(self, a, b):\n",
    "        return a*b\n",
    "\n",
    "m = Math()\n",
    "m.add(10, 20)\n",
    "m.multiply(30, 20)"
   ]
  },
  {
   "cell_type": "code",
   "execution_count": 35,
   "metadata": {},
   "outputs": [
    {
     "name": "stdout",
     "output_type": "stream",
     "text": [
      "bob은 BBQ를 먹습니다.\n",
      "bob은 30분 동안 잡니다.\n",
      "bob은 60동안 공부합니다.\n"
     ]
    }
   ],
   "source": [
    "class person5:\n",
    "    def __init__(self, name, age):\n",
    "        self.name = name\n",
    "        self.age = age\n",
    "    \n",
    "    def eat(self, food):\n",
    "        print('{}은 {}를 먹습니다.'.format(self.name, food))\n",
    "        \n",
    "    def sleep(self, minute):\n",
    "        print('{}은 {}분 동안 잡니다.'.format(self.name, minute))\n",
    "    \n",
    "    def work(self, worktime):\n",
    "        print('{}은 {}분 동안 일합니다.'.format(self.name, worktime))\n",
    "        \n",
    "class student(person5): ##person5으로부터 기능을 상속 받는것! person5의 기능을 가져감\n",
    "    def __init__(self, name, age):\n",
    "        self.name = name\n",
    "        self.age = age\n",
    "        \n",
    "    def work(self, minute):\n",
    "        print('{}은 {}동안 공부합니다.'.format(self.name, minute))\n",
    "\n",
    "class employee(person5):\n",
    "    def __init__(self, name, age):\n",
    "        self.name = name\n",
    "        self.age = age\n",
    "\n",
    "\n",
    "bob = student('bob',20)\n",
    "bob.eat('BBQ')\n",
    "bob.sleep(30)\n",
    "bob.work(60) ##work를 재정의해서 사용한것! 그래서 공부로 나오는거(메소드 오버라이딩)\n",
    "##부모클래스 기능을 재정의하면 재정의한대로 쓰고, 안하면 부모기능 그대로 사용\n",
    "###super().work(minute)하면 부모기능 다시 가져갈 수 있움"
   ]
  },
  {
   "cell_type": "code",
   "execution_count": 72,
   "metadata": {
    "scrolled": false
   },
   "outputs": [
    {
     "name": "stdout",
     "output_type": "stream",
     "text": [
      "4 + 9j\n",
      "3 + 5j\n",
      "7 + 14j\n",
      "-1 - 4j\n",
      "-33 + 47j\n",
      "False\n",
      "True\n",
      "5.830951894845301\n",
      "34\n"
     ]
    }
   ],
   "source": [
    "class complex:\n",
    "    def __init__(self, real, image):\n",
    "        self.real = real\n",
    "        self.image = image\n",
    "        \n",
    "        \n",
    "    def __add__(self, cn):\n",
    "        return complex(self.real+cn.real, self.image+cn.image)\n",
    "        \n",
    "    def __str__(self):\n",
    "        if self.image > 0:\n",
    "            return'{} + {}j'.format(self.real, self.image)\n",
    "        else:\n",
    "            return'{} - {}j'.format(self.real, abs(self.image))\n",
    "    \n",
    "    def __sub__(self, cn):\n",
    "        return complex(self.real - cn.real, self.image - cn.image)\n",
    "    \n",
    "    def __mul__(self, x):\n",
    "        if type(x) == int:\n",
    "            return complex(self.real *x, self.image*x)\n",
    "        elif type(x) == complex:\n",
    "            return complex(self.real * x.real - self.image*x.image, self.real*x.image + self.image*x.real)\n",
    "    \n",
    "    def __eq__(self, cn):\n",
    "        return self.real == cn.real and self.image == cn.image\n",
    "    \n",
    "    def __ne__(self, cn):\n",
    "        return not(self.real == cn.real and self.image == cn.image)\n",
    "    \n",
    "    def __abs__(self):\n",
    "        return (self.real **2 + self.image**2)**0.5\n",
    "    \n",
    "    def __len__(self):\n",
    "        return self.real **2 + self.image**2\n",
    "    \n",
    "\n",
    "a = complex(4, 9)\n",
    "b = complex(3,5)\n",
    "print(a)\n",
    "print(b)\n",
    "print(a+b)\n",
    "print(b-a)\n",
    "print(a*b)\n",
    "print(a==b)\n",
    "print(a!=b)\n",
    "print(abs(b))\n",
    "print(len(b))"
   ]
  },
  {
   "cell_type": "code",
   "execution_count": null,
   "metadata": {},
   "outputs": [],
   "source": []
  },
  {
   "cell_type": "markdown",
   "metadata": {},
   "source": [
    "##큐 내가 만드러봄!"
   ]
  },
  {
   "cell_type": "code",
   "execution_count": 12,
   "metadata": {},
   "outputs": [],
   "source": [
    "arr = list()\n",
    "\n",
    "def enque(data):\n",
    "    arr.append(data)\n",
    "\n",
    "def deque():\n",
    "    data = arr[0]\n",
    "    del arr[0]\n",
    "    return data\n"
   ]
  },
  {
   "cell_type": "code",
   "execution_count": 13,
   "metadata": {},
   "outputs": [],
   "source": [
    "for i in range(50):\n",
    "    enque(i)"
   ]
  },
  {
   "cell_type": "code",
   "execution_count": 14,
   "metadata": {},
   "outputs": [
    {
     "data": {
      "text/plain": [
       "50"
      ]
     },
     "execution_count": 14,
     "metadata": {},
     "output_type": "execute_result"
    }
   ],
   "source": [
    "len(arr)"
   ]
  },
  {
   "cell_type": "code",
   "execution_count": 15,
   "metadata": {},
   "outputs": [
    {
     "data": {
      "text/plain": [
       "0"
      ]
     },
     "execution_count": 15,
     "metadata": {},
     "output_type": "execute_result"
    }
   ],
   "source": [
    "deque()"
   ]
  },
  {
   "cell_type": "code",
   "execution_count": null,
   "metadata": {},
   "outputs": [],
   "source": []
  },
  {
   "cell_type": "markdown",
   "metadata": {},
   "source": [
    "## 스택만들어보기!"
   ]
  },
  {
   "cell_type": "code",
   "execution_count": 17,
   "metadata": {},
   "outputs": [],
   "source": [
    "stack=list()\n",
    "\n",
    "def push(data):\n",
    "    stack.append(data)\n",
    "\n",
    "def pop():\n",
    "    data = stack[-1]\n",
    "    del stack[-1]\n",
    "    return data\n",
    "\n",
    "for x in range(100):\n",
    "    push(x)"
   ]
  },
  {
   "cell_type": "code",
   "execution_count": 25,
   "metadata": {},
   "outputs": [
    {
     "data": {
      "text/plain": [
       "96"
      ]
     },
     "execution_count": 25,
     "metadata": {},
     "output_type": "execute_result"
    }
   ],
   "source": [
    "stack.pop()"
   ]
  },
  {
   "cell_type": "code",
   "execution_count": null,
   "metadata": {},
   "outputs": [],
   "source": []
  },
  {
   "cell_type": "markdown",
   "metadata": {},
   "source": [
    "#오늘은 링크드리스트!!!"
   ]
  },
  {
   "cell_type": "code",
   "execution_count": 26,
   "metadata": {},
   "outputs": [],
   "source": [
    "class Node:\n",
    "    def __init__(self, data, next=None):\n",
    "        self.data = data\n",
    "        self.next = next\n",
    "        \n",
    "class linked:\n",
    "    def __init__(self, data):\n",
    "        self.head = Node(data)\n",
    "        \n",
    "    def add(self, data):\n",
    "        if self.head == '':\n",
    "            self.head = Node(data)\n",
    "        else:\n",
    "            node = self.head\n",
    "            while node.next:\n",
    "                node = node.next\n",
    "            node.next = Node(data)\n",
    "            \n",
    "    def delete(self, data):\n",
    "        if self.head == '':\n",
    "            print('알맞은 노드가 없습니다.')\n",
    "            return\n",
    "            \n",
    "        if self.head.data == data:\n",
    "            temp = self.head.data\n",
    "            self.head = self.head.next\n",
    "            return temp\n",
    "        \n",
    "        else:\n",
    "            node = self.head\n",
    "            while node.next:\n",
    "                if node.next.data == data:\n",
    "                    temp = node.next.data\n",
    "                    node.next = node.next.next\n",
    "                    del temp\n",
    "                else:\n",
    "                    node = node.next\n",
    "                    \n",
    "    def search(self, data):\n",
    "        if self.head == '':\n",
    "            print('리스트에 아무것도 없슴돠')\n",
    "            \n",
    "        else:\n",
    "            node = self.head\n",
    "            while node.next:\n",
    "                if node.next.data == data:\n",
    "                    return node.next.data\n",
    "                    \n",
    "                else:\n",
    "                    node = node.next\n",
    "        \n",
    "    def disp(self):\n",
    "        node = self.head\n",
    "        while node:\n",
    "            print(node.data)\n",
    "            node = node.next\n",
    "                \n",
    "        \n",
    "        "
   ]
  },
  {
   "cell_type": "code",
   "execution_count": 27,
   "metadata": {},
   "outputs": [
    {
     "name": "stdout",
     "output_type": "stream",
     "text": [
      "0\n",
      "1\n",
      "2\n",
      "3\n",
      "4\n",
      "5\n",
      "6\n",
      "7\n",
      "8\n",
      "9\n"
     ]
    }
   ],
   "source": [
    "linked1 = linked(0)\n",
    "\n",
    "for i in range(1,10):\n",
    "    linked1.add(i)\n",
    "\n",
    "linked1.disp()"
   ]
  },
  {
   "cell_type": "code",
   "execution_count": 28,
   "metadata": {},
   "outputs": [],
   "source": [
    "linked1.delete(8)"
   ]
  },
  {
   "cell_type": "code",
   "execution_count": 29,
   "metadata": {},
   "outputs": [
    {
     "name": "stdout",
     "output_type": "stream",
     "text": [
      "0\n",
      "1\n",
      "2\n",
      "3\n",
      "4\n",
      "5\n",
      "6\n",
      "7\n",
      "9\n",
      "1\n",
      "2\n",
      "3\n",
      "4\n",
      "5\n",
      "6\n",
      "7\n",
      "9\n"
     ]
    }
   ],
   "source": [
    "linked1.disp()\n",
    "linked1.delete(0)\n",
    "linked1.disp()"
   ]
  },
  {
   "cell_type": "code",
   "execution_count": 35,
   "metadata": {},
   "outputs": [
    {
     "data": {
      "text/plain": [
       "6"
      ]
     },
     "execution_count": 35,
     "metadata": {},
     "output_type": "execute_result"
    }
   ],
   "source": [
    "linked1.search(6)"
   ]
  },
  {
   "cell_type": "code",
   "execution_count": 13,
   "metadata": {},
   "outputs": [],
   "source": [
    "class Node:\n",
    "    def __init__(self, data, next=None): ##여기서 None은 디폴트값임. next값이 없으면 걍 none으로 하는거\n",
    "        self.data = data\n",
    "        self.next = next\n",
    "        \n",
    "class linkedl:\n",
    "    def __init__(self, data):\n",
    "        self.head = Node(data)\n",
    "        \n",
    "    def add(self, data):\n",
    "        if self.head == '':\n",
    "            self.head = Node(data)\n",
    "        else:\n",
    "            node = self.head\n",
    "            while node.next:\n",
    "                node = node.next\n",
    "            node.next = Node(data)\n",
    "\n",
    "    def delete(self, data):\n",
    "        if self.head == '':\n",
    "            print(\"노드가 없슴\")\n",
    "            return\n",
    "        \n",
    "        if self.head.data == data:\n",
    "            temp = self.head.data\n",
    "            self.head = self.head.next\n",
    "            return temp\n",
    "        \n",
    "        else:\n",
    "            node = self.head\n",
    "            while node.next:\n",
    "                if node.next.data == data:\n",
    "                    temp = node.next.data\n",
    "                    node.next = node.next.next\n",
    "                    del temp\n",
    "                else:\n",
    "                    node = node.next\n",
    "                    \n",
    "    def search(self, data):\n",
    "        if self.head == '':\n",
    "            print(\"텅비었음\")\n",
    "            \n",
    "        else:\n",
    "            node = self.head\n",
    "            while node.next:\n",
    "                if node.next.data == data:\n",
    "                    return node.next.data\n",
    "                else:\n",
    "                    node = node.next\n",
    "    \n",
    "    def disp(self):\n",
    "        node = self.head\n",
    "        while node:\n",
    "            print(node.data, end='')\n",
    "            node = node.next\n",
    "                \n",
    "                    \n",
    "            \n",
    "            "
   ]
  },
  {
   "cell_type": "code",
   "execution_count": 17,
   "metadata": {},
   "outputs": [],
   "source": [
    "link1 = linkedl(0)"
   ]
  },
  {
   "cell_type": "code",
   "execution_count": 18,
   "metadata": {},
   "outputs": [],
   "source": [
    "for i in range(1,11):\n",
    "    link1.add(i)"
   ]
  },
  {
   "cell_type": "code",
   "execution_count": 19,
   "metadata": {},
   "outputs": [
    {
     "name": "stdout",
     "output_type": "stream",
     "text": [
      "012345678910"
     ]
    }
   ],
   "source": [
    "link1.disp()"
   ]
  },
  {
   "cell_type": "markdown",
   "metadata": {},
   "source": [
    "##내가 주는 과제 : 이중연결리스트 만들기"
   ]
  },
  {
   "cell_type": "code",
   "execution_count": 53,
   "metadata": {},
   "outputs": [],
   "source": [
    "class Node:\n",
    "    def __init__(self, data, prev=None, next=None):\n",
    "        self.data = data\n",
    "        self.prev = prev\n",
    "        self.next = next\n",
    "\n",
    "class doublelink:\n",
    "    def __init__(self, data):\n",
    "        self.head = Node(data)\n",
    "        self.tail = self.head\n",
    "        \n",
    "    def add(self, data):\n",
    "        if self.head == '':\n",
    "            self.head = Node(data)\n",
    "            self.tail = self.head\n",
    "        \n",
    "        else:\n",
    "            node = self.head\n",
    "            while node.next:\n",
    "                node = node.next\n",
    "                \n",
    "            new = Node(data)\n",
    "            node.next = new\n",
    "            new.prev = node\n",
    "            self.tail = new\n",
    "        \n",
    "    def disp(self):\n",
    "        node = self.head\n",
    "        while node:\n",
    "            print(node.data, end=' ')\n",
    "            node = node.next\n",
    "            \n",
    "    def search_node_tail(self, data):\n",
    "        if self.head == '':\n",
    "            print(\"노드가 없슴\")\n",
    "            return\n",
    "            \n",
    "        else:\n",
    "            node = self.tail\n",
    "            while node:\n",
    "                if node.data == data:\n",
    "                    return node.data\n",
    "                else:\n",
    "                    node = node.prev\n",
    "            return print(\"찾는노드가 없습니다\")\n",
    "        \n",
    "    def search_node_head(self, data):\n",
    "        if self.head == '':\n",
    "            print(\"노드가 없슴\")\n",
    "            return\n",
    "        \n",
    "        else:\n",
    "            node = self.head\n",
    "            while node:\n",
    "                if node.data == data:\n",
    "                    return node.data\n",
    "                else:\n",
    "                    node = node.next\n",
    "            return print(\"찾는노드가 없습니다\")\n",
    "        \n",
    "        \n",
    "    def insert_before(self, data, before_data):\n",
    "        if self.head == '':\n",
    "            self.head = Node(data)\n",
    "        \n",
    "        else:\n",
    "            node = self.tail\n",
    "            while node.data != before_data:\n",
    "                node = node.prev\n",
    "                if node == None:\n",
    "                    print(\"넣을 자리가 업습니당\")\n",
    "                    return\n",
    "            new = Node(data)\n",
    "            new.next = node\n",
    "            new.prev = node.prev\n",
    "            node.prev.next = new\n",
    "            node.prev = new\n",
    "            return\n",
    "            \n",
    "    \n",
    "    def insert_after(self, data, after_data):\n",
    "        if self.head =='':\n",
    "            self.head = Node(data)\n",
    "        \n",
    "        else:\n",
    "            node = self.head\n",
    "            while node.data != after_data:\n",
    "                node = node.next\n",
    "                if node == None:\n",
    "                    print(\"넣을 자리가 없습니당\")\n",
    "                    return\n",
    "            new = Node(data)\n",
    "            new.prev = node\n",
    "            new.next = node.next\n",
    "            node.next.prev = new\n",
    "            node.next = new\n",
    "            return\n",
    "        \n",
    "    def delete(self, data):\n",
    "        if self.head == '':\n",
    "            print(\"삭제할 노드가 없습니당\")\n",
    "            return\n",
    "        else:\n",
    "            node = self.head\n",
    "            while node.data != data:\n",
    "                node = node.next\n",
    "            node.prev.next = node.next\n",
    "            node.next.prev = node.prev"
   ]
  },
  {
   "cell_type": "code",
   "execution_count": 54,
   "metadata": {},
   "outputs": [],
   "source": [
    "dlink = doublelink(0)"
   ]
  },
  {
   "cell_type": "code",
   "execution_count": 55,
   "metadata": {},
   "outputs": [
    {
     "name": "stdout",
     "output_type": "stream",
     "text": [
      "0 1 2 3 3.5 4 5 6 7 7.5 8 9 10 11 12 12.3 13 14 15 16 17 18 19 20 "
     ]
    }
   ],
   "source": [
    "for i in range(1, 21):\n",
    "    dlink.add(i)\n",
    "    \n",
    "dlink.insert_before(3.5, 4)\n",
    "dlink.insert_after(7.5, 7)\n",
    "dlink.insert_before(12.3, 13)\n",
    "dlink.disp()"
   ]
  },
  {
   "cell_type": "code",
   "execution_count": 56,
   "metadata": {},
   "outputs": [
    {
     "data": {
      "text/plain": [
       "5"
      ]
     },
     "execution_count": 56,
     "metadata": {},
     "output_type": "execute_result"
    }
   ],
   "source": [
    "dlink.search_node_tail(5)"
   ]
  },
  {
   "cell_type": "code",
   "execution_count": 57,
   "metadata": {},
   "outputs": [
    {
     "data": {
      "text/plain": [
       "18"
      ]
     },
     "execution_count": 57,
     "metadata": {},
     "output_type": "execute_result"
    }
   ],
   "source": [
    "dlink.search_node_head(18)"
   ]
  },
  {
   "cell_type": "code",
   "execution_count": 58,
   "metadata": {},
   "outputs": [
    {
     "name": "stdout",
     "output_type": "stream",
     "text": [
      "찾는노드가 없습니다\n"
     ]
    }
   ],
   "source": [
    "dlink.search_node_head(128)"
   ]
  },
  {
   "cell_type": "code",
   "execution_count": 59,
   "metadata": {
    "scrolled": true
   },
   "outputs": [
    {
     "name": "stdout",
     "output_type": "stream",
     "text": [
      "찾는노드가 없습니다\n"
     ]
    }
   ],
   "source": [
    "dlink.search_node_tail(128)"
   ]
  },
  {
   "cell_type": "code",
   "execution_count": 60,
   "metadata": {},
   "outputs": [],
   "source": [
    "dlink.delete(19)"
   ]
  },
  {
   "cell_type": "code",
   "execution_count": 61,
   "metadata": {},
   "outputs": [
    {
     "name": "stdout",
     "output_type": "stream",
     "text": [
      "0 1 2 3 3.5 4 5 6 7 7.5 8 9 10 11 12 12.3 13 14 15 16 17 18 20 "
     ]
    }
   ],
   "source": [
    "dlink.disp()"
   ]
  },
  {
   "cell_type": "markdown",
   "metadata": {},
   "source": [
    "##해시테이블!"
   ]
  },
  {
   "cell_type": "code",
   "execution_count": 12,
   "metadata": {},
   "outputs": [
    {
     "name": "stdout",
     "output_type": "stream",
     "text": [
      "97\n"
     ]
    }
   ],
   "source": [
    "hashex = list([0 for i in range(10)])\n",
    "\n",
    "def hashfunc(key):\n",
    "    return key%5\n",
    "\n",
    "def storagedata(data, value):\n",
    "    key = ord(data[0])\n",
    "    hashaddress = hashfunc(key)\n",
    "    hashex[hashaddress] = value\n",
    "\n",
    "def getdata(data):\n",
    "    key = ord(data[0])\n",
    "    hashaddress = hashfunc(key)\n",
    "    return hashex[hashaddress]\n",
    "    \n",
    "data1 = 'andy'\n",
    "data2 = 'dave'\n",
    "data3 = 'trump'\n",
    "\n",
    "print(ord(data1[0])) #ord()는 ascii값을 반환해주는거\n",
    "\n",
    "storagedata(data1, '01082567958')\n",
    "storagedata(data2, '01042639975')\n",
    "storagedata(data3, '01041223428')"
   ]
  },
  {
   "cell_type": "code",
   "execution_count": 13,
   "metadata": {},
   "outputs": [
    {
     "data": {
      "text/plain": [
       "'01082567958'"
      ]
     },
     "execution_count": 13,
     "metadata": {},
     "output_type": "execute_result"
    }
   ],
   "source": [
    "getdata('andy')"
   ]
  },
  {
   "cell_type": "code",
   "execution_count": 30,
   "metadata": {},
   "outputs": [
    {
     "data": {
      "text/plain": [
       "'010324342'"
      ]
     },
     "execution_count": 30,
     "metadata": {},
     "output_type": "execute_result"
    }
   ],
   "source": [
    "hashex2 = list([0 for i in range(10)])\n",
    "\n",
    "def getkey(data):\n",
    "    return hash(data)\n",
    "\n",
    "def hashfunc2(key):\n",
    "    return key%8\n",
    "\n",
    "def storage(data, value):\n",
    "    hashaddress2 = hashfunc2(getkey(data))\n",
    "    hashex2[hashaddress2] = value\n",
    "    \n",
    "def readdata(data):\n",
    "    hashaddress2 = hashfunc2(getkey(data))\n",
    "    return hashex2[hashaddress2]\n",
    "    \n",
    "storage(\"Dave\", '010324342')\n",
    "storage(\"Andy\", '010225235')\n",
    "readdata(\"Dave\")"
   ]
  },
  {
   "cell_type": "code",
   "execution_count": 31,
   "metadata": {},
   "outputs": [
    {
     "data": {
      "text/plain": [
       "[0, '010324342', 0, '010225235', 0, 0, 0, 0, 0, 0]"
      ]
     },
     "execution_count": 31,
     "metadata": {},
     "output_type": "execute_result"
    }
   ],
   "source": [
    "hashex2"
   ]
  },
  {
   "cell_type": "markdown",
   "metadata": {},
   "source": [
    "##내가 주는 과제 : 링크드리스트로 해쉬 구현하기(체이닝, 라이닝 둘다!) <- 나중에 하자,, 링크드리스트로 만족해,,"
   ]
  },
  {
   "cell_type": "markdown",
   "metadata": {},
   "source": [
    "## 트리!"
   ]
  },
  {
   "cell_type": "code",
   "execution_count": 10,
   "metadata": {},
   "outputs": [],
   "source": [
    "class Node:\n",
    "    def __init__(self, data):\n",
    "        self.right = None\n",
    "        self.left = None\n",
    "        self.data = data\n",
    "    \n",
    "class NodeMgm:\n",
    "    def __init__(self, head):\n",
    "        self.head = head\n",
    "    \n",
    "    def add(self, data):\n",
    "        self.current_node = self.head\n",
    "        while True:\n",
    "            if data < self.current_node.data:\n",
    "                if self.current_node.left != None:\n",
    "                    self.current_node = self.current_node.left\n",
    "                else:\n",
    "                    self.current_node.left = Node(data)\n",
    "                    break\n",
    "            else:\n",
    "                if self.current_node.right != None:\n",
    "                    self.current_node = self.current_node.right\n",
    "                else:\n",
    "                    self.current_node.right = Node(data)\n",
    "                    break\n",
    "                    \n",
    "    def search(self, data):\n",
    "        self.current_node = self.head\n",
    "        while self.current_node:\n",
    "            if self.current_node.data == data:\n",
    "                return self.current_node.data\n",
    "            elif self.current_node.data < data:\n",
    "                self.current_node = self.current_node.right\n",
    "            else:\n",
    "                self.currnet_node = self.current_node.left\n",
    "        return False\n",
    "    \n",
    "    def delete(self, data):\n",
    "        self.current_node = self.head\n",
    "        "
   ]
  },
  {
   "cell_type": "code",
   "execution_count": 11,
   "metadata": {},
   "outputs": [],
   "source": [
    "head = Node(1)\n",
    "BST = NodeMgm(head)\n",
    "BST.add(9)\n",
    "BST.add(4)\n",
    "BST.add(7)\n",
    "BST.add(12)"
   ]
  },
  {
   "cell_type": "code",
   "execution_count": 12,
   "metadata": {},
   "outputs": [
    {
     "data": {
      "text/plain": [
       "12"
      ]
     },
     "execution_count": 12,
     "metadata": {},
     "output_type": "execute_result"
    }
   ],
   "source": [
    "BST.search(12)"
   ]
  },
  {
   "cell_type": "code",
   "execution_count": 11,
   "metadata": {},
   "outputs": [],
   "source": [
    "##복습!!\n",
    "class Node:\n",
    "    def __init__(self, data):\n",
    "        self.data = data\n",
    "        self.right = None\n",
    "        self.left = None\n",
    "        \n",
    "class Binary:\n",
    "    def __init__(self, head):\n",
    "        self.head = head\n",
    "    \n",
    "    def insert(self, data):\n",
    "        self.current_node = self.head\n",
    "        while True:\n",
    "            if self.current_node.data > data:\n",
    "                if self.current_node.left != None:\n",
    "                    self.current_node = self.current_node.left\n",
    "                else:\n",
    "                    self.current_node.left = Node(data)\n",
    "                    break\n",
    "            else:\n",
    "                if self.current_node.right != None:\n",
    "                    self.current_node = self.current_node.right\n",
    "                else:\n",
    "                    self.current_node.right = Node(data)\n",
    "                    break\n",
    "    \n",
    "    def search(self, data):\n",
    "        self.current_node = self.head\n",
    "        while self.current_node:\n",
    "            if self.current_node != None:\n",
    "                if self.current_node.data == data:\n",
    "                    return self.current_node.data\n",
    "                elif self.current_node.data > data:\n",
    "                    self.current_node = self.current_node.left\n",
    "                else:\n",
    "                    self.current_node = self.current_node.right\n",
    "            else:\n",
    "                return print(\"노드가 없습니다.\")\n",
    "        return False\n",
    "    \n",
    "    def delete(self, data):\n",
    "        searched = False\n",
    "        self.current_node = self.head\n",
    "        self.parent = self.head\n",
    "        while self.current_node:\n",
    "            if self.current_node.data == data:\n",
    "                searched = True\n",
    "                break\n",
    "            elif self.current_node.data < data:\n",
    "                self.parent = self.current_node\n",
    "                self.current_node = self.current_node.left\n",
    "            else:\n",
    "                self.parent = self.current_node\n",
    "                self.current_node = self.current_node.right\n",
    "        \n",
    "        if searched == False:\n",
    "            return False\n",
    "        \n",
    "        if self.current_node.right == None and self.current_node.left == None: ## 리프노드강 없을때\n",
    "            if self.parent.data > data:\n",
    "                self.parent.left = None\n",
    "            else:\n",
    "                self.parent.right = None\n",
    "            del self.current_node\n",
    "            \n",
    "        if self.current_node.left != None and self.current_node.right == None: ## 리프노드가 하나 잇을때\n",
    "            if self.parent.data > data:\n",
    "                self.parent.left = self.current_node.left\n",
    "            else:\n",
    "                self.parent.right = self.current.node.right\n",
    "        \n",
    "        elif self.current_node.right != None and self.current_node.left == left:\n",
    "            if self.parent.data > data:\n",
    "                self.parent.left = self.current_node.right\n",
    "            else:\n",
    "                self.parent.right = self.current.node.right\n",
    "        \n",
    "        if self.current_node.left != None and self.current_node.right != None: ## 노드가 여러개 달렷을때 (왼쪽에 달렷을때)\n",
    "            if self.parent.data > data:\n",
    "                self.change_node = self.current_node.right\n",
    "                self.change_node_parent = self.current_node.right\n",
    "                while self.change_node.left != None:\n",
    "                    self.change_node_parent = self.change_node\n",
    "                    self.change_node = self.change_node.left\n",
    "                \n",
    "                if self.change_node.right != None:\n",
    "                    self.change_node_parent.left = self.change_node.right\n",
    "               \n",
    "                else:\n",
    "                    self.change_node_parent.left = None\n",
    "                self.parent_node.left = self.change_node\n",
    "                self.change_node.right = self.current_node.right\n",
    "                self.change_node.left = self.change_node.left\n",
    "                \n",
    "            else: ## 오른쪽에 달렷을때\n",
    "                self.change_node = self.current_node.right\n",
    "                self.change_node_parent = self.current_node.right\n",
    "                while self.change_node.left != None:\n",
    "                    self.change_node_parent = self.change_node\n",
    "                    self.change_node = self.change_node.left\n",
    "                \n",
    "                if self.change_node.right != None:\n",
    "                    self.change_node_parent.left = self.change_node.right\n",
    "               \n",
    "                else:\n",
    "                    self.change_node_parent.left = None\n",
    "                self.parent_node.right = self.change_node\n",
    "                self.change_node.right = self.current_node.right\n",
    "                self.change_node.left = self.change_node.left\n",
    "            \n",
    "            return True"
   ]
  },
  {
   "cell_type": "code",
   "execution_count": 12,
   "metadata": {},
   "outputs": [
    {
     "data": {
      "text/plain": [
       "3"
      ]
     },
     "execution_count": 12,
     "metadata": {},
     "output_type": "execute_result"
    }
   ],
   "source": [
    "head = Node(1)\n",
    "exam1 = Binary(head)\n",
    "exam1.insert(8)\n",
    "exam1.insert(3)\n",
    "exam1.insert(10)\n",
    "exam1.insert(9)\n",
    "exam1.insert(2)\n",
    "exam1.insert(15)\n",
    "exam1.insert(7)\n",
    "exam1.insert(18)\n",
    "exam1.search(3)"
   ]
  },
  {
   "cell_type": "code",
   "execution_count": 13,
   "metadata": {},
   "outputs": [
    {
     "data": {
      "text/plain": [
       "False"
      ]
     },
     "execution_count": 13,
     "metadata": {},
     "output_type": "execute_result"
    }
   ],
   "source": [
    "exam1.delete(15)"
   ]
  },
  {
   "cell_type": "markdown",
   "metadata": {},
   "source": [
    "### 힙!"
   ]
  },
  {
   "cell_type": "code",
   "execution_count": 17,
   "metadata": {},
   "outputs": [],
   "source": [
    "class Heap:\n",
    "    def __init__(self, data):\n",
    "        self.heap_array = list()\n",
    "        self.heap_array.append(None)\n",
    "        self.heap_array.append(data)\n",
    "    \n",
    "    def move_down(self, popped_idx):\n",
    "        left_child_popped_idx = popped_idx * 2\n",
    "        right_child_popped_idx = popped_idx * 2 + 1\n",
    "        \n",
    "        # case1: 왼쪽 자식 노드도 없을 때\n",
    "        if left_child_popped_idx >= len(self.heap_array):\n",
    "            return False\n",
    "        # case2: 오른쪽 자식 노드만 없을 때\n",
    "        elif right_child_popped_idx >= len(self.heap_array):\n",
    "            if self.heap_array[popped_idx] < self.heap_array[left_child_popped_idx]:\n",
    "                return True\n",
    "            else:\n",
    "                return False\n",
    "        # case3: 왼쪽, 오른쪽 자식 노드 모두 있을 때\n",
    "        else:\n",
    "            if self.heap_array[left_child_popped_idx] > self.heap_array[right_child_popped_idx]:\n",
    "                if self.heap_array[popped_idx] < self.heap_array[left_child_popped_idx]:\n",
    "                    return True\n",
    "                else:\n",
    "                    return False\n",
    "            else:\n",
    "                if self.heap_array[popped_idx] < self.heap_array[right_child_popped_idx]:\n",
    "                    return True\n",
    "                else:\n",
    "                    return False\n",
    "    \n",
    "    def pop(self):\n",
    "        if len(self.heap_array) <= 1:\n",
    "            return None\n",
    "        \n",
    "        returned_data = self.heap_array[1]\n",
    "        self.heap_array[1] = self.heap_array[-1]\n",
    "        del self.heap_array[-1]\n",
    "        popped_idx = 1\n",
    "        \n",
    "        while self.move_down(popped_idx):\n",
    "            left_child_popped_idx = popped_idx * 2\n",
    "            right_child_popped_idx = popped_idx * 2 + 1\n",
    "\n",
    "            # case2: 오른쪽 자식 노드만 없을 때\n",
    "            if right_child_popped_idx >= len(self.heap_array):\n",
    "                if self.heap_array[popped_idx] < self.heap_array[left_child_popped_idx]:\n",
    "                    self.heap_array[popped_idx], self.heap_array[left_child_popped_idx] = self.heap_array[left_child_popped_idx], self.heap_array[popped_idx]\n",
    "                    popped_idx = left_child_popped_idx\n",
    "            # case3: 왼쪽, 오른쪽 자식 노드 모두 있을 때\n",
    "            else:\n",
    "                if self.heap_array[left_child_popped_idx] > self.heap_array[right_child_popped_idx]:\n",
    "                    if self.heap_array[popped_idx] < self.heap_array[left_child_popped_idx]:\n",
    "                        self.heap_array[popped_idx], self.heap_array[left_child_popped_idx] = self.heap_array[left_child_popped_idx], self.heap_array[popped_idx]\n",
    "                        popped_idx = left_child_popped_idx\n",
    "                else:\n",
    "                    if self.heap_array[popped_idx] < self.heap_array[right_child_popped_idx]:\n",
    "                        self.heap_array[popped_idx], self.heap_array[right_child_popped_idx] = self.heap_array[right_child_popped_idx], self.heap_array[popped_idx]\n",
    "                        popped_idx = right_child_popped_idx\n",
    "        \n",
    "        return returned_data\n",
    "    \n",
    "    def move_up(self, inserted_idx):\n",
    "        if inserted_idx <= 1:\n",
    "            return False\n",
    "        parent_idx = inserted_idx // 2\n",
    "        if self.heap_array[inserted_idx] > self.heap_array[parent_idx]:\n",
    "            return True\n",
    "        else:\n",
    "            return False\n",
    "\n",
    "    def insert(self, data):\n",
    "        if len(self.heap_array) == 1:\n",
    "            self.heap_array.append(data)\n",
    "            return True\n",
    "        \n",
    "        self.heap_array.append(data)\n",
    "        inserted_idx = len(self.heap_array) - 1\n",
    "        \n",
    "        while self.move_up(inserted_idx):\n",
    "            parent_idx = inserted_idx // 2\n",
    "            self.heap_array[inserted_idx], self.heap_array[parent_idx] = self.heap_array[parent_idx], self.heap_array[inserted_idx]\n",
    "            inserted_idx = parent_idx\n",
    "        return True    "
   ]
  },
  {
   "cell_type": "code",
   "execution_count": 18,
   "metadata": {
    "scrolled": true
   },
   "outputs": [
    {
     "data": {
      "text/plain": [
       "[None, 20, 10, 15, 5, 4, 8]"
      ]
     },
     "execution_count": 18,
     "metadata": {},
     "output_type": "execute_result"
    }
   ],
   "source": [
    "heap = Heap(15)\n",
    "heap.insert(10)\n",
    "heap.insert(8)\n",
    "heap.insert(5)\n",
    "heap.insert(4)\n",
    "heap.insert(20)\n",
    "heap.heap_array"
   ]
  },
  {
   "cell_type": "markdown",
   "metadata": {},
   "source": [
    "## 내가주는 과제!! 힙 구현하기 "
   ]
  },
  {
   "cell_type": "code",
   "execution_count": null,
   "metadata": {},
   "outputs": [],
   "source": []
  },
  {
   "cell_type": "code",
   "execution_count": null,
   "metadata": {},
   "outputs": [],
   "source": []
  },
  {
   "cell_type": "markdown",
   "metadata": {},
   "source": [
    "## 버블정렬!"
   ]
  },
  {
   "cell_type": "code",
   "execution_count": 58,
   "metadata": {},
   "outputs": [],
   "source": [
    "def bubblesort(data):\n",
    "    for index in range(len(data) - 1):\n",
    "        swap = False\n",
    "        for index2 in range(len(data) - index - 1):\n",
    "            if data[index2] > data[index2 + 1]:\n",
    "                data[index2], data[index2 + 1] = data[index2 + 1], data[index2]\n",
    "                swap = True\n",
    "        \n",
    "        if swap == False:\n",
    "            break\n",
    "    return data"
   ]
  },
  {
   "cell_type": "code",
   "execution_count": 60,
   "metadata": {},
   "outputs": [
    {
     "name": "stdout",
     "output_type": "stream",
     "text": [
      "[37, 6, 25, 26, 56, 63, 96, 71, 2, 82, 12, 28, 79, 88, 32, 29, 53, 98, 59, 84, 13, 35, 27, 90, 14, 70, 89, 61, 30, 92, 95, 60, 65, 16, 68, 52, 73, 41, 80, 43, 31, 76, 9, 39, 15, 54, 21, 64, 75, 83]\n",
      "[2, 6, 9, 12, 13, 14, 15, 16, 21, 25, 26, 27, 28, 29, 30, 31, 32, 35, 37, 39, 41, 43, 52, 53, 54, 56, 59, 60, 61, 63, 64, 65, 68, 70, 71, 73, 75, 76, 79, 80, 82, 83, 84, 88, 89, 90, 92, 95, 96, 98]\n"
     ]
    }
   ],
   "source": [
    "import random\n",
    "\n",
    "data_list = random.sample(range(100), 50)\n",
    "print(data_list)\n",
    "print (bubblesort(data_list))"
   ]
  },
  {
   "cell_type": "code",
   "execution_count": 115,
   "metadata": {},
   "outputs": [],
   "source": [
    "def bubblesort(data):\n",
    "    for index in range(len(data)-1):\n",
    "        for index2 in range(len(data)-index-1):\n",
    "            if data[index2] > data[index2+1]:\n",
    "                data[index2], data[index2+1] = data[index2+1], data[index2]\n",
    "    return data\n",
    "        "
   ]
  },
  {
   "cell_type": "code",
   "execution_count": 116,
   "metadata": {},
   "outputs": [
    {
     "name": "stdout",
     "output_type": "stream",
     "text": [
      "[64, 27, 99, 28, 19, 55, 56, 80, 5, 97, 20, 86, 70, 66, 31, 39, 85, 8, 89, 57, 58, 3, 73, 87, 7, 26, 44, 60, 79, 81, 29, 13, 1, 76, 62, 91, 93, 59, 12, 14, 16, 88, 32, 21, 30, 51, 98, 96, 48, 68]\n"
     ]
    }
   ],
   "source": [
    "import random\n",
    "\n",
    "bubble = random.sample(range(100), 50)\n",
    "print(bubble)"
   ]
  },
  {
   "cell_type": "code",
   "execution_count": 117,
   "metadata": {},
   "outputs": [
    {
     "name": "stdout",
     "output_type": "stream",
     "text": [
      "[1, 3, 5, 7, 8, 12, 13, 14, 16, 19, 20, 21, 26, 27, 28, 29, 30, 31, 32, 39, 44, 48, 51, 55, 56, 57, 58, 59, 60, 62, 64, 66, 68, 70, 73, 76, 79, 80, 81, 85, 86, 87, 88, 89, 91, 93, 96, 97, 98, 99]\n"
     ]
    }
   ],
   "source": [
    "print(bubblesort(bubble))"
   ]
  },
  {
   "cell_type": "code",
   "execution_count": 5,
   "metadata": {},
   "outputs": [
    {
     "name": "stdout",
     "output_type": "stream",
     "text": [
      "[5, 3, 7, 8, 10, 1]\n",
      "6\n",
      "7\n"
     ]
    }
   ],
   "source": [
    "a = list()\n",
    "a.append(5)\n",
    "a.append(3)\n",
    "a.append(7)\n",
    "a.append(8)\n",
    "a.append(10)\n",
    "a.append(1)\n",
    "print(a)\n",
    "print(len(a))\n",
    "print(a[2])"
   ]
  },
  {
   "cell_type": "markdown",
   "metadata": {},
   "source": [
    "## 선택정렬!"
   ]
  },
  {
   "cell_type": "code",
   "execution_count": 16,
   "metadata": {},
   "outputs": [],
   "source": [
    "def select_sort(data):\n",
    "    for index in range(len(data) - 1):\n",
    "        min_value = index\n",
    "        for index2 in range(index, len(data)):\n",
    "            if data[min_value] > data[index2]:\n",
    "                min_value = index2\n",
    "        data[index], data[min_value] = data[min_value], data[index]\n",
    "    return data"
   ]
  },
  {
   "cell_type": "code",
   "execution_count": 17,
   "metadata": {},
   "outputs": [
    {
     "name": "stdout",
     "output_type": "stream",
     "text": [
      "[67, 96, 76, 48, 81, 66, 57, 18, 78, 36, 9, 93, 1, 50, 13, 22, 49, 6, 21, 61, 19, 73, 45, 24, 80, 90, 75, 87, 4, 0, 95, 43, 2, 27, 46, 71, 84, 39, 74, 52, 7, 68, 62, 5, 51, 42, 86, 40, 34, 59]\n"
     ]
    }
   ],
   "source": [
    "import random\n",
    "\n",
    "data_list = random.sample(range(100), 50)\n",
    "print(data_list)"
   ]
  },
  {
   "cell_type": "code",
   "execution_count": 18,
   "metadata": {},
   "outputs": [
    {
     "name": "stdout",
     "output_type": "stream",
     "text": [
      "[0, 1, 2, 4, 5, 6, 7, 9, 13, 18, 19, 21, 22, 24, 27, 34, 36, 39, 40, 42, 43, 45, 46, 48, 49, 50, 51, 52, 57, 59, 61, 62, 66, 67, 68, 71, 73, 74, 75, 76, 78, 80, 81, 84, 86, 87, 90, 93, 95, 96]\n"
     ]
    }
   ],
   "source": [
    "print(select_sort(data_list))"
   ]
  },
  {
   "cell_type": "markdown",
   "metadata": {},
   "source": [
    "## 삽입정렬!"
   ]
  },
  {
   "cell_type": "code",
   "execution_count": 49,
   "metadata": {},
   "outputs": [],
   "source": [
    "def insertsort(data):\n",
    "    for index in range(len(data)-1):\n",
    "        for index2 in range(index+1, 0, -1):\n",
    "            if data[index2] < data[index2-1]:\n",
    "                data[index2], data[index2-1] = data[index2-1], data[index2]\n",
    "    return data\n",
    "            "
   ]
  },
  {
   "cell_type": "code",
   "execution_count": 50,
   "metadata": {},
   "outputs": [
    {
     "name": "stdout",
     "output_type": "stream",
     "text": [
      "[44, 87, 61, 62, 97, 63, 19, 84, 22, 71, 50, 7, 38, 6, 99, 96, 1, 95, 11, 40, 49, 32, 33, 42, 78, 82, 48, 35, 46, 15, 80, 59, 24, 2, 30, 69, 60, 45, 73, 98, 92, 9, 58, 34, 93, 83, 8, 16, 5, 13]\n"
     ]
    }
   ],
   "source": [
    "import random\n",
    "\n",
    "data_list = random.sample(range(100), 50)\n",
    "print(data_list)"
   ]
  },
  {
   "cell_type": "code",
   "execution_count": 51,
   "metadata": {},
   "outputs": [
    {
     "name": "stdout",
     "output_type": "stream",
     "text": [
      "[1, 2, 5, 6, 7, 8, 9, 11, 13, 15, 16, 19, 22, 24, 30, 32, 33, 34, 35, 38, 40, 42, 44, 45, 46, 48, 49, 50, 58, 59, 60, 61, 62, 63, 69, 71, 73, 78, 80, 82, 83, 84, 87, 92, 93, 95, 96, 97, 98, 99]\n"
     ]
    }
   ],
   "source": [
    "print(insertsort(data_list))"
   ]
  },
  {
   "cell_type": "markdown",
   "metadata": {},
   "source": [
    "## 재귀용법"
   ]
  },
  {
   "cell_type": "code",
   "execution_count": 8,
   "metadata": {},
   "outputs": [],
   "source": [
    "def fact(num):\n",
    "    if num >1:\n",
    "        return num*fact(num-1)\n",
    "    elif num<=1:\n",
    "        return num"
   ]
  },
  {
   "cell_type": "code",
   "execution_count": 9,
   "metadata": {},
   "outputs": [
    {
     "name": "stdout",
     "output_type": "stream",
     "text": [
      "0\n",
      "1\n",
      "2\n",
      "6\n",
      "24\n",
      "120\n",
      "720\n",
      "5040\n",
      "40320\n",
      "362880\n"
     ]
    }
   ],
   "source": [
    "for num in range(10):\n",
    "    print(fact(num))"
   ]
  },
  {
   "cell_type": "code",
   "execution_count": 50,
   "metadata": {},
   "outputs": [],
   "source": [
    "def multi(num):\n",
    "    result = 1\n",
    "    for i in range(1, num+1):   \n",
    "        result *= i\n",
    "    return result"
   ]
  },
  {
   "cell_type": "code",
   "execution_count": 51,
   "metadata": {},
   "outputs": [
    {
     "name": "stdout",
     "output_type": "stream",
     "text": [
      "120\n"
     ]
    }
   ],
   "source": [
    "print(multi(5))"
   ]
  },
  {
   "cell_type": "code",
   "execution_count": 54,
   "metadata": {},
   "outputs": [],
   "source": [
    "def remulti(num):\n",
    "    if num > 1 :\n",
    "        return num*remulti(num-1)\n",
    "    else:\n",
    "        return num"
   ]
  },
  {
   "cell_type": "code",
   "execution_count": 55,
   "metadata": {
    "scrolled": true
   },
   "outputs": [
    {
     "name": "stdout",
     "output_type": "stream",
     "text": [
      "120\n"
     ]
    }
   ],
   "source": [
    "print(remulti(5))"
   ]
  },
  {
   "cell_type": "code",
   "execution_count": 61,
   "metadata": {},
   "outputs": [
    {
     "data": {
      "text/plain": [
       "[92, 44, 18, 71, 0, 87, 31, 33, 10, 45]"
      ]
     },
     "execution_count": 61,
     "metadata": {},
     "output_type": "execute_result"
    }
   ],
   "source": [
    "import random\n",
    "data = random.sample(range(100),10)\n",
    "data"
   ]
  },
  {
   "cell_type": "code",
   "execution_count": 64,
   "metadata": {},
   "outputs": [],
   "source": [
    "def sum_list(data):\n",
    "    if len(data) <= 1:\n",
    "        return data[0]\n",
    "    return data[0] + sum_list(data[1:])"
   ]
  },
  {
   "cell_type": "code",
   "execution_count": 65,
   "metadata": {},
   "outputs": [
    {
     "data": {
      "text/plain": [
       "431"
      ]
     },
     "execution_count": 65,
     "metadata": {},
     "output_type": "execute_result"
    }
   ],
   "source": [
    "sum_list(data)"
   ]
  },
  {
   "cell_type": "code",
   "execution_count": 74,
   "metadata": {},
   "outputs": [
    {
     "data": {
      "text/plain": [
       "'O'"
      ]
     },
     "execution_count": 74,
     "metadata": {},
     "output_type": "execute_result"
    }
   ],
   "source": [
    "string = \"MOTOR\"\n",
    "string[3]"
   ]
  },
  {
   "cell_type": "code",
   "execution_count": 75,
   "metadata": {},
   "outputs": [],
   "source": [
    "def recul(string):\n",
    "    if len(string) ==1:\n",
    "        return True\n",
    "    if string[0] == string[-1]:\n",
    "        return recul(string[1:-1])\n",
    "    else:\n",
    "        return False"
   ]
  },
  {
   "cell_type": "code",
   "execution_count": 76,
   "metadata": {},
   "outputs": [
    {
     "data": {
      "text/plain": [
       "False"
      ]
     },
     "execution_count": 76,
     "metadata": {},
     "output_type": "execute_result"
    }
   ],
   "source": [
    "recul(string)"
   ]
  },
  {
   "cell_type": "code",
   "execution_count": 77,
   "metadata": {},
   "outputs": [
    {
     "data": {
      "text/plain": [
       "True"
      ]
     },
     "execution_count": 77,
     "metadata": {},
     "output_type": "execute_result"
    }
   ],
   "source": [
    "string = \"SOS\"\n",
    "recul(string)"
   ]
  },
  {
   "cell_type": "code",
   "execution_count": 94,
   "metadata": {},
   "outputs": [],
   "source": [
    "def exam3(data):\n",
    "    print(data)\n",
    "    if data == 1:\n",
    "        return data\n",
    "    if data % 2 == 1:\n",
    "        return exam3(3*data+1)\n",
    "    else:\n",
    "        return exam3(int(data/2))"
   ]
  },
  {
   "cell_type": "code",
   "execution_count": 95,
   "metadata": {
    "scrolled": true
   },
   "outputs": [
    {
     "name": "stdout",
     "output_type": "stream",
     "text": [
      "3\n",
      "10\n",
      "5\n",
      "16\n",
      "8\n",
      "4\n",
      "2\n",
      "1\n"
     ]
    },
    {
     "data": {
      "text/plain": [
       "1"
      ]
     },
     "execution_count": 95,
     "metadata": {},
     "output_type": "execute_result"
    }
   ],
   "source": [
    "exam3(3)"
   ]
  },
  {
   "cell_type": "code",
   "execution_count": 96,
   "metadata": {},
   "outputs": [],
   "source": [
    "def exam4(data):\n",
    "    if data ==1:\n",
    "        return 1\n",
    "    elif data ==2:\n",
    "        return 2\n",
    "    elif data ==3:\n",
    "        return 4\n",
    "    \n",
    "    return exam4(data-1) + exam4(data-2) + exam4(data -3)"
   ]
  },
  {
   "cell_type": "code",
   "execution_count": 97,
   "metadata": {},
   "outputs": [
    {
     "data": {
      "text/plain": [
       "13"
      ]
     },
     "execution_count": 97,
     "metadata": {},
     "output_type": "execute_result"
    }
   ],
   "source": [
    "exam4(5)"
   ]
  },
  {
   "cell_type": "markdown",
   "metadata": {},
   "source": [
    "### 재귀용법 복습"
   ]
  },
  {
   "cell_type": "code",
   "execution_count": 7,
   "metadata": {},
   "outputs": [],
   "source": [
    "def factorial(value):\n",
    "    if value <= 1:\n",
    "        return value\n",
    "    else:\n",
    "        return value*factorial(value-1)\n",
    "            \n",
    "        "
   ]
  },
  {
   "cell_type": "code",
   "execution_count": 8,
   "metadata": {},
   "outputs": [
    {
     "name": "stdout",
     "output_type": "stream",
     "text": [
      "0\n",
      "1\n",
      "2\n",
      "6\n",
      "24\n",
      "120\n",
      "720\n",
      "5040\n",
      "40320\n",
      "362880\n"
     ]
    }
   ],
   "source": [
    "for num in range(10):\n",
    "    print(factorial(num))"
   ]
  },
  {
   "cell_type": "code",
   "execution_count": 12,
   "metadata": {},
   "outputs": [],
   "source": [
    "def suma(data):\n",
    "    if len(data) <= 1 :\n",
    "        return data[0]\n",
    "    else:\n",
    "        return data[0] + suma(data[1:])"
   ]
  },
  {
   "cell_type": "code",
   "execution_count": 13,
   "metadata": {},
   "outputs": [
    {
     "data": {
      "text/plain": [
       "510"
      ]
     },
     "execution_count": 13,
     "metadata": {},
     "output_type": "execute_result"
    }
   ],
   "source": [
    "import random\n",
    "data = random.sample(range(100), 10)\n",
    "suma(data)"
   ]
  },
  {
   "cell_type": "markdown",
   "metadata": {},
   "source": [
    "## 퀵정렬!!"
   ]
  },
  {
   "cell_type": "code",
   "execution_count": 13,
   "metadata": {},
   "outputs": [],
   "source": [
    "def quick(data):\n",
    "    if len(data) <= 1:\n",
    "        return data\n",
    "    \n",
    "    data_right = list()\n",
    "    data_left = list()\n",
    "    pivot = data[0]\n",
    "    \n",
    "    for index in range(1, len(data)):\n",
    "        if pivot > data[index]:\n",
    "            data_left.append(data[index])\n",
    "        else:\n",
    "            data_right.append(data[index])\n",
    "    return quick(data_left) + [pivot] + quick(data_right)"
   ]
  },
  {
   "cell_type": "code",
   "execution_count": 14,
   "metadata": {},
   "outputs": [
    {
     "name": "stdout",
     "output_type": "stream",
     "text": [
      "[38, 92, 86, 50, 80, 53, 23, 26, 27, 9, 19, 12, 21, 77, 94, 16, 90, 43, 66, 46, 11, 52, 33, 95, 39, 29, 7, 96, 34, 15, 97, 78, 88, 76, 20, 17, 64, 1, 91, 0, 59, 71, 69, 37, 31, 49, 68, 13, 67, 24]\n"
     ]
    }
   ],
   "source": [
    "import random\n",
    "\n",
    "data = random.sample(range(100), 50)\n",
    "print(data)"
   ]
  },
  {
   "cell_type": "code",
   "execution_count": 15,
   "metadata": {},
   "outputs": [
    {
     "data": {
      "text/plain": [
       "[0,\n",
       " 1,\n",
       " 7,\n",
       " 9,\n",
       " 11,\n",
       " 12,\n",
       " 13,\n",
       " 15,\n",
       " 16,\n",
       " 17,\n",
       " 19,\n",
       " 20,\n",
       " 21,\n",
       " 23,\n",
       " 24,\n",
       " 26,\n",
       " 27,\n",
       " 29,\n",
       " 31,\n",
       " 33,\n",
       " 34,\n",
       " 37,\n",
       " 38,\n",
       " 39,\n",
       " 43,\n",
       " 46,\n",
       " 49,\n",
       " 50,\n",
       " 52,\n",
       " 53,\n",
       " 59,\n",
       " 64,\n",
       " 66,\n",
       " 67,\n",
       " 68,\n",
       " 69,\n",
       " 71,\n",
       " 76,\n",
       " 77,\n",
       " 78,\n",
       " 80,\n",
       " 86,\n",
       " 88,\n",
       " 90,\n",
       " 91,\n",
       " 92,\n",
       " 94,\n",
       " 95,\n",
       " 96,\n",
       " 97]"
      ]
     },
     "execution_count": 15,
     "metadata": {},
     "output_type": "execute_result"
    }
   ],
   "source": [
    "quick(data)"
   ]
  },
  {
   "cell_type": "code",
   "execution_count": 23,
   "metadata": {},
   "outputs": [],
   "source": [
    "def bubble(data):\n",
    "    if len(data) <= 1:\n",
    "        return data\n",
    "    for index in range(len(data)-1):\n",
    "        for index2 in range(len(data)-1):\n",
    "            if data[index2] > data[index2+1]:\n",
    "                data[index2], data[index2+1] = data[index2+1], data[index2]\n",
    "        \n",
    "    return data\n",
    "            "
   ]
  },
  {
   "cell_type": "code",
   "execution_count": 25,
   "metadata": {},
   "outputs": [
    {
     "name": "stdout",
     "output_type": "stream",
     "text": [
      "[3, 7, 9, 11, 12, 16, 19, 20, 22, 23, 24, 26, 27, 32, 34, 36, 39, 42, 44, 46, 47, 48, 49, 52, 53, 55, 58, 61, 62, 64, 67, 68, 69, 71, 72, 74, 76, 79, 81, 82, 83, 84, 87, 92, 93, 95, 96, 97, 98, 99]"
     ]
    }
   ],
   "source": [
    "import random\n",
    "\n",
    "data = random.sample(range(100), 50)\n",
    "print(bubble(data), end='')"
   ]
  },
  {
   "cell_type": "code",
   "execution_count": 37,
   "metadata": {},
   "outputs": [],
   "source": [
    "def selection(data):\n",
    "    if len(data) <=1:\n",
    "        return data\n",
    "    for index in range(len(data)):\n",
    "        min_num = index\n",
    "        for index2 in range(index, len(data)):\n",
    "            if data[min_num] > data[index2]:\n",
    "                min_num = index2\n",
    "        data[index], data[min_num] = data[min_num], data[index]\n",
    "    return data"
   ]
  },
  {
   "cell_type": "code",
   "execution_count": 38,
   "metadata": {},
   "outputs": [
    {
     "name": "stdout",
     "output_type": "stream",
     "text": [
      "[2, 4, 5, 6, 9, 11, 14, 17, 18, 19, 22, 26, 28, 29, 30, 32, 33, 37, 40, 41, 44, 45, 51, 55, 58, 60, 62, 64, 66, 67, 68, 69, 70, 71, 73, 74, 75, 78, 79, 80, 81, 82, 84, 86, 88, 89, 93, 94, 97, 98]"
     ]
    }
   ],
   "source": [
    "import random\n",
    "\n",
    "data = random.sample(range(100), 50)\n",
    "print(selection(data), end='')"
   ]
  },
  {
   "cell_type": "code",
   "execution_count": 54,
   "metadata": {},
   "outputs": [],
   "source": [
    "def insert(data):\n",
    "    if len(data) <= 1:\n",
    "        return data\n",
    "    for index in range(1, len(data)):\n",
    "        for index2 in range(index, 0, -1):\n",
    "            if data[index2] < data[index2-1]:\n",
    "                data[index2], data[index2-1] = data[index2-1], data[index2]\n",
    "    return data"
   ]
  },
  {
   "cell_type": "code",
   "execution_count": 55,
   "metadata": {},
   "outputs": [
    {
     "name": "stdout",
     "output_type": "stream",
     "text": [
      "[1, 3, 4, 9, 12, 14, 15, 17, 18, 19, 20, 21, 23, 24, 26, 30, 31, 38, 39, 41, 42, 43, 44, 45, 46, 47, 51, 52, 54, 55, 57, 63, 65, 67, 69, 71, 72, 74, 77, 79, 84, 86, 87, 92, 93, 94, 95, 96, 98, 99]"
     ]
    }
   ],
   "source": [
    "import random\n",
    "\n",
    "data = random.sample(range(100), 50)\n",
    "print(insert(data), end='')"
   ]
  },
  {
   "cell_type": "code",
   "execution_count": 62,
   "metadata": {},
   "outputs": [],
   "source": [
    "def quick(data):\n",
    "    if len(data) <= 1:\n",
    "        return data\n",
    "    \n",
    "    pivot = data[0]\n",
    "    right = list()\n",
    "    left = list()\n",
    "    for index in range(1, len(data)):\n",
    "        if pivot > data[index]:\n",
    "            left.append(data[index])\n",
    "        else:\n",
    "            right.append(data[index])\n",
    "    \n",
    "    return quick(left) + [pivot] + quick(right)"
   ]
  },
  {
   "cell_type": "code",
   "execution_count": 63,
   "metadata": {},
   "outputs": [
    {
     "name": "stdout",
     "output_type": "stream",
     "text": [
      "[4, 5, 6, 8, 9, 11, 12, 13, 16, 17, 18, 19, 20, 21, 23, 24, 25, 29, 32, 34, 37, 39, 42, 47, 49, 51, 52, 53, 55, 56, 59, 60, 62, 63, 64, 65, 66, 68, 71, 73, 74, 76, 79, 80, 83, 85, 87, 89, 92, 96]\n"
     ]
    }
   ],
   "source": [
    "import random\n",
    "\n",
    "data = random.sample(range(100), 50)\n",
    "print(quick(data))"
   ]
  },
  {
   "cell_type": "markdown",
   "metadata": {},
   "source": [
    "## 병합정렬"
   ]
  },
  {
   "cell_type": "code",
   "execution_count": 32,
   "metadata": {},
   "outputs": [],
   "source": [
    "def split(data):\n",
    "    if len(data) <= 1:\n",
    "        return data\n",
    "    medium = int(len(data)/2)\n",
    "    left = split(data[:medium])\n",
    "    right = split(data[medium:])\n",
    "    return merge(left, right)\n",
    "\n",
    "def merge(left, right):\n",
    "    new = list()\n",
    "    left_point, right_point = 0, 0\n",
    "    while len(left) > left_point and len(right) > right_point:\n",
    "        if left[left_point] > right[right_point]:\n",
    "            new.append(right[right_point])\n",
    "            right_point += 1\n",
    "        else:\n",
    "            new.append(left[left_point])\n",
    "            left_point +=1\n",
    "    while len(left) > left_point:\n",
    "        new.append(left[left_point])\n",
    "        left_point +=1\n",
    "    while len(right) > right_point:\n",
    "        new.append(right[right_point])\n",
    "        right_point+=1\n",
    "    return new"
   ]
  },
  {
   "cell_type": "code",
   "execution_count": 33,
   "metadata": {},
   "outputs": [
    {
     "name": "stdout",
     "output_type": "stream",
     "text": [
      "[0, 1, 3, 6, 7, 8, 9, 10, 14, 15, 16, 18, 20, 21, 22, 23, 24, 25, 27, 32, 34, 36, 37, 40, 41, 42, 45, 47, 50, 52, 59, 61, 63, 69, 70, 71, 73, 78, 79, 82, 83, 86, 87, 88, 89, 90, 94, 95, 96, 99]"
     ]
    }
   ],
   "source": [
    "import random\n",
    "\n",
    "data = random.sample(range(100), 50)\n",
    "print(split(data), end='')"
   ]
  },
  {
   "cell_type": "code",
   "execution_count": 12,
   "metadata": {},
   "outputs": [],
   "source": [
    "def mergesplit(data):\n",
    "    if len(data) <=1:\n",
    "        return data\n",
    "    half = int(len(data)/2)\n",
    "    left = data[:half]\n",
    "    right = data[half:]\n",
    "    return merge(mergesplit(left), mergesplit(right))\n",
    "\n",
    "def merge(left, right):\n",
    "    left_index = 0\n",
    "    right_index = 0\n",
    "    new_array = list()\n",
    "    \n",
    "    while len(left) > left_index and len(right) > right_index:\n",
    "        if left[left_index] > right[right_index]:\n",
    "            new_array.append(right[right_index])\n",
    "            right_index +=1\n",
    "        else:\n",
    "            new_array.append(left[left_index])\n",
    "            left_index +=1\n",
    "    while len(left) > left_index:\n",
    "        new_array.append(left[left_index])\n",
    "        left_index +=1\n",
    "    while len(right) > right_index:\n",
    "        new_array.append(right[right_index])\n",
    "        right_index+=1\n",
    "            \n",
    "    return new_array"
   ]
  },
  {
   "cell_type": "code",
   "execution_count": 56,
   "metadata": {},
   "outputs": [
    {
     "name": "stdout",
     "output_type": "stream",
     "text": [
      "[2, 4, 5, 7, 8, 9, 10, 11, 14, 23, 27, 29, 31, 32, 33, 36, 37, 41, 42, 43, 44, 45, 46, 47, 48, 51, 53, 54, 56, 58, 63, 64, 65, 67, 68, 69, 70, 74, 75, 77, 78, 82, 85, 87, 89, 90, 92, 93, 97, 99]"
     ]
    }
   ],
   "source": [
    "import random\n",
    "\n",
    "data = random.sample(range(100), 50)\n",
    "print(mergesplit(data), end='')"
   ]
  },
  {
   "cell_type": "markdown",
   "metadata": {},
   "source": [
    "## 이진탐색!!"
   ]
  },
  {
   "cell_type": "code",
   "execution_count": 34,
   "metadata": {},
   "outputs": [
    {
     "name": "stdout",
     "output_type": "stream",
     "text": [
      "[76, 11, 4, 5, 35, 74, 47, 27, 10, 72, 61, 9, 31, 19, 25, 77, 78, 20, 48, 96, 43, 40, 71, 7, 21, 65, 82, 42, 30, 16, 46, 23, 60, 55, 69, 49, 57, 52, 45, 81, 26, 18, 37, 28, 92, 95, 44, 90, 58, 97]\n"
     ]
    }
   ],
   "source": [
    "import random\n",
    "\n",
    "data = random.sample(range(100), 50)\n",
    "print(data)"
   ]
  },
  {
   "cell_type": "code",
   "execution_count": 35,
   "metadata": {},
   "outputs": [],
   "source": [
    "def search(data, want):\n",
    "    print(data)\n",
    "    middle_index = int(len(data)/2)\n",
    "    \n",
    "    if len(data) ==1 and want ==data[0]:\n",
    "        return True\n",
    "    if len(data) ==1 and want !=data[0]:\n",
    "        return False\n",
    "    if len(data) ==0:\n",
    "        return False\n",
    "    \n",
    "    if data[middle_index] == want:\n",
    "        return data[middle_index]\n",
    "    \n",
    "    else:\n",
    "        if data[middle_index] > want:\n",
    "            return search(data[:middle_index], want)\n",
    "        \n",
    "        else:\n",
    "            return search(data[middle_index:],want)"
   ]
  },
  {
   "cell_type": "code",
   "execution_count": 36,
   "metadata": {},
   "outputs": [
    {
     "name": "stdout",
     "output_type": "stream",
     "text": [
      "[4, 5, 7, 9, 10, 11, 16, 18, 19, 20, 21, 23, 25, 26, 27, 28, 30, 31, 35, 37, 40, 42, 43, 44, 45, 46, 47, 48, 49, 52, 55, 57, 58, 60, 61, 65, 69, 71, 72, 74, 76, 77, 78, 81, 82, 90, 92, 95, 96, 97]\n",
      "[4, 5, 7, 9, 10, 11, 16, 18, 19, 20, 21, 23, 25, 26, 27, 28, 30, 31, 35, 37, 40, 42, 43, 44, 45]\n",
      "[4, 5, 7, 9, 10, 11, 16, 18, 19, 20, 21, 23]\n",
      "[16, 18, 19, 20, 21, 23]\n",
      "[20, 21, 23]\n",
      "[21, 23]\n"
     ]
    },
    {
     "data": {
      "text/plain": [
       "23"
      ]
     },
     "execution_count": 36,
     "metadata": {},
     "output_type": "execute_result"
    }
   ],
   "source": [
    "search(mergesplit(data), 23)"
   ]
  },
  {
   "cell_type": "markdown",
   "metadata": {},
   "source": [
    "## 순차탐색!!"
   ]
  },
  {
   "cell_type": "code",
   "execution_count": 47,
   "metadata": {},
   "outputs": [],
   "source": [
    "def sun(data, want):\n",
    "    if len(data) == 0:\n",
    "        return False\n",
    "    if len(data) ==1 and want != data[0]:\n",
    "        return False\n",
    "    if len(data) ==1 and want == data[0]:\n",
    "        return data[0]\n",
    "    for index in range(len(data)-1):\n",
    "        if data[index] == want:\n",
    "            return index"
   ]
  },
  {
   "cell_type": "code",
   "execution_count": 48,
   "metadata": {
    "scrolled": true
   },
   "outputs": [
    {
     "data": {
      "text/plain": [
       "31"
      ]
     },
     "execution_count": 48,
     "metadata": {},
     "output_type": "execute_result"
    }
   ],
   "source": [
    "sun(data, 23)"
   ]
  },
  {
   "cell_type": "code",
   "execution_count": 59,
   "metadata": {},
   "outputs": [],
   "source": [
    "def binarysearch(data, search):\n",
    "    middle_index = len(data)//2\n",
    "\n",
    "    if len(data) == 0:\n",
    "        return False\n",
    "    if len(data) ==1 and search != data[0]:\n",
    "        return False\n",
    "    if len(data) ==1 and search == data[0]:\n",
    "        return True\n",
    "    \n",
    "    if data[middle_index] == search:\n",
    "        return data[middle_index]\n",
    "    else:\n",
    "        if data[middle_index] > search:\n",
    "            return binarysearch(data[:middle_index], search)\n",
    "        else:\n",
    "            return binarysearch(data[middle_index:], search)"
   ]
  },
  {
   "cell_type": "code",
   "execution_count": 60,
   "metadata": {
    "scrolled": true
   },
   "outputs": [
    {
     "data": {
      "text/plain": [
       "23"
      ]
     },
     "execution_count": 60,
     "metadata": {},
     "output_type": "execute_result"
    }
   ],
   "source": [
    "binarysearch(mergesplit(data), 23)"
   ]
  },
  {
   "cell_type": "markdown",
   "metadata": {},
   "source": [
    "## BFS!!"
   ]
  },
  {
   "cell_type": "code",
   "execution_count": 7,
   "metadata": {},
   "outputs": [],
   "source": [
    "def bfs(graph, start_node):\n",
    "    visited = list()\n",
    "    need_visit = list()\n",
    "    \n",
    "    need_visit.append(start_node)\n",
    "    count = 0\n",
    "    while need_visit:\n",
    "        count +=1\n",
    "        node = need_visit.pop(0)\n",
    "        if node not in visited:\n",
    "            visited.append(node)\n",
    "            need_visit.extend(graph[node])\n",
    "    print(count)\n",
    "    return visited"
   ]
  },
  {
   "cell_type": "code",
   "execution_count": 109,
   "metadata": {},
   "outputs": [
    {
     "data": {
      "text/plain": [
       "{'A': ['B', 'C'],\n",
       " 'B': ['A', 'D'],\n",
       " 'C': ['A', 'G', 'H', 'I'],\n",
       " 'D': ['B', 'E', 'F'],\n",
       " 'E': ['D'],\n",
       " 'F': ['D'],\n",
       " 'G': ['C'],\n",
       " 'H': ['C'],\n",
       " 'I': ['C', 'J'],\n",
       " 'J': ['I']}"
      ]
     },
     "execution_count": 109,
     "metadata": {},
     "output_type": "execute_result"
    }
   ],
   "source": [
    "graph = dict()\n",
    "\n",
    "graph['A'] = ['B', 'C']\n",
    "graph['B'] = ['A', 'D']\n",
    "graph['C'] = ['A', 'G', 'H', 'I']\n",
    "graph['D'] = ['B', 'E', 'F']\n",
    "graph['E'] = ['D']\n",
    "graph['F'] = ['D']\n",
    "graph['G'] = ['C']\n",
    "graph['H'] = ['C']\n",
    "graph['I'] = ['C', 'J']\n",
    "graph['J'] = ['I']\n",
    "\n",
    "graph"
   ]
  },
  {
   "cell_type": "code",
   "execution_count": 9,
   "metadata": {},
   "outputs": [
    {
     "name": "stdout",
     "output_type": "stream",
     "text": [
      "19\n"
     ]
    },
    {
     "data": {
      "text/plain": [
       "['A', 'B', 'C', 'D', 'G', 'H', 'I', 'E', 'F', 'J']"
      ]
     },
     "execution_count": 9,
     "metadata": {},
     "output_type": "execute_result"
    }
   ],
   "source": [
    "bfs(graph, 'A')"
   ]
  },
  {
   "cell_type": "code",
   "execution_count": null,
   "metadata": {},
   "outputs": [],
   "source": []
  },
  {
   "cell_type": "markdown",
   "metadata": {},
   "source": [
    "## DFS!!"
   ]
  },
  {
   "cell_type": "code",
   "execution_count": 10,
   "metadata": {},
   "outputs": [],
   "source": [
    "def dfs(graph, start_node):\n",
    "    visited = list()\n",
    "    need_visit = list()\n",
    "    \n",
    "    need_visit.append(start_node)\n",
    "    count = 0\n",
    "    while need_visit:\n",
    "        count +=1\n",
    "        node = need_visit.pop(-1)\n",
    "        if node not in visited:\n",
    "            visited.append(node)\n",
    "            need_visit.extend(graph[node])\n",
    "    print(count)\n",
    "    return visited"
   ]
  },
  {
   "cell_type": "code",
   "execution_count": 11,
   "metadata": {},
   "outputs": [
    {
     "name": "stdout",
     "output_type": "stream",
     "text": [
      "19\n"
     ]
    },
    {
     "data": {
      "text/plain": [
       "['A', 'C', 'I', 'J', 'H', 'G', 'B', 'D', 'F', 'E']"
      ]
     },
     "execution_count": 11,
     "metadata": {},
     "output_type": "execute_result"
    }
   ],
   "source": [
    "dfs(graph, 'A')"
   ]
  },
  {
   "cell_type": "code",
   "execution_count": 19,
   "metadata": {},
   "outputs": [],
   "source": [
    "def bfs2(graph, start_node):\n",
    "    visited = list()\n",
    "    need_visit = list()\n",
    "    \n",
    "    need_visit.append(start_node)\n",
    "    count = 0\n",
    "    while need_visit:\n",
    "        count += 1\n",
    "        node = need_visit.pop(0)\n",
    "        if node not in visited:\n",
    "            visited.append(node)\n",
    "            need_visit.extend(graph[node])\n",
    "            \n",
    "    return visited"
   ]
  },
  {
   "cell_type": "code",
   "execution_count": 20,
   "metadata": {},
   "outputs": [
    {
     "data": {
      "text/plain": [
       "['A', 'B', 'C', 'D', 'G', 'H', 'I', 'E', 'F', 'J']"
      ]
     },
     "execution_count": 20,
     "metadata": {},
     "output_type": "execute_result"
    }
   ],
   "source": [
    "bfs2(graph, 'A')"
   ]
  },
  {
   "cell_type": "code",
   "execution_count": 21,
   "metadata": {},
   "outputs": [],
   "source": [
    "def dfs2(graph, start_node):\n",
    "    visited = list()\n",
    "    need_visit = list()\n",
    "    need_visit.append(start_node)\n",
    "    \n",
    "    while need_visit:\n",
    "        node = need_visit.pop(-1)\n",
    "        if node not in visited:\n",
    "            visited.append(node)\n",
    "            need_visit.extend(graph[node])\n",
    "    return visited"
   ]
  },
  {
   "cell_type": "code",
   "execution_count": 22,
   "metadata": {},
   "outputs": [
    {
     "data": {
      "text/plain": [
       "['A', 'C', 'I', 'J', 'H', 'G', 'B', 'D', 'F', 'E']"
      ]
     },
     "execution_count": 22,
     "metadata": {},
     "output_type": "execute_result"
    }
   ],
   "source": [
    "dfs2(graph, 'A')"
   ]
  },
  {
   "cell_type": "markdown",
   "metadata": {},
   "source": [
    "## 복습(퀵~DFS)"
   ]
  },
  {
   "cell_type": "code",
   "execution_count": 87,
   "metadata": {},
   "outputs": [
    {
     "ename": "SyntaxError",
     "evalue": "invalid syntax (<ipython-input-87-6f94615fc426>, line 9)",
     "output_type": "error",
     "traceback": [
      "\u001b[0;36m  File \u001b[0;32m\"<ipython-input-87-6f94615fc426>\"\u001b[0;36m, line \u001b[0;32m9\u001b[0m\n\u001b[0;31m    else:\u001b[0m\n\u001b[0m       ^\u001b[0m\n\u001b[0;31mSyntaxError\u001b[0m\u001b[0;31m:\u001b[0m invalid syntax\n"
     ]
    }
   ],
   "source": [
    "def quick(data):\n",
    "\n",
    "    if len(data) <= 1:\n",
    "        return data\n",
    "    \n",
    "    right = list()\n",
    "    left = list()\n",
    "    pivot = data[0]\n",
    "    else:\n",
    "        for index in range(1, len(data)):\n",
    "            if pivot > data[index]: \n",
    "                left.append(data[index])\n",
    "                \n",
    "            else:\n",
    "                right.append(data[index])\n",
    "                \n",
    "        return quick(left) + [pivot] + quick(right)"
   ]
  },
  {
   "cell_type": "code",
   "execution_count": 88,
   "metadata": {},
   "outputs": [
    {
     "name": "stdout",
     "output_type": "stream",
     "text": [
      "[97, 49, 12, 82, 34, 61, 88, 56, 67, 62, 9, 37, 65, 52, 75, 46, 43, 15, 28, 94, 14, 32, 11, 77, 31, 95, 54, 30, 13, 71, 59, 99, 84, 42, 53, 21, 27, 90, 22, 93, 79, 55, 74, 72, 40, 76, 68, 50, 45, 20]\n"
     ]
    }
   ],
   "source": [
    "import random\n",
    "\n",
    "data = random.sample(range(100), 50)\n",
    "print(data)"
   ]
  },
  {
   "cell_type": "code",
   "execution_count": 89,
   "metadata": {},
   "outputs": [
    {
     "name": "stdout",
     "output_type": "stream",
     "text": [
      "[9, 11, 12, 13, 14, 15, 20, 21, 22, 27, 28, 30, 31, 32, 34, 37, 40, 42, 43, 45, 46, 49, 50, 52, 53, 54, 55, 56, 59, 61, 62, 65, 67, 68, 71, 72, 74, 75, 76, 77, 79, 82, 84, 88, 90, 93, 94, 95, 97, 99]"
     ]
    }
   ],
   "source": [
    "print(quick(data), end='')"
   ]
  },
  {
   "cell_type": "code",
   "execution_count": 90,
   "metadata": {},
   "outputs": [],
   "source": [
    "def split(data):\n",
    "    if len(data) <=1:\n",
    "        return data\n",
    "        \n",
    "    center_num = int(len(data)/2)\n",
    "    left = list(data[:center_num])\n",
    "    right = list(data[center_num:])\n",
    "    \n",
    "    return merge(split(left), split(right))\n",
    "\n",
    "def merge(left, right):\n",
    "    right_index = 0\n",
    "    left_index = 0\n",
    "    new = list()\n",
    "    \n",
    "    while len(left) > left_index and len(right) > right_index:\n",
    "        if left[left_index] > right[right_index]:\n",
    "            new.append(right[right_index])\n",
    "            right_index +=1\n",
    "        else:\n",
    "            new.append(left[left_index])\n",
    "            left_index +=1\n",
    "    \n",
    "    while len(left) > left_index:\n",
    "        new.append(left[left_index])\n",
    "        left_index +=1\n",
    "    \n",
    "    while len(right) != right_index:\n",
    "        new.append(right[right_index])\n",
    "        right_index +=1\n",
    "    \n",
    "    return new"
   ]
  },
  {
   "cell_type": "code",
   "execution_count": 91,
   "metadata": {},
   "outputs": [
    {
     "name": "stdout",
     "output_type": "stream",
     "text": [
      "[9, 11, 12, 13, 14, 15, 20, 21, 22, 27, 28, 30, 31, 32, 34, 37, 40, 42, 43, 45, 46, 49, 50, 52, 53, 54, 55, 56, 59, 61, 62, 65, 67, 68, 71, 72, 74, 75, 76, 77, 79, 82, 84, 88, 90, 93, 94, 95, 97, 99]"
     ]
    }
   ],
   "source": [
    "print(split(data), end='')"
   ]
  },
  {
   "cell_type": "code",
   "execution_count": 82,
   "metadata": {},
   "outputs": [],
   "source": [
    "def binary(data, search):\n",
    "    center_index = int(len(data)/2)\n",
    "    print(data)\n",
    "    \n",
    "    if len(data) == 0:\n",
    "        return False\n",
    "    if len(data) ==1 and search != data[0]:\n",
    "        return False\n",
    "    if len(data) ==1 and search == data[0]:\n",
    "        return data\n",
    "    \n",
    "    if data[center_index] == search:\n",
    "        return data[center_index]\n",
    "    \n",
    "    else:\n",
    "        if data[center_index] < search:\n",
    "            data = data[center_index:]\n",
    "            return binary(data, search)\n",
    "    \n",
    "        else:\n",
    "            data = data[:center_index]\n",
    "            return binary(data, search)\n",
    "        "
   ]
  },
  {
   "cell_type": "code",
   "execution_count": 92,
   "metadata": {},
   "outputs": [],
   "source": [
    "data.sort()"
   ]
  },
  {
   "cell_type": "code",
   "execution_count": 93,
   "metadata": {},
   "outputs": [
    {
     "name": "stdout",
     "output_type": "stream",
     "text": [
      "[9, 11, 12, 13, 14, 15, 20, 21, 22, 27, 28, 30, 31, 32, 34, 37, 40, 42, 43, 45, 46, 49, 50, 52, 53, 54, 55, 56, 59, 61, 62, 65, 67, 68, 71, 72, 74, 75, 76, 77, 79, 82, 84, 88, 90, 93, 94, 95, 97, 99]\n"
     ]
    }
   ],
   "source": [
    "print(data)"
   ]
  },
  {
   "cell_type": "code",
   "execution_count": 98,
   "metadata": {},
   "outputs": [
    {
     "name": "stdout",
     "output_type": "stream",
     "text": [
      "[9, 11, 12, 13, 14, 15, 20, 21, 22, 27, 28, 30, 31, 32, 34, 37, 40, 42, 43, 45, 46, 49, 50, 52, 53, 54, 55, 56, 59, 61, 62, 65, 67, 68, 71, 72, 74, 75, 76, 77, 79, 82, 84, 88, 90, 93, 94, 95, 97, 99]\n",
      "[54, 55, 56, 59, 61, 62, 65, 67, 68, 71, 72, 74, 75, 76, 77, 79, 82, 84, 88, 90, 93, 94, 95, 97, 99]\n",
      "[75, 76, 77, 79, 82, 84, 88, 90, 93, 94, 95, 97, 99]\n",
      "[88, 90, 93, 94, 95, 97, 99]\n",
      "[94, 95, 97, 99]\n",
      "[97, 99]\n"
     ]
    },
    {
     "data": {
      "text/plain": [
       "99"
      ]
     },
     "execution_count": 98,
     "metadata": {},
     "output_type": "execute_result"
    }
   ],
   "source": [
    "binary(data, 99)"
   ]
  },
  {
   "cell_type": "code",
   "execution_count": 117,
   "metadata": {},
   "outputs": [],
   "source": [
    "def bfs(graph, start_node):\n",
    "    visited = list()\n",
    "    need_come = list()\n",
    "    \n",
    "    need_come.append(start_node)\n",
    "    \n",
    "    while need_come:\n",
    "        node = need_come.pop(0)\n",
    "        if node not in visited:\n",
    "            visited.append(node)\n",
    "            need_come.extend(graph[node])\n",
    "            \n",
    "    return visited"
   ]
  },
  {
   "cell_type": "code",
   "execution_count": 118,
   "metadata": {},
   "outputs": [
    {
     "data": {
      "text/plain": [
       "['A', 'B', 'C', 'D', 'G', 'H', 'I', 'E', 'F', 'J']"
      ]
     },
     "execution_count": 118,
     "metadata": {},
     "output_type": "execute_result"
    }
   ],
   "source": [
    "bfs(graph, 'A')"
   ]
  },
  {
   "cell_type": "code",
   "execution_count": 119,
   "metadata": {},
   "outputs": [],
   "source": [
    "def dfs(graph, start_node):\n",
    "    visited = list()\n",
    "    need_come = list()\n",
    "    \n",
    "    need_come.append(start_node)\n",
    "    \n",
    "    while need_come:\n",
    "        node = need_come.pop(-1)\n",
    "        if node not in visited:\n",
    "            visited.append(node)\n",
    "            need_come.extend(graph[node])\n",
    "            \n",
    "    return visited"
   ]
  },
  {
   "cell_type": "code",
   "execution_count": 120,
   "metadata": {},
   "outputs": [
    {
     "data": {
      "text/plain": [
       "['A', 'C', 'I', 'J', 'H', 'G', 'B', 'D', 'F', 'E']"
      ]
     },
     "execution_count": 120,
     "metadata": {},
     "output_type": "execute_result"
    }
   ],
   "source": [
    "dfs(graph, 'A')"
   ]
  },
  {
   "cell_type": "markdown",
   "metadata": {},
   "source": [
    "## 탐욕알고리즘!!"
   ]
  },
  {
   "cell_type": "code",
   "execution_count": 12,
   "metadata": {},
   "outputs": [],
   "source": [
    "coin_list = [500, 100, 50, 1]\n",
    "\n",
    "def min_coin_count(value, coin_list):\n",
    "    total_count = 0\n",
    "    details = list()\n",
    "    coin_list.sort(reverse=True)\n",
    "    for index in coin_list:\n",
    "        coin_num = value//index\n",
    "        total_count += coin_num\n",
    "        value -= coin_num*index\n",
    "        details.append([index, coin_num])\n",
    "        \n",
    "    return total_count, details"
   ]
  },
  {
   "cell_type": "code",
   "execution_count": 13,
   "metadata": {},
   "outputs": [
    {
     "data": {
      "text/plain": [
       "(31, [[500, 9], [100, 2], [50, 0], [1, 20]])"
      ]
     },
     "execution_count": 13,
     "metadata": {},
     "output_type": "execute_result"
    }
   ],
   "source": [
    "min_coin_count(4720, coin_list)"
   ]
  },
  {
   "cell_type": "code",
   "execution_count": 15,
   "metadata": {},
   "outputs": [],
   "source": [
    "data_list = [(10,10), (15,12),(20,10),(25,8),(30, 5)]"
   ]
  },
  {
   "cell_type": "code",
   "execution_count": 17,
   "metadata": {},
   "outputs": [
    {
     "data": {
      "text/plain": [
       "[(10, 10), (15, 12), (20, 10), (25, 8), (30, 5)]"
      ]
     },
     "execution_count": 17,
     "metadata": {},
     "output_type": "execute_result"
    }
   ],
   "source": [
    "data_list = sorted(data_list, key = lambda x:x[1]/x[0], reverse=True)\n",
    "data_list"
   ]
  },
  {
   "cell_type": "code",
   "execution_count": 20,
   "metadata": {},
   "outputs": [],
   "source": [
    "def get_max(data_list, capacity):\n",
    "    data_list = sorted(data_list, key = lambda x:x[1]/x[0], reverse=True)\n",
    "    total_value = 0\n",
    "    details = list()\n",
    "    for data in data_list:\n",
    "        if capacity-data[0] >=0:\n",
    "            capacity -=data[0]\n",
    "            total_value += data[1]\n",
    "            details.append([data[0], data[1], 1])\n",
    "        else:\n",
    "            fraction = capacity/data[0]\n",
    "            total_value +=data[1]*fraction\n",
    "            details.append([data[0], data[1], fraction])\n",
    "            break\n",
    "    return total_value, details\n",
    "                            "
   ]
  },
  {
   "cell_type": "code",
   "execution_count": 21,
   "metadata": {},
   "outputs": [
    {
     "data": {
      "text/plain": [
       "(24.5, [[10, 10, 1], [15, 12, 1], [20, 10, 0.25]])"
      ]
     },
     "execution_count": 21,
     "metadata": {},
     "output_type": "execute_result"
    }
   ],
   "source": [
    "get_max(data_list, 30)"
   ]
  },
  {
   "cell_type": "code",
   "execution_count": 28,
   "metadata": {},
   "outputs": [],
   "source": [
    "def min_coin(data, coin_list):\n",
    "    coin_list.sort(reverse=True)\n",
    "    total_count = 0\n",
    "    details=list()\n",
    "    \n",
    "    for value in coin_list:\n",
    "        count = data//value\n",
    "        data -= count*value\n",
    "        total_count += count\n",
    "        details.append([value, count])\n",
    "        \n",
    "    return total_count, details"
   ]
  },
  {
   "cell_type": "code",
   "execution_count": 29,
   "metadata": {},
   "outputs": [],
   "source": [
    "coin_list = [500, 200, 100, 10]"
   ]
  },
  {
   "cell_type": "code",
   "execution_count": 33,
   "metadata": {},
   "outputs": [
    {
     "data": {
      "text/plain": [
       "(12, [[500, 8], [200, 1], [100, 1], [10, 2]])"
      ]
     },
     "execution_count": 33,
     "metadata": {},
     "output_type": "execute_result"
    }
   ],
   "source": [
    "min_coin(4320, coin_list)"
   ]
  },
  {
   "cell_type": "code",
   "execution_count": null,
   "metadata": {},
   "outputs": [],
   "source": []
  }
 ],
 "metadata": {
  "kernelspec": {
   "display_name": "Python 3",
   "language": "python",
   "name": "python3"
  },
  "language_info": {
   "codemirror_mode": {
    "name": "ipython",
    "version": 3
   },
   "file_extension": ".py",
   "mimetype": "text/x-python",
   "name": "python",
   "nbconvert_exporter": "python",
   "pygments_lexer": "ipython3",
   "version": "3.6.9"
  }
 },
 "nbformat": 4,
 "nbformat_minor": 2
}
