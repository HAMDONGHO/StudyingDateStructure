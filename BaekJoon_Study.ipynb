{
 "cells": [
  {
   "cell_type": "markdown",
   "metadata": {},
   "source": [
    "## 2920번 음계"
   ]
  },
  {
   "cell_type": "code",
   "execution_count": 85,
   "metadata": {
    "scrolled": true
   },
   "outputs": [
    {
     "name": "stdout",
     "output_type": "stream",
     "text": [
      "1 2 3 4 5 6 7 8\n",
      "ascending\n"
     ]
    }
   ],
   "source": [
    "Song = list(map(int,input().split()))\n",
    "Song_re = list(reversed(Song))\n",
    "ascending_array = [1,2,3,4,5,6,7,8]\n",
    "count = 0\n",
    "\n",
    "for index in range(0, len(Song)):\n",
    "    if Song[index] == ascending_array[index]:\n",
    "        count += 1\n",
    "    \n",
    "    else:\n",
    "        if Song_re[index] == ascending_array[index]:\n",
    "            count -= 1\n",
    "\n",
    "if count == 8:\n",
    "    print(\"ascending\")\n",
    "\n",
    "elif count == -8:\n",
    "    print(\"descending\")\n",
    "    \n",
    "else:\n",
    "    print(\"mixed\")\n",
    "    "
   ]
  },
  {
   "cell_type": "code",
   "execution_count": 81,
   "metadata": {},
   "outputs": [
    {
     "data": {
      "text/plain": [
       "0"
      ]
     },
     "execution_count": 81,
     "metadata": {},
     "output_type": "execute_result"
    }
   ],
   "source": [
    "count"
   ]
  },
  {
   "cell_type": "code",
   "execution_count": 82,
   "metadata": {},
   "outputs": [
    {
     "data": {
      "text/plain": [
       "[1, 2, 3, 4, 5, 6, 7, 8]"
      ]
     },
     "execution_count": 82,
     "metadata": {},
     "output_type": "execute_result"
    }
   ],
   "source": [
    "Song_re"
   ]
  },
  {
   "cell_type": "code",
   "execution_count": 50,
   "metadata": {},
   "outputs": [
    {
     "data": {
      "text/plain": [
       "[8, 7, 6, 5, 4, 3, 2, 1]"
      ]
     },
     "execution_count": 50,
     "metadata": {},
     "output_type": "execute_result"
    }
   ],
   "source": [
    "Song"
   ]
  },
  {
   "cell_type": "code",
   "execution_count": 58,
   "metadata": {
    "scrolled": true
   },
   "outputs": [
    {
     "data": {
      "text/plain": [
       "[True, True, False, False, False, False, True, True]"
      ]
     },
     "execution_count": 58,
     "metadata": {},
     "output_type": "execute_result"
    }
   ],
   "source": [
    "result"
   ]
  },
  {
   "cell_type": "markdown",
   "metadata": {},
   "source": [
    "## 2798번 블랙잭"
   ]
  },
  {
   "cell_type": "code",
   "execution_count": 93,
   "metadata": {},
   "outputs": [
    {
     "name": "stdout",
     "output_type": "stream",
     "text": [
      "10 500\n",
      "93 181 245 214 315 36 185 138 216 295\n",
      "497\n"
     ]
    }
   ],
   "source": [
    "N, M = map(int, input().split())\n",
    "card = list(map(int, input().split()))\n",
    "max_result = 0\n",
    "\n",
    "for index in range(0, len(card)):\n",
    "    for index2 in range(index+1, len(card)):\n",
    "        for index3 in range(index2+1, len(card)):\n",
    "            if card[index]+card[index2]+card[index3] <= M:\n",
    "                max_result = max(max_result, card[index]+card[index2]+card[index3])\n",
    "    \n",
    "print(max_result)"
   ]
  },
  {
   "cell_type": "markdown",
   "metadata": {},
   "source": [
    "## 1874번 스택 수열"
   ]
  },
  {
   "cell_type": "code",
   "execution_count": 121,
   "metadata": {},
   "outputs": [
    {
     "name": "stdout",
     "output_type": "stream",
     "text": [
      "8\n",
      "4\n",
      "3\n",
      "6\n",
      "8\n",
      "7\n",
      "5\n",
      "2\n",
      "1\n",
      "['+', '+', '+', '+', '-', '-', '+', '+', '-', '+', '+', '-', '-', '-', '-', '-']\n"
     ]
    }
   ],
   "source": [
    "N = int(input())\n",
    "value = list()\n",
    "stack = list()\n",
    "stack_list = list()\n",
    "memory = 0\n",
    "standard = 0\n",
    "\n",
    "for _ in range(N):\n",
    "    value.append(int(input()))\n",
    "    \n",
    "for index in range(0, len(value)):\n",
    "    while standard < value[index]:\n",
    "        stack.append(\"+\")\n",
    "        standard += 1\n",
    "        stack_list.append(standard)\n",
    "            \n",
    "    if stack_list[-1] == value[index]:\n",
    "        stack.append(\"-\")\n",
    "        stack_list.pop()\n",
    "    \n",
    "    else:\n",
    "        print(\"NO\")\n",
    "        break\n",
    "    \n",
    "print(stack)"
   ]
  },
  {
   "cell_type": "markdown",
   "metadata": {},
   "source": [
    "## 1966번 프린터 큐"
   ]
  },
  {
   "cell_type": "code",
   "execution_count": 163,
   "metadata": {
    "scrolled": true
   },
   "outputs": [
    {
     "name": "stdout",
     "output_type": "stream",
     "text": [
      "1\n",
      "6 0\n",
      "1 1 9 1 1 1\n",
      "5\n"
     ]
    }
   ],
   "source": [
    "N = int(input())\n",
    "que = list()\n",
    "count = 0\n",
    "\n",
    "for _ in range(N):\n",
    "    num, ea = list(map(int,input().split(' ')))\n",
    "    prior = list(map(int, input().split()))\n",
    "    \n",
    "    for index in range(num):\n",
    "        que.append(index)\n",
    "    \n",
    "    while True:\n",
    "        if prior[0] == max(prior):\n",
    "            count += 1\n",
    "            if que[0] == ea:\n",
    "                print(count)\n",
    "                break\n",
    "            else:\n",
    "                prior.pop(0)\n",
    "                que.pop(0)\n",
    "            \n",
    "        else:\n",
    "            prior.append(prior.pop(0))\n",
    "            que.append(que.pop(0))"
   ]
  },
  {
   "cell_type": "markdown",
   "metadata": {},
   "source": [
    "## 5397번 키로거"
   ]
  },
  {
   "cell_type": "code",
   "execution_count": 73,
   "metadata": {},
   "outputs": [
    {
     "name": "stdout",
     "output_type": "stream",
     "text": [
      "2\n",
      "<<BP<A>>Cd-\n",
      "sfsdfefsdfe\n",
      "BAPC\n",
      "sfsdfefsdfe\n"
     ]
    }
   ],
   "source": [
    "N = int(input())\n",
    "result_total = list()\n",
    "\n",
    "for _ in range(N):\n",
    "    key = input()\n",
    "    left= list()\n",
    "    right=list()\n",
    "    \n",
    "    for index in key:\n",
    "        if index == '<':\n",
    "            if right:\n",
    "                left.append(right.pop(-1))\n",
    "        elif index == '>':\n",
    "            if left:\n",
    "                right.append(left.pop(-1))\n",
    "        elif index == '-':\n",
    "            if right:\n",
    "                right.pop(-1)\n",
    "        else:\n",
    "            right.append(index)\n",
    "    \n",
    "    result = \"\".join(right)\n",
    "    result_total.append(result)\n",
    "\n",
    "print('\\n'.join(result_total))"
   ]
  },
  {
   "cell_type": "code",
   "execution_count": 68,
   "metadata": {},
   "outputs": [
    {
     "ename": "NameError",
     "evalue": "name 'key' is not defined",
     "output_type": "error",
     "traceback": [
      "\u001b[0;31m---------------------------------------------------------------------------\u001b[0m",
      "\u001b[0;31mNameError\u001b[0m                                 Traceback (most recent call last)",
      "\u001b[0;32m<ipython-input-68-60eb31e43435>\u001b[0m in \u001b[0;36m<module>\u001b[0;34m\u001b[0m\n\u001b[0;32m----> 1\u001b[0;31m \u001b[0mprint\u001b[0m\u001b[0;34m(\u001b[0m\u001b[0mlen\u001b[0m\u001b[0;34m(\u001b[0m\u001b[0mkey\u001b[0m\u001b[0;34m)\u001b[0m\u001b[0;34m)\u001b[0m\u001b[0;34m\u001b[0m\u001b[0;34m\u001b[0m\u001b[0m\n\u001b[0m",
      "\u001b[0;31mNameError\u001b[0m: name 'key' is not defined"
     ]
    }
   ],
   "source": [
    "print(len(key))"
   ]
  },
  {
   "cell_type": "markdown",
   "metadata": {},
   "source": [
    "## 1920번 수 찾기"
   ]
  },
  {
   "cell_type": "code",
   "execution_count": 22,
   "metadata": {},
   "outputs": [
    {
     "name": "stdout",
     "output_type": "stream",
     "text": [
      "5\n",
      "4 1 5 2 3\n",
      "5\n",
      "1 3 7 9 5\n",
      "[1, 1, 0, 0, 1]\n"
     ]
    }
   ],
   "source": [
    "## 시간초과뜸;; 이진탐색 해야할듯\n",
    "N = int(input())\n",
    "standard = list(map(int, input().split()))\n",
    "M = int(input())\n",
    "value = list(map(int, input().split()))\n",
    "result = [0]*M\n",
    "\n",
    "for index in range(0, len(value)):\n",
    "    for index2 in range(0, len(standard)):\n",
    "        if standard[index2] == value[index]:\n",
    "            result[index] = 1\n",
    "print(result)"
   ]
  },
  {
   "cell_type": "code",
   "execution_count": 29,
   "metadata": {},
   "outputs": [
    {
     "name": "stdout",
     "output_type": "stream",
     "text": [
      "5\n",
      "4 1 5 2 3\n",
      "5\n",
      "1 3 7 9 5\n",
      "1\n",
      "1\n",
      "0\n",
      "0\n",
      "1\n"
     ]
    }
   ],
   "source": [
    "N = int(input())\n",
    "standard = list(map(int, input().split()))\n",
    "M = int(input())\n",
    "value = list(map(int, input().split()))\n",
    "standard.sort()\n",
    "\n",
    "def binary(index, list2):\n",
    "    \n",
    "    center = len(list2)//2\n",
    "    \n",
    "    if len(list2) ==1 and list2[0] == index:\n",
    "        return True\n",
    "    if len(list2) ==1 and list2[0] !=index:\n",
    "        return False\n",
    "    if len(list2) ==0:\n",
    "        return False\n",
    "    \n",
    "    if index == list2[center]:\n",
    "        return True\n",
    "        \n",
    "    if index > list2[center]:\n",
    "        return binary(index, list2[center:])\n",
    "    \n",
    "    else:\n",
    "        return binary(index, list2[:center])\n",
    "\n",
    "    \n",
    "    \n",
    "for index in value:\n",
    "    if binary(index, standard):\n",
    "        print(1)\n",
    "    else:\n",
    "        print(0)\n",
    "        "
   ]
  },
  {
   "cell_type": "markdown",
   "metadata": {},
   "source": [
    "## 2747번 피보나치 수"
   ]
  },
  {
   "cell_type": "code",
   "execution_count": 38,
   "metadata": {},
   "outputs": [
    {
     "name": "stdout",
     "output_type": "stream",
     "text": [
      "20\n",
      "6765\n"
     ]
    }
   ],
   "source": [
    "# 이것도 시간초과;; 재귀쓰면 안될듯\n",
    "N = int(input())\n",
    "\n",
    "def fibo(N):\n",
    "    if N == 1:\n",
    "        return 1\n",
    "    if N ==0:\n",
    "        return 0\n",
    "    if N > 1:\n",
    "        return fibo(N-1)+fibo(N-2)\n",
    "    \n",
    "print(fibo(N))"
   ]
  },
  {
   "cell_type": "code",
   "execution_count": 39,
   "metadata": {},
   "outputs": [
    {
     "name": "stdout",
     "output_type": "stream",
     "text": [
      "20\n",
      "6765\n"
     ]
    }
   ],
   "source": [
    "# 예전에 짰던 코드, 성공하네\n",
    "num = int(input())\n",
    "result = list()\n",
    "a=0\n",
    "b=1\n",
    "\n",
    "if num ==0:\n",
    "    print(num)\n",
    "    \n",
    "elif num<2:\n",
    "    print(1)\n",
    "    \n",
    "elif num >=2 and num <= 45:\n",
    "    while num>1:\n",
    "        c=a+b\n",
    "        a, b = b, c\n",
    "        num-=1\n",
    "\n",
    "    print(c)\n",
    "\n",
    "else:\n",
    "    print(\"범위는 2부터 45까지입니다. 다시 입력해주세요\")"
   ]
  },
  {
   "cell_type": "markdown",
   "metadata": {},
   "source": [
    "## 1074번 Z"
   ]
  },
  {
   "cell_type": "code",
   "execution_count": 66,
   "metadata": {
    "scrolled": false
   },
   "outputs": [
    {
     "name": "stdout",
     "output_type": "stream",
     "text": [
      "3 7 7\n",
      "63\n"
     ]
    }
   ],
   "source": [
    "N, r, c = map(int, input().split())\n",
    "squ = 2**N\n",
    "count =0\n",
    "\n",
    "def square(squ, R, C):\n",
    "    global count\n",
    "    \n",
    "    if squ ==2:\n",
    "        if R == r and C ==c:\n",
    "            print(count)\n",
    "            return\n",
    "        count+=1\n",
    "\n",
    "        if R == r and C+1 ==c:\n",
    "            print(count)\n",
    "            return\n",
    "        count+=1\n",
    "\n",
    "        if R+1 == r and C == c:\n",
    "            print(count)\n",
    "            return\n",
    "        count+=1\n",
    "\n",
    "        if R+1 == r and C+1 ==c:\n",
    "            print(count)\n",
    "            return\n",
    "        count+=1\n",
    "        return\n",
    "        \n",
    "    square(squ/2, R, C)\n",
    "    square(squ/2, R, C+squ/2)\n",
    "    square(squ/2, R+squ/2,C)\n",
    "    square(squ/2, R+squ/2, C+squ/2)\n",
    "    \n",
    "square(squ, 0, 0)"
   ]
  },
  {
   "cell_type": "markdown",
   "metadata": {},
   "source": [
    "## 4195번 친구 네트워크"
   ]
  },
  {
   "cell_type": "code",
   "execution_count": 77,
   "metadata": {},
   "outputs": [
    {
     "data": {
      "text/plain": [
       "<__main__.Node at 0x1070f03c8>"
      ]
     },
     "execution_count": 77,
     "metadata": {},
     "output_type": "execute_result"
    }
   ],
   "source": [
    "class Node:\n",
    "    def __init__(self, data, right=None):\n",
    "        self.data = data\n",
    "        self.right = right\n",
    "        \n",
    "Node(\"fred barney\")"
   ]
  },
  {
   "cell_type": "code",
   "execution_count": 79,
   "metadata": {},
   "outputs": [
    {
     "ename": "SyntaxError",
     "evalue": "invalid syntax (<ipython-input-79-4aa0facaaae1>, line 1)",
     "output_type": "error",
     "traceback": [
      "\u001b[0;36m  File \u001b[0;32m\"<ipython-input-79-4aa0facaaae1>\"\u001b[0;36m, line \u001b[0;32m1\u001b[0m\n\u001b[0;31m    fred barney.data\u001b[0m\n\u001b[0m              ^\u001b[0m\n\u001b[0;31mSyntaxError\u001b[0m\u001b[0;31m:\u001b[0m invalid syntax\n"
     ]
    }
   ],
   "source": []
  },
  {
   "cell_type": "markdown",
   "metadata": {},
   "source": [
    "## 11650번 좌표 정렬하기"
   ]
  },
  {
   "cell_type": "code",
   "execution_count": 9,
   "metadata": {},
   "outputs": [
    {
     "name": "stdout",
     "output_type": "stream",
     "text": [
      "6\n",
      "3 4\n",
      "1 1\n",
      "1 -1\n",
      "2 7\n",
      "2 1\n",
      "3 3\n",
      "1 -1\n",
      "1 1\n",
      "2 1\n",
      "2 7\n",
      "3 3\n",
      "3 4\n"
     ]
    }
   ],
   "source": [
    "N = int(input())\n",
    "point = list()\n",
    "\n",
    "for _ in range(N):\n",
    "    x, y = map(int, input().split())\n",
    "    point.append([x,y])\n",
    "    \n",
    "point.sort()\n",
    "for index in range(N):\n",
    "    print(point[index][0], point[index][1])"
   ]
  },
  {
   "cell_type": "markdown",
   "metadata": {},
   "source": [
    "## 11004번 K번째 수"
   ]
  },
  {
   "cell_type": "code",
   "execution_count": 11,
   "metadata": {},
   "outputs": [
    {
     "name": "stdout",
     "output_type": "stream",
     "text": [
      "5 2\n",
      "4 1 2 3 5\n",
      "2\n"
     ]
    }
   ],
   "source": [
    "N, M = map(int, input().split())\n",
    "K = list(map(int, input().split()))\n",
    "\n",
    "K.sort()\n",
    "\n",
    "print(K[M-1])"
   ]
  },
  {
   "cell_type": "markdown",
   "metadata": {},
   "source": [
    "## 1543번 문서 검색"
   ]
  },
  {
   "cell_type": "code",
   "execution_count": 70,
   "metadata": {},
   "outputs": [
    {
     "name": "stdout",
     "output_type": "stream",
     "text": [
      "a a a a a a\n",
      "a a\n",
      "3\n"
     ]
    }
   ],
   "source": [
    "doc = input()\n",
    "word = input()\n",
    "\n",
    "index = 0\n",
    "result = 0\n",
    "\n",
    "while len(doc)-index >= len(word):\n",
    "    if doc[index:index+len(word)] == word:\n",
    "        result +=1\n",
    "        index += len(word)\n",
    "    else:\n",
    "        index +=1\n",
    "        \n",
    "print(result)"
   ]
  },
  {
   "cell_type": "code",
   "execution_count": 71,
   "metadata": {},
   "outputs": [
    {
     "data": {
      "text/plain": [
       "'a a a a a a'"
      ]
     },
     "execution_count": 71,
     "metadata": {},
     "output_type": "execute_result"
    }
   ],
   "source": [
    "doc"
   ]
  },
  {
   "cell_type": "code",
   "execution_count": 72,
   "metadata": {},
   "outputs": [
    {
     "data": {
      "text/plain": [
       "11"
      ]
     },
     "execution_count": 72,
     "metadata": {},
     "output_type": "execute_result"
    }
   ],
   "source": [
    "len(doc)"
   ]
  },
  {
   "cell_type": "markdown",
   "metadata": {},
   "source": [
    "## 1568번 새"
   ]
  },
  {
   "cell_type": "code",
   "execution_count": 20,
   "metadata": {},
   "outputs": [
    {
     "name": "stdout",
     "output_type": "stream",
     "text": [
      "14\n",
      "4 4\n",
      "2 1\n",
      "1 0\n",
      "7\n"
     ]
    }
   ],
   "source": [
    "N = int(input())\n",
    "count = 0\n",
    "\n",
    "while N > 0 :\n",
    "    sing = 0\n",
    "    while N>sing:\n",
    "        sing+=1\n",
    "        count+=1\n",
    "        N = N - sing\n",
    "            \n",
    "print(count)"
   ]
  },
  {
   "cell_type": "markdown",
   "metadata": {},
   "source": [
    "## 1302번 베스트셀러"
   ]
  },
  {
   "cell_type": "code",
   "execution_count": 61,
   "metadata": {},
   "outputs": [
    {
     "name": "stdout",
     "output_type": "stream",
     "text": [
      "7\n",
      "eunji\n",
      "dongho\n",
      "eunji\n",
      "top\n",
      "kimtop\n",
      "top\n",
      "tpo\n"
     ]
    }
   ],
   "source": [
    "N = int(input())\n",
    "best = list()\n",
    "book = list()\n",
    "count = 1\n",
    "\n",
    "for _ in range(N):\n",
    "    book.append(input())\n",
    "    \n",
    "book.sort()\n",
    "\n",
    "for index in range(0, len(book)-1):\n",
    "    if book[index] == book[index+1]:\n",
    "        count +=1\n",
    "    \n",
    "    if book[index] != book[index+1]:\n",
    "        best.append([count, book[index]])\n",
    "        count = 1\n",
    "best.append([count, book[N-1]])"
   ]
  },
  {
   "cell_type": "code",
   "execution_count": 62,
   "metadata": {},
   "outputs": [
    {
     "data": {
      "text/plain": [
       "['dongho', 'eunji', 'eunji', 'kimtop', 'top', 'top', 'tpo']"
      ]
     },
     "execution_count": 62,
     "metadata": {},
     "output_type": "execute_result"
    }
   ],
   "source": [
    "book"
   ]
  },
  {
   "cell_type": "code",
   "execution_count": 63,
   "metadata": {},
   "outputs": [
    {
     "data": {
      "text/plain": [
       "[[1, 'dongho'], [2, 'eunji'], [1, 'kimtop'], [2, 'top'], [1, 'tpo']]"
      ]
     },
     "execution_count": 63,
     "metadata": {},
     "output_type": "execute_result"
    }
   ],
   "source": [
    "best"
   ]
  },
  {
   "cell_type": "code",
   "execution_count": 65,
   "metadata": {},
   "outputs": [
    {
     "name": "stdout",
     "output_type": "stream",
     "text": [
      "top\n"
     ]
    }
   ],
   "source": [
    "best.sort(reverse=True)\n",
    "\n",
    "print(best[0][1])"
   ]
  },
  {
   "cell_type": "code",
   "execution_count": 66,
   "metadata": {
    "scrolled": true
   },
   "outputs": [
    {
     "data": {
      "text/plain": [
       "[[2, 'top'], [2, 'eunji'], [1, 'tpo'], [1, 'kimtop'], [1, 'dongho']]"
      ]
     },
     "execution_count": 66,
     "metadata": {},
     "output_type": "execute_result"
    }
   ],
   "source": [
    "best"
   ]
  },
  {
   "cell_type": "markdown",
   "metadata": {},
   "source": [
    "## 1668번 트로피 진열"
   ]
  },
  {
   "cell_type": "code",
   "execution_count": 10,
   "metadata": {},
   "outputs": [
    {
     "name": "stdout",
     "output_type": "stream",
     "text": [
      "5\n",
      "1\n",
      "6\n",
      "4\n",
      "7\n",
      "9\n",
      "4\n",
      "1\n"
     ]
    }
   ],
   "source": [
    "N = int(input())\n",
    "trophy = list()\n",
    "array = list()\n",
    "\n",
    "for _ in range(N):\n",
    "    trophy.append(int(input()))\n",
    "    \n",
    "def trophy_sort(trophy):\n",
    "    max = trophy[0]\n",
    "    \n",
    "    for index in range(1, len(trophy)):\n",
    "        if max < trophy[index]:\n",
    "            max = trophy[index]\n",
    "            array.append(trophy[index])\n",
    "    \n",
    "for _ in range(2):\n",
    "    array = list()\n",
    "    trophy_sort(trophy)\n",
    "    print(len(array)+1)\n",
    "    trophy.reverse()"
   ]
  },
  {
   "cell_type": "code",
   "execution_count": 3,
   "metadata": {},
   "outputs": [
    {
     "data": {
      "text/plain": [
       "[1, 2, 3, 4, 5]"
      ]
     },
     "execution_count": 3,
     "metadata": {},
     "output_type": "execute_result"
    }
   ],
   "source": [
    "trophy"
   ]
  },
  {
   "cell_type": "code",
   "execution_count": 6,
   "metadata": {},
   "outputs": [
    {
     "data": {
      "text/plain": [
       "[2, 3, 4, 5]"
      ]
     },
     "execution_count": 6,
     "metadata": {},
     "output_type": "execute_result"
    }
   ],
   "source": [
    "left"
   ]
  },
  {
   "cell_type": "markdown",
   "metadata": {},
   "source": [
    "## 1236번 성 지키기"
   ]
  },
  {
   "cell_type": "code",
   "execution_count": 31,
   "metadata": {},
   "outputs": [
    {
     "name": "stdout",
     "output_type": "stream",
     "text": [
      "4 4\n",
      ". . X .\n",
      "X . . .\n",
      "X X . .\n",
      ". . . .\n",
      "1\n"
     ]
    }
   ],
   "source": [
    "N, M = map(int, input().split())\n",
    "castle = list()\n",
    "row = [0]*N\n",
    "col = [0]*M\n",
    "row_count = 0\n",
    "col_count = 0\n",
    "result_C = 0\n",
    "\n",
    "for _ in range(N):\n",
    "    castle.append(list(input().split()))\n",
    "\n",
    "for index in range(N):\n",
    "    for index2 in range(M):\n",
    "        if castle[index][index2] == 'X':\n",
    "            row[index] = 1\n",
    "            col[index2] = 1\n",
    "\n",
    "for index in range(N):\n",
    "    if row[index] ==0:\n",
    "        row_count +=1\n",
    "        \n",
    "for index2 in range(M):\n",
    "    if col[index2] == 0:\n",
    "        col_count +=1\n",
    "\n",
    "if row_count >= col_count:\n",
    "    print(row_count)\n",
    "else:\n",
    "    print(col_count)"
   ]
  },
  {
   "cell_type": "code",
   "execution_count": 20,
   "metadata": {},
   "outputs": [
    {
     "data": {
      "text/plain": [
       "[['.', '.', 'X', '.'],\n",
       " ['.', 'X', '.', '.'],\n",
       " ['X', '.', '.', '.'],\n",
       " ['.', '.', '.', 'X']]"
      ]
     },
     "execution_count": 20,
     "metadata": {},
     "output_type": "execute_result"
    }
   ],
   "source": [
    "castle"
   ]
  },
  {
   "cell_type": "code",
   "execution_count": 21,
   "metadata": {},
   "outputs": [
    {
     "data": {
      "text/plain": [
       "'X'"
      ]
     },
     "execution_count": 21,
     "metadata": {},
     "output_type": "execute_result"
    }
   ],
   "source": [
    "castle[0][2]"
   ]
  },
  {
   "cell_type": "markdown",
   "metadata": {},
   "source": [
    "## 2110번 공유기 설치"
   ]
  },
  {
   "cell_type": "code",
   "execution_count": 33,
   "metadata": {},
   "outputs": [
    {
     "name": "stdout",
     "output_type": "stream",
     "text": [
      "5 3\n",
      "1\n",
      "2\n",
      "8\n",
      "4\n",
      "9\n",
      "3\n"
     ]
    }
   ],
   "source": [
    "H, W = map(int, input().split(' '))\n",
    "P = list()\n",
    "W_C = 0\n",
    "\n",
    "for _ in range(H):\n",
    "    P.append(int(input()))\n",
    "    \n",
    "P = sorted(P)\n",
    "\n",
    "def Wifi_count(distance):\n",
    "    current_H = P[0]\n",
    "    count = 1\n",
    "    \n",
    "    for index in range(1, len(P)):\n",
    "        if current_H+distance <= P[index]:\n",
    "            count+=1\n",
    "            current_H = P[index]\n",
    "            \n",
    "    return count\n",
    "\n",
    "start = P[1]-P[0]\n",
    "end = P[-1] - P[0]\n",
    "result = 0\n",
    "    \n",
    "while start<= end:\n",
    "    mid = (start+end)//2\n",
    "    \n",
    "    if Wifi_count(mid) >= W:\n",
    "        result = mid\n",
    "        start = mid+1\n",
    "    else:\n",
    "        end = mid-1\n",
    "            \n",
    "print(result)\n"
   ]
  },
  {
   "cell_type": "markdown",
   "metadata": {},
   "source": [
    "## 1939번 중량제한"
   ]
  },
  {
   "cell_type": "code",
   "execution_count": 32,
   "metadata": {},
   "outputs": [
    {
     "ename": "NameError",
     "evalue": "name 'ᅮᅲᅮᅲᅮᅲᅮᅲᅮᅲ' is not defined",
     "output_type": "error",
     "traceback": [
      "\u001b[0;31m---------------------------------------------------------------------------\u001b[0m",
      "\u001b[0;31mNameError\u001b[0m                                 Traceback (most recent call last)",
      "\u001b[0;32m<ipython-input-32-701bb9e3681a>\u001b[0m in \u001b[0;36m<module>\u001b[0;34m\u001b[0m\n\u001b[0;32m----> 1\u001b[0;31m \u001b[0mㅜㅠㅜㅠㅜㅠㅜㅠㅜㅠ\u001b[0m\u001b[0;34m\u001b[0m\u001b[0;34m\u001b[0m\u001b[0m\n\u001b[0m",
      "\u001b[0;31mNameError\u001b[0m: name 'ᅮᅲᅮᅲᅮᅲᅮᅲᅮᅲ' is not defined"
     ]
    }
   ],
   "source": [
    "ㅜㅠㅜㅠㅜㅠㅜㅠㅜㅠ"
   ]
  },
  {
   "cell_type": "markdown",
   "metadata": {},
   "source": [
    "## 1991번 트리 순회"
   ]
  },
  {
   "cell_type": "code",
   "execution_count": 34,
   "metadata": {
    "scrolled": true
   },
   "outputs": [
    {
     "name": "stdout",
     "output_type": "stream",
     "text": [
      "7\n",
      "A B C\n",
      "B D .\n",
      "C E F\n",
      "E . .\n",
      "F . G\n",
      "D . .\n",
      "G . .\n",
      "ABDCEFG\n",
      "DBAECFG\n",
      "DBEGFCA{'A': <__main__.Node object at 0x103f1af28>, 'B': <__main__.Node object at 0x103f1af60>, 'C': <__main__.Node object at 0x103ef6e48>, 'E': <__main__.Node object at 0x103f1ae48>, 'F': <__main__.Node object at 0x103f10198>, 'D': <__main__.Node object at 0x103f101d0>, 'G': <__main__.Node object at 0x103ef6da0>}\n"
     ]
    }
   ],
   "source": [
    "class Node:\n",
    "    def __init__(self, data, left, right):\n",
    "        self.data = data\n",
    "        self.left = left\n",
    "        self.right = right\n",
    "\n",
    "def pre_order(node):\n",
    "    print(node.data, end='')\n",
    "    if node.left != '.':\n",
    "        pre_order(tree[node.left])\n",
    "    if node.right != '.':\n",
    "        pre_order(tree[node.right])\n",
    "\n",
    "def center_order(node):\n",
    "    if node.left != '.':\n",
    "        center_order(tree[node.left])\n",
    "    print(node.data, end='')\n",
    "    if node.right!= '.':\n",
    "        center_order(tree[node.right])\n",
    "        \n",
    "def post_order(node):\n",
    "    if node.left != '.':\n",
    "        post_order(tree[node.left])\n",
    "    if node.right != '.':\n",
    "        post_order(tree[node.right])\n",
    "    print(node.data, end='')\n",
    "    \n",
    "N = int(input())\n",
    "\n",
    "tree = {}\n",
    "\n",
    "for i in range(N):\n",
    "    data, left, right = input().split()\n",
    "    tree[data] = Node(data, left, right)\n",
    "\n",
    "pre_order(tree['A'])\n",
    "print()\n",
    "center_order(tree['A'])\n",
    "print()\n",
    "post_order(tree['A'])\n",
    "print()"
   ]
  },
  {
   "cell_type": "markdown",
   "metadata": {},
   "source": [
    "## 2250번 트리의 높이와 너비"
   ]
  },
  {
   "cell_type": "code",
   "execution_count": 9,
   "metadata": {},
   "outputs": [
    {
     "name": "stdout",
     "output_type": "stream",
     "text": [
      "5\n",
      "1 2 3\n",
      "2 4 5\n",
      "3 6 7\n",
      "4 8 -1\n",
      "5 9 10\n"
     ]
    }
   ],
   "source": [
    "## 5/12 트리, 그래프, dfs, bfs 약한 부분\n",
    "class Node:\n",
    "    def __init__(self, data, left, right):\n",
    "        self.data = data\n",
    "        self.left = left\n",
    "        self.right = right\n",
    "        \n",
    "def dfs(tree, start_node):\n",
    "    visited = list()\n",
    "    need_come = list()\n",
    "    max_height = 0\n",
    "    \n",
    "    need_come.append(start_node)\n",
    "    count = 0\n",
    "    while need_come:\n",
    "        count +=1\n",
    "        node = need_come.pop(-1)\n",
    "        if node not in visited:\n",
    "            visited.append(node)\n",
    "            need_come.append(tree[node])\n",
    "        if node in visited and max_height < count:\n",
    "            max_height = count\n",
    "\n",
    "N = int(input())\n",
    "tree = {}\n",
    "\n",
    "for _ in range(N):\n",
    "    data, left, right = input().split()\n",
    "    tree[data] = Node(data, left, right)\n",
    "    \n"
   ]
  },
  {
   "cell_type": "code",
   "execution_count": 11,
   "metadata": {},
   "outputs": [
    {
     "ename": "KeyError",
     "evalue": "<__main__.Node object at 0x10f9b4ba8>",
     "output_type": "error",
     "traceback": [
      "\u001b[0;31m---------------------------------------------------------------------------\u001b[0m",
      "\u001b[0;31mKeyError\u001b[0m                                  Traceback (most recent call last)",
      "\u001b[0;32m<ipython-input-11-3dd13f2e8e44>\u001b[0m in \u001b[0;36m<module>\u001b[0;34m\u001b[0m\n\u001b[0;32m----> 1\u001b[0;31m \u001b[0mdfs\u001b[0m\u001b[0;34m(\u001b[0m\u001b[0mtree\u001b[0m\u001b[0;34m,\u001b[0m \u001b[0;34m'1'\u001b[0m\u001b[0;34m)\u001b[0m\u001b[0;34m\u001b[0m\u001b[0;34m\u001b[0m\u001b[0m\n\u001b[0m",
      "\u001b[0;32m<ipython-input-9-d492b2a9d459>\u001b[0m in \u001b[0;36mdfs\u001b[0;34m(tree, start_node)\u001b[0m\n\u001b[1;32m     17\u001b[0m         \u001b[0;32mif\u001b[0m \u001b[0mnode\u001b[0m \u001b[0;32mnot\u001b[0m \u001b[0;32min\u001b[0m \u001b[0mvisited\u001b[0m\u001b[0;34m:\u001b[0m\u001b[0;34m\u001b[0m\u001b[0;34m\u001b[0m\u001b[0m\n\u001b[1;32m     18\u001b[0m             \u001b[0mvisited\u001b[0m\u001b[0;34m.\u001b[0m\u001b[0mappend\u001b[0m\u001b[0;34m(\u001b[0m\u001b[0mnode\u001b[0m\u001b[0;34m)\u001b[0m\u001b[0;34m\u001b[0m\u001b[0;34m\u001b[0m\u001b[0m\n\u001b[0;32m---> 19\u001b[0;31m             \u001b[0mneed_come\u001b[0m\u001b[0;34m.\u001b[0m\u001b[0mappend\u001b[0m\u001b[0;34m(\u001b[0m\u001b[0mtree\u001b[0m\u001b[0;34m[\u001b[0m\u001b[0mnode\u001b[0m\u001b[0;34m]\u001b[0m\u001b[0;34m)\u001b[0m\u001b[0;34m\u001b[0m\u001b[0;34m\u001b[0m\u001b[0m\n\u001b[0m\u001b[1;32m     20\u001b[0m         \u001b[0;32mif\u001b[0m \u001b[0mnode\u001b[0m \u001b[0;32min\u001b[0m \u001b[0mvisited\u001b[0m \u001b[0;32mand\u001b[0m \u001b[0mmax_height\u001b[0m \u001b[0;34m<\u001b[0m \u001b[0mcount\u001b[0m\u001b[0;34m:\u001b[0m\u001b[0;34m\u001b[0m\u001b[0;34m\u001b[0m\u001b[0m\n\u001b[1;32m     21\u001b[0m             \u001b[0mmax_height\u001b[0m \u001b[0;34m=\u001b[0m \u001b[0mcount\u001b[0m\u001b[0;34m\u001b[0m\u001b[0;34m\u001b[0m\u001b[0m\n",
      "\u001b[0;31mKeyError\u001b[0m: <__main__.Node object at 0x10f9b4ba8>"
     ]
    }
   ],
   "source": [
    "dfs(tree, '1')"
   ]
  },
  {
   "cell_type": "markdown",
   "metadata": {},
   "source": [
    "## 1927번 최소 힙"
   ]
  },
  {
   "cell_type": "code",
   "execution_count": 20,
   "metadata": {},
   "outputs": [
    {
     "name": "stdout",
     "output_type": "stream",
     "text": [
      "9\n",
      "54\n",
      "2\n",
      "1234\n",
      "0\n",
      "0\n",
      "0\n",
      "0\n",
      "32\n",
      "0\n",
      "2\n",
      "54\n",
      "1234\n",
      "0\n",
      "32\n"
     ]
    }
   ],
   "source": [
    "import heapq\n",
    "\n",
    "N = int(input())\n",
    "\n",
    "heap = list()\n",
    "array = list()\n",
    "result = list()\n",
    "\n",
    "for _ in range(N):\n",
    "    array.append(int(input()))\n",
    "\n",
    "for index in range(0, len(array)):\n",
    "    if array[index] == 0 and len(heap) == 0:\n",
    "        result.append(0)\n",
    "    if array[index] != 0:\n",
    "        heapq.heappush(heap, array[index])\n",
    "    if array[index] == 0 and len(heap) != 0:\n",
    "        result.append(heapq.heappop(heap))\n",
    "\n",
    "for index in range(0, len(result)):\n",
    "    print(result[index])"
   ]
  },
  {
   "cell_type": "markdown",
   "metadata": {},
   "source": [
    "## 1715번 카드 정렬하기"
   ]
  },
  {
   "cell_type": "code",
   "execution_count": 36,
   "metadata": {},
   "outputs": [
    {
     "name": "stdout",
     "output_type": "stream",
     "text": [
      "5\n",
      "20\n",
      "50\n",
      "10\n",
      "70\n",
      "40\n",
      "410\n"
     ]
    }
   ],
   "source": [
    "import heapq\n",
    "\n",
    "heap = list()\n",
    "a = 0\n",
    "b = 0\n",
    "card_sum = 0\n",
    "count = 0\n",
    "\n",
    "N = int(input())\n",
    "\n",
    "for _ in range(N):\n",
    "    heapq.heappush(heap, int(input()))\n",
    "    \n",
    "while len(heap) > 1:\n",
    "    a = heapq.heappop(heap)\n",
    "    b = heapq.heappop(heap)\n",
    "    card_sum = a+b\n",
    "    count += card_sum\n",
    "    heapq.heappush(heap, card_sum)\n",
    "\n",
    "print(count)"
   ]
  },
  {
   "cell_type": "code",
   "execution_count": 28,
   "metadata": {},
   "outputs": [
    {
     "data": {
      "text/plain": [
       "3"
      ]
     },
     "execution_count": 28,
     "metadata": {},
     "output_type": "execute_result"
    }
   ],
   "source": [
    "len(heap)"
   ]
  },
  {
   "cell_type": "markdown",
   "metadata": {},
   "source": [
    "## 1766번 문제집"
   ]
  },
  {
   "cell_type": "code",
   "execution_count": 63,
   "metadata": {},
   "outputs": [
    {
     "name": "stdout",
     "output_type": "stream",
     "text": [
      "4 2\n",
      "4 2\n",
      "3 1\n",
      "[3, 1, 4, 2]\n"
     ]
    }
   ],
   "source": [
    "# 위상정렬 공부해야함,,,\n",
    "#def binary(num_pro, list):\n",
    "#    mid = len(list)//2\n",
    "#    \n",
    "#    if len(list) ==1 and list[0] == num_pro:\n",
    "#        return True\n",
    "#    if len(list) ==1 and list[0] !=num_pro:\n",
    "#        return False\n",
    "#    if len(list) ==0:\n",
    "#        return False\n",
    "#    \n",
    "#    if num_pro == list2[mid]:\n",
    "#        return True\n",
    "#    \n",
    "#    if num_pro < list[mid]:\n",
    "#        return binary(num_pro, list[:mid])\n",
    "#    else:\n",
    "#        return binary(num_pro, list[mid:])\n",
    "\n",
    "    \n",
    "N, M = map(int, input().split())\n",
    "\n",
    "pro = [0 for _ in range(N+1)]\n",
    "better_pro = [[]for _ in range(N+1)]\n",
    "\n",
    "heap = list()\n",
    "result = list()\n",
    "\n",
    "for _ in range(M):\n",
    "    a, b = map(int, input().split())\n",
    "    better_pro[a].append(b)\n",
    "    pro[b] += 1\n",
    "    \n",
    "for index in range(1, N+1):\n",
    "    if pro[index] == 0:\n",
    "        heapq.heappush(heap, index)\n",
    "        \n",
    "while heap:\n",
    "    num = heapq.heappop(heap)\n",
    "    result.append(num)\n",
    "    \n",
    "    for index in better_pro[num]:\n",
    "        pro[index] -= 1\n",
    "        if pro[index] ==0:\n",
    "            heapq.heappush(heap, index)\n",
    "\n",
    "print(result)"
   ]
  },
  {
   "cell_type": "code",
   "execution_count": 64,
   "metadata": {},
   "outputs": [
    {
     "data": {
      "text/plain": [
       "[0, 0, 0, 0, 0]"
      ]
     },
     "execution_count": 64,
     "metadata": {},
     "output_type": "execute_result"
    }
   ],
   "source": [
    "pro"
   ]
  },
  {
   "cell_type": "code",
   "execution_count": 65,
   "metadata": {},
   "outputs": [
    {
     "data": {
      "text/plain": [
       "[1]"
      ]
     },
     "execution_count": 65,
     "metadata": {},
     "output_type": "execute_result"
    }
   ],
   "source": [
    "better_pro[3]"
   ]
  },
  {
   "cell_type": "markdown",
   "metadata": {},
   "source": [
    "## 1904번 01타일"
   ]
  },
  {
   "cell_type": "code",
   "execution_count": 56,
   "metadata": {},
   "outputs": [
    {
     "name": "stdout",
     "output_type": "stream",
     "text": [
      "4\n",
      "5\n"
     ]
    }
   ],
   "source": [
    "N = int(input())\n",
    "\n",
    "result = 0\n",
    "count = 0\n",
    "\n",
    "if N <= 2:\n",
    "    result = N%15746\n",
    "    print(result)\n",
    "    \n",
    "else:\n",
    "    result = (N+1)%15746\n",
    "    print(result)"
   ]
  },
  {
   "cell_type": "markdown",
   "metadata": {},
   "source": [
    "## 12865번 평범한 배낭"
   ]
  },
  {
   "cell_type": "code",
   "execution_count": 30,
   "metadata": {
    "scrolled": true
   },
   "outputs": [
    {
     "name": "stdout",
     "output_type": "stream",
     "text": [
      "4 7\n",
      "6 13\n"
     ]
    },
    {
     "ename": "TypeError",
     "evalue": "'int' object is not callable",
     "output_type": "error",
     "traceback": [
      "\u001b[0;31m---------------------------------------------------------------------------\u001b[0m",
      "\u001b[0;31mTypeError\u001b[0m                                 Traceback (most recent call last)",
      "\u001b[0;32m<ipython-input-30-b09b1c6eb77f>\u001b[0m in \u001b[0;36m<module>\u001b[0;34m\u001b[0m\n\u001b[1;32m      8\u001b[0m             \u001b[0mtable\u001b[0m\u001b[0;34m[\u001b[0m\u001b[0mi\u001b[0m\u001b[0;34m]\u001b[0m\u001b[0;34m[\u001b[0m\u001b[0mj\u001b[0m\u001b[0;34m]\u001b[0m \u001b[0;34m=\u001b[0m \u001b[0mtable\u001b[0m\u001b[0;34m[\u001b[0m\u001b[0mi\u001b[0m\u001b[0;34m-\u001b[0m\u001b[0;36m1\u001b[0m\u001b[0;34m]\u001b[0m\u001b[0;34m[\u001b[0m\u001b[0mj\u001b[0m\u001b[0;34m]\u001b[0m\u001b[0;34m\u001b[0m\u001b[0;34m\u001b[0m\u001b[0m\n\u001b[1;32m      9\u001b[0m         \u001b[0;32melse\u001b[0m\u001b[0;34m:\u001b[0m\u001b[0;34m\u001b[0m\u001b[0;34m\u001b[0m\u001b[0m\n\u001b[0;32m---> 10\u001b[0;31m             \u001b[0mtable\u001b[0m\u001b[0;34m[\u001b[0m\u001b[0mi\u001b[0m\u001b[0;34m]\u001b[0m\u001b[0;34m[\u001b[0m\u001b[0mj\u001b[0m\u001b[0;34m]\u001b[0m \u001b[0;34m=\u001b[0m \u001b[0mmax\u001b[0m\u001b[0;34m(\u001b[0m\u001b[0mtable\u001b[0m\u001b[0;34m[\u001b[0m\u001b[0mi\u001b[0m\u001b[0;34m-\u001b[0m\u001b[0;36m1\u001b[0m\u001b[0;34m]\u001b[0m\u001b[0;34m[\u001b[0m\u001b[0mj\u001b[0m\u001b[0;34m]\u001b[0m\u001b[0;34m,\u001b[0m \u001b[0mtable\u001b[0m\u001b[0;34m[\u001b[0m\u001b[0mi\u001b[0m\u001b[0;34m-\u001b[0m\u001b[0;36m1\u001b[0m\u001b[0;34m]\u001b[0m\u001b[0;34m[\u001b[0m\u001b[0mj\u001b[0m\u001b[0;34m-\u001b[0m\u001b[0mweight\u001b[0m\u001b[0;34m]\u001b[0m\u001b[0;34m+\u001b[0m\u001b[0mvalue\u001b[0m\u001b[0;34m)\u001b[0m\u001b[0;34m\u001b[0m\u001b[0;34m\u001b[0m\u001b[0m\n\u001b[0m\u001b[1;32m     11\u001b[0m \u001b[0;34m\u001b[0m\u001b[0m\n\u001b[1;32m     12\u001b[0m \u001b[0mprint\u001b[0m\u001b[0;34m(\u001b[0m\u001b[0mtable\u001b[0m\u001b[0;34m[\u001b[0m\u001b[0mN\u001b[0m\u001b[0;34m]\u001b[0m\u001b[0;34m[\u001b[0m\u001b[0mK\u001b[0m\u001b[0;34m]\u001b[0m\u001b[0;34m)\u001b[0m\u001b[0;34m\u001b[0m\u001b[0;34m\u001b[0m\u001b[0m\n",
      "\u001b[0;31mTypeError\u001b[0m: 'int' object is not callable"
     ]
    }
   ],
   "source": [
    "N, K = map(int, input().split())\n",
    "table = [[0]*(K+1) for _ in range(N+1)]\n",
    "\n",
    "for i in range(1, N+1):\n",
    "    weight, value = map(int, input().split())\n",
    "    for j in range(1, K+1):\n",
    "        if weight > j:\n",
    "            table[i][j] = table[i-1][j]\n",
    "        else:\n",
    "            table[i][j] = max(table[i-1][j], table[i-1][j-weight]+value)\n",
    "\n",
    "print(table[N][K])"
   ]
  },
  {
   "cell_type": "code",
   "execution_count": 3,
   "metadata": {},
   "outputs": [
    {
     "name": "stdout",
     "output_type": "stream",
     "text": [
      "4 7\n",
      "6 13\n",
      "4 8\n",
      "3 6\n",
      "5 12\n",
      "14\n"
     ]
    }
   ],
   "source": [
    "N , K = map(int, input().split())\n",
    "table = [[0]*(K+1) for _ in range(N+1)]\n",
    "\n",
    "for i in range(1, N+1):\n",
    "    weight, value = map(int, input().split())\n",
    "    for j in range(1, K+1):\n",
    "        if weight > j:\n",
    "            table[i][j] = table[i-1][j]\n",
    "            \n",
    "        else:\n",
    "            table[i][j] = max(table[i-1][j], table[i-1][K-weight]+value)\n",
    "            \n",
    "print(table[N][K])"
   ]
  },
  {
   "cell_type": "markdown",
   "metadata": {},
   "source": [
    "## 11053번 가장 긴 증가하는 부분 수열"
   ]
  },
  {
   "cell_type": "code",
   "execution_count": 11,
   "metadata": {},
   "outputs": [
    {
     "name": "stdout",
     "output_type": "stream",
     "text": [
      "6\n",
      "10 20 10 30 20 50\n"
     ]
    }
   ],
   "source": [
    "N = int(input())\n",
    "result = list()\n",
    "\n",
    "array = list(map(int, input().split()))\n",
    "\n",
    "for index in range(1, N):\n",
    "    if array[index] - array[index-1] > 0:\n",
    "        result.append(array[index])"
   ]
  },
  {
   "cell_type": "code",
   "execution_count": 9,
   "metadata": {},
   "outputs": [
    {
     "data": {
      "text/plain": [
       "[10, 20, 10, 30, 20, 50]"
      ]
     },
     "execution_count": 9,
     "metadata": {},
     "output_type": "execute_result"
    }
   ],
   "source": [
    "array"
   ]
  },
  {
   "cell_type": "code",
   "execution_count": 12,
   "metadata": {},
   "outputs": [
    {
     "data": {
      "text/plain": [
       "[20, 30, 50]"
      ]
     },
     "execution_count": 12,
     "metadata": {},
     "output_type": "execute_result"
    }
   ],
   "source": [
    "result"
   ]
  },
  {
   "cell_type": "code",
   "execution_count": 13,
   "metadata": {},
   "outputs": [
    {
     "name": "stdout",
     "output_type": "stream",
     "text": [
      "4\n"
     ]
    }
   ],
   "source": [
    "print(len(result)+1)"
   ]
  },
  {
   "cell_type": "code",
   "execution_count": 67,
   "metadata": {},
   "outputs": [
    {
     "name": "stdout",
     "output_type": "stream",
     "text": [
      "6\n",
      "10 20 10 30 20 50\n"
     ]
    }
   ],
   "source": [
    "N = int(input())\n",
    "array = list(map(int, input().split()))\n",
    "result = list()\n",
    "max_arr = array[0]\n",
    "result.append(max_arr)\n",
    "\n",
    "for index in range(1, len(array)):\n",
    "    if array[index] > max_arr:\n",
    "        max_arr = array[index]\n",
    "        result.append(array[index])"
   ]
  },
  {
   "cell_type": "code",
   "execution_count": 68,
   "metadata": {},
   "outputs": [
    {
     "data": {
      "text/plain": [
       "[10, 20, 30, 50]"
      ]
     },
     "execution_count": 68,
     "metadata": {},
     "output_type": "execute_result"
    }
   ],
   "source": [
    "result"
   ]
  },
  {
   "cell_type": "code",
   "execution_count": 69,
   "metadata": {},
   "outputs": [
    {
     "name": "stdout",
     "output_type": "stream",
     "text": [
      "4\n"
     ]
    }
   ],
   "source": [
    "print(len(result))"
   ]
  },
  {
   "cell_type": "code",
   "execution_count": 29,
   "metadata": {},
   "outputs": [
    {
     "name": "stdout",
     "output_type": "stream",
     "text": [
      "10\n",
      "10 50 20 30 70 40\n",
      "4\n"
     ]
    }
   ],
   "source": [
    "N = int(input())\n",
    "num_list = list(map(int, input().split()))\n",
    "\n",
    "result_array = [1]*N\n",
    "\n",
    "for index in range(1, len(num_list)):\n",
    "    for index2 in range(0, index):\n",
    "        if num_list[index] > num_list[index2]:\n",
    "            result_array[index] = max(result_array[index], result_array[index2]+1)\n",
    "\n",
    "print(max(result_array))"
   ]
  },
  {
   "cell_type": "markdown",
   "metadata": {},
   "source": [
    "## 9251번 LCS"
   ]
  },
  {
   "cell_type": "code",
   "execution_count": 43,
   "metadata": {
    "scrolled": true
   },
   "outputs": [
    {
     "name": "stdout",
     "output_type": "stream",
     "text": [
      "ACAYKP\n",
      "CAPCAK\n",
      "['A', 'C', 'A', 'K']\n",
      "4\n"
     ]
    }
   ],
   "source": [
    "N = list(input())\n",
    "M = list(input())\n",
    "result = [0]*len(N)\n",
    "\n",
    "for index in range(0, len(N)):\n",
    "    for index2 in range(index, len(M)):\n",
    "        if N[index] == M[index2] and result[index] ==0:\n",
    "            result[index] = M[index2]\n",
    "            \n",
    "for index in range(0, len(result)-1):\n",
    "    if result[index] == 0:\n",
    "        result.pop(index)\n",
    "        \n",
    "print(result)\n",
    "print(len(result))\n",
    "        "
   ]
  },
  {
   "cell_type": "code",
   "execution_count": 44,
   "metadata": {},
   "outputs": [],
   "source": [
    "##존나 어렵다;; 내가 푼거에 다른 조건도 주어야 맞음"
   ]
  },
  {
   "cell_type": "markdown",
   "metadata": {},
   "source": [
    "## 1495번 기타리스트"
   ]
  },
  {
   "cell_type": "code",
   "execution_count": 75,
   "metadata": {},
   "outputs": [
    {
     "name": "stdout",
     "output_type": "stream",
     "text": [
      "3 5 10\n",
      "5 3 7\n",
      "10\n"
     ]
    }
   ],
   "source": [
    "N, S, M = map(int, input().split())\n",
    "volume = list(map(int, input().split()))\n",
    "\n",
    "table = [[-1]*(M+1) for _ in range(N+1)]\n",
    "\n",
    "table[0][S] = S\n",
    "max_value = 0\n",
    "\n",
    "for index in range(1, N+1):\n",
    "    for index2 in range(0, M+1):\n",
    "        if table[index-1][index2] != -1:\n",
    "            add = 0\n",
    "            de = 0\n",
    "            add = table[index-1][index2] + volume[index-1]\n",
    "            de = table[index-1][index2] - volume[index-1]\n",
    "            if add <= 10 and add >= 0:\n",
    "                table[index][add] = add\n",
    "            if de <= 10 and de >= 0:\n",
    "                table[index][de] = de\n",
    "                \n",
    "table[N].sort(reverse=True)\n",
    "print(table[N][0])"
   ]
  },
  {
   "cell_type": "code",
   "execution_count": 59,
   "metadata": {},
   "outputs": [
    {
     "data": {
      "text/plain": [
       "[5, 3, 7]"
      ]
     },
     "execution_count": 59,
     "metadata": {},
     "output_type": "execute_result"
    }
   ],
   "source": [
    "volume"
   ]
  },
  {
   "cell_type": "code",
   "execution_count": 60,
   "metadata": {},
   "outputs": [
    {
     "data": {
      "text/plain": [
       "[[-1, -1, -1, -1, -1, 5, -1, -1, -1, -1, -1],\n",
       " [0, -1, -1, -1, -1, -1, -1, -1, -1, -1, 10],\n",
       " [-1, -1, -1, 3, -1, -1, -1, 7, -1, -1, -1],\n",
       " [0, -1, -1, -1, -1, -1, -1, -1, -1, -1, 10]]"
      ]
     },
     "execution_count": 60,
     "metadata": {},
     "output_type": "execute_result"
    }
   ],
   "source": [
    "table"
   ]
  },
  {
   "cell_type": "markdown",
   "metadata": {},
   "source": [
    "## 2655번 가장높은탑쌓기"
   ]
  },
  {
   "cell_type": "code",
   "execution_count": null,
   "metadata": {},
   "outputs": [],
   "source": []
  },
  {
   "cell_type": "code",
   "execution_count": null,
   "metadata": {},
   "outputs": [],
   "source": []
  },
  {
   "cell_type": "markdown",
   "metadata": {},
   "source": [
    "## 5585번 거스름돈"
   ]
  },
  {
   "cell_type": "code",
   "execution_count": 2,
   "metadata": {},
   "outputs": [],
   "source": [
    "charge = [500, 100, 50, 10, 5, 1]"
   ]
  },
  {
   "cell_type": "code",
   "execution_count": 13,
   "metadata": {},
   "outputs": [
    {
     "name": "stdout",
     "output_type": "stream",
     "text": [
      "385\n",
      "0\n",
      "385\n",
      "3\n",
      "85\n",
      "4\n",
      "35\n",
      "7\n",
      "5\n",
      "8\n",
      "0\n",
      "8\n"
     ]
    }
   ],
   "source": [
    "N = int(input())\n",
    "count = 0\n",
    "\n",
    "for index in range(0, len(charge)):\n",
    "    if N == 0:\n",
    "        break\n",
    "    count += N//charge[index]\n",
    "    print(count)\n",
    "    N = N%charge[index]\n",
    "    print(N)\n",
    "\n",
    "print(count)"
   ]
  },
  {
   "cell_type": "code",
   "execution_count": 14,
   "metadata": {},
   "outputs": [
    {
     "name": "stdout",
     "output_type": "stream",
     "text": [
      "380\n",
      "620\n",
      "120\n",
      "120\n",
      "20\n",
      "20\n",
      "20\n",
      "20\n",
      "0\n",
      "4\n"
     ]
    }
   ],
   "source": [
    "N = int(input())\n",
    "rest = 1000-N\n",
    "count = 0\n",
    "\n",
    "for index in range(0, len(charge)):\n",
    "    if rest == 0:\n",
    "        break\n",
    "    count += rest//charge[index]\n",
    "    print(rest)\n",
    "    rest = rest%charge[index]\n",
    "    print(rest)\n",
    "\n",
    "print(count)"
   ]
  },
  {
   "cell_type": "markdown",
   "metadata": {},
   "source": [
    "## 1439번 뒤집기"
   ]
  },
  {
   "cell_type": "code",
   "execution_count": 37,
   "metadata": {},
   "outputs": [
    {
     "name": "stdout",
     "output_type": "stream",
     "text": [
      "01010100\n",
      "3\n",
      "3 4\n"
     ]
    }
   ],
   "source": [
    "array = input()\n",
    "count_ze = 0\n",
    "count_one = 0\n",
    "\n",
    "#for index in range(1, len(array)):\n",
    "#    if array[index-1] != array[index]:\n",
    "#        count_ze +=1\n",
    "\n",
    "if array[0] =='0':\n",
    "    count_one = 1\n",
    "else:\n",
    "    count_ze = 1\n",
    "        \n",
    "for index in range(1, len(array)):\n",
    "    if array[index] != array[index-1]:\n",
    "        if array[index] =='1':\n",
    "            count_ze +=1\n",
    "        else:\n",
    "            count_one +=1\n",
    "            \n",
    "print(min(count_ze, count_one))\n",
    "print(count_ze, count_one)"
   ]
  },
  {
   "cell_type": "code",
   "execution_count": 19,
   "metadata": {},
   "outputs": [
    {
     "data": {
      "text/plain": [
       "'1'"
      ]
     },
     "execution_count": 19,
     "metadata": {},
     "output_type": "execute_result"
    }
   ],
   "source": [
    "array[3]"
   ]
  },
  {
   "cell_type": "markdown",
   "metadata": {},
   "source": [
    "## 2212번 센서"
   ]
  },
  {
   "cell_type": "code",
   "execution_count": 42,
   "metadata": {},
   "outputs": [
    {
     "name": "stdout",
     "output_type": "stream",
     "text": [
      "6\n",
      "2\n",
      "1 6 9 3 6 7\n",
      "2 3\n",
      "5 3\n",
      "5 2\n",
      "5\n"
     ]
    }
   ],
   "source": [
    "N = int(input())\n",
    "base = int(input())\n",
    "sensor = list(map(int, input().split()))\n",
    "count_list = list()\n",
    "left = 0\n",
    "right = 0\n",
    "\n",
    "sensor.sort()\n",
    "\n",
    "for index in range(1, len(sensor)-2):\n",
    "    left = sensor[index] - sensor[0]\n",
    "    right = sensor[len(sensor)-1] - sensor[index+1]\n",
    "    print(left, right)\n",
    "    count_list.append(left+right)\n",
    "\n",
    "print(min(count_list))"
   ]
  },
  {
   "cell_type": "code",
   "execution_count": 40,
   "metadata": {},
   "outputs": [
    {
     "data": {
      "text/plain": [
       "[5, 8, 7]"
      ]
     },
     "execution_count": 40,
     "metadata": {},
     "output_type": "execute_result"
    }
   ],
   "source": [
    "count_list"
   ]
  },
  {
   "cell_type": "markdown",
   "metadata": {},
   "source": [
    "## 1781번 컵라면"
   ]
  },
  {
   "cell_type": "code",
   "execution_count": 52,
   "metadata": {},
   "outputs": [
    {
     "name": "stdout",
     "output_type": "stream",
     "text": [
      "7\n",
      "1 6\n",
      "1 7\n",
      "3 2\n",
      "3 1\n",
      "2 4\n",
      "2 5\n",
      "6 1\n",
      "7\n",
      "12\n",
      "14\n",
      "15\n"
     ]
    }
   ],
   "source": [
    "N = int(input())\n",
    "table = list()\n",
    "cup = 0\n",
    "\n",
    "for _ in range(N):\n",
    "    a, b = map(int, input().split())\n",
    "    table.append([a,b])\n",
    "    \n",
    "dongho = [2, 6, 3, 1, 7, 5, 4]\n",
    "\n",
    "for index in range(0, len(table)):\n",
    "    if table[dongho[index]-1][0] >=index+1:\n",
    "        cup += table[dongho[index]-1][1]\n",
    "        print(cup)"
   ]
  },
  {
   "cell_type": "code",
   "execution_count": 53,
   "metadata": {},
   "outputs": [
    {
     "data": {
      "text/plain": [
       "[[1, 6], [1, 7], [3, 2], [3, 1], [2, 4], [2, 5], [6, 1]]"
      ]
     },
     "execution_count": 53,
     "metadata": {},
     "output_type": "execute_result"
    }
   ],
   "source": [
    "table"
   ]
  },
  {
   "cell_type": "code",
   "execution_count": 54,
   "metadata": {
    "scrolled": true
   },
   "outputs": [
    {
     "data": {
      "text/plain": [
       "15"
      ]
     },
     "execution_count": 54,
     "metadata": {},
     "output_type": "execute_result"
    }
   ],
   "source": [
    "cup"
   ]
  },
  {
   "cell_type": "markdown",
   "metadata": {},
   "source": [
    "## 충북대 코테: 교통비절약"
   ]
  },
  {
   "cell_type": "code",
   "execution_count": 57,
   "metadata": {},
   "outputs": [
    {
     "name": "stdout",
     "output_type": "stream",
     "text": [
      "1000 3 1800 8\n"
     ]
    }
   ],
   "source": [
    "A, B, C, D = map(int, input().split())"
   ]
  },
  {
   "cell_type": "code",
   "execution_count": 58,
   "metadata": {},
   "outputs": [],
   "source": [
    "result = 0\n",
    "\n",
    "while(D > 0):\n",
    "    if D*A < C:\n",
    "        result = result + D*A\n",
    "        break\n",
    "        \n",
    "    result = result + C\n",
    "    D  = D - B"
   ]
  },
  {
   "cell_type": "code",
   "execution_count": 59,
   "metadata": {},
   "outputs": [
    {
     "data": {
      "text/plain": [
       "5400"
      ]
     },
     "execution_count": 59,
     "metadata": {},
     "output_type": "execute_result"
    }
   ],
   "source": [
    "result"
   ]
  },
  {
   "cell_type": "markdown",
   "metadata": {},
   "source": [
    "## 충북대 코테: 숫자 지우기"
   ]
  },
  {
   "cell_type": "code",
   "execution_count": 36,
   "metadata": {},
   "outputs": [
    {
     "name": "stdout",
     "output_type": "stream",
     "text": [
      "4 2\n",
      "1012\n"
     ]
    }
   ],
   "source": [
    "N, K = map(int, input().split())\n",
    "num = list(map(int, input()))\n",
    "result = list()"
   ]
  },
  {
   "cell_type": "code",
   "execution_count": 61,
   "metadata": {},
   "outputs": [
    {
     "ename": "AttributeError",
     "evalue": "'int' object has no attribute 'append'",
     "output_type": "error",
     "traceback": [
      "\u001b[0;31m---------------------------------------------------------------------------\u001b[0m",
      "\u001b[0;31mAttributeError\u001b[0m                            Traceback (most recent call last)",
      "\u001b[0;32m<ipython-input-61-6c0c4b7a4272>\u001b[0m in \u001b[0;36m<module>\u001b[0;34m\u001b[0m\n\u001b[1;32m      3\u001b[0m         \u001b[0;32mif\u001b[0m \u001b[0mnum\u001b[0m\u001b[0;34m[\u001b[0m\u001b[0mi\u001b[0m\u001b[0;34m]\u001b[0m \u001b[0;34m==\u001b[0m \u001b[0;36m0\u001b[0m \u001b[0;34m:\u001b[0m\u001b[0;34m\u001b[0m\u001b[0;34m\u001b[0m\u001b[0m\n\u001b[1;32m      4\u001b[0m             \u001b[0;32mbreak\u001b[0m\u001b[0;34m\u001b[0m\u001b[0;34m\u001b[0m\u001b[0m\n\u001b[0;32m----> 5\u001b[0;31m         \u001b[0mresult\u001b[0m\u001b[0;34m.\u001b[0m\u001b[0mappend\u001b[0m\u001b[0;34m(\u001b[0m\u001b[0mnum\u001b[0m\u001b[0;34m[\u001b[0m\u001b[0mi\u001b[0m\u001b[0;34m]\u001b[0m\u001b[0;34m)\u001b[0m\u001b[0;34m\u001b[0m\u001b[0;34m\u001b[0m\u001b[0m\n\u001b[0m\u001b[1;32m      6\u001b[0m         \u001b[0mresult\u001b[0m\u001b[0;34m.\u001b[0m\u001b[0mappend\u001b[0m\u001b[0;34m(\u001b[0m\u001b[0mnum\u001b[0m\u001b[0;34m[\u001b[0m\u001b[0mj\u001b[0m\u001b[0;34m]\u001b[0m\u001b[0;34m)\u001b[0m\u001b[0;34m\u001b[0m\u001b[0;34m\u001b[0m\u001b[0m\n\u001b[1;32m      7\u001b[0m \u001b[0;34m\u001b[0m\u001b[0m\n",
      "\u001b[0;31mAttributeError\u001b[0m: 'int' object has no attribute 'append'"
     ]
    }
   ],
   "source": [
    "for i in range(0, len(num)-1):\n",
    "    for j in range( i, len(num)-K):\n",
    "        if num[i] == 0 :\n",
    "            break\n",
    "        result.append(num[i])\n",
    "        result.append(num[j])\n",
    "        "
   ]
  },
  {
   "cell_type": "code",
   "execution_count": null,
   "metadata": {},
   "outputs": [],
   "source": []
  },
  {
   "cell_type": "code",
   "execution_count": null,
   "metadata": {},
   "outputs": [],
   "source": []
  },
  {
   "cell_type": "markdown",
   "metadata": {},
   "source": [
    "## 충북대 코테: 프로그래밍 마술"
   ]
  },
  {
   "cell_type": "code",
   "execution_count": 52,
   "metadata": {},
   "outputs": [
    {
     "name": "stdout",
     "output_type": "stream",
     "text": [
      "23\n"
     ]
    }
   ],
   "source": [
    "N = int(input())\n",
    "result = (N-1)/3"
   ]
  },
  {
   "cell_type": "code",
   "execution_count": 53,
   "metadata": {},
   "outputs": [
    {
     "name": "stdout",
     "output_type": "stream",
     "text": [
      "7\n"
     ]
    }
   ],
   "source": [
    "print(int(result))"
   ]
  },
  {
   "cell_type": "markdown",
   "metadata": {},
   "source": [
    "## 충북대 코테: 시계탑"
   ]
  },
  {
   "cell_type": "code",
   "execution_count": 117,
   "metadata": {},
   "outputs": [
    {
     "name": "stdout",
     "output_type": "stream",
     "text": [
      "3\n",
      "9 0 9\n",
      "17 0 7\n"
     ]
    }
   ],
   "source": [
    "N = int(input())\n",
    "H1, M1, S1 = map(int, input().split())\n",
    "H2, M2, S2 = map(int, input().split())"
   ]
  },
  {
   "cell_type": "code",
   "execution_count": 118,
   "metadata": {},
   "outputs": [
    {
     "name": "stdout",
     "output_type": "stream",
     "text": [
      "6\n"
     ]
    }
   ],
   "source": [
    "sound = 0\n",
    "\n",
    "if S1 > 0:\n",
    "    if (60-S1)/N > H1:\n",
    "        sound += H1-(S1//N)\n",
    "    else:\n",
    "        sound += 60//N\n",
    "\n",
    "else:\n",
    "    if (60-S1)/N > H1:\n",
    "        sound += H1\n",
    "    else:\n",
    "        sound += 60//N\n",
    "        \n",
    "print(sound)\n",
    "\n",
    "if H2 > 12:\n",
    "    for i in range(H1+1, 13):\n",
    "        if 60/N > i:\n",
    "            sound  += i\n",
    "        else:\n",
    "            sound += 60/N\n",
    "\n",
    "    for i in range(1, H2-12):\n",
    "        if 60/N > i:\n",
    "            sound  += i\n",
    "        else:\n",
    "            sound += 60/N\n",
    "\n",
    "    if S2 > 0:\n",
    "        sound += S2//N+1\n",
    "    else:\n",
    "        sound += 1\n",
    "       \n",
    "    \n",
    "else:\n",
    "    for i in range(H1+1, H2-1):\n",
    "        if 60/N > i:\n",
    "            sound  += i\n",
    "        else:\n",
    "            sound += 60/N\n",
    "            \n",
    "    if S2 > 0:\n",
    "        sound += S2//N+1\n",
    "    else:\n",
    "        sound += 1"
   ]
  },
  {
   "cell_type": "code",
   "execution_count": 119,
   "metadata": {},
   "outputs": [
    {
     "data": {
      "text/plain": [
       "52"
      ]
     },
     "execution_count": 119,
     "metadata": {},
     "output_type": "execute_result"
    }
   ],
   "source": [
    "sound"
   ]
  },
  {
   "cell_type": "markdown",
   "metadata": {},
   "source": [
    "## 1912번 연속합(DP)"
   ]
  },
  {
   "cell_type": "code",
   "execution_count": 1,
   "metadata": {},
   "outputs": [
    {
     "name": "stdout",
     "output_type": "stream",
     "text": [
      "10\n",
      "9 2 -5 -17 10 5 8 7 -12\n",
      "30\n"
     ]
    }
   ],
   "source": [
    "a = int(input())\n",
    "list_ex = list(map(int, input().split(' ')))\n",
    "max_value = 0\n",
    "sum_index = 0\n",
    "\n",
    "for i in range(0, len(list_ex)-1):\n",
    "    sum_index = list_ex[i]\n",
    "    for j in range(i+1, len(list_ex)):\n",
    "        sum_index = sum_index + list_ex[j]\n",
    "        \n",
    "        if sum_index > max_value:\n",
    "            max_value = sum_index\n",
    "\n",
    "print(max_value)\n",
    "#다음 dp는 9461번 파도반 수열"
   ]
  },
  {
   "cell_type": "markdown",
   "metadata": {},
   "source": [
    "## 1931번 회의실배정(그리디)"
   ]
  },
  {
   "cell_type": "code",
   "execution_count": 43,
   "metadata": {},
   "outputs": [
    {
     "name": "stdout",
     "output_type": "stream",
     "text": [
      "10\n",
      "1 3\n",
      "2 4\n",
      "3 4\n",
      "7 9\n",
      "9 10\n",
      "1 2\n",
      "4 5\n",
      "6 7\n",
      "8 9\n",
      "9 10\n"
     ]
    }
   ],
   "source": [
    "set_num = int(input())\n",
    "arr = []\n",
    "count = 1\n",
    "result = 0\n",
    "\n",
    "for _ in range(0, set_num):\n",
    "    a, b = map(int, input().split(' '))\n",
    "    \n",
    "    arr.append([a, b])"
   ]
  },
  {
   "cell_type": "code",
   "execution_count": 76,
   "metadata": {},
   "outputs": [],
   "source": [
    "result = 0"
   ]
  },
  {
   "cell_type": "code",
   "execution_count": 77,
   "metadata": {},
   "outputs": [
    {
     "name": "stdout",
     "output_type": "stream",
     "text": [
      "--------------------------------\n",
      "2\n",
      "3\n",
      "4\n",
      "--------------------------------\n",
      "2\n",
      "3\n",
      "4\n",
      "--------------------------------\n",
      "2\n",
      "3\n",
      "--------------------------------\n",
      "2\n",
      "--------------------------------\n",
      "2\n",
      "3\n",
      "4\n",
      "5\n",
      "--------------------------------\n",
      "2\n",
      "3\n",
      "4\n",
      "5\n",
      "--------------------------------\n",
      "2\n",
      "3\n",
      "4\n",
      "--------------------------------\n",
      "2\n",
      "3\n",
      "--------------------------------\n",
      "2\n",
      "--------------------------------\n",
      "2\n",
      "3\n",
      "--------------------------------\n",
      "--------------------------------\n",
      "2\n",
      "3\n",
      "--------------------------------\n",
      "2\n",
      "3\n",
      "--------------------------------\n",
      "2\n",
      "--------------------------------\n",
      "2\n",
      "3\n",
      "4\n",
      "5\n",
      "--------------------------------\n",
      "2\n",
      "3\n",
      "4\n",
      "5\n",
      "--------------------------------\n",
      "2\n",
      "3\n",
      "4\n",
      "--------------------------------\n",
      "2\n",
      "3\n",
      "--------------------------------\n",
      "2\n",
      "--------------------------------\n",
      "2\n",
      "3\n",
      "--------------------------------\n",
      "2\n",
      "3\n",
      "--------------------------------\n",
      "--------------------------------\n",
      "2\n",
      "3\n",
      "--------------------------------\n",
      "2\n",
      "--------------------------------\n",
      "2\n",
      "3\n",
      "4\n",
      "5\n",
      "--------------------------------\n",
      "2\n",
      "3\n",
      "4\n",
      "5\n",
      "--------------------------------\n",
      "2\n",
      "3\n",
      "4\n",
      "--------------------------------\n",
      "2\n",
      "3\n",
      "--------------------------------\n",
      "2\n",
      "--------------------------------\n",
      "2\n",
      "--------------------------------\n",
      "2\n",
      "--------------------------------\n",
      "2\n",
      "--------------------------------\n",
      "--------------------------------\n",
      "2\n",
      "--------------------------------\n",
      "2\n",
      "--------------------------------\n",
      "2\n",
      "--------------------------------\n",
      "2\n",
      "--------------------------------\n",
      "2\n",
      "--------------------------------\n",
      "2\n",
      "--------------------------------\n",
      "--------------------------------\n",
      "--------------------------------\n",
      "--------------------------------\n",
      "--------------------------------\n",
      "--------------------------------\n",
      "--------------------------------\n",
      "--------------------------------\n",
      "--------------------------------\n",
      "--------------------------------\n",
      "--------------------------------\n",
      "2\n",
      "3\n",
      "4\n",
      "--------------------------------\n",
      "2\n",
      "3\n",
      "4\n",
      "--------------------------------\n",
      "2\n",
      "3\n",
      "4\n",
      "--------------------------------\n",
      "2\n",
      "3\n",
      "--------------------------------\n",
      "2\n",
      "--------------------------------\n",
      "--------------------------------\n",
      "2\n",
      "3\n",
      "4\n",
      "5\n",
      "--------------------------------\n",
      "2\n",
      "3\n",
      "4\n",
      "--------------------------------\n",
      "2\n",
      "3\n",
      "--------------------------------\n",
      "2\n",
      "--------------------------------\n",
      "2\n",
      "3\n",
      "--------------------------------\n",
      "2\n",
      "3\n",
      "--------------------------------\n",
      "2\n",
      "3\n",
      "--------------------------------\n",
      "2\n",
      "3\n",
      "--------------------------------\n",
      "2\n",
      "--------------------------------\n",
      "2\n",
      "3\n",
      "4\n",
      "--------------------------------\n",
      "--------------------------------\n",
      "2\n",
      "3\n",
      "4\n",
      "--------------------------------\n",
      "2\n",
      "3\n",
      "--------------------------------\n",
      "2\n",
      "--------------------------------\n",
      "2\n",
      "3\n",
      "--------------------------------\n",
      "2\n",
      "3\n",
      "--------------------------------\n",
      "2\n",
      "3\n",
      "--------------------------------\n",
      "2\n",
      "3\n",
      "--------------------------------\n",
      "2\n",
      "--------------------------------\n",
      "2\n",
      "3\n",
      "--------------------------------\n",
      "2\n",
      "3\n",
      "--------------------------------\n",
      "--------------------------------\n",
      "2\n",
      "3\n",
      "--------------------------------\n",
      "2\n",
      "--------------------------------\n",
      "2\n",
      "--------------------------------\n",
      "2\n",
      "--------------------------------\n",
      "2\n",
      "--------------------------------\n",
      "2\n",
      "--------------------------------\n",
      "2\n",
      "--------------------------------\n",
      "2\n",
      "--------------------------------\n",
      "2\n",
      "--------------------------------\n",
      "2\n",
      "--------------------------------\n",
      "--------------------------------\n",
      "2\n",
      "--------------------------------\n",
      "--------------------------------\n",
      "--------------------------------\n",
      "--------------------------------\n",
      "--------------------------------\n",
      "--------------------------------\n",
      "--------------------------------\n",
      "--------------------------------\n",
      "--------------------------------\n",
      "--------------------------------\n",
      "--------------------------------\n",
      "5\n"
     ]
    }
   ],
   "source": [
    "for i in range(0, len(arr)):\n",
    "    count = 1\n",
    "    start = arr[i]\n",
    "    for j in range(0, len(arr)):\n",
    "        for z in range(j, len(arr)):\n",
    "            if start[1] <= arr[z][0] and arr[i] != arr[j]:\n",
    "                start = arr[z]\n",
    "                count += 1\n",
    "                print(count)\n",
    "        print(\"--------------------------------\")\n",
    "        result = max(result, count)\n",
    "        start = arr[i]\n",
    "        count = 1\n",
    "print(result)"
   ]
  },
  {
   "cell_type": "code",
   "execution_count": 78,
   "metadata": {
    "scrolled": false
   },
   "outputs": [
    {
     "data": {
      "text/plain": [
       "5"
      ]
     },
     "execution_count": 78,
     "metadata": {},
     "output_type": "execute_result"
    }
   ],
   "source": [
    "result"
   ]
  },
  {
   "cell_type": "markdown",
   "metadata": {},
   "source": [
    "## 1026번 보물(탐색)"
   ]
  },
  {
   "cell_type": "code",
   "execution_count": 35,
   "metadata": {},
   "outputs": [
    {
     "name": "stdout",
     "output_type": "stream",
     "text": [
      "5\n",
      "1 1 1 6 0\n",
      "2 7 8 3 1\n"
     ]
    }
   ],
   "source": [
    "a = int(input())\n",
    "se = list(map(int, input().split(' ')))\n",
    "value = list(map(int, input().split(' ')))\n",
    "result = 0"
   ]
  },
  {
   "cell_type": "code",
   "execution_count": 36,
   "metadata": {},
   "outputs": [],
   "source": [
    "se.sort()\n",
    "value.sort(reverse=True)"
   ]
  },
  {
   "cell_type": "code",
   "execution_count": 37,
   "metadata": {},
   "outputs": [
    {
     "data": {
      "text/plain": [
       "([0, 1, 1, 1, 6], [8, 7, 3, 2, 1])"
      ]
     },
     "execution_count": 37,
     "metadata": {},
     "output_type": "execute_result"
    }
   ],
   "source": [
    "se, value"
   ]
  },
  {
   "cell_type": "code",
   "execution_count": 38,
   "metadata": {},
   "outputs": [],
   "source": [
    "for i in range(0, len(se)):\n",
    "    result += se[i]*value[i]"
   ]
  },
  {
   "cell_type": "code",
   "execution_count": 39,
   "metadata": {},
   "outputs": [
    {
     "data": {
      "text/plain": [
       "18"
      ]
     },
     "execution_count": 39,
     "metadata": {},
     "output_type": "execute_result"
    }
   ],
   "source": [
    "result"
   ]
  },
  {
   "cell_type": "markdown",
   "metadata": {},
   "source": [
    "## 11053번 가장 긴 증가하는 부분 수열(DP)"
   ]
  },
  {
   "cell_type": "code",
   "execution_count": 8,
   "metadata": {},
   "outputs": [
    {
     "name": "stdout",
     "output_type": "stream",
     "text": [
      "6\n",
      "50 60 20 30 40 70 96 100\n"
     ]
    }
   ],
   "source": [
    "a = int(input())\n",
    "arr = list(map(int, input().split(' ')))\n",
    "count = 0\n",
    "max_num = 0\n",
    "result = []"
   ]
  },
  {
   "cell_type": "code",
   "execution_count": 9,
   "metadata": {
    "scrolled": true
   },
   "outputs": [
    {
     "name": "stdout",
     "output_type": "stream",
     "text": [
      "6\n"
     ]
    }
   ],
   "source": [
    "for i in range(0, len(arr)-1):\n",
    "    max_num = arr[i]\n",
    "    count = 1\n",
    "    for j in range(i, len(arr)):\n",
    "        if max_num < arr[j]:\n",
    "            max_num = arr[j]\n",
    "            count += 1\n",
    "    result.append(count)\n",
    "    \n",
    "print(max(result))"
   ]
  },
  {
   "cell_type": "markdown",
   "metadata": {},
   "source": [
    "## 10828번 스택"
   ]
  },
  {
   "cell_type": "code",
   "execution_count": 15,
   "metadata": {
    "scrolled": true
   },
   "outputs": [
    {
     "name": "stdout",
     "output_type": "stream",
     "text": [
      "14\n",
      "push 1\n",
      "push 2\n",
      "top\n",
      "size\n",
      "empty\n",
      "pop\n",
      "pop\n",
      "pop\n",
      "size\n",
      "empty\n",
      "pop\n",
      "push 3\n",
      "empty\n",
      "top\n"
     ]
    }
   ],
   "source": [
    "a = int(input())\n",
    "helped = 0\n",
    "arr = []\n",
    "result = []\n",
    "order = []\n",
    "\n",
    "while a > 0:\n",
    "    order = input()\n",
    "    if order.split()[0] == \"push\":\n",
    "        arr.append(int(order.split()[1]))\n",
    "    \n",
    "    if order.split()[0] == \"top\":\n",
    "        if len(arr) <1:\n",
    "            result.append(-1)\n",
    "        else:\n",
    "            result.append(arr[-1])\n",
    "        \n",
    "    if order.split()[0] == \"pop\":\n",
    "        if len(arr) <1:\n",
    "            result.append(-1)\n",
    "        else:\n",
    "            helped = arr.pop()\n",
    "            result.append(helped)\n",
    "    \n",
    "    if order.split()[0] == \"size\":\n",
    "        result.append(len(arr))\n",
    "        \n",
    "    if order.split()[0] == \"empty\":\n",
    "        if len(arr) != 0:\n",
    "            result.append(0)\n",
    "        else:\n",
    "            result.append(1)\n",
    "            \n",
    "    a-=1"
   ]
  },
  {
   "cell_type": "code",
   "execution_count": 17,
   "metadata": {},
   "outputs": [
    {
     "data": {
      "text/plain": [
       "[2, 2, 0, 2, 1, -1, 0, 1, -1, 0, 3]"
      ]
     },
     "execution_count": 17,
     "metadata": {},
     "output_type": "execute_result"
    }
   ],
   "source": [
    "result"
   ]
  },
  {
   "cell_type": "markdown",
   "metadata": {},
   "source": [
    "## 2164번 카드2"
   ]
  },
  {
   "cell_type": "code",
   "execution_count": 36,
   "metadata": {},
   "outputs": [
    {
     "name": "stdout",
     "output_type": "stream",
     "text": [
      "6\n",
      "4\n"
     ]
    }
   ],
   "source": [
    "a = int(input())\n",
    "arr = []\n",
    "\n",
    "for i in range(1, a+1):\n",
    "    arr.append(i)\n",
    "    \n",
    "while len(arr) > 1:\n",
    "    arr.pop(0)\n",
    "    arr.append(arr.pop(0))\n",
    "    \n",
    "print(arr[0])"
   ]
  },
  {
   "cell_type": "markdown",
   "metadata": {},
   "source": [
    "## 10610번 30(그리디)"
   ]
  },
  {
   "cell_type": "code",
   "execution_count": 22,
   "metadata": {},
   "outputs": [
    {
     "name": "stdout",
     "output_type": "stream",
     "text": [
      "23490\n",
      "94320\n"
     ]
    }
   ],
   "source": [
    "N = input()\n",
    "N = sorted(N, reverse=True)\n",
    "\n",
    "sum = 0\n",
    "if '0' not in N:\n",
    "    print(-1)\n",
    "else:\n",
    "    for i in N:\n",
    "        sum += int(i)\n",
    "    if sum %3 != 0:\n",
    "        print(-1)\n",
    "    else:\n",
    "        print(''.join(N))"
   ]
  },
  {
   "cell_type": "markdown",
   "metadata": {},
   "source": [
    "## 1436번 영화감독 숌(탐색)"
   ]
  },
  {
   "cell_type": "code",
   "execution_count": 21,
   "metadata": {},
   "outputs": [
    {
     "name": "stdout",
     "output_type": "stream",
     "text": [
      "16\n",
      "15666\n"
     ]
    }
   ],
   "source": [
    "N = int(input())\n",
    "endlist = [\"666\"]\n",
    "end2 = N-1\n",
    "\n",
    "if N <=1:\n",
    "    print(end)\n",
    "    \n",
    "else:\n",
    "    endlist.append(str(end2))\n",
    "    endlist.append(endlist.pop(0))\n",
    "    print(''.join(endlist))"
   ]
  },
  {
   "cell_type": "markdown",
   "metadata": {},
   "source": [
    "## 9461번 파도반 수열(DP)"
   ]
  },
  {
   "cell_type": "code",
   "execution_count": 3,
   "metadata": {},
   "outputs": [
    {
     "name": "stdout",
     "output_type": "stream",
     "text": [
      "6\n",
      "3\n",
      "5\n",
      "8\n",
      "12\n",
      "14\n",
      "16\n",
      "[1, 2, 5, 16, 28, 49]\n"
     ]
    }
   ],
   "source": [
    "def pado(N):\n",
    "    basic = [1, 1, 1, 2, 2]\n",
    "    \n",
    "    if N >=6:\n",
    "        for i in range(0, N-5):\n",
    "            sum_pado = basic[i] + basic[i+4]\n",
    "            basic.append(sum_pado)\n",
    "        return max(basic)\n",
    "    \n",
    "    else:\n",
    "        return basic[N-1]\n",
    "    \n",
    "N = int(input())\n",
    "result = []\n",
    "for i in range(0, N):\n",
    "    a = int(input())\n",
    "    result.append(pado(a))\n",
    "    \n",
    "print(result)"
   ]
  },
  {
   "cell_type": "markdown",
   "metadata": {},
   "source": [
    "## 2875번 대회 or 인턴(그리디)"
   ]
  },
  {
   "cell_type": "code",
   "execution_count": 45,
   "metadata": {
    "scrolled": true
   },
   "outputs": [
    {
     "name": "stdout",
     "output_type": "stream",
     "text": [
      "6 3 2\n"
     ]
    }
   ],
   "source": [
    "N, M, K = map(int, input().split(' '))"
   ]
  },
  {
   "cell_type": "code",
   "execution_count": 46,
   "metadata": {},
   "outputs": [
    {
     "name": "stdout",
     "output_type": "stream",
     "text": [
      "6\n",
      "1\n",
      "5\n",
      "2\n",
      "4\n",
      "3\n"
     ]
    }
   ],
   "source": [
    "result = 0\n",
    "max_result = 0\n",
    "\n",
    "for i in range(0, K+1):\n",
    "    N_ex = N\n",
    "    M_ex = M\n",
    "    N_ex -= i\n",
    "    M_ex -= K-i\n",
    "    \n",
    "    print(N_ex)\n",
    "    print(M_ex)\n",
    "    \n",
    "    if N_ex // 2 <= M_ex:\n",
    "        result = N_ex //2\n",
    "        max_result = max(result, max_result)"
   ]
  },
  {
   "cell_type": "code",
   "execution_count": 47,
   "metadata": {},
   "outputs": [
    {
     "data": {
      "text/plain": [
       "2"
      ]
     },
     "execution_count": 47,
     "metadata": {},
     "output_type": "execute_result"
    }
   ],
   "source": [
    "max_result"
   ]
  },
  {
   "cell_type": "markdown",
   "metadata": {},
   "source": [
    "## 3045번 이중 연결 리스트"
   ]
  },
  {
   "cell_type": "code",
   "execution_count": 4,
   "metadata": {},
   "outputs": [],
   "source": [
    "class Node:\n",
    "    def __init__(self, data, left=None, right=None):\n",
    "        self.data = data\n",
    "        self.left = left\n",
    "        self.right = right\n",
    "\n",
    "class linked:\n",
    "    def __init__(self, data):\n",
    "        self.head = Node(data)\n",
    "        self.tail = self.head\n",
    "        \n",
    "    def disp(self):\n",
    "        node = self.head\n",
    "        while node.right:\n",
    "            print(node.data, end=' ')\n",
    "            node = node.right\n",
    "            \n",
    "    def add(self, data):\n",
    "        if self.head == '':\n",
    "            self.head = Node(data)\n",
    "            self.tail = self.head\n",
    "            \n",
    "        else:\n",
    "            node = self.head\n",
    "            while node.right:\n",
    "                node = node.right\n",
    "            new = Node(data)\n",
    "            node.right = new\n",
    "            new.left = node\n",
    "            self.tail = new\n",
    "        while node.left:\n",
    "            node = node.left\n",
    "            \n",
    "    def find(self, X):\n",
    "        node = self.head\n",
    "        while node.data != X:\n",
    "            node = node.right\n",
    "            \n",
    "        print(node.data)\n",
    "        \n",
    "    def Amove(self, X, Y):\n",
    "        node = self.head\n",
    "        value = 0      \n",
    "        \n",
    "        while node.data != X:\n",
    "            node = node.right\n",
    "            \n",
    "        value = node.data\n",
    "        new = Node(value)\n",
    "        \n",
    "        node.left.right = node.right\n",
    "        node.right.left = node.left\n",
    "        \n",
    "        while node.left:\n",
    "            node = node.left\n",
    "        \n",
    "        while node.data != Y:\n",
    "            node = node.right\n",
    "        \n",
    "        new.left = node.left\n",
    "        new.right = node\n",
    "        node.left.right = new\n",
    "        node.left = new\n",
    "        \n",
    "        while node.left:\n",
    "            node = node.left\n",
    "        \n",
    "    def Bmove(self, X, Y):\n",
    "        node = self.tail\n",
    "        value = 0      \n",
    "        \n",
    "        while node.data != X:\n",
    "            node = node.left\n",
    "            \n",
    "        value = node.data\n",
    "        new = Node(value)\n",
    "        \n",
    "        node.left.right = node.right\n",
    "        node.right.left = node.left\n",
    "        \n",
    "        while node.right:\n",
    "            node = node.right\n",
    "        \n",
    "        while node.data != Y:\n",
    "            node = node.left\n",
    "        \n",
    "        new.left = node\n",
    "        new.right = node.right\n",
    "        node.right.left = new\n",
    "        node.right = new\n",
    "        \n",
    "        while node.right:\n",
    "            node = node.right\n",
    "        \n",
    "    def return_move(self, data):\n",
    "        count = 0\n",
    "        node = self.head\n",
    "        \n",
    "        while node.data != data:\n",
    "            node = node.right\n",
    "            \n",
    "        if node.data +1 >= node.right.data and node.data -1 <=node.left.data:\n",
    "            return 0\n",
    "            \n",
    "        value = node.data\n",
    "        new = Node(value)\n",
    "        \n",
    "        node.left.right = node.right\n",
    "        node.right.left = node.left\n",
    "        \n",
    "        node = node.right\n",
    "        \n",
    "        if new.data >= node.right.data:\n",
    "            while new.data > node.data:\n",
    "                count += 1\n",
    "                node = node.right\n",
    "                \n",
    "            new.left = node.left\n",
    "            new.right = node\n",
    "            node.left.right = new\n",
    "            node.left = new\n",
    "            \n",
    "        else:\n",
    "            while new.data < node.data:\n",
    "                count += 1\n",
    "                node = node.left\n",
    "            new.left = node\n",
    "            new.right = node.right\n",
    "            node.right.left = new\n",
    "            node.right = new\n",
    "                \n",
    "        return count\n",
    "    \n",
    "    def stackpop(self):\n",
    "        ele = 0\n",
    "        node = self.head\n",
    "        ele = node.data\n",
    "        node = node.right\n",
    "        del node.left\n",
    "        node.left = ''\n",
    "\n",
    "        return ele\n",
    "        \n",
    "        \n",
    "    def queuepop(self):\n",
    "        ele = 0\n",
    "        node = self.tail\n",
    "        ele = node.data\n",
    "        node = node.left22 \n",
    "        del node.right\n",
    "        node.right = ''\n",
    "        \n",
    "        return ele"
   ]
  },
  {
   "cell_type": "code",
   "execution_count": 5,
   "metadata": {
    "scrolled": true
   },
   "outputs": [
    {
     "name": "stdout",
     "output_type": "stream",
     "text": [
      "22 3\n",
      "A 13 9\n",
      "1 2 3 4 5 6 7 8 13 9 10 11 12 14 15 16 17 18 19 20 21 "
     ]
    }
   ],
   "source": [
    "N, M = map(int,input().split(' '))\n",
    "arr = linked(1)\n",
    "\n",
    "for i in range(2, N+1):\n",
    "    arr.add(i)\n",
    "\n",
    "A, B, C = input().split(' ')\n",
    "\n",
    "if A == 'A':\n",
    "    arr.Amove(int(B), int(C))\n",
    "    \n",
    "elif A == 'B':\n",
    "    arr.Bmove(int(B), int(C))\n",
    "    \n",
    "arr.disp()"
   ]
  },
  {
   "cell_type": "code",
   "execution_count": 6,
   "metadata": {},
   "outputs": [
    {
     "data": {
      "text/plain": [
       "4"
      ]
     },
     "execution_count": 6,
     "metadata": {},
     "output_type": "execute_result"
    }
   ],
   "source": [
    "arr.return_move(13)"
   ]
  },
  {
   "cell_type": "code",
   "execution_count": 7,
   "metadata": {},
   "outputs": [
    {
     "name": "stdout",
     "output_type": "stream",
     "text": [
      "1 2 3 4 5 6 7 8 9 10 11 12 13 14 15 16 17 18 19 20 21 "
     ]
    }
   ],
   "source": [
    "arr.disp()"
   ]
  },
  {
   "cell_type": "code",
   "execution_count": 47,
   "metadata": {},
   "outputs": [
    {
     "data": {
      "text/plain": [
       "1"
      ]
     },
     "execution_count": 47,
     "metadata": {},
     "output_type": "execute_result"
    }
   ],
   "source": [
    "arr.stackpop()"
   ]
  },
  {
   "cell_type": "code",
   "execution_count": 48,
   "metadata": {},
   "outputs": [
    {
     "data": {
      "text/plain": [
       "22"
      ]
     },
     "execution_count": 48,
     "metadata": {},
     "output_type": "execute_result"
    }
   ],
   "source": [
    "arr.queuepop()"
   ]
  },
  {
   "cell_type": "code",
   "execution_count": 49,
   "metadata": {},
   "outputs": [
    {
     "name": "stdout",
     "output_type": "stream",
     "text": [
      "1 2 2 3 3 4 4 5 5 6 6 7 7 8 8 9 9 10 10 11 11 12 12 13 13 14 14 15 15 16 16 17 17 18 18 19 19 20 20 21 "
     ]
    }
   ],
   "source": [
    "arr.disp()"
   ]
  },
  {
   "cell_type": "code",
   "execution_count": 42,
   "metadata": {},
   "outputs": [
    {
     "data": {
      "text/plain": [
       "1"
      ]
     },
     "execution_count": 42,
     "metadata": {},
     "output_type": "execute_result"
    }
   ],
   "source": [
    "arr.stackpop()"
   ]
  },
  {
   "cell_type": "code",
   "execution_count": 40,
   "metadata": {},
   "outputs": [],
   "source": [
    "arr.Amove(13, 9)"
   ]
  },
  {
   "cell_type": "code",
   "execution_count": 41,
   "metadata": {},
   "outputs": [
    {
     "name": "stdout",
     "output_type": "stream",
     "text": [
      "1 2 3 4 5 6 7 8 13 9 10 11 12 14 15 16 17 18 19 20 21 22 "
     ]
    }
   ],
   "source": [
    "arr.disp()"
   ]
  },
  {
   "cell_type": "code",
   "execution_count": 42,
   "metadata": {},
   "outputs": [],
   "source": [
    "arr.Bmove(6, 14)"
   ]
  },
  {
   "cell_type": "code",
   "execution_count": 43,
   "metadata": {},
   "outputs": [
    {
     "name": "stdout",
     "output_type": "stream",
     "text": [
      "1 2 3 4 5 7 8 13 9 10 11 12 14 6 15 16 17 18 19 20 21 22 "
     ]
    }
   ],
   "source": [
    "arr.disp()"
   ]
  },
  {
   "cell_type": "markdown",
   "metadata": {},
   "source": [
    "## 14501번 퇴사(DP)"
   ]
  },
  {
   "cell_type": "code",
   "execution_count": 17,
   "metadata": {},
   "outputs": [
    {
     "name": "stdout",
     "output_type": "stream",
     "text": [
      "7\n"
     ]
    }
   ],
   "source": [
    "N = int(input())\n",
    "table = []\n",
    "resule = [[0]*i for _ in range(0, N+1)]"
   ]
  },
  {
   "cell_type": "code",
   "execution_count": 18,
   "metadata": {},
   "outputs": [
    {
     "data": {
      "text/plain": [
       "[[0, 0, 0, 0, 0, 0],\n",
       " [0, 0, 0, 0, 0, 0],\n",
       " [0, 0, 0, 0, 0, 0],\n",
       " [0, 0, 0, 0, 0, 0],\n",
       " [0, 0, 0, 0, 0, 0],\n",
       " [0, 0, 0, 0, 0, 0],\n",
       " [0, 0, 0, 0, 0, 0],\n",
       " [0, 0, 0, 0, 0, 0]]"
      ]
     },
     "execution_count": 18,
     "metadata": {},
     "output_type": "execute_result"
    }
   ],
   "source": [
    "resule"
   ]
  },
  {
   "cell_type": "code",
   "execution_count": null,
   "metadata": {},
   "outputs": [],
   "source": [
    "for i in range(1, N+1):\n",
    "    a, b = map(int, input().split(' '))\n",
    "    count = a\n",
    "    resule[i][0] = b\n",
    "    for j in range(i+1, N+1):\n",
    "        if count != 0:\n",
    "            resule[][i] = resule[j-1][i]\n",
    "        elif count == 0:\n",
    "            resule[i][j] = resule[i][j-1]+b\n",
    "        resule[i][j] = max(resule[j-1][i], resule[i][j-1]+b)\n",
    "        count -= 1"
   ]
  },
  {
   "cell_type": "code",
   "execution_count": 16,
   "metadata": {},
   "outputs": [
    {
     "data": {
      "text/plain": [
       "[[0, 0, 0, 0, 0, 0],\n",
       " [0, 0, 0, 0, 0, 0],\n",
       " [0, 0, 0, 0, 0, 0],\n",
       " [0, 0, 0, 0, 0, 0],\n",
       " [0, 0, 0, 0, 0, 0],\n",
       " [0, 0, 1, 0, 0, 0],\n",
       " [0, 0, 0, 0, 0, 0],\n",
       " [0, 0, 0, 0, 0, 0]]"
      ]
     },
     "execution_count": 16,
     "metadata": {},
     "output_type": "execute_result"
    }
   ],
   "source": [
    "resule[5][2] = 1\n",
    "resule"
   ]
  },
  {
   "cell_type": "code",
   "execution_count": 25,
   "metadata": {
    "scrolled": true
   },
   "outputs": [
    {
     "name": "stdout",
     "output_type": "stream",
     "text": [
      "5\n",
      "3 10\n",
      "5 20\n",
      "1 10\n",
      "1 20\n",
      "2 15\n"
     ]
    },
    {
     "ename": "IndexError",
     "evalue": "list index out of range",
     "output_type": "error",
     "traceback": [
      "\u001b[0;31m---------------------------------------------------------------------------\u001b[0m",
      "\u001b[0;31mIndexError\u001b[0m                                Traceback (most recent call last)",
      "\u001b[0;32m<ipython-input-25-7451f8d13578>\u001b[0m in \u001b[0;36m<module>\u001b[0;34m\u001b[0m\n\u001b[1;32m     11\u001b[0m     \u001b[0;32mif\u001b[0m \u001b[0mdp\u001b[0m\u001b[0;34m[\u001b[0m\u001b[0mi\u001b[0m\u001b[0;34m]\u001b[0m \u001b[0;34m>\u001b[0m \u001b[0mdp\u001b[0m\u001b[0;34m[\u001b[0m\u001b[0mi\u001b[0m\u001b[0;34m+\u001b[0m\u001b[0;36m1\u001b[0m\u001b[0;34m]\u001b[0m\u001b[0;34m:\u001b[0m \u001b[0;31m# 현재가 다음날보다 보상이 높다면\u001b[0m\u001b[0;34m\u001b[0m\u001b[0;34m\u001b[0m\u001b[0m\n\u001b[1;32m     12\u001b[0m         \u001b[0mdp\u001b[0m\u001b[0;34m[\u001b[0m\u001b[0mi\u001b[0m\u001b[0;34m+\u001b[0m\u001b[0;36m1\u001b[0m\u001b[0;34m]\u001b[0m \u001b[0;34m=\u001b[0m \u001b[0mdp\u001b[0m\u001b[0;34m[\u001b[0m\u001b[0mi\u001b[0m\u001b[0;34m]\u001b[0m \u001b[0;31m# 다음날 보상은 현재로\u001b[0m\u001b[0;34m\u001b[0m\u001b[0;34m\u001b[0m\u001b[0m\n\u001b[0;32m---> 13\u001b[0;31m     \u001b[0;32mif\u001b[0m \u001b[0mdp\u001b[0m\u001b[0;34m[\u001b[0m\u001b[0mi\u001b[0m\u001b[0;34m+\u001b[0m\u001b[0mt\u001b[0m\u001b[0;34m[\u001b[0m\u001b[0mi\u001b[0m\u001b[0;34m]\u001b[0m\u001b[0;34m]\u001b[0m \u001b[0;34m<\u001b[0m \u001b[0mdp\u001b[0m\u001b[0;34m[\u001b[0m\u001b[0mi\u001b[0m\u001b[0;34m]\u001b[0m \u001b[0;34m+\u001b[0m \u001b[0mp\u001b[0m\u001b[0;34m[\u001b[0m\u001b[0mi\u001b[0m\u001b[0;34m]\u001b[0m\u001b[0;34m:\u001b[0m \u001b[0;31m# T일 후에 받게될 금액이 현재의 보상보다 높다면\u001b[0m\u001b[0;34m\u001b[0m\u001b[0;34m\u001b[0m\u001b[0m\n\u001b[0m\u001b[1;32m     14\u001b[0m         \u001b[0mdp\u001b[0m\u001b[0;34m[\u001b[0m\u001b[0mi\u001b[0m\u001b[0;34m+\u001b[0m\u001b[0mt\u001b[0m\u001b[0;34m[\u001b[0m\u001b[0mi\u001b[0m\u001b[0;34m]\u001b[0m\u001b[0;34m]\u001b[0m \u001b[0;34m=\u001b[0m \u001b[0mdp\u001b[0m\u001b[0;34m[\u001b[0m\u001b[0mi\u001b[0m\u001b[0;34m]\u001b[0m \u001b[0;34m+\u001b[0m \u001b[0mp\u001b[0m\u001b[0;34m[\u001b[0m\u001b[0mi\u001b[0m\u001b[0;34m]\u001b[0m \u001b[0;31m# T일후에 보상을 넣는다.\u001b[0m\u001b[0;34m\u001b[0m\u001b[0;34m\u001b[0m\u001b[0m\n\u001b[1;32m     15\u001b[0m \u001b[0;34m\u001b[0m\u001b[0m\n",
      "\u001b[0;31mIndexError\u001b[0m: list index out of range"
     ]
    }
   ],
   "source": [
    "N = int(input())\n",
    "\n",
    "t, p = [0]*(N+1), [0]*(N+1)\n",
    "\n",
    "for i in range(N):\n",
    "    t[i], p[i] = map(int, input().split(' '))\n",
    "        \n",
    "dp = [0]*(N+1)\n",
    "\n",
    "for i in range(0,N+1):\n",
    "    if dp[i] > dp[i+1]: # 현재가 다음날보다 보상이 높다면\n",
    "        dp[i+1] = dp[i] # 다음날 보상은 현재로\n",
    "    if dp[i+t[i]] < dp[i] + p[i]: # T일 후에 받게될 금액이 현재의 보상보다 높다면\n",
    "        dp[i+t[i]] = dp[i] + p[i] # T일후에 보상을 넣는다.\n",
    "        \n",
    "print(dp[N])"
   ]
  },
  {
   "cell_type": "markdown",
   "metadata": {},
   "source": [
    "## 1138번 한 줄로 서기(그리디)"
   ]
  },
  {
   "cell_type": "code",
   "execution_count": 22,
   "metadata": {},
   "outputs": [
    {
     "name": "stdout",
     "output_type": "stream",
     "text": [
      "4\n",
      "2 1 1 0\n"
     ]
    }
   ],
   "source": [
    "N = int(input())\n",
    "array = list(map(int, input().split( )))\n",
    "result = [0 for i in range(N)]"
   ]
  },
  {
   "cell_type": "code",
   "execution_count": 23,
   "metadata": {},
   "outputs": [],
   "source": [
    "for i in range(0, len(array)):\n",
    "    count = 0\n",
    "    height = array[i]\n",
    "    if result[height] != 0:\n",
    "        for j in range(0, len(array)):\n",
    "            if result[j] ==0 and count == height:\n",
    "                result[j] = i+1\n",
    "            if result[j] > height:\n",
    "                count += 1\n",
    "    else:\n",
    "        result[height] = i+1"
   ]
  },
  {
   "cell_type": "code",
   "execution_count": 24,
   "metadata": {
    "scrolled": true
   },
   "outputs": [
    {
     "data": {
      "text/plain": [
       "[4, 2, 1, 3]"
      ]
     },
     "execution_count": 24,
     "metadata": {},
     "output_type": "execute_result"
    }
   ],
   "source": [
    "result"
   ]
  },
  {
   "cell_type": "markdown",
   "metadata": {},
   "source": [
    "## 12865번 평범한 배낭(DP)"
   ]
  },
  {
   "cell_type": "code",
   "execution_count": 5,
   "metadata": {},
   "outputs": [
    {
     "name": "stdout",
     "output_type": "stream",
     "text": [
      "4 7\n",
      "6 13\n",
      "4 8\n",
      "3 6\n",
      "5 12\n"
     ]
    }
   ],
   "source": [
    "N, K = map(int, input().split(' '))\n",
    "result = [[0]*(N+1) for _ in range(0, N+1)]\n",
    "bag = []\n",
    "\n",
    "for i in range(0, N):\n",
    "    w, v = map(int, input().split(' '))\n",
    "    bag.append((w,v))\n",
    "\n",
    "for i in range(1, N):\n",
    "    result[0][i] = bag[i][1]"
   ]
  },
  {
   "cell_type": "code",
   "execution_count": 6,
   "metadata": {},
   "outputs": [
    {
     "name": "stdout",
     "output_type": "stream",
     "text": [
      "[[13, 8, 6, 12], [0, 0, 0, 0], [0, 0, 0, 0], [0, 0, 0, 0], [0, 0, 0, 0]] [(6, 13), (4, 8), (3, 6), (5, 12)]\n"
     ]
    }
   ],
   "source": [
    "print(result, bag)"
   ]
  },
  {
   "cell_type": "code",
   "execution_count": null,
   "metadata": {},
   "outputs": [],
   "source": [
    "N , K = map(int, input().split())\n",
    "table = [[0]*(K+1) for _ in range(N+1)]\n",
    "\n",
    "for i in range(1, N+1):\n",
    "    weight, value = map(int, input().split())\n",
    "    for j in range(1, K+1):\n",
    "        if weight > j:\n",
    "            table[i][j] = table[i-1][j]\n",
    "            \n",
    "        else:\n",
    "            table[i][j] = max(table[i-1][j], table[i-1][K-weight]+value)\n",
    "            \n",
    "print(table[N][K])"
   ]
  },
  {
   "cell_type": "markdown",
   "metadata": {},
   "source": [
    "## 2579번 계단 오르기(DP)"
   ]
  },
  {
   "cell_type": "code",
   "execution_count": 31,
   "metadata": {},
   "outputs": [
    {
     "name": "stdout",
     "output_type": "stream",
     "text": [
      "6\n",
      "10\n",
      "20\n",
      "15\n",
      "25\n",
      "10\n",
      "20\n",
      "75\n"
     ]
    }
   ],
   "source": [
    "N = int(input())\n",
    "arr = [0]\n",
    "result = [0] * (N+1)\n",
    "for _ in range(N):\n",
    "    arr.append(int(input()))\n",
    "\n",
    "\n",
    "for i in range(1, N+1):\n",
    "    if i == 1:\n",
    "        result[i] = arr[1]\n",
    "    elif i == 2:\n",
    "        result[i] = arr[1]+arr[2]\n",
    "    else:\n",
    "        result[i] = max(result[i-3]+arr[i-1]+arr[i], result[i-2]+arr[i])\n",
    "\n",
    "print(result[N])"
   ]
  },
  {
   "cell_type": "markdown",
   "metadata": {},
   "source": [
    "## 11066번 파일 합치기(DP)"
   ]
  },
  {
   "cell_type": "code",
   "execution_count": 27,
   "metadata": {},
   "outputs": [
    {
     "name": "stdout",
     "output_type": "stream",
     "text": [
      "2\n",
      "15\n",
      "1\n",
      "21\n",
      "3\n",
      "4\n",
      "5\n",
      "35\n",
      "5\n",
      "4\n",
      "3\n",
      "5\n",
      "98\n",
      "21\n",
      "14\n",
      "17\n",
      "32\n",
      "4\n",
      "11\n",
      "19\n",
      "29\n",
      "41\n",
      "59\n",
      "85\n",
      "120\n",
      "162\n",
      "220\n",
      "290\n",
      "390\n",
      "558\n",
      "826\n"
     ]
    }
   ],
   "source": [
    "N = int(input())\n",
    "result = []\n",
    "arr = []\n",
    "sum_file = 0\n",
    "value = 0\n",
    "\n",
    "K = int(input())\n",
    "for i in range(0, K):\n",
    "    M = int(input())\n",
    "    arr.append(M)\n",
    "    \n",
    "for j in range(0, K-1):\n",
    "    arr = sorted(arr)\n",
    "    sum_file = arr.pop(0)+arr.pop(0)\n",
    "    arr.append(sum_file)\n",
    "    value += sum_file\n",
    "    print(value)"
   ]
  },
  {
   "cell_type": "code",
   "execution_count": 20,
   "metadata": {},
   "outputs": [
    {
     "data": {
      "text/plain": [
       "[60, 90, 150]"
      ]
     },
     "execution_count": 20,
     "metadata": {},
     "output_type": "execute_result"
    }
   ],
   "source": [
    "result"
   ]
  },
  {
   "cell_type": "markdown",
   "metadata": {},
   "source": [
    "## 2437번 저울"
   ]
  },
  {
   "cell_type": "code",
   "execution_count": 5,
   "metadata": {},
   "outputs": [
    {
     "name": "stdout",
     "output_type": "stream",
     "text": [
      "7\n",
      "3 1 6 2 7 30 1\n"
     ]
    }
   ],
   "source": [
    "N = int(input())\n",
    "C = list(map(int, input().split()))"
   ]
  },
  {
   "cell_type": "code",
   "execution_count": 8,
   "metadata": {},
   "outputs": [
    {
     "name": "stdout",
     "output_type": "stream",
     "text": [
      "21\n"
     ]
    }
   ],
   "source": [
    "sum = 0\n",
    "\n",
    "C = sorted(C)\n",
    "for i in range(0, len(C)):  \n",
    "    if sum+1 < C[i]:\n",
    "        print(sum+1)\n",
    "        break\n",
    "        \n",
    "    else:\n",
    "        sum += C[i]"
   ]
  }
 ],
 "metadata": {
  "kernelspec": {
   "display_name": "Python 3",
   "language": "python",
   "name": "python3"
  },
  "language_info": {
   "codemirror_mode": {
    "name": "ipython",
    "version": 3
   },
   "file_extension": ".py",
   "mimetype": "text/x-python",
   "name": "python",
   "nbconvert_exporter": "python",
   "pygments_lexer": "ipython3",
   "version": "3.6.9"
  }
 },
 "nbformat": 4,
 "nbformat_minor": 2
}
