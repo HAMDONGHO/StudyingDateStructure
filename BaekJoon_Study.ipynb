{
 "cells": [
  {
   "cell_type": "markdown",
   "metadata": {},
   "source": [
    "## 2920번 음계"
   ]
  },
  {
   "cell_type": "code",
   "execution_count": 85,
   "metadata": {
    "scrolled": true
   },
   "outputs": [
    {
     "name": "stdout",
     "output_type": "stream",
     "text": [
      "1 2 3 4 5 6 7 8\n",
      "ascending\n"
     ]
    }
   ],
   "source": [
    "Song = list(map(int,input().split()))\n",
    "Song_re = list(reversed(Song))\n",
    "ascending_array = [1,2,3,4,5,6,7,8]\n",
    "count = 0\n",
    "\n",
    "for index in range(0, len(Song)):\n",
    "    if Song[index] == ascending_array[index]:\n",
    "        count += 1\n",
    "    \n",
    "    else:\n",
    "        if Song_re[index] == ascending_array[index]:\n",
    "            count -= 1\n",
    "\n",
    "if count == 8:\n",
    "    print(\"ascending\")\n",
    "\n",
    "elif count == -8:\n",
    "    print(\"descending\")\n",
    "    \n",
    "else:\n",
    "    print(\"mixed\")\n",
    "    "
   ]
  },
  {
   "cell_type": "code",
   "execution_count": 81,
   "metadata": {},
   "outputs": [
    {
     "data": {
      "text/plain": [
       "0"
      ]
     },
     "execution_count": 81,
     "metadata": {},
     "output_type": "execute_result"
    }
   ],
   "source": [
    "count"
   ]
  },
  {
   "cell_type": "code",
   "execution_count": 82,
   "metadata": {},
   "outputs": [
    {
     "data": {
      "text/plain": [
       "[1, 2, 3, 4, 5, 6, 7, 8]"
      ]
     },
     "execution_count": 82,
     "metadata": {},
     "output_type": "execute_result"
    }
   ],
   "source": [
    "Song_re"
   ]
  },
  {
   "cell_type": "code",
   "execution_count": 50,
   "metadata": {},
   "outputs": [
    {
     "data": {
      "text/plain": [
       "[8, 7, 6, 5, 4, 3, 2, 1]"
      ]
     },
     "execution_count": 50,
     "metadata": {},
     "output_type": "execute_result"
    }
   ],
   "source": [
    "Song"
   ]
  },
  {
   "cell_type": "code",
   "execution_count": 58,
   "metadata": {
    "scrolled": true
   },
   "outputs": [
    {
     "data": {
      "text/plain": [
       "[True, True, False, False, False, False, True, True]"
      ]
     },
     "execution_count": 58,
     "metadata": {},
     "output_type": "execute_result"
    }
   ],
   "source": [
    "result"
   ]
  },
  {
   "cell_type": "markdown",
   "metadata": {},
   "source": [
    "## 2798번 블랙잭"
   ]
  },
  {
   "cell_type": "code",
   "execution_count": 93,
   "metadata": {},
   "outputs": [
    {
     "name": "stdout",
     "output_type": "stream",
     "text": [
      "10 500\n",
      "93 181 245 214 315 36 185 138 216 295\n",
      "497\n"
     ]
    }
   ],
   "source": [
    "N, M = map(int, input().split())\n",
    "card = list(map(int, input().split()))\n",
    "max_result = 0\n",
    "\n",
    "for index in range(0, len(card)):\n",
    "    for index2 in range(index+1, len(card)):\n",
    "        for index3 in range(index2+1, len(card)):\n",
    "            if card[index]+card[index2]+card[index3] <= M:\n",
    "                max_result = max(max_result, card[index]+card[index2]+card[index3])\n",
    "    \n",
    "print(max_result)"
   ]
  },
  {
   "cell_type": "markdown",
   "metadata": {},
   "source": [
    "## 1874번 스택 수열"
   ]
  },
  {
   "cell_type": "code",
   "execution_count": 121,
   "metadata": {},
   "outputs": [
    {
     "name": "stdout",
     "output_type": "stream",
     "text": [
      "8\n",
      "4\n",
      "3\n",
      "6\n",
      "8\n",
      "7\n",
      "5\n",
      "2\n",
      "1\n",
      "['+', '+', '+', '+', '-', '-', '+', '+', '-', '+', '+', '-', '-', '-', '-', '-']\n"
     ]
    }
   ],
   "source": [
    "N = int(input())\n",
    "value = list()\n",
    "stack = list()\n",
    "stack_list = list()\n",
    "memory = 0\n",
    "standard = 0\n",
    "\n",
    "for _ in range(N):\n",
    "    value.append(int(input()))\n",
    "    \n",
    "for index in range(0, len(value)):\n",
    "    while standard < value[index]:\n",
    "        stack.append(\"+\")\n",
    "        standard += 1\n",
    "        stack_list.append(standard)\n",
    "            \n",
    "    if stack_list[-1] == value[index]:\n",
    "        stack.append(\"-\")\n",
    "        stack_list.pop()\n",
    "    \n",
    "    else:\n",
    "        print(\"NO\")\n",
    "        break\n",
    "    \n",
    "print(stack)"
   ]
  },
  {
   "cell_type": "markdown",
   "metadata": {},
   "source": [
    "## 1966번 프린터 큐"
   ]
  },
  {
   "cell_type": "code",
   "execution_count": 163,
   "metadata": {
    "scrolled": true
   },
   "outputs": [
    {
     "name": "stdout",
     "output_type": "stream",
     "text": [
      "1\n",
      "6 0\n",
      "1 1 9 1 1 1\n",
      "5\n"
     ]
    }
   ],
   "source": [
    "N = int(input())\n",
    "que = list()\n",
    "count = 0\n",
    "\n",
    "for _ in range(N):\n",
    "    num, ea = list(map(int,input().split(' ')))\n",
    "    prior = list(map(int, input().split()))\n",
    "    \n",
    "    for index in range(num):\n",
    "        que.append(index)\n",
    "    \n",
    "    while True:\n",
    "        if prior[0] == max(prior):\n",
    "            count += 1\n",
    "            if que[0] == ea:\n",
    "                print(count)\n",
    "                break\n",
    "            else:\n",
    "                prior.pop(0)\n",
    "                que.pop(0)\n",
    "            \n",
    "        else:\n",
    "            prior.append(prior.pop(0))\n",
    "            que.append(que.pop(0))"
   ]
  },
  {
   "cell_type": "markdown",
   "metadata": {},
   "source": [
    "## 5397번 키로거"
   ]
  },
  {
   "cell_type": "code",
   "execution_count": 73,
   "metadata": {},
   "outputs": [
    {
     "name": "stdout",
     "output_type": "stream",
     "text": [
      "2\n",
      "<<BP<A>>Cd-\n",
      "sfsdfefsdfe\n",
      "BAPC\n",
      "sfsdfefsdfe\n"
     ]
    }
   ],
   "source": [
    "N = int(input())\n",
    "result_total = list()\n",
    "\n",
    "for _ in range(N):\n",
    "    key = input()\n",
    "    left= list()\n",
    "    right=list()\n",
    "    \n",
    "    for index in key:\n",
    "        if index == '<':\n",
    "            if right:\n",
    "                left.append(right.pop(-1))\n",
    "        elif index == '>':\n",
    "            if left:\n",
    "                right.append(left.pop(-1))\n",
    "        elif index == '-':\n",
    "            if right:\n",
    "                right.pop(-1)\n",
    "        else:\n",
    "            right.append(index)\n",
    "    \n",
    "    result = \"\".join(right)\n",
    "    result_total.append(result)\n",
    "\n",
    "print('\\n'.join(result_total))"
   ]
  },
  {
   "cell_type": "code",
   "execution_count": 68,
   "metadata": {},
   "outputs": [
    {
     "ename": "NameError",
     "evalue": "name 'key' is not defined",
     "output_type": "error",
     "traceback": [
      "\u001b[0;31m---------------------------------------------------------------------------\u001b[0m",
      "\u001b[0;31mNameError\u001b[0m                                 Traceback (most recent call last)",
      "\u001b[0;32m<ipython-input-68-60eb31e43435>\u001b[0m in \u001b[0;36m<module>\u001b[0;34m\u001b[0m\n\u001b[0;32m----> 1\u001b[0;31m \u001b[0mprint\u001b[0m\u001b[0;34m(\u001b[0m\u001b[0mlen\u001b[0m\u001b[0;34m(\u001b[0m\u001b[0mkey\u001b[0m\u001b[0;34m)\u001b[0m\u001b[0;34m)\u001b[0m\u001b[0;34m\u001b[0m\u001b[0;34m\u001b[0m\u001b[0m\n\u001b[0m",
      "\u001b[0;31mNameError\u001b[0m: name 'key' is not defined"
     ]
    }
   ],
   "source": [
    "print(len(key))"
   ]
  },
  {
   "cell_type": "markdown",
   "metadata": {},
   "source": [
    "## 1920번 수 찾기"
   ]
  },
  {
   "cell_type": "code",
   "execution_count": 22,
   "metadata": {},
   "outputs": [
    {
     "name": "stdout",
     "output_type": "stream",
     "text": [
      "5\n",
      "4 1 5 2 3\n",
      "5\n",
      "1 3 7 9 5\n",
      "[1, 1, 0, 0, 1]\n"
     ]
    }
   ],
   "source": [
    "## 시간초과뜸;; 이진탐색 해야할듯\n",
    "N = int(input())\n",
    "standard = list(map(int, input().split()))\n",
    "M = int(input())\n",
    "value = list(map(int, input().split()))\n",
    "result = [0]*M\n",
    "\n",
    "for index in range(0, len(value)):\n",
    "    for index2 in range(0, len(standard)):\n",
    "        if standard[index2] == value[index]:\n",
    "            result[index] = 1\n",
    "print(result)"
   ]
  },
  {
   "cell_type": "code",
   "execution_count": 29,
   "metadata": {},
   "outputs": [
    {
     "name": "stdout",
     "output_type": "stream",
     "text": [
      "5\n",
      "4 1 5 2 3\n",
      "5\n",
      "1 3 7 9 5\n",
      "1\n",
      "1\n",
      "0\n",
      "0\n",
      "1\n"
     ]
    }
   ],
   "source": [
    "N = int(input())\n",
    "standard = list(map(int, input().split()))\n",
    "M = int(input())\n",
    "value = list(map(int, input().split()))\n",
    "standard.sort()\n",
    "\n",
    "def binary(index, list2):\n",
    "    \n",
    "    center = len(list2)//2\n",
    "    \n",
    "    if len(list2) ==1 and list2[0] == index:\n",
    "        return True\n",
    "    if len(list2) ==1 and list2[0] !=index:\n",
    "        return False\n",
    "    if len(list2) ==0:\n",
    "        return False\n",
    "    \n",
    "    if index == list2[center]:\n",
    "        return True\n",
    "        \n",
    "    if index > list2[center]:\n",
    "        return binary(index, list2[center:])\n",
    "    \n",
    "    else:\n",
    "        return binary(index, list2[:center])\n",
    "\n",
    "    \n",
    "    \n",
    "for index in value:\n",
    "    if binary(index, standard):\n",
    "        print(1)\n",
    "    else:\n",
    "        print(0)\n",
    "        "
   ]
  },
  {
   "cell_type": "markdown",
   "metadata": {},
   "source": [
    "## 2747번 피보나치 수"
   ]
  },
  {
   "cell_type": "code",
   "execution_count": 38,
   "metadata": {},
   "outputs": [
    {
     "name": "stdout",
     "output_type": "stream",
     "text": [
      "20\n",
      "6765\n"
     ]
    }
   ],
   "source": [
    "# 이것도 시간초과;; 재귀쓰면 안될듯\n",
    "N = int(input())\n",
    "\n",
    "def fibo(N):\n",
    "    if N == 1:\n",
    "        return 1\n",
    "    if N ==0:\n",
    "        return 0\n",
    "    if N > 1:\n",
    "        return fibo(N-1)+fibo(N-2)\n",
    "    \n",
    "print(fibo(N))"
   ]
  },
  {
   "cell_type": "code",
   "execution_count": 39,
   "metadata": {},
   "outputs": [
    {
     "name": "stdout",
     "output_type": "stream",
     "text": [
      "20\n",
      "6765\n"
     ]
    }
   ],
   "source": [
    "# 예전에 짰던 코드, 성공하네\n",
    "num = int(input())\n",
    "result = list()\n",
    "a=0\n",
    "b=1\n",
    "\n",
    "if num ==0:\n",
    "    print(num)\n",
    "    \n",
    "elif num<2:\n",
    "    print(1)\n",
    "    \n",
    "elif num >=2 and num <= 45:\n",
    "    while num>1:\n",
    "        c=a+b\n",
    "        a, b = b, c\n",
    "        num-=1\n",
    "\n",
    "    print(c)\n",
    "\n",
    "else:\n",
    "    print(\"범위는 2부터 45까지입니다. 다시 입력해주세요\")"
   ]
  },
  {
   "cell_type": "markdown",
   "metadata": {},
   "source": [
    "## 1074번 Z"
   ]
  },
  {
   "cell_type": "code",
   "execution_count": 66,
   "metadata": {
    "scrolled": false
   },
   "outputs": [
    {
     "name": "stdout",
     "output_type": "stream",
     "text": [
      "3 7 7\n",
      "63\n"
     ]
    }
   ],
   "source": [
    "N, r, c = map(int, input().split())\n",
    "squ = 2**N\n",
    "count =0\n",
    "\n",
    "def square(squ, R, C):\n",
    "    global count\n",
    "    \n",
    "    if squ ==2:\n",
    "        if R == r and C ==c:\n",
    "            print(count)\n",
    "            return\n",
    "        count+=1\n",
    "\n",
    "        if R == r and C+1 ==c:\n",
    "            print(count)\n",
    "            return\n",
    "        count+=1\n",
    "\n",
    "        if R+1 == r and C == c:\n",
    "            print(count)\n",
    "            return\n",
    "        count+=1\n",
    "\n",
    "        if R+1 == r and C+1 ==c:\n",
    "            print(count)\n",
    "            return\n",
    "        count+=1\n",
    "        return\n",
    "        \n",
    "    square(squ/2, R, C)\n",
    "    square(squ/2, R, C+squ/2)\n",
    "    square(squ/2, R+squ/2,C)\n",
    "    square(squ/2, R+squ/2, C+squ/2)\n",
    "    \n",
    "square(squ, 0, 0)"
   ]
  },
  {
   "cell_type": "markdown",
   "metadata": {},
   "source": [
    "## 4195번 친구 네트워크"
   ]
  },
  {
   "cell_type": "code",
   "execution_count": 77,
   "metadata": {},
   "outputs": [
    {
     "data": {
      "text/plain": [
       "<__main__.Node at 0x1070f03c8>"
      ]
     },
     "execution_count": 77,
     "metadata": {},
     "output_type": "execute_result"
    }
   ],
   "source": [
    "class Node:\n",
    "    def __init__(self, data, right=None):\n",
    "        self.data = data\n",
    "        self.right = right\n",
    "        \n",
    "Node(\"fred barney\")"
   ]
  },
  {
   "cell_type": "code",
   "execution_count": 79,
   "metadata": {},
   "outputs": [
    {
     "ename": "SyntaxError",
     "evalue": "invalid syntax (<ipython-input-79-4aa0facaaae1>, line 1)",
     "output_type": "error",
     "traceback": [
      "\u001b[0;36m  File \u001b[0;32m\"<ipython-input-79-4aa0facaaae1>\"\u001b[0;36m, line \u001b[0;32m1\u001b[0m\n\u001b[0;31m    fred barney.data\u001b[0m\n\u001b[0m              ^\u001b[0m\n\u001b[0;31mSyntaxError\u001b[0m\u001b[0;31m:\u001b[0m invalid syntax\n"
     ]
    }
   ],
   "source": []
  },
  {
   "cell_type": "markdown",
   "metadata": {},
   "source": [
    "## 11650번 좌표 정렬하기"
   ]
  },
  {
   "cell_type": "code",
   "execution_count": 9,
   "metadata": {},
   "outputs": [
    {
     "name": "stdout",
     "output_type": "stream",
     "text": [
      "6\n",
      "3 4\n",
      "1 1\n",
      "1 -1\n",
      "2 7\n",
      "2 1\n",
      "3 3\n",
      "1 -1\n",
      "1 1\n",
      "2 1\n",
      "2 7\n",
      "3 3\n",
      "3 4\n"
     ]
    }
   ],
   "source": [
    "N = int(input())\n",
    "point = list()\n",
    "\n",
    "for _ in range(N):\n",
    "    x, y = map(int, input().split())\n",
    "    point.append([x,y])\n",
    "    \n",
    "point.sort()\n",
    "for index in range(N):\n",
    "    print(point[index][0], point[index][1])"
   ]
  },
  {
   "cell_type": "markdown",
   "metadata": {},
   "source": [
    "## 11004번 K번째 수"
   ]
  },
  {
   "cell_type": "code",
   "execution_count": 11,
   "metadata": {},
   "outputs": [
    {
     "name": "stdout",
     "output_type": "stream",
     "text": [
      "5 2\n",
      "4 1 2 3 5\n",
      "2\n"
     ]
    }
   ],
   "source": [
    "N, M = map(int, input().split())\n",
    "K = list(map(int, input().split()))\n",
    "\n",
    "K.sort()\n",
    "\n",
    "print(K[M-1])"
   ]
  },
  {
   "cell_type": "markdown",
   "metadata": {},
   "source": [
    "## 1543번 문서 검색"
   ]
  },
  {
   "cell_type": "code",
   "execution_count": 70,
   "metadata": {},
   "outputs": [
    {
     "name": "stdout",
     "output_type": "stream",
     "text": [
      "a a a a a a\n",
      "a a\n",
      "3\n"
     ]
    }
   ],
   "source": [
    "doc = input()\n",
    "word = input()\n",
    "\n",
    "index = 0\n",
    "result = 0\n",
    "\n",
    "while len(doc)-index >= len(word):\n",
    "    if doc[index:index+len(word)] == word:\n",
    "        result +=1\n",
    "        index += len(word)\n",
    "    else:\n",
    "        index +=1\n",
    "        \n",
    "print(result)"
   ]
  },
  {
   "cell_type": "code",
   "execution_count": 71,
   "metadata": {},
   "outputs": [
    {
     "data": {
      "text/plain": [
       "'a a a a a a'"
      ]
     },
     "execution_count": 71,
     "metadata": {},
     "output_type": "execute_result"
    }
   ],
   "source": [
    "doc"
   ]
  },
  {
   "cell_type": "code",
   "execution_count": 72,
   "metadata": {},
   "outputs": [
    {
     "data": {
      "text/plain": [
       "11"
      ]
     },
     "execution_count": 72,
     "metadata": {},
     "output_type": "execute_result"
    }
   ],
   "source": [
    "len(doc)"
   ]
  },
  {
   "cell_type": "markdown",
   "metadata": {},
   "source": [
    "## 1568번 새"
   ]
  },
  {
   "cell_type": "code",
   "execution_count": 20,
   "metadata": {},
   "outputs": [
    {
     "name": "stdout",
     "output_type": "stream",
     "text": [
      "14\n",
      "4 4\n",
      "2 1\n",
      "1 0\n",
      "7\n"
     ]
    }
   ],
   "source": [
    "N = int(input())\n",
    "count = 0\n",
    "\n",
    "while N > 0 :\n",
    "    sing = 0\n",
    "    while N>sing:\n",
    "        sing+=1\n",
    "        count+=1\n",
    "        N = N - sing\n",
    "            \n",
    "print(count)"
   ]
  },
  {
   "cell_type": "markdown",
   "metadata": {},
   "source": [
    "## 1302번 베스트셀러"
   ]
  },
  {
   "cell_type": "code",
   "execution_count": 61,
   "metadata": {},
   "outputs": [
    {
     "name": "stdout",
     "output_type": "stream",
     "text": [
      "7\n",
      "eunji\n",
      "dongho\n",
      "eunji\n",
      "top\n",
      "kimtop\n",
      "top\n",
      "tpo\n"
     ]
    }
   ],
   "source": [
    "N = int(input())\n",
    "best = list()\n",
    "book = list()\n",
    "count = 1\n",
    "\n",
    "for _ in range(N):\n",
    "    book.append(input())\n",
    "    \n",
    "book.sort()\n",
    "\n",
    "for index in range(0, len(book)-1):\n",
    "    if book[index] == book[index+1]:\n",
    "        count +=1\n",
    "    \n",
    "    if book[index] != book[index+1]:\n",
    "        best.append([count, book[index]])\n",
    "        count = 1\n",
    "best.append([count, book[N-1]])"
   ]
  },
  {
   "cell_type": "code",
   "execution_count": 62,
   "metadata": {},
   "outputs": [
    {
     "data": {
      "text/plain": [
       "['dongho', 'eunji', 'eunji', 'kimtop', 'top', 'top', 'tpo']"
      ]
     },
     "execution_count": 62,
     "metadata": {},
     "output_type": "execute_result"
    }
   ],
   "source": [
    "book"
   ]
  },
  {
   "cell_type": "code",
   "execution_count": 63,
   "metadata": {},
   "outputs": [
    {
     "data": {
      "text/plain": [
       "[[1, 'dongho'], [2, 'eunji'], [1, 'kimtop'], [2, 'top'], [1, 'tpo']]"
      ]
     },
     "execution_count": 63,
     "metadata": {},
     "output_type": "execute_result"
    }
   ],
   "source": [
    "best"
   ]
  },
  {
   "cell_type": "code",
   "execution_count": 65,
   "metadata": {},
   "outputs": [
    {
     "name": "stdout",
     "output_type": "stream",
     "text": [
      "top\n"
     ]
    }
   ],
   "source": [
    "best.sort(reverse=True)\n",
    "\n",
    "print(best[0][1])"
   ]
  },
  {
   "cell_type": "code",
   "execution_count": 66,
   "metadata": {},
   "outputs": [
    {
     "data": {
      "text/plain": [
       "[[2, 'top'], [2, 'eunji'], [1, 'tpo'], [1, 'kimtop'], [1, 'dongho']]"
      ]
     },
     "execution_count": 66,
     "metadata": {},
     "output_type": "execute_result"
    }
   ],
   "source": [
    "best"
   ]
  }
 ],
 "metadata": {
  "kernelspec": {
   "display_name": "Python 3",
   "language": "python",
   "name": "python3"
  },
  "language_info": {
   "codemirror_mode": {
    "name": "ipython",
    "version": 3
   },
   "file_extension": ".py",
   "mimetype": "text/x-python",
   "name": "python",
   "nbconvert_exporter": "python",
   "pygments_lexer": "ipython3",
   "version": "3.6.9"
  }
 },
 "nbformat": 4,
 "nbformat_minor": 2
}
