{
 "cells": [
  {
   "cell_type": "markdown",
   "metadata": {},
   "source": [
    "## 2920번 음계"
   ]
  },
  {
   "cell_type": "code",
   "execution_count": 85,
   "metadata": {
    "scrolled": true
   },
   "outputs": [
    {
     "name": "stdout",
     "output_type": "stream",
     "text": [
      "1 2 3 4 5 6 7 8\n",
      "ascending\n"
     ]
    }
   ],
   "source": [
    "Song = list(map(int,input().split()))\n",
    "Song_re = list(reversed(Song))\n",
    "ascending_array = [1,2,3,4,5,6,7,8]\n",
    "count = 0\n",
    "\n",
    "for index in range(0, len(Song)):\n",
    "    if Song[index] == ascending_array[index]:\n",
    "        count += 1\n",
    "    \n",
    "    else:\n",
    "        if Song_re[index] == ascending_array[index]:\n",
    "            count -= 1\n",
    "\n",
    "if count == 8:\n",
    "    print(\"ascending\")\n",
    "\n",
    "elif count == -8:\n",
    "    print(\"descending\")\n",
    "    \n",
    "else:\n",
    "    print(\"mixed\")\n",
    "    "
   ]
  },
  {
   "cell_type": "code",
   "execution_count": 81,
   "metadata": {},
   "outputs": [
    {
     "data": {
      "text/plain": [
       "0"
      ]
     },
     "execution_count": 81,
     "metadata": {},
     "output_type": "execute_result"
    }
   ],
   "source": [
    "count"
   ]
  },
  {
   "cell_type": "code",
   "execution_count": 82,
   "metadata": {},
   "outputs": [
    {
     "data": {
      "text/plain": [
       "[1, 2, 3, 4, 5, 6, 7, 8]"
      ]
     },
     "execution_count": 82,
     "metadata": {},
     "output_type": "execute_result"
    }
   ],
   "source": [
    "Song_re"
   ]
  },
  {
   "cell_type": "code",
   "execution_count": 50,
   "metadata": {},
   "outputs": [
    {
     "data": {
      "text/plain": [
       "[8, 7, 6, 5, 4, 3, 2, 1]"
      ]
     },
     "execution_count": 50,
     "metadata": {},
     "output_type": "execute_result"
    }
   ],
   "source": [
    "Song"
   ]
  },
  {
   "cell_type": "code",
   "execution_count": 58,
   "metadata": {
    "scrolled": true
   },
   "outputs": [
    {
     "data": {
      "text/plain": [
       "[True, True, False, False, False, False, True, True]"
      ]
     },
     "execution_count": 58,
     "metadata": {},
     "output_type": "execute_result"
    }
   ],
   "source": [
    "result"
   ]
  },
  {
   "cell_type": "markdown",
   "metadata": {},
   "source": [
    "## 2798번 블랙잭"
   ]
  },
  {
   "cell_type": "code",
   "execution_count": 93,
   "metadata": {},
   "outputs": [
    {
     "name": "stdout",
     "output_type": "stream",
     "text": [
      "10 500\n",
      "93 181 245 214 315 36 185 138 216 295\n",
      "497\n"
     ]
    }
   ],
   "source": [
    "N, M = map(int, input().split())\n",
    "card = list(map(int, input().split()))\n",
    "max_result = 0\n",
    "\n",
    "for index in range(0, len(card)):\n",
    "    for index2 in range(index+1, len(card)):\n",
    "        for index3 in range(index2+1, len(card)):\n",
    "            if card[index]+card[index2]+card[index3] <= M:\n",
    "                max_result = max(max_result, card[index]+card[index2]+card[index3])\n",
    "    \n",
    "print(max_result)"
   ]
  },
  {
   "cell_type": "markdown",
   "metadata": {},
   "source": [
    "## 1874번 스택 수열"
   ]
  },
  {
   "cell_type": "code",
   "execution_count": 121,
   "metadata": {},
   "outputs": [
    {
     "name": "stdout",
     "output_type": "stream",
     "text": [
      "8\n",
      "4\n",
      "3\n",
      "6\n",
      "8\n",
      "7\n",
      "5\n",
      "2\n",
      "1\n",
      "['+', '+', '+', '+', '-', '-', '+', '+', '-', '+', '+', '-', '-', '-', '-', '-']\n"
     ]
    }
   ],
   "source": [
    "N = int(input())\n",
    "value = list()\n",
    "stack = list()\n",
    "stack_list = list()\n",
    "memory = 0\n",
    "standard = 0\n",
    "\n",
    "for _ in range(N):\n",
    "    value.append(int(input()))\n",
    "    \n",
    "for index in range(0, len(value)):\n",
    "    while standard < value[index]:\n",
    "        stack.append(\"+\")\n",
    "        standard += 1\n",
    "        stack_list.append(standard)\n",
    "            \n",
    "    if stack_list[-1] == value[index]:\n",
    "        stack.append(\"-\")\n",
    "        stack_list.pop()\n",
    "    \n",
    "    else:\n",
    "        print(\"NO\")\n",
    "        break\n",
    "    \n",
    "print(stack)"
   ]
  },
  {
   "cell_type": "markdown",
   "metadata": {},
   "source": [
    "## 1966번 프린터 큐"
   ]
  },
  {
   "cell_type": "code",
   "execution_count": 163,
   "metadata": {
    "scrolled": true
   },
   "outputs": [
    {
     "name": "stdout",
     "output_type": "stream",
     "text": [
      "1\n",
      "6 0\n",
      "1 1 9 1 1 1\n",
      "5\n"
     ]
    }
   ],
   "source": [
    "N = int(input())\n",
    "que = list()\n",
    "count = 0\n",
    "\n",
    "for _ in range(N):\n",
    "    num, ea = list(map(int,input().split(' ')))\n",
    "    prior = list(map(int, input().split()))\n",
    "    \n",
    "    for index in range(num):\n",
    "        que.append(index)\n",
    "    \n",
    "    while True:\n",
    "        if prior[0] == max(prior):\n",
    "            count += 1\n",
    "            if que[0] == ea:\n",
    "                print(count)\n",
    "                break\n",
    "            else:\n",
    "                prior.pop(0)\n",
    "                que.pop(0)\n",
    "            \n",
    "        else:\n",
    "            prior.append(prior.pop(0))\n",
    "            que.append(que.pop(0))"
   ]
  },
  {
   "cell_type": "markdown",
   "metadata": {},
   "source": [
    "## 5397번 키로거"
   ]
  },
  {
   "cell_type": "code",
   "execution_count": 178,
   "metadata": {},
   "outputs": [
    {
     "name": "stdout",
     "output_type": "stream",
     "text": [
      "2\n",
      "<<BP<A>>Cd-\n",
      "['B', 'A', 'P', 'C']\n",
      "ThIsIsS3Cr3t\n",
      "['T', 'h', 'I', 's', 'I', 's', 'S', '3', 'C', 'r', '3', 't']\n"
     ]
    }
   ],
   "source": [
    "N = int(input())\n",
    "\n",
    "for _ in range(N):\n",
    "    key = input()\n",
    "    left= list()\n",
    "    right=list()\n",
    "    \n",
    "    for index in key:\n",
    "        if index == '<':\n",
    "            if right:\n",
    "                left.append(right.pop(-1))\n",
    "        elif index == '>':\n",
    "            if left:\n",
    "                right.append(left.pop(-1))\n",
    "        elif index == '-':\n",
    "            if right:\n",
    "                right.pop(-1)\n",
    "        else:\n",
    "            right.append(index)\n",
    "    \n",
    "    print(right)\n",
    "        "
   ]
  },
  {
   "cell_type": "code",
   "execution_count": 171,
   "metadata": {},
   "outputs": [
    {
     "name": "stdout",
     "output_type": "stream",
     "text": [
      "26\n"
     ]
    }
   ],
   "source": [
    "print(len(key))"
   ]
  },
  {
   "cell_type": "code",
   "execution_count": null,
   "metadata": {},
   "outputs": [],
   "source": []
  },
  {
   "cell_type": "code",
   "execution_count": null,
   "metadata": {},
   "outputs": [],
   "source": []
  }
 ],
 "metadata": {
  "kernelspec": {
   "display_name": "Python 3",
   "language": "python",
   "name": "python3"
  },
  "language_info": {
   "codemirror_mode": {
    "name": "ipython",
    "version": 3
   },
   "file_extension": ".py",
   "mimetype": "text/x-python",
   "name": "python",
   "nbconvert_exporter": "python",
   "pygments_lexer": "ipython3",
   "version": "3.6.9"
  }
 },
 "nbformat": 4,
 "nbformat_minor": 2
}
