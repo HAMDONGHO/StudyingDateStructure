{
 "cells": [
  {
   "cell_type": "markdown",
   "metadata": {},
   "source": [
    "## 카라츠바 알고리즘"
   ]
  },
  {
   "cell_type": "code",
   "execution_count": 7,
   "metadata": {},
   "outputs": [],
   "source": [
    "def karatsuba(x, y):\n",
    "    # 각각의 length를 구한다\n",
    "    strx, stry = str(x), str(y)\n",
    "    lenx, leny = len(strx), len(stry)\n",
    "\n",
    "    # Initialize\n",
    "    if lenx == 1 or leny ==1:\n",
    "        return x * y\n",
    "\n",
    "    # Divide\n",
    "    m = min(lenx, leny) // 2\n",
    "    a, b = int(strx[:-m]), int(strx[-m:])\n",
    "    c, d = int(stry[:-m]), int(stry[-m:])\n",
    "\n",
    "    # Conquer\n",
    "    ac = karatsuba(a, c)\n",
    "    bd = karatsuba(b, d)\n",
    "    ad_bc = karatsuba(a+b, c+d) - ac - bd\n",
    "\n",
    "    # Combine\n",
    "    return 10**(2*m) * ac + 10**m * ad_bc + bd"
   ]
  },
  {
   "cell_type": "code",
   "execution_count": 8,
   "metadata": {},
   "outputs": [
    {
     "data": {
      "text/plain": [
       "2838873784873775"
      ]
     },
     "execution_count": 8,
     "metadata": {},
     "output_type": "execute_result"
    }
   ],
   "source": [
    "import unittest\n",
    "import random\n",
    "\n",
    "x, y = random.randint(10, 100000000), random.randint(10, 100000000)\n",
    "karatsuba(x, y)"
   ]
  },
  {
   "cell_type": "markdown",
   "metadata": {},
   "source": [
    "## DP 2번 와일드카드"
   ]
  },
  {
   "cell_type": "code",
   "execution_count": null,
   "metadata": {},
   "outputs": [],
   "source": [
    "import re\n",
    " \n",
    " \n",
    "case = int(input())\n",
    "for i in range(case):\n",
    "    instr = input()  # 와일드카드 문자열 입력\n",
    "    newin = instr.replace('*', '.*').replace('?', '.')  # 와일드카드 문자열을 정규 표현식 형태로\n",
    "    filename = []\n",
    "    filenum = int(input())  # 파일의 수\n",
    "    for k in range(filenum):\n",
    "        filename.append(input())  # 파일이름 입력\n",
    "    p = re.compile(newin)  # 정규표현식\n",
    "    result = []\n",
    "    for o in filename:  # 파일마다 검사\n",
    "        if p.match(o):  # 파일이 와일드카드에 포함이 되고\n",
    "            if p.match(o).group() == o:  # 포함된 것이 원래 파일과 같다면 (포함된 것이 다르면 답에 넣지 말아야 함)\n",
    "                result.append(o)  # 답에 넣고\n",
    "    result.sort()  # 정렬하고 \n",
    "    for j in result:  # 출력\n",
    "        print(j)"
   ]
  },
  {
   "cell_type": "markdown",
   "metadata": {},
   "source": [
    "## DP 2번 합친 LIS"
   ]
  },
  {
   "cell_type": "code",
   "execution_count": null,
   "metadata": {},
   "outputs": [],
   "source": []
  },
  {
   "cell_type": "markdown",
   "metadata": {},
   "source": [
    "## DP 3번 원주율 외우기"
   ]
  },
  {
   "cell_type": "code",
   "execution_count": 10,
   "metadata": {},
   "outputs": [
    {
     "name": "stdout",
     "output_type": "stream",
     "text": [
      "1\n",
      "2222111\n",
      "2\n"
     ]
    }
   ],
   "source": [
    "def score_3(a, b, c): # 3자리씩 끊어 읽기\n",
    "    if a == b == c:\n",
    "        return 1\n",
    "    if a-b == b-c == 1 or a-b == b-c == -1:\n",
    "        return 2\n",
    "    if a == c != b:\n",
    "        return 4\n",
    "    if a-b == b-c:\n",
    "        return 5\n",
    "    return 10\n",
    " \n",
    " \n",
    "def score_4(a, b, c, d):  # 4자리씩 끊어 읽기\n",
    "    if a == b == c == d:\n",
    "        return 1\n",
    "    if a-b == b-c == c-d == 1 or a-b == b-c == c-d == -1:\n",
    "        return 2\n",
    "    if a == c and b == d and a != b:\n",
    "        return 4\n",
    "    if a-b == b-c == c-d:\n",
    "        return 5\n",
    "    return 10\n",
    " \n",
    " \n",
    "def score_5(a, b, c, d, e):  # 5자리씩 끊어 읽기\n",
    "    if a == b == c == d == e:\n",
    "        return 1\n",
    "    if a-b == b-c == c-d == d-e == 1 or a-b == b-c == c-d == d-e == -1:\n",
    "        return 2\n",
    "    if a == c == e and b == d and a != b:\n",
    "        return 4\n",
    "    if a-b == b-c == c-d == d-e:\n",
    "        return 5\n",
    "    return 10\n",
    " \n",
    " \n",
    "def pi(arr):\n",
    "    N = len(arr)\n",
    "    cache = [None] * (N+1)\n",
    "    cache[3] = score_3(arr[0], arr[1], arr[2])\n",
    "    cache[4] = score_4(arr[0], arr[1], arr[2], arr[3])\n",
    "    cache[5] = score_5(arr[0], arr[1], arr[2], arr[3], arr[4])\n",
    "    for i in range(6, N+1):\n",
    "        cand = []\n",
    "        if cache[i-3] is not None:\n",
    "            cand.append(cache[i-3] + score_3(arr[i-3], arr[i-2], arr[i-1]))\n",
    "        if cache[i-4] is not None:\n",
    "            cand.append(cache[i-4] + score_4(arr[i-4], arr[i-3], arr[i-2], arr[i-1]))\n",
    "        if cache[i-5] is not None:\n",
    "            cand.append(cache[i-5] + score_5(arr[i-5], arr[i-4], arr[i-3], arr[i-2], arr[i-1]))\n",
    "        cache[i] = min(cand)  # 최소값을 cache에 넣는다\n",
    "    return cache[-1]\n",
    " \n",
    " \n",
    "case = int(input())\n",
    "for k in range(case):\n",
    "    number = list(map(int, list(input().strip())))  # 입력을 숫자 리스트로\n",
    "    print(pi(number))"
   ]
  },
  {
   "cell_type": "markdown",
   "metadata": {},
   "source": [
    "## DP 4번 Quantization"
   ]
  },
  {
   "cell_type": "code",
   "execution_count": 1,
   "metadata": {},
   "outputs": [],
   "source": [
    "def minError(partial):\n",
    "    total = 0\n",
    "    mid = 0\n",
    "    result = 0\n",
    "    \n",
    "    for i in partial:\n",
    "        total += i\n",
    "    mid = round(total/len(partial))\n",
    "    \n",
    "    for j in range(0, len(partial)):\n",
    "        result += (partial[j]-mid)**2\n",
    "    \n",
    "    return result\n",
    "\n",
    "def quenti(start, N):\n",
    "    if len(start) <= 0:\n",
    "        return 0\n",
    "    if N == 0:\n",
    "        return 0\n",
    "    pass\n",
    "\n",
    "def main(original):\n",
    "    original = sorted()\n",
    "    pass"
   ]
  },
  {
   "cell_type": "code",
   "execution_count": null,
   "metadata": {},
   "outputs": [],
   "source": [
    "N = int(input())\n",
    "\n",
    "for _ in range(N):\n",
    "    a, b = int(input().split())\n",
    "    "
   ]
  },
  {
   "cell_type": "code",
   "execution_count": 2,
   "metadata": {},
   "outputs": [
    {
     "data": {
      "text/plain": [
       "19"
      ]
     },
     "execution_count": 2,
     "metadata": {},
     "output_type": "execute_result"
    }
   ],
   "source": [
    "minError([1,2,3,4,5,6])"
   ]
  },
  {
   "cell_type": "markdown",
   "metadata": {},
   "source": [
    "### 2XN 타일링"
   ]
  },
  {
   "cell_type": "code",
   "execution_count": 13,
   "metadata": {
    "scrolled": true
   },
   "outputs": [
    {
     "name": "stdout",
     "output_type": "stream",
     "text": [
      "5\n",
      "8\n"
     ]
    }
   ],
   "source": [
    "N = int(input())\n",
    "\n",
    "result_arr = [0, 1, 2]\n",
    "MOD = 10000000007\n",
    "\n",
    "for i in range(3, N+1):\n",
    "    result_arr.append((result_arr[i-1] + result_arr[i-2])%MOD)\n",
    "print(result_arr[N])"
   ]
  },
  {
   "cell_type": "code",
   "execution_count": 14,
   "metadata": {},
   "outputs": [
    {
     "data": {
      "text/plain": [
       "[0, 1, 2, 3, 5, 8]"
      ]
     },
     "execution_count": 14,
     "metadata": {},
     "output_type": "execute_result"
    }
   ],
   "source": [
    "result_arr"
   ]
  },
  {
   "cell_type": "code",
   "execution_count": 21,
   "metadata": {},
   "outputs": [
    {
     "name": "stdout",
     "output_type": "stream",
     "text": [
      "1\n",
      "5 4\n",
      "0.9960937500\n"
     ]
    }
   ],
   "source": [
    "#snail\n",
    "import math\n",
    " \n",
    " \n",
    "def snail(height, day):  # 비오면(75%) 1미터 안오면 0미터\n",
    "    if height <= 0:  # height = 올라가야하는 높이 day=날 수\n",
    "        return 1\n",
    "    if height > day:  # 탈출이 불가능한 경우\n",
    "        return 0\n",
    "    prop = 0  # 확률\n",
    "    for o in range(height,day+1):\n",
    "        prop += (0.75**o)*(0.25**(day-o))*(math.factorial(day)/(math.factorial(o)*math.factorial(day-o)))\n",
    "    return prop\n",
    " \n",
    " \n",
    "case = int(input())\n",
    "for i in range(case):\n",
    "    n,m=map(int, input().split())  # n=높이,m=비오는날\n",
    "    result = snail(n - m, m)  # 미리 빼준다\n",
    "    print(\"%.10f\"%result)\n"
   ]
  },
  {
   "cell_type": "markdown",
   "metadata": {},
   "source": [
    "## DP 5번 비대칭 타일링"
   ]
  },
  {
   "cell_type": "code",
   "execution_count": 20,
   "metadata": {},
   "outputs": [
    {
     "name": "stdout",
     "output_type": "stream",
     "text": [
      "8\n",
      "26\n"
     ]
    }
   ],
   "source": [
    "N = int(input())\n",
    "\n",
    "result_arr = [0, 1, 2]\n",
    "MOD = 10000000007\n",
    "result = 0\n",
    "\n",
    "for i in range(3, N+1):\n",
    "    result_arr.append((result_arr[i-1] + result_arr[i-2])%MOD)\n",
    "    \n",
    "if N %2 ==0:\n",
    "    result = (result_arr[N] - (result_arr[N//2] + result_arr[N//2-1]))%MOD\n",
    "    \n",
    "else:\n",
    "    result = (result_arr[N] - result_arr[N//2])%MOD\n",
    "    \n",
    "print(result)\n",
    "\n"
   ]
  },
  {
   "cell_type": "markdown",
   "metadata": {},
   "source": [
    "## DP 6번 폴리오미노"
   ]
  },
  {
   "cell_type": "code",
   "execution_count": 2,
   "metadata": {},
   "outputs": [
    {
     "name": "stdout",
     "output_type": "stream",
     "text": [
      "3\n",
      "2\n",
      "2\n",
      "4\n",
      "19\n",
      "92\n",
      "4841817\n"
     ]
    }
   ],
   "source": [
    "# 폴리오미노 : 정사각형 변들을 서로 완전하게 붙여 만든 도형들!\n",
    "# 세로 단조 : 어떤 가로줄도 폴리오미노를 두번 이상 교차하지 않는다는 뜻\n",
    "\n",
    "def poly(n,d):\n",
    "    if d == n:\n",
    "        return 1\n",
    "    if board[n][d] != -1:\n",
    "        return board[n][d]\n",
    "    x = n-d\n",
    "    ret = 0\n",
    "    for o in range(1,x+1):\n",
    "        ret += (o+d-1)*poly(x,o)\n",
    "        ret %= 10000000\n",
    "    board[n][d] = ret\n",
    "    return ret\n",
    " \n",
    " \n",
    "board = [[-1 for j in range(101)] for k in range(101)]\n",
    "case = int(input())\n",
    "for i in range(case):\n",
    "    num = int(input())\n",
    "    result = 0\n",
    "    for down in range(1,num+1):\n",
    "        result += poly(num, down)\n",
    "        result %= 10000000\n",
    "    print(result)"
   ]
  },
  {
   "cell_type": "markdown",
   "metadata": {},
   "source": [
    "## 회의실 배정"
   ]
  },
  {
   "cell_type": "code",
   "execution_count": 147,
   "metadata": {},
   "outputs": [
    {
     "name": "stdout",
     "output_type": "stream",
     "text": [
      "11\n",
      "1 4\n",
      "3 5\n",
      "0 6\n",
      "5 7\n",
      "3 8\n",
      "5 9\n",
      "6 10\n",
      "8 11\n",
      "8 12\n",
      "2 13\n",
      "12 14\n",
      "7 [5, 7]\n",
      "11 [8, 11]\n",
      "14 [12, 14]\n",
      "4\n"
     ]
    }
   ],
   "source": [
    "N = int(input())\n",
    "regist = []\n",
    "count = 1\n",
    "\n",
    "for _ in range(N):\n",
    "    a, b = map(int, input().split())\n",
    "    regist.append([a,b])\n",
    "    \n",
    "regist_sort = sorted(regist, key=lambda x:x[1])\n",
    "stand = regist[0][1]\n",
    "\n",
    "for i in range(1, len(regist)):\n",
    "    if regist[i][0] > stand:\n",
    "        count += 1\n",
    "        stand = regist[i][1]\n",
    "        print(stand, regist[i])\n",
    "print(count)"
   ]
  },
  {
   "cell_type": "markdown",
   "metadata": {},
   "source": [
    "## 출전 순서 정하기"
   ]
  },
  {
   "cell_type": "code",
   "execution_count": 29,
   "metadata": {},
   "outputs": [
    {
     "name": "stdout",
     "output_type": "stream",
     "text": [
      "3\n",
      "6\n",
      "3000 2700 2800 2200 2500 1900\n",
      "2800 2750 2995 1800 2600 2000\n",
      "5\n",
      "3\n",
      "1 2 3\n",
      "3 2 1\n",
      "3\n",
      "4\n",
      "2 3 4 5\n",
      "1 2 3 4\n",
      "3\n"
     ]
    }
   ],
   "source": [
    "C = int(input())\n",
    "result = []\n",
    "\n",
    "def solve(rusia, korea):\n",
    "    count = 0\n",
    "    for i in range(len(rusia)):\n",
    "        min_value = 0\n",
    "        min_index = 0\n",
    "        for j in range(len(korea)):\n",
    "            if rusia[i] <= korea[j]:\n",
    "                if min_value == 0:\n",
    "                    min_value = korea[j]\n",
    "                    min_index = j\n",
    "                elif min_value > korea[j]:\n",
    "                    min_value = korea[j]\n",
    "                    min_index = j\n",
    "\n",
    "        if min_value != 0:\n",
    "            count += 1\n",
    "            korea.pop(min_index)\n",
    "\n",
    "    return count\n",
    "\n",
    "\n",
    "for _ in range(C):\n",
    "    N = int(input())\n",
    "    rusia = list(map(int, input().split()))\n",
    "    korea = list(map(int, input().split()))\n",
    "    print(solve(rusia, korea))"
   ]
  },
  {
   "cell_type": "markdown",
   "metadata": {},
   "source": [
    "## 가장 긴 증가하는 부분 수열"
   ]
  },
  {
   "cell_type": "code",
   "execution_count": 3,
   "metadata": {},
   "outputs": [
    {
     "name": "stdout",
     "output_type": "stream",
     "text": [
      "8\n",
      "5 6 7 8 1 2 3 4\n",
      "4\n"
     ]
    }
   ],
   "source": [
    "N = int(input())\n",
    "arr = list(map(int, input().split()))\n",
    "result = []\n",
    "\n",
    "for i in range(len(arr)-1):\n",
    "    count = 1\n",
    "    pivot = arr[i]\n",
    "    for j in range(i, len(arr)):\n",
    "        if pivot < arr[j]:\n",
    "            count += 1\n",
    "            pivot = arr[j]\n",
    "    result.append(count)\n",
    "\n",
    "print(max(result))"
   ]
  },
  {
   "cell_type": "code",
   "execution_count": 36,
   "metadata": {},
   "outputs": [
    {
     "data": {
      "text/plain": [
       "[4, 3, 3, 2, 2]"
      ]
     },
     "execution_count": 36,
     "metadata": {},
     "output_type": "execute_result"
    }
   ],
   "source": [
    "result"
   ]
  },
  {
   "cell_type": "code",
   "execution_count": 37,
   "metadata": {},
   "outputs": [
    {
     "name": "stdout",
     "output_type": "stream",
     "text": [
      "6\n",
      "10 20 10 30 20 50\n"
     ]
    }
   ],
   "source": [
    "N = int(input())\n",
    "arr = list(map(int, input().split()))\n",
    "result = [1 for i in range(len(arr))]"
   ]
  },
  {
   "cell_type": "code",
   "execution_count": 39,
   "metadata": {},
   "outputs": [],
   "source": [
    "for i in range(len(arr)):\n",
    "    for j in range(i):\n",
    "        if arr[j] < arr[i]:\n",
    "            result[i] = max(result[i], result[j]+1)"
   ]
  },
  {
   "cell_type": "code",
   "execution_count": 40,
   "metadata": {},
   "outputs": [
    {
     "data": {
      "text/plain": [
       "[1, 2, 1, 3, 2, 4]"
      ]
     },
     "execution_count": 40,
     "metadata": {},
     "output_type": "execute_result"
    }
   ],
   "source": [
    "result"
   ]
  },
  {
   "cell_type": "code",
   "execution_count": 41,
   "metadata": {},
   "outputs": [
    {
     "data": {
      "text/plain": [
       "4"
      ]
     },
     "execution_count": 41,
     "metadata": {},
     "output_type": "execute_result"
    }
   ],
   "source": [
    "max(result)"
   ]
  },
  {
   "cell_type": "markdown",
   "metadata": {},
   "source": [
    "## 1로 만들기"
   ]
  },
  {
   "cell_type": "code",
   "execution_count": 25,
   "metadata": {},
   "outputs": [
    {
     "name": "stdout",
     "output_type": "stream",
     "text": [
      "10\n",
      "3\n",
      "time :  0.0003840923309326172\n"
     ]
    }
   ],
   "source": [
    "import time\n",
    "\n",
    "N = int(input())\n",
    "fix_count = 99999\n",
    "\n",
    "start = time.time()\n",
    "def dfs(N, count):\n",
    "    global fix_count\n",
    "    if N ==1:\n",
    "        fix_count = min(fix_count, count)\n",
    "        return\n",
    "        \n",
    "    if N % 3 ==0:\n",
    "        dfs(N//3, count+1)\n",
    "    \n",
    "    if N % 2 ==0:\n",
    "        dfs(N//2, count+1)\n",
    "        \n",
    "    dfs(N-1, count+1)\n",
    "\n",
    "dfs(N, 0)\n",
    "print(fix_count)\n",
    "print(\"time : \", time.time() - start)"
   ]
  },
  {
   "cell_type": "code",
   "execution_count": 36,
   "metadata": {},
   "outputs": [
    {
     "name": "stdout",
     "output_type": "stream",
     "text": [
      "10\n",
      "3\n"
     ]
    }
   ],
   "source": [
    "N = int(input())\n",
    "dp = [0 for _ in range(N+1)]\n",
    "\n",
    "dp[1] = 0\n",
    "\n",
    "for i in range(2, N+1):\n",
    "    dp[i] = dp[i-1] + 1\n",
    "    \n",
    "    if i%2 == 0:\n",
    "        dp[i] = min(dp[i], dp[int(i//2)]+1)\n",
    "    if i%3 == 0:\n",
    "        dp[i] = min(dp[i], dp[int(i//3)]+1)\n",
    "        \n",
    "print(dp[-1])"
   ]
  },
  {
   "cell_type": "markdown",
   "metadata": {},
   "source": [
    "## DFS와 BFS"
   ]
  },
  {
   "cell_type": "code",
   "execution_count": 1,
   "metadata": {},
   "outputs": [
    {
     "name": "stdout",
     "output_type": "stream",
     "text": [
      "5 5 3\n",
      "5 4\n",
      "5 2\n",
      "1 2\n",
      "3 4\n",
      "3 1\n"
     ]
    }
   ],
   "source": [
    "N, M, V = map(int, input().split())\n",
    "arr = [[] for _ in range(N+1)]\n",
    "\n",
    "for _ in range(M):\n",
    "    a, b = map(int, input().split())\n",
    "    arr[a].append(b)"
   ]
  },
  {
   "cell_type": "code",
   "execution_count": 2,
   "metadata": {},
   "outputs": [
    {
     "data": {
      "text/plain": [
       "[[], [2], [], [4, 1], [], [4, 2]]"
      ]
     },
     "execution_count": 2,
     "metadata": {},
     "output_type": "execute_result"
    }
   ],
   "source": [
    "arr"
   ]
  },
  {
   "cell_type": "code",
   "execution_count": 3,
   "metadata": {},
   "outputs": [],
   "source": [
    "from collections import deque\n",
    "dfs_stack = []\n",
    "dfs_visited = [False]*(N+1)\n",
    "bfs_visited = [False]*(N+1)\n",
    "bfs_result = []\n",
    "dfs_result = []\n",
    "\n",
    "def dfs():\n",
    "    dfs_stack.append(V)\n",
    "    \n",
    "    while dfs_stack:\n",
    "        num = dfs_stack.pop()\n",
    "        if dfs_visited[num] == False:\n",
    "            dfs_visited[num] = True\n",
    "            dfs_stack.extend(arr[num])\n",
    "            print(dfs_stack)\n",
    "            \n",
    "            if num not in dfs_result:\n",
    "                dfs_result.append(num)\n",
    "    print(dfs_result)\n",
    "            \n",
    "def bfs():\n",
    "    bfs_queue = deque([V])\n",
    "    \n",
    "    while bfs_queue:\n",
    "        num = bfs_queue.popleft()\n",
    "        \n",
    "        if bfs_visited[num] == False:\n",
    "            bfs_visited[num] == True\n",
    "            bfs_queue.extend(arr[num])\n",
    "            \n",
    "            if num not in bfs_result:\n",
    "                bfs_result.append(num)\n",
    "    print(bfs_result)"
   ]
  },
  {
   "cell_type": "code",
   "execution_count": 4,
   "metadata": {},
   "outputs": [
    {
     "name": "stdout",
     "output_type": "stream",
     "text": [
      "[4, 1]\n",
      "[4, 2]\n",
      "[4]\n",
      "[]\n",
      "[3, 1, 2, 4]\n"
     ]
    }
   ],
   "source": [
    "dfs()"
   ]
  },
  {
   "cell_type": "code",
   "execution_count": 99,
   "metadata": {},
   "outputs": [
    {
     "name": "stdout",
     "output_type": "stream",
     "text": [
      "[3, 4, 1, 2]\n"
     ]
    }
   ],
   "source": [
    "bfs()"
   ]
  },
  {
   "cell_type": "code",
   "execution_count": 100,
   "metadata": {},
   "outputs": [
    {
     "name": "stdout",
     "output_type": "stream",
     "text": [
      "5 4\n",
      "5 2\n",
      "1 2\n",
      "3 4\n",
      "3 1\n"
     ]
    }
   ],
   "source": [
    "matrix=[[0]*(N+1) for i in range(N+1)]\n",
    "for i in range(M):\n",
    "    a,b = map(int,input().split())\n",
    "    matrix[a][b]=matrix[b][a]=1\n",
    "visit_list=[0]*(N+1)\n",
    "\n",
    "def dfs(V):\n",
    "    visit_list[V]=1 #방문한 점 1로 표시\n",
    "    print(V, end=' ')\n",
    "    for i in range(1,N+1):\n",
    "        if(visit_list[i]==0 and matrix[V][i]==1):\n",
    "            dfs(i)\n",
    "\n",
    "def bfs(V):\n",
    "    queue=[V] #들려야 할 정점 저장\n",
    "    visit_list[V]=0 #방문한 점 0으로 표시\n",
    "    while queue:\n",
    "        V=queue.pop(0)\n",
    "        print(V, end=' ')\n",
    "        for i in range(1, N+1):\n",
    "            if(visit_list[i]==1 and matrix[V][i]==1):\n",
    "                queue.append(i)\n",
    "                visit_list[i]=0"
   ]
  },
  {
   "cell_type": "code",
   "execution_count": 101,
   "metadata": {},
   "outputs": [
    {
     "name": "stdout",
     "output_type": "stream",
     "text": [
      "3 1 2 5 4 "
     ]
    }
   ],
   "source": [
    "dfs(3)"
   ]
  },
  {
   "cell_type": "code",
   "execution_count": 102,
   "metadata": {},
   "outputs": [
    {
     "name": "stdout",
     "output_type": "stream",
     "text": [
      "3 1 4 2 5 "
     ]
    }
   ],
   "source": [
    "bfs(3)"
   ]
  },
  {
   "cell_type": "markdown",
   "metadata": {},
   "source": [
    "## 1, 2, 3 더하기"
   ]
  },
  {
   "cell_type": "code",
   "execution_count": 10,
   "metadata": {},
   "outputs": [
    {
     "name": "stdout",
     "output_type": "stream",
     "text": [
      "3\n",
      "4\n",
      "7\n",
      "10\n",
      "7\n",
      "44\n",
      "274\n"
     ]
    }
   ],
   "source": [
    "N = int(input())\n",
    "want = []\n",
    "count = 0\n",
    "for _ in range(N):\n",
    "    a = int(input())\n",
    "    want.append(a)\n",
    "    \n",
    "def dfs(N):\n",
    "    global count\n",
    "    \n",
    "    if N == 0:\n",
    "        count += 1\n",
    "        return\n",
    "    elif N < 0:\n",
    "        return\n",
    "    dfs(N-1)\n",
    "    dfs(N-2)\n",
    "    dfs(N-3)\n",
    "\n",
    "for i in want:\n",
    "    dfs(i)\n",
    "    print(count)\n",
    "    count = 0"
   ]
  },
  {
   "cell_type": "code",
   "execution_count": 20,
   "metadata": {},
   "outputs": [
    {
     "name": "stdout",
     "output_type": "stream",
     "text": [
      "3\n",
      "4\n",
      "7\n",
      "10\n",
      "7\n",
      "44\n",
      "274\n"
     ]
    }
   ],
   "source": [
    "N = int(input())\n",
    "dp = [0 for _ in range(99999)]\n",
    "want = []\n",
    "dp[1] = 1\n",
    "dp[2] = 2\n",
    "dp[3] = 4\n",
    "\n",
    "for _ in range(N):\n",
    "    a = int(input())\n",
    "    want.append(a)\n",
    "    \n",
    "for i in range(4, max(want)+1):\n",
    "    dp[i] = dp[i-3]+dp[i-2]+dp[i-1]\n",
    "    \n",
    "for i in want:\n",
    "    print(dp[i])"
   ]
  },
  {
   "cell_type": "markdown",
   "metadata": {},
   "source": [
    "## 단지번호붙이기"
   ]
  },
  {
   "cell_type": "code",
   "execution_count": 122,
   "metadata": {},
   "outputs": [
    {
     "name": "stdout",
     "output_type": "stream",
     "text": [
      "7\n",
      "0110100\n",
      "0110101\n",
      "1110101\n",
      "0000111\n",
      "0100000\n",
      "0111110\n",
      "0111000\n"
     ]
    }
   ],
   "source": [
    "N = int(input())\n",
    "arr = []\n",
    "\n",
    "for _ in range(N):\n",
    "    arr.append(list(map(int, input())))"
   ]
  },
  {
   "cell_type": "code",
   "execution_count": 123,
   "metadata": {},
   "outputs": [
    {
     "data": {
      "text/plain": [
       "[[0, 1, 1, 0, 1, 0, 0],\n",
       " [0, 1, 1, 0, 1, 0, 1],\n",
       " [1, 1, 1, 0, 1, 0, 1],\n",
       " [0, 0, 0, 0, 1, 1, 1],\n",
       " [0, 1, 0, 0, 0, 0, 0],\n",
       " [0, 1, 1, 1, 1, 1, 0],\n",
       " [0, 1, 1, 1, 0, 0, 0]]"
      ]
     },
     "execution_count": 123,
     "metadata": {},
     "output_type": "execute_result"
    }
   ],
   "source": [
    "arr"
   ]
  },
  {
   "cell_type": "code",
   "execution_count": 153,
   "metadata": {},
   "outputs": [],
   "source": [
    "import copy\n",
    "bfs_arr = copy.deepcopy(arr)\n",
    "dfs_arr = copy.deepcopy(arr)\n",
    "count = 0\n",
    "result_dfs = []\n",
    "result_bfs = []"
   ]
  },
  {
   "cell_type": "code",
   "execution_count": 131,
   "metadata": {},
   "outputs": [],
   "source": [
    "def dfs(arr, i, j):\n",
    "    global count\n",
    "    \n",
    "    if i <= -1 or j <= -1 or i >= len(arr) or j >= len(arr):\n",
    "        return\n",
    "    \n",
    "    if arr[i][j] != 0:\n",
    "        arr[i][j] = 0\n",
    "        count += 1\n",
    "        dfs(arr, i+1, j)\n",
    "        dfs(arr, i, j+1)\n",
    "        dfs(arr, i-1, j)\n",
    "        dfs(arr, i, j-1)\n",
    "    \n",
    "    else:\n",
    "        return\n",
    "        \n",
    "    return count"
   ]
  },
  {
   "cell_type": "code",
   "execution_count": 132,
   "metadata": {},
   "outputs": [
    {
     "name": "stdout",
     "output_type": "stream",
     "text": [
      "3\n",
      "7\n",
      "8\n",
      "9\n"
     ]
    }
   ],
   "source": [
    "for i in range(len(arr)):\n",
    "    for j in range(len(arr)):\n",
    "        dfs(dfs_arr, i, j)\n",
    "        if count:\n",
    "            result_dfs.append(count)\n",
    "            count = 0\n",
    "        else:\n",
    "            continue\n",
    "\n",
    "result_dfs = sorted(result_dfs)\n",
    "print(len(result_dfs))\n",
    "for i in result_dfs:\n",
    "    print(i)"
   ]
  },
  {
   "cell_type": "code",
   "execution_count": 154,
   "metadata": {
    "scrolled": true
   },
   "outputs": [],
   "source": [
    "from collections import deque\n",
    "dx = [-1, 1, 0, 0]\n",
    "dy = [0, 0, -1, 1]\n",
    "\n",
    "def bfs(arr, i, j):\n",
    "    global count\n",
    "    q = deque()\n",
    "    q.append((i,j))\n",
    "    \n",
    "    while q:\n",
    "        x, y = q.popleft()\n",
    "        \n",
    "        if arr[x][y] == 1:\n",
    "            arr[x][y] = 0\n",
    "            count += 1\n",
    "        \n",
    "        for k in range(4):\n",
    "            ni, nj = x+dx[k], y+dy[k]\n",
    "            \n",
    "            if 0<=ni<N and 0<=nj<N:\n",
    "                if arr[ni][nj] == 1:\n",
    "                    count += 1\n",
    "                    q.append((ni,nj))\n",
    "                    arr[ni][nj] = 0\n",
    "    return count"
   ]
  },
  {
   "cell_type": "code",
   "execution_count": 155,
   "metadata": {},
   "outputs": [
    {
     "name": "stdout",
     "output_type": "stream",
     "text": [
      "3\n",
      "7\n",
      "8\n",
      "9\n"
     ]
    }
   ],
   "source": [
    "for i in range(len(arr)):\n",
    "    for j in range(len(arr)):\n",
    "        bfs(bfs_arr, i, j)\n",
    "        if count:\n",
    "            result_bfs.append(count)\n",
    "            count = 0\n",
    "        else:\n",
    "            continue\n",
    "\n",
    "print(len(result_bfs))\n",
    "for i in result_bfs:\n",
    "    print(i)"
   ]
  },
  {
   "cell_type": "code",
   "execution_count": 2,
   "metadata": {},
   "outputs": [
    {
     "name": "stdout",
     "output_type": "stream",
     "text": [
      "7\n",
      "0110100\n",
      "0110101\n",
      "1110101\n",
      "0000111\n",
      "0100000\n",
      "0111110\n",
      "0111000\n",
      "3\n",
      "7\n",
      "8\n",
      "9\n"
     ]
    }
   ],
   "source": [
    "N = int(input())\n",
    "count = 0\n",
    "result = []\n",
    "arr = []\n",
    "\n",
    "def dfs(arr, i, j):\n",
    "    global count\n",
    "    \n",
    "    if i <= -1 or j <= -1 or i >= len(arr) or j >= len(arr):\n",
    "        return\n",
    "    \n",
    "    if arr[i][j] == 1:\n",
    "        arr[i][j] = 2\n",
    "        count += 1\n",
    "        dfs(arr, i+1, j)\n",
    "        dfs(arr, i, j+1)\n",
    "        dfs(arr, i-1, j)\n",
    "        dfs(arr, i, j-1)\n",
    "    \n",
    "    else:\n",
    "        return\n",
    "        \n",
    "    return count\n",
    "\n",
    "for _ in range(N):\n",
    "    arr.append(list(map(int, input())))\n",
    "\n",
    "for i in range(len(arr)):\n",
    "    for j in range(len(arr)):\n",
    "        dfs(arr, i, j)\n",
    "        if count:\n",
    "            result.append(count)\n",
    "            count = 0\n",
    "        else:\n",
    "            continue\n",
    "\n",
    "result = sorted(result)\n",
    "print(len(result))\n",
    "for i in result:\n",
    "    print(i)"
   ]
  },
  {
   "cell_type": "code",
   "execution_count": 3,
   "metadata": {},
   "outputs": [
    {
     "data": {
      "text/plain": [
       "[[0, 2, 2, 0, 2, 0, 0],\n",
       " [0, 2, 2, 0, 2, 0, 2],\n",
       " [2, 2, 2, 0, 2, 0, 2],\n",
       " [0, 0, 0, 0, 2, 2, 2],\n",
       " [0, 2, 0, 0, 0, 0, 0],\n",
       " [0, 2, 2, 2, 2, 2, 0],\n",
       " [0, 2, 2, 2, 0, 0, 0]]"
      ]
     },
     "execution_count": 3,
     "metadata": {},
     "output_type": "execute_result"
    }
   ],
   "source": [
    "arr"
   ]
  },
  {
   "cell_type": "code",
   "execution_count": 157,
   "metadata": {},
   "outputs": [
    {
     "name": "stdout",
     "output_type": "stream",
     "text": [
      "7\n",
      "0110100\n",
      "0110101\n",
      "1110101\n",
      "0000111\n",
      "0100000\n",
      "0111110\n",
      "0111000\n",
      "3\n",
      "7\n",
      "8\n",
      "9\n"
     ]
    }
   ],
   "source": [
    "from collections import deque\n",
    "\n",
    "N = int(input())\n",
    "count = 0\n",
    "result = []\n",
    "arr = []\n",
    "dx = [-1, 1, 0, 0]\n",
    "dy = [0, 0, -1, 1]\n",
    "\n",
    "def bfs(arr, i, j):\n",
    "    global count\n",
    "    q = deque()\n",
    "    q.append((i,j))\n",
    "    \n",
    "    while q:\n",
    "        x, y = q.popleft()\n",
    "        \n",
    "        if arr[x][y] == 1:\n",
    "            arr[x][y] = 0\n",
    "            count += 1\n",
    "        \n",
    "        for k in range(4):\n",
    "            ni, nj = x+dx[k], y+dy[k]\n",
    "            \n",
    "            if 0<=ni<N and 0<=nj<N:\n",
    "                if arr[ni][nj] == 1:\n",
    "                    count += 1\n",
    "                    q.append((ni,nj))\n",
    "                    arr[ni][nj] = 0\n",
    "    return count\n",
    "\n",
    "for _ in range(N):\n",
    "    arr.append(list(map(int, input())))\n",
    "\n",
    "for i in range(len(arr)):\n",
    "    for j in range(len(arr)):\n",
    "        bfs(arr, i, j)\n",
    "        if count:\n",
    "            result.append(count)\n",
    "            count = 0\n",
    "        else:\n",
    "            continue\n",
    "\n",
    "result = sorted(result)\n",
    "print(len(result))\n",
    "for i in result:\n",
    "    print(i)"
   ]
  },
  {
   "cell_type": "code",
   "execution_count": 158,
   "metadata": {},
   "outputs": [
    {
     "data": {
      "text/plain": [
       "[[0, 0, 0, 0, 0, 0, 0],\n",
       " [0, 0, 0, 0, 0, 0, 0],\n",
       " [0, 0, 0, 0, 0, 0, 0],\n",
       " [0, 0, 0, 0, 0, 0, 0],\n",
       " [0, 0, 0, 0, 0, 0, 0],\n",
       " [0, 0, 0, 0, 0, 0, 0],\n",
       " [0, 0, 0, 0, 0, 0, 0]]"
      ]
     },
     "execution_count": 158,
     "metadata": {},
     "output_type": "execute_result"
    }
   ],
   "source": [
    "arr"
   ]
  },
  {
   "cell_type": "markdown",
   "metadata": {},
   "source": [
    "## 로프"
   ]
  },
  {
   "cell_type": "code",
   "execution_count": 25,
   "metadata": {},
   "outputs": [
    {
     "name": "stdout",
     "output_type": "stream",
     "text": [
      "5\n",
      "32\n",
      "30\n",
      "25\n",
      "12\n",
      "1\n",
      "[1, 12, 25, 30, 32] 5\n",
      "75\n"
     ]
    }
   ],
   "source": [
    "N = int(input())\n",
    "value = []\n",
    "result = 0\n",
    "\n",
    "for i in range(N):\n",
    "    value.append(int(input()))\n",
    "    \n",
    "value.sort()\n",
    "max_value = max(value)\n",
    "num = N\n",
    "    \n",
    "for i in range(N):\n",
    "    if max_value < value[i]*num:\n",
    "        result = value[i]*num\n",
    "        max_value = value[i]*num\n",
    "        \n",
    "    if max_value >= value[i]*num:\n",
    "        result = max_value\n",
    "        \n",
    "    num -= 1\n",
    "        \n",
    "print(result)"
   ]
  },
  {
   "cell_type": "code",
   "execution_count": 18,
   "metadata": {},
   "outputs": [
    {
     "name": "stdout",
     "output_type": "stream",
     "text": [
      "5\n",
      "32\n",
      "12\n",
      "30\n",
      "25\n",
      "1\n",
      "75\n"
     ]
    }
   ],
   "source": [
    "n = int(input())\n",
    "arr = []\n",
    "for i in range(n):\n",
    "    arr.append(int(input()))\n",
    "    \n",
    "arr.sort(reverse=True)\n",
    "solution=[]\n",
    "for i in range(len(arr)):\n",
    "    solution.append(arr[i] * (i+1))\n",
    "\n",
    "print(max(solution))"
   ]
  },
  {
   "cell_type": "markdown",
   "metadata": {},
   "source": [
    "## 수 찾기"
   ]
  },
  {
   "cell_type": "code",
   "execution_count": 10,
   "metadata": {},
   "outputs": [
    {
     "name": "stdout",
     "output_type": "stream",
     "text": [
      "5\n",
      "4 1 5 2 3\n",
      "5\n",
      "1 3 7 9 5\n",
      "1\n",
      "1\n",
      "0\n",
      "0\n",
      "1\n"
     ]
    }
   ],
   "source": [
    "import sys\n",
    "from sys import stdin\n",
    "sys.setrecursionlimit(10000)\n",
    "\n",
    "N = int(input())\n",
    "arr = list(map(int, input().split()))\n",
    "M = int(input())\n",
    "find = list(map(int,input().split()))\n",
    "\n",
    "arr = sorted(arr)\n",
    "\n",
    "def binary(arr, x):\n",
    "    if len(arr) == 1:\n",
    "        if arr[0] == x:\n",
    "            return 1\n",
    "        else:\n",
    "            return 0\n",
    "        \n",
    "    mid = len(arr)//2\n",
    "    \n",
    "    if arr[mid] == x:\n",
    "        return 1\n",
    "    \n",
    "    if arr[mid] <= x:\n",
    "        return binary(arr[mid:], x)\n",
    "    else:\n",
    "        return binary(arr[:mid], x)\n",
    "    \n",
    "for i in find:\n",
    "    print(binary(arr, i))"
   ]
  },
  {
   "cell_type": "markdown",
   "metadata": {},
   "source": [
    "## 연속합"
   ]
  },
  {
   "cell_type": "code",
   "execution_count": 6,
   "metadata": {},
   "outputs": [
    {
     "name": "stdout",
     "output_type": "stream",
     "text": [
      "10\n",
      "10 -4 3 1 5 6 -35 12 21 -1\n",
      "33\n"
     ]
    }
   ],
   "source": [
    "N = int(input())\n",
    "arr = list(map(int, input().split()))\n",
    "dp = [0 for _ in range(len(arr))]\n",
    "dp[0] = arr[0]\n",
    "\n",
    "for i in range(1, len(arr)):\n",
    "    a = dp[i-1] + arr[i]\n",
    "\n",
    "    if a > arr[i]:\n",
    "        dp[i] = a\n",
    "    else:\n",
    "        dp[i] = arr[i]\n",
    "        \n",
    "print(max(dp))"
   ]
  },
  {
   "cell_type": "markdown",
   "metadata": {},
   "source": [
    "## 토마토"
   ]
  },
  {
   "cell_type": "code",
   "execution_count": 141,
   "metadata": {},
   "outputs": [
    {
     "name": "stdout",
     "output_type": "stream",
     "text": [
      "5 5\n",
      "-1 1 0 0 0\n",
      "0 -1 -1 -1 0\n",
      "0 -1 -1 -1 0\n",
      "0 -1 -1 -1 0\n",
      "0 0 0 0 0\n"
     ]
    }
   ],
   "source": [
    "N, M = map(int, input().split())\n",
    "arr = []\n",
    "\n",
    "for _ in range(M):\n",
    "    a = list(map(int, input().split()))\n",
    "    arr.append(a)"
   ]
  },
  {
   "cell_type": "code",
   "execution_count": 142,
   "metadata": {},
   "outputs": [],
   "source": [
    "from collections import deque\n",
    "import copy\n",
    "bfs_arr = copy.deepcopy(arr)\n",
    "q = deque()"
   ]
  },
  {
   "cell_type": "code",
   "execution_count": 143,
   "metadata": {},
   "outputs": [],
   "source": [
    "for i in range(M):\n",
    "    for j in range(N):\n",
    "        if arr[i][j] == 1:\n",
    "            q.append((i,j))"
   ]
  },
  {
   "cell_type": "code",
   "execution_count": 144,
   "metadata": {},
   "outputs": [],
   "source": [
    "count = 0\n",
    "dx = [1, -1, 0, 0]\n",
    "dy = [0, 0, 1, -1]\n",
    "def bfs(arr):\n",
    "    global count\n",
    "    count_total = len(q)\n",
    "    while q:\n",
    "        if count_total == 0:\n",
    "            count += 1\n",
    "            count_total = len(q)\n",
    "            \n",
    "        x, y = q.popleft()\n",
    "        count_total -= 1\n",
    "        print(x, y, \"count_total: \", count_total, \"count : \", count)\n",
    "        \n",
    "        for i in range(4):\n",
    "            nx = x + dx[i]\n",
    "            ny = y + dy[i]\n",
    "            \n",
    "            if 0<=nx< M and 0<=ny <N:\n",
    "                if arr[nx][ny] == 0:\n",
    "                    q.append((nx, ny))\n",
    "                    arr[nx][ny] = 1"
   ]
  },
  {
   "cell_type": "code",
   "execution_count": 145,
   "metadata": {},
   "outputs": [
    {
     "name": "stdout",
     "output_type": "stream",
     "text": [
      "0 1 count_total:  0 count :  0\n",
      "0 2 count_total:  0 count :  1\n",
      "0 3 count_total:  0 count :  2\n",
      "0 4 count_total:  0 count :  3\n",
      "1 4 count_total:  0 count :  4\n",
      "2 4 count_total:  0 count :  5\n",
      "3 4 count_total:  0 count :  6\n",
      "4 4 count_total:  0 count :  7\n",
      "4 3 count_total:  0 count :  8\n",
      "4 2 count_total:  0 count :  9\n",
      "4 1 count_total:  0 count :  10\n",
      "4 0 count_total:  0 count :  11\n",
      "3 0 count_total:  0 count :  12\n",
      "2 0 count_total:  0 count :  13\n",
      "1 0 count_total:  0 count :  14\n"
     ]
    }
   ],
   "source": [
    "bfs(bfs_arr)"
   ]
  },
  {
   "cell_type": "code",
   "execution_count": 146,
   "metadata": {},
   "outputs": [
    {
     "name": "stdout",
     "output_type": "stream",
     "text": [
      "14\n"
     ]
    }
   ],
   "source": [
    "for i in range(M):\n",
    "    for j in range(N):\n",
    "        if bfs_arr[i][j] == 0:\n",
    "            count = -1\n",
    "            break\n",
    "\n",
    "print(count)"
   ]
  },
  {
   "cell_type": "markdown",
   "metadata": {},
   "source": [
    "## 바이러스"
   ]
  },
  {
   "cell_type": "code",
   "execution_count": 56,
   "metadata": {},
   "outputs": [
    {
     "name": "stdout",
     "output_type": "stream",
     "text": [
      "7\n",
      "6\n",
      "1 2\n",
      "2 3\n",
      "1 5\n",
      "5 2\n",
      "5 6\n",
      "4 7\n"
     ]
    }
   ],
   "source": [
    "N = int(input())\n",
    "con = int(input())\n",
    "arr = [[] for _ in range(N+1)]\n",
    "visitied = [False for _ in range(N+1)]\n",
    "\n",
    "for _ in range(con):\n",
    "    a, b = map(int, input().split())\n",
    "    arr[a].append(b)"
   ]
  },
  {
   "cell_type": "code",
   "execution_count": 52,
   "metadata": {},
   "outputs": [
    {
     "data": {
      "text/plain": [
       "[[], [2, 5], [3], [], [7], [2, 6], [], []]"
      ]
     },
     "execution_count": 52,
     "metadata": {},
     "output_type": "execute_result"
    }
   ],
   "source": [
    "arr"
   ]
  },
  {
   "cell_type": "code",
   "execution_count": 57,
   "metadata": {},
   "outputs": [],
   "source": [
    "count = 0\n",
    "stack = []\n",
    "def dfs(arr, start):\n",
    "    global count\n",
    "    \n",
    "    stack.extend(arr[start])\n",
    "    visitied[start] = True\n",
    "    while stack:\n",
    "        visit = stack.pop()\n",
    "        if visitied[visit] != True:\n",
    "            count += 1\n",
    "            visitied[visit] = True\n",
    "            stack.extend(arr[visit])"
   ]
  },
  {
   "cell_type": "code",
   "execution_count": 58,
   "metadata": {},
   "outputs": [
    {
     "name": "stdout",
     "output_type": "stream",
     "text": [
      "4\n"
     ]
    }
   ],
   "source": [
    "dfs(arr, 1)\n",
    "print(count)"
   ]
  },
  {
   "cell_type": "code",
   "execution_count": null,
   "metadata": {},
   "outputs": [],
   "source": []
  },
  {
   "cell_type": "code",
   "execution_count": 59,
   "metadata": {},
   "outputs": [
    {
     "name": "stdout",
     "output_type": "stream",
     "text": [
      "7\n",
      "6\n",
      "1 2\n",
      "2 3\n",
      "1 5\n",
      "5 2\n",
      "5 6\n",
      "4 7\n"
     ]
    }
   ],
   "source": [
    "N = int(input())\n",
    "con = int(input())\n",
    "arr = [[] for _ in range(N+1)]\n",
    "visitied = [False for _ in range(N+1)]\n",
    "\n",
    "for _ in range(con):\n",
    "    a, b = map(int, input().split())\n",
    "    arr[a].append(b)\n",
    "    arr[b].append(a)"
   ]
  },
  {
   "cell_type": "code",
   "execution_count": 60,
   "metadata": {},
   "outputs": [
    {
     "data": {
      "text/plain": [
       "[[], [2, 5], [1, 3, 5], [2], [7], [1, 2, 6], [5], [4]]"
      ]
     },
     "execution_count": 60,
     "metadata": {},
     "output_type": "execute_result"
    }
   ],
   "source": [
    "arr"
   ]
  },
  {
   "cell_type": "code",
   "execution_count": 62,
   "metadata": {},
   "outputs": [],
   "source": [
    "count = 0\n",
    "stack = []\n",
    "def dfs(arr, start):\n",
    "    global count\n",
    "    \n",
    "    stack.extend(arr[start])\n",
    "    visitied[start] = True\n",
    "    while stack:\n",
    "        visit = stack.pop()\n",
    "        if visitied[visit] != True:\n",
    "            count += 1\n",
    "            visitied[visit] = True\n",
    "            stack.extend(arr[visit])"
   ]
  },
  {
   "cell_type": "code",
   "execution_count": 63,
   "metadata": {},
   "outputs": [
    {
     "name": "stdout",
     "output_type": "stream",
     "text": [
      "4\n"
     ]
    }
   ],
   "source": [
    "dfs(arr, 1)\n",
    "print(count)"
   ]
  },
  {
   "cell_type": "markdown",
   "metadata": {},
   "source": [
    "## 신입사원"
   ]
  },
  {
   "cell_type": "code",
   "execution_count": 12,
   "metadata": {},
   "outputs": [
    {
     "name": "stdout",
     "output_type": "stream",
     "text": [
      "2\n",
      "5\n",
      "3 2\n",
      "1 4\n",
      "4 1\n",
      "2 3\n",
      "5 5\n",
      "7\n",
      "3 6\n",
      "7 3\n",
      "4 2\n",
      "1 4\n",
      "5 7\n",
      "2 5\n",
      "6 1\n",
      "4\n",
      "3\n"
     ]
    }
   ],
   "source": [
    "N = int(input())\n",
    "result = []\n",
    "\n",
    "for _ in range(N):\n",
    "    a = int(input())\n",
    "    arr = []\n",
    "    for _ in range(a):\n",
    "        a, b = map(int, input().split())\n",
    "        arr.append((a,b))\n",
    "    result.append(new(arr))\n",
    "\n",
    "for i in range(len(result)):\n",
    "    print(result[i])"
   ]
  },
  {
   "cell_type": "code",
   "execution_count": 9,
   "metadata": {},
   "outputs": [],
   "source": [
    "def new(arr):\n",
    "    result = 1\n",
    "    arr = sorted(arr)\n",
    "    pivot = arr[0][1]\n",
    "    \n",
    "    for i in range(1, len(arr)):\n",
    "        if arr[i][1] <= pivot:\n",
    "            pivot = arr[i][1]\n",
    "            result += 1\n",
    "    return result"
   ]
  },
  {
   "cell_type": "markdown",
   "metadata": {},
   "source": [
    "## 쉬운 계단 수(못풀음)"
   ]
  },
  {
   "cell_type": "code",
   "execution_count": 1,
   "metadata": {},
   "outputs": [],
   "source": [
    "a = 20"
   ]
  },
  {
   "cell_type": "code",
   "execution_count": 6,
   "metadata": {},
   "outputs": [],
   "source": [
    "a = str(a)"
   ]
  },
  {
   "cell_type": "code",
   "execution_count": 7,
   "metadata": {},
   "outputs": [
    {
     "data": {
      "text/plain": [
       "2"
      ]
     },
     "execution_count": 7,
     "metadata": {},
     "output_type": "execute_result"
    }
   ],
   "source": [
    "len(a)"
   ]
  },
  {
   "cell_type": "code",
   "execution_count": 51,
   "metadata": {},
   "outputs": [
    {
     "name": "stdout",
     "output_type": "stream",
     "text": [
      "2\n",
      "10\n",
      "11\n",
      "12\n",
      "13\n",
      "14\n",
      "15\n",
      "16\n",
      "17\n",
      "18\n",
      "19\n",
      "20\n",
      "21\n",
      "22\n",
      "23\n",
      "24\n",
      "25\n",
      "26\n",
      "27\n",
      "28\n",
      "29\n",
      "30\n",
      "31\n",
      "32\n",
      "33\n",
      "34\n",
      "35\n",
      "36\n",
      "37\n",
      "38\n",
      "39\n",
      "40\n",
      "41\n",
      "42\n",
      "43\n",
      "44\n",
      "45\n",
      "46\n",
      "47\n",
      "48\n",
      "49\n",
      "50\n",
      "51\n",
      "52\n",
      "53\n",
      "54\n",
      "55\n",
      "56\n",
      "57\n",
      "58\n",
      "59\n",
      "60\n",
      "61\n",
      "62\n",
      "63\n",
      "64\n",
      "65\n",
      "66\n",
      "67\n",
      "68\n",
      "69\n",
      "70\n",
      "71\n",
      "72\n",
      "73\n",
      "74\n",
      "75\n",
      "76\n",
      "77\n",
      "78\n",
      "79\n",
      "80\n",
      "81\n",
      "82\n",
      "83\n",
      "84\n",
      "85\n",
      "86\n",
      "87\n",
      "88\n",
      "89\n",
      "90\n",
      "91\n",
      "92\n",
      "93\n",
      "94\n",
      "95\n",
      "96\n",
      "97\n",
      "98\n",
      "99\n"
     ]
    }
   ],
   "source": [
    "N = int(input())\n",
    "result = []\n",
    "start = 0\n",
    "a = str(start)\n",
    "count = 0\n",
    "\n",
    "while len(a) <= N:\n",
    "    count += 1\n",
    "    a = str(count)\n",
    "    if len(a) == N:\n",
    "        if abs(start - count) == 1:\n",
    "            print(count)\n",
    "            result.append(count)\n",
    "            start = count\n",
    "        else:\n",
    "            start = count\n",
    "    else:\n",
    "        start = count"
   ]
  },
  {
   "cell_type": "code",
   "execution_count": 48,
   "metadata": {},
   "outputs": [
    {
     "data": {
      "text/plain": [
       "2"
      ]
     },
     "execution_count": 48,
     "metadata": {},
     "output_type": "execute_result"
    }
   ],
   "source": [
    "len(a)"
   ]
  },
  {
   "cell_type": "code",
   "execution_count": 50,
   "metadata": {},
   "outputs": [
    {
     "data": {
      "text/plain": [
       "9"
      ]
     },
     "execution_count": 50,
     "metadata": {},
     "output_type": "execute_result"
    }
   ],
   "source": [
    "len(result)"
   ]
  },
  {
   "cell_type": "code",
   "execution_count": null,
   "metadata": {},
   "outputs": [],
   "source": []
  }
 ],
 "metadata": {
  "kernelspec": {
   "display_name": "Python 3",
   "language": "python",
   "name": "python3"
  },
  "language_info": {
   "codemirror_mode": {
    "name": "ipython",
    "version": 3
   },
   "file_extension": ".py",
   "mimetype": "text/x-python",
   "name": "python",
   "nbconvert_exporter": "python",
   "pygments_lexer": "ipython3",
   "version": "3.6.9"
  }
 },
 "nbformat": 4,
 "nbformat_minor": 2
}
