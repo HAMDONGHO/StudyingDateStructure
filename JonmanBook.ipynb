{
 "cells": [
  {
   "cell_type": "markdown",
   "metadata": {},
   "source": [
    "## 카라츠바 알고리즘"
   ]
  },
  {
   "cell_type": "code",
   "execution_count": 7,
   "metadata": {},
   "outputs": [],
   "source": [
    "def karatsuba(x, y):\n",
    "    # 각각의 length를 구한다\n",
    "    strx, stry = str(x), str(y)\n",
    "    lenx, leny = len(strx), len(stry)\n",
    "\n",
    "    # Initialize\n",
    "    if lenx == 1 or leny ==1:\n",
    "        return x * y\n",
    "\n",
    "    # Divide\n",
    "    m = min(lenx, leny) // 2\n",
    "    a, b = int(strx[:-m]), int(strx[-m:])\n",
    "    c, d = int(stry[:-m]), int(stry[-m:])\n",
    "\n",
    "    # Conquer\n",
    "    ac = karatsuba(a, c)\n",
    "    bd = karatsuba(b, d)\n",
    "    ad_bc = karatsuba(a+b, c+d) - ac - bd\n",
    "\n",
    "    # Combine\n",
    "    return 10**(2*m) * ac + 10**m * ad_bc + bd"
   ]
  },
  {
   "cell_type": "code",
   "execution_count": 8,
   "metadata": {},
   "outputs": [
    {
     "data": {
      "text/plain": [
       "2838873784873775"
      ]
     },
     "execution_count": 8,
     "metadata": {},
     "output_type": "execute_result"
    }
   ],
   "source": [
    "import unittest\n",
    "import random\n",
    "\n",
    "x, y = random.randint(10, 100000000), random.randint(10, 100000000)\n",
    "karatsuba(x, y)"
   ]
  },
  {
   "cell_type": "markdown",
   "metadata": {},
   "source": [
    "## DP 2번 와일드카드"
   ]
  },
  {
   "cell_type": "code",
   "execution_count": null,
   "metadata": {},
   "outputs": [],
   "source": [
    "import re\n",
    " \n",
    " \n",
    "case = int(input())\n",
    "for i in range(case):\n",
    "    instr = input()  # 와일드카드 문자열 입력\n",
    "    newin = instr.replace('*', '.*').replace('?', '.')  # 와일드카드 문자열을 정규 표현식 형태로\n",
    "    filename = []\n",
    "    filenum = int(input())  # 파일의 수\n",
    "    for k in range(filenum):\n",
    "        filename.append(input())  # 파일이름 입력\n",
    "    p = re.compile(newin)  # 정규표현식\n",
    "    result = []\n",
    "    for o in filename:  # 파일마다 검사\n",
    "        if p.match(o):  # 파일이 와일드카드에 포함이 되고\n",
    "            if p.match(o).group() == o:  # 포함된 것이 원래 파일과 같다면 (포함된 것이 다르면 답에 넣지 말아야 함)\n",
    "                result.append(o)  # 답에 넣고\n",
    "    result.sort()  # 정렬하고 \n",
    "    for j in result:  # 출력\n",
    "        print(j)"
   ]
  },
  {
   "cell_type": "markdown",
   "metadata": {},
   "source": [
    "## DP 2번 합친 LIS"
   ]
  },
  {
   "cell_type": "code",
   "execution_count": null,
   "metadata": {},
   "outputs": [],
   "source": []
  },
  {
   "cell_type": "markdown",
   "metadata": {},
   "source": [
    "## DP 3번 원주율 외우기"
   ]
  },
  {
   "cell_type": "code",
   "execution_count": 10,
   "metadata": {},
   "outputs": [
    {
     "name": "stdout",
     "output_type": "stream",
     "text": [
      "1\n",
      "2222111\n",
      "2\n"
     ]
    }
   ],
   "source": [
    "def score_3(a, b, c): # 3자리씩 끊어 읽기\n",
    "    if a == b == c:\n",
    "        return 1\n",
    "    if a-b == b-c == 1 or a-b == b-c == -1:\n",
    "        return 2\n",
    "    if a == c != b:\n",
    "        return 4\n",
    "    if a-b == b-c:\n",
    "        return 5\n",
    "    return 10\n",
    " \n",
    " \n",
    "def score_4(a, b, c, d):  # 4자리씩 끊어 읽기\n",
    "    if a == b == c == d:\n",
    "        return 1\n",
    "    if a-b == b-c == c-d == 1 or a-b == b-c == c-d == -1:\n",
    "        return 2\n",
    "    if a == c and b == d and a != b:\n",
    "        return 4\n",
    "    if a-b == b-c == c-d:\n",
    "        return 5\n",
    "    return 10\n",
    " \n",
    " \n",
    "def score_5(a, b, c, d, e):  # 5자리씩 끊어 읽기\n",
    "    if a == b == c == d == e:\n",
    "        return 1\n",
    "    if a-b == b-c == c-d == d-e == 1 or a-b == b-c == c-d == d-e == -1:\n",
    "        return 2\n",
    "    if a == c == e and b == d and a != b:\n",
    "        return 4\n",
    "    if a-b == b-c == c-d == d-e:\n",
    "        return 5\n",
    "    return 10\n",
    " \n",
    " \n",
    "def pi(arr):\n",
    "    N = len(arr)\n",
    "    cache = [None] * (N+1)\n",
    "    cache[3] = score_3(arr[0], arr[1], arr[2])\n",
    "    cache[4] = score_4(arr[0], arr[1], arr[2], arr[3])\n",
    "    cache[5] = score_5(arr[0], arr[1], arr[2], arr[3], arr[4])\n",
    "    for i in range(6, N+1):\n",
    "        cand = []\n",
    "        if cache[i-3] is not None:\n",
    "            cand.append(cache[i-3] + score_3(arr[i-3], arr[i-2], arr[i-1]))\n",
    "        if cache[i-4] is not None:\n",
    "            cand.append(cache[i-4] + score_4(arr[i-4], arr[i-3], arr[i-2], arr[i-1]))\n",
    "        if cache[i-5] is not None:\n",
    "            cand.append(cache[i-5] + score_5(arr[i-5], arr[i-4], arr[i-3], arr[i-2], arr[i-1]))\n",
    "        cache[i] = min(cand)  # 최소값을 cache에 넣는다\n",
    "    return cache[-1]\n",
    " \n",
    " \n",
    "case = int(input())\n",
    "for k in range(case):\n",
    "    number = list(map(int, list(input().strip())))  # 입력을 숫자 리스트로\n",
    "    print(pi(number))"
   ]
  },
  {
   "cell_type": "markdown",
   "metadata": {},
   "source": [
    "## DP 4번 Quantization"
   ]
  },
  {
   "cell_type": "code",
   "execution_count": 1,
   "metadata": {},
   "outputs": [],
   "source": [
    "def minError(partial):\n",
    "    total = 0\n",
    "    mid = 0\n",
    "    result = 0\n",
    "    \n",
    "    for i in partial:\n",
    "        total += i\n",
    "    mid = round(total/len(partial))\n",
    "    \n",
    "    for j in range(0, len(partial)):\n",
    "        result += (partial[j]-mid)**2\n",
    "    \n",
    "    return result\n",
    "\n",
    "def quenti(start, N):\n",
    "    if len(start) <= 0:\n",
    "        return 0\n",
    "    if N == 0:\n",
    "        return 0\n",
    "    pass\n",
    "\n",
    "def main(original):\n",
    "    original = sorted()\n",
    "    pass"
   ]
  },
  {
   "cell_type": "code",
   "execution_count": null,
   "metadata": {},
   "outputs": [],
   "source": [
    "N = int(input())\n",
    "\n",
    "for _ in range(N):\n",
    "    a, b = int(input().split())\n",
    "    "
   ]
  },
  {
   "cell_type": "code",
   "execution_count": 2,
   "metadata": {},
   "outputs": [
    {
     "data": {
      "text/plain": [
       "19"
      ]
     },
     "execution_count": 2,
     "metadata": {},
     "output_type": "execute_result"
    }
   ],
   "source": [
    "minError([1,2,3,4,5,6])"
   ]
  },
  {
   "cell_type": "markdown",
   "metadata": {},
   "source": [
    "### 2XN 타일링"
   ]
  },
  {
   "cell_type": "code",
   "execution_count": 13,
   "metadata": {
    "scrolled": true
   },
   "outputs": [
    {
     "name": "stdout",
     "output_type": "stream",
     "text": [
      "5\n",
      "8\n"
     ]
    }
   ],
   "source": [
    "N = int(input())\n",
    "\n",
    "result_arr = [0, 1, 2]\n",
    "MOD = 10000000007\n",
    "\n",
    "for i in range(3, N+1):\n",
    "    result_arr.append((result_arr[i-1] + result_arr[i-2])%MOD)\n",
    "print(result_arr[N])"
   ]
  },
  {
   "cell_type": "code",
   "execution_count": 14,
   "metadata": {},
   "outputs": [
    {
     "data": {
      "text/plain": [
       "[0, 1, 2, 3, 5, 8]"
      ]
     },
     "execution_count": 14,
     "metadata": {},
     "output_type": "execute_result"
    }
   ],
   "source": [
    "result_arr"
   ]
  },
  {
   "cell_type": "code",
   "execution_count": 21,
   "metadata": {},
   "outputs": [
    {
     "name": "stdout",
     "output_type": "stream",
     "text": [
      "1\n",
      "5 4\n",
      "0.9960937500\n"
     ]
    }
   ],
   "source": [
    "#snail\n",
    "import math\n",
    " \n",
    " \n",
    "def snail(height, day):  # 비오면(75%) 1미터 안오면 0미터\n",
    "    if height <= 0:  # height = 올라가야하는 높이 day=날 수\n",
    "        return 1\n",
    "    if height > day:  # 탈출이 불가능한 경우\n",
    "        return 0\n",
    "    prop = 0  # 확률\n",
    "    for o in range(height,day+1):\n",
    "        prop += (0.75**o)*(0.25**(day-o))*(math.factorial(day)/(math.factorial(o)*math.factorial(day-o)))\n",
    "    return prop\n",
    " \n",
    " \n",
    "case = int(input())\n",
    "for i in range(case):\n",
    "    n,m=map(int, input().split())  # n=높이,m=비오는날\n",
    "    result = snail(n - m, m)  # 미리 빼준다\n",
    "    print(\"%.10f\"%result)\n"
   ]
  },
  {
   "cell_type": "markdown",
   "metadata": {},
   "source": [
    "## DP 5번 비대칭 타일링"
   ]
  },
  {
   "cell_type": "code",
   "execution_count": 20,
   "metadata": {},
   "outputs": [
    {
     "name": "stdout",
     "output_type": "stream",
     "text": [
      "8\n",
      "26\n"
     ]
    }
   ],
   "source": [
    "N = int(input())\n",
    "\n",
    "result_arr = [0, 1, 2]\n",
    "MOD = 10000000007\n",
    "result = 0\n",
    "\n",
    "for i in range(3, N+1):\n",
    "    result_arr.append((result_arr[i-1] + result_arr[i-2])%MOD)\n",
    "    \n",
    "if N %2 ==0:\n",
    "    result = (result_arr[N] - (result_arr[N//2] + result_arr[N//2-1]))%MOD\n",
    "    \n",
    "else:\n",
    "    result = (result_arr[N] - result_arr[N//2])%MOD\n",
    "    \n",
    "print(result)\n",
    "\n"
   ]
  },
  {
   "cell_type": "markdown",
   "metadata": {},
   "source": [
    "## DP 6번 폴리오미노"
   ]
  },
  {
   "cell_type": "code",
   "execution_count": null,
   "metadata": {},
   "outputs": [],
   "source": []
  }
 ],
 "metadata": {
  "kernelspec": {
   "display_name": "Python 3",
   "language": "python",
   "name": "python3"
  },
  "language_info": {
   "codemirror_mode": {
    "name": "ipython",
    "version": 3
   },
   "file_extension": ".py",
   "mimetype": "text/x-python",
   "name": "python",
   "nbconvert_exporter": "python",
   "pygments_lexer": "ipython3",
   "version": "3.6.9"
  }
 },
 "nbformat": 4,
 "nbformat_minor": 2
}
