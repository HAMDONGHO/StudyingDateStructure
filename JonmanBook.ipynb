{
 "cells": [
  {
   "cell_type": "markdown",
   "metadata": {},
   "source": [
    "## 카라츠바 알고리즘"
   ]
  },
  {
   "cell_type": "code",
   "execution_count": 7,
   "metadata": {},
   "outputs": [],
   "source": [
    "def karatsuba(x, y):\n",
    "    # 각각의 length를 구한다\n",
    "    strx, stry = str(x), str(y)\n",
    "    lenx, leny = len(strx), len(stry)\n",
    "\n",
    "    # Initialize\n",
    "    if lenx == 1 or leny ==1:\n",
    "        return x * y\n",
    "\n",
    "    # Divide\n",
    "    m = min(lenx, leny) // 2\n",
    "    a, b = int(strx[:-m]), int(strx[-m:])\n",
    "    c, d = int(stry[:-m]), int(stry[-m:])\n",
    "\n",
    "    # Conquer\n",
    "    ac = karatsuba(a, c)\n",
    "    bd = karatsuba(b, d)\n",
    "    ad_bc = karatsuba(a+b, c+d) - ac - bd\n",
    "\n",
    "    # Combine\n",
    "    return 10**(2*m) * ac + 10**m * ad_bc + bd"
   ]
  },
  {
   "cell_type": "code",
   "execution_count": 8,
   "metadata": {},
   "outputs": [
    {
     "data": {
      "text/plain": [
       "2838873784873775"
      ]
     },
     "execution_count": 8,
     "metadata": {},
     "output_type": "execute_result"
    }
   ],
   "source": [
    "import unittest\n",
    "import random\n",
    "\n",
    "x, y = random.randint(10, 100000000), random.randint(10, 100000000)\n",
    "karatsuba(x, y)"
   ]
  },
  {
   "cell_type": "markdown",
   "metadata": {},
   "source": [
    "## DP 2번 와일드카드"
   ]
  },
  {
   "cell_type": "code",
   "execution_count": null,
   "metadata": {},
   "outputs": [],
   "source": [
    "import re\n",
    " \n",
    " \n",
    "case = int(input())\n",
    "for i in range(case):\n",
    "    instr = input()  # 와일드카드 문자열 입력\n",
    "    newin = instr.replace('*', '.*').replace('?', '.')  # 와일드카드 문자열을 정규 표현식 형태로\n",
    "    filename = []\n",
    "    filenum = int(input())  # 파일의 수\n",
    "    for k in range(filenum):\n",
    "        filename.append(input())  # 파일이름 입력\n",
    "    p = re.compile(newin)  # 정규표현식\n",
    "    result = []\n",
    "    for o in filename:  # 파일마다 검사\n",
    "        if p.match(o):  # 파일이 와일드카드에 포함이 되고\n",
    "            if p.match(o).group() == o:  # 포함된 것이 원래 파일과 같다면 (포함된 것이 다르면 답에 넣지 말아야 함)\n",
    "                result.append(o)  # 답에 넣고\n",
    "    result.sort()  # 정렬하고 \n",
    "    for j in result:  # 출력\n",
    "        print(j)"
   ]
  },
  {
   "cell_type": "markdown",
   "metadata": {},
   "source": [
    "## DP 2번 합친 LIS"
   ]
  },
  {
   "cell_type": "code",
   "execution_count": null,
   "metadata": {},
   "outputs": [],
   "source": []
  },
  {
   "cell_type": "markdown",
   "metadata": {},
   "source": [
    "## DP 3번 원주율 외우기"
   ]
  },
  {
   "cell_type": "code",
   "execution_count": 10,
   "metadata": {},
   "outputs": [
    {
     "name": "stdout",
     "output_type": "stream",
     "text": [
      "1\n",
      "2222111\n",
      "2\n"
     ]
    }
   ],
   "source": [
    "def score_3(a, b, c): # 3자리씩 끊어 읽기\n",
    "    if a == b == c:\n",
    "        return 1\n",
    "    if a-b == b-c == 1 or a-b == b-c == -1:\n",
    "        return 2\n",
    "    if a == c != b:\n",
    "        return 4\n",
    "    if a-b == b-c:\n",
    "        return 5\n",
    "    return 10\n",
    " \n",
    " \n",
    "def score_4(a, b, c, d):  # 4자리씩 끊어 읽기\n",
    "    if a == b == c == d:\n",
    "        return 1\n",
    "    if a-b == b-c == c-d == 1 or a-b == b-c == c-d == -1:\n",
    "        return 2\n",
    "    if a == c and b == d and a != b:\n",
    "        return 4\n",
    "    if a-b == b-c == c-d:\n",
    "        return 5\n",
    "    return 10\n",
    " \n",
    " \n",
    "def score_5(a, b, c, d, e):  # 5자리씩 끊어 읽기\n",
    "    if a == b == c == d == e:\n",
    "        return 1\n",
    "    if a-b == b-c == c-d == d-e == 1 or a-b == b-c == c-d == d-e == -1:\n",
    "        return 2\n",
    "    if a == c == e and b == d and a != b:\n",
    "        return 4\n",
    "    if a-b == b-c == c-d == d-e:\n",
    "        return 5\n",
    "    return 10\n",
    " \n",
    " \n",
    "def pi(arr):\n",
    "    N = len(arr)\n",
    "    cache = [None] * (N+1)\n",
    "    cache[3] = score_3(arr[0], arr[1], arr[2])\n",
    "    cache[4] = score_4(arr[0], arr[1], arr[2], arr[3])\n",
    "    cache[5] = score_5(arr[0], arr[1], arr[2], arr[3], arr[4])\n",
    "    for i in range(6, N+1):\n",
    "        cand = []\n",
    "        if cache[i-3] is not None:\n",
    "            cand.append(cache[i-3] + score_3(arr[i-3], arr[i-2], arr[i-1]))\n",
    "        if cache[i-4] is not None:\n",
    "            cand.append(cache[i-4] + score_4(arr[i-4], arr[i-3], arr[i-2], arr[i-1]))\n",
    "        if cache[i-5] is not None:\n",
    "            cand.append(cache[i-5] + score_5(arr[i-5], arr[i-4], arr[i-3], arr[i-2], arr[i-1]))\n",
    "        cache[i] = min(cand)  # 최소값을 cache에 넣는다\n",
    "    return cache[-1]\n",
    " \n",
    " \n",
    "case = int(input())\n",
    "for k in range(case):\n",
    "    number = list(map(int, list(input().strip())))  # 입력을 숫자 리스트로\n",
    "    print(pi(number))"
   ]
  },
  {
   "cell_type": "markdown",
   "metadata": {},
   "source": [
    "## DP 4번 Quantization"
   ]
  },
  {
   "cell_type": "code",
   "execution_count": 1,
   "metadata": {},
   "outputs": [],
   "source": [
    "def minError(partial):\n",
    "    total = 0\n",
    "    mid = 0\n",
    "    result = 0\n",
    "    \n",
    "    for i in partial:\n",
    "        total += i\n",
    "    mid = round(total/len(partial))\n",
    "    \n",
    "    for j in range(0, len(partial)):\n",
    "        result += (partial[j]-mid)**2\n",
    "    \n",
    "    return result\n",
    "\n",
    "def quenti(start, N):\n",
    "    if len(start) <= 0:\n",
    "        return 0\n",
    "    if N == 0:\n",
    "        return 0\n",
    "    pass\n",
    "\n",
    "def main(original):\n",
    "    original = sorted()\n",
    "    pass"
   ]
  },
  {
   "cell_type": "code",
   "execution_count": null,
   "metadata": {},
   "outputs": [],
   "source": [
    "N = int(input())\n",
    "\n",
    "for _ in range(N):\n",
    "    a, b = int(input().split())\n",
    "    "
   ]
  },
  {
   "cell_type": "code",
   "execution_count": 2,
   "metadata": {},
   "outputs": [
    {
     "data": {
      "text/plain": [
       "19"
      ]
     },
     "execution_count": 2,
     "metadata": {},
     "output_type": "execute_result"
    }
   ],
   "source": [
    "minError([1,2,3,4,5,6])"
   ]
  },
  {
   "cell_type": "markdown",
   "metadata": {},
   "source": [
    "### 2XN 타일링"
   ]
  },
  {
   "cell_type": "code",
   "execution_count": 13,
   "metadata": {
    "scrolled": true
   },
   "outputs": [
    {
     "name": "stdout",
     "output_type": "stream",
     "text": [
      "5\n",
      "8\n"
     ]
    }
   ],
   "source": [
    "N = int(input())\n",
    "\n",
    "result_arr = [0, 1, 2]\n",
    "MOD = 10000000007\n",
    "\n",
    "for i in range(3, N+1):\n",
    "    result_arr.append((result_arr[i-1] + result_arr[i-2])%MOD)\n",
    "print(result_arr[N])"
   ]
  },
  {
   "cell_type": "code",
   "execution_count": 14,
   "metadata": {},
   "outputs": [
    {
     "data": {
      "text/plain": [
       "[0, 1, 2, 3, 5, 8]"
      ]
     },
     "execution_count": 14,
     "metadata": {},
     "output_type": "execute_result"
    }
   ],
   "source": [
    "result_arr"
   ]
  },
  {
   "cell_type": "code",
   "execution_count": 21,
   "metadata": {},
   "outputs": [
    {
     "name": "stdout",
     "output_type": "stream",
     "text": [
      "1\n",
      "5 4\n",
      "0.9960937500\n"
     ]
    }
   ],
   "source": [
    "#snail\n",
    "import math\n",
    " \n",
    " \n",
    "def snail(height, day):  # 비오면(75%) 1미터 안오면 0미터\n",
    "    if height <= 0:  # height = 올라가야하는 높이 day=날 수\n",
    "        return 1\n",
    "    if height > day:  # 탈출이 불가능한 경우\n",
    "        return 0\n",
    "    prop = 0  # 확률\n",
    "    for o in range(height,day+1):\n",
    "        prop += (0.75**o)*(0.25**(day-o))*(math.factorial(day)/(math.factorial(o)*math.factorial(day-o)))\n",
    "    return prop\n",
    " \n",
    " \n",
    "case = int(input())\n",
    "for i in range(case):\n",
    "    n,m=map(int, input().split())  # n=높이,m=비오는날\n",
    "    result = snail(n - m, m)  # 미리 빼준다\n",
    "    print(\"%.10f\"%result)\n"
   ]
  },
  {
   "cell_type": "markdown",
   "metadata": {},
   "source": [
    "## DP 5번 비대칭 타일링"
   ]
  },
  {
   "cell_type": "code",
   "execution_count": 20,
   "metadata": {},
   "outputs": [
    {
     "name": "stdout",
     "output_type": "stream",
     "text": [
      "8\n",
      "26\n"
     ]
    }
   ],
   "source": [
    "N = int(input())\n",
    "\n",
    "result_arr = [0, 1, 2]\n",
    "MOD = 10000000007\n",
    "result = 0\n",
    "\n",
    "for i in range(3, N+1):\n",
    "    result_arr.append((result_arr[i-1] + result_arr[i-2])%MOD)\n",
    "    \n",
    "if N %2 ==0:\n",
    "    result = (result_arr[N] - (result_arr[N//2] + result_arr[N//2-1]))%MOD\n",
    "    \n",
    "else:\n",
    "    result = (result_arr[N] - result_arr[N//2])%MOD\n",
    "    \n",
    "print(result)\n",
    "\n"
   ]
  },
  {
   "cell_type": "markdown",
   "metadata": {},
   "source": [
    "## DP 6번 폴리오미노"
   ]
  },
  {
   "cell_type": "code",
   "execution_count": 2,
   "metadata": {},
   "outputs": [
    {
     "name": "stdout",
     "output_type": "stream",
     "text": [
      "3\n",
      "2\n",
      "2\n",
      "4\n",
      "19\n",
      "92\n",
      "4841817\n"
     ]
    }
   ],
   "source": [
    "# 폴리오미노 : 정사각형 변들을 서로 완전하게 붙여 만든 도형들!\n",
    "# 세로 단조 : 어떤 가로줄도 폴리오미노를 두번 이상 교차하지 않는다는 뜻\n",
    "\n",
    "def poly(n,d):\n",
    "    if d == n:\n",
    "        return 1\n",
    "    if board[n][d] != -1:\n",
    "        return board[n][d]\n",
    "    x = n-d\n",
    "    ret = 0\n",
    "    for o in range(1,x+1):\n",
    "        ret += (o+d-1)*poly(x,o)\n",
    "        ret %= 10000000\n",
    "    board[n][d] = ret\n",
    "    return ret\n",
    " \n",
    " \n",
    "board = [[-1 for j in range(101)] for k in range(101)]\n",
    "case = int(input())\n",
    "for i in range(case):\n",
    "    num = int(input())\n",
    "    result = 0\n",
    "    for down in range(1,num+1):\n",
    "        result += poly(num, down)\n",
    "        result %= 10000000\n",
    "    print(result)"
   ]
  },
  {
   "cell_type": "markdown",
   "metadata": {},
   "source": [
    "## 회의실 배정"
   ]
  },
  {
   "cell_type": "code",
   "execution_count": 147,
   "metadata": {},
   "outputs": [
    {
     "name": "stdout",
     "output_type": "stream",
     "text": [
      "11\n",
      "1 4\n",
      "3 5\n",
      "0 6\n",
      "5 7\n",
      "3 8\n",
      "5 9\n",
      "6 10\n",
      "8 11\n",
      "8 12\n",
      "2 13\n",
      "12 14\n",
      "7 [5, 7]\n",
      "11 [8, 11]\n",
      "14 [12, 14]\n",
      "4\n"
     ]
    }
   ],
   "source": [
    "N = int(input())\n",
    "regist = []\n",
    "count = 1\n",
    "\n",
    "for _ in range(N):\n",
    "    a, b = map(int, input().split())\n",
    "    regist.append([a,b])\n",
    "    \n",
    "regist_sort = sorted(regist, key=lambda x:x[1])\n",
    "stand = regist[0][1]\n",
    "\n",
    "for i in range(1, len(regist)):\n",
    "    if regist[i][0] > stand:\n",
    "        count += 1\n",
    "        stand = regist[i][1]\n",
    "        print(stand, regist[i])\n",
    "print(count)"
   ]
  },
  {
   "cell_type": "markdown",
   "metadata": {},
   "source": [
    "## 출전 순서 정하기"
   ]
  },
  {
   "cell_type": "code",
   "execution_count": 29,
   "metadata": {},
   "outputs": [
    {
     "name": "stdout",
     "output_type": "stream",
     "text": [
      "3\n",
      "6\n",
      "3000 2700 2800 2200 2500 1900\n",
      "2800 2750 2995 1800 2600 2000\n",
      "5\n",
      "3\n",
      "1 2 3\n",
      "3 2 1\n",
      "3\n",
      "4\n",
      "2 3 4 5\n",
      "1 2 3 4\n",
      "3\n"
     ]
    }
   ],
   "source": [
    "C = int(input())\n",
    "result = []\n",
    "\n",
    "def solve(rusia, korea):\n",
    "    count = 0\n",
    "    for i in range(len(rusia)):\n",
    "        min_value = 0\n",
    "        min_index = 0\n",
    "        for j in range(len(korea)):\n",
    "            if rusia[i] <= korea[j]:\n",
    "                if min_value == 0:\n",
    "                    min_value = korea[j]\n",
    "                    min_index = j\n",
    "                elif min_value > korea[j]:\n",
    "                    min_value = korea[j]\n",
    "                    min_index = j\n",
    "\n",
    "        if min_value != 0:\n",
    "            count += 1\n",
    "            korea.pop(min_index)\n",
    "\n",
    "    return count\n",
    "\n",
    "\n",
    "for _ in range(C):\n",
    "    N = int(input())\n",
    "    rusia = list(map(int, input().split()))\n",
    "    korea = list(map(int, input().split()))\n",
    "    print(solve(rusia, korea))"
   ]
  },
  {
   "cell_type": "markdown",
   "metadata": {},
   "source": [
    "## 가장 긴 증가하는 부분 수열"
   ]
  },
  {
   "cell_type": "code",
   "execution_count": 3,
   "metadata": {},
   "outputs": [
    {
     "name": "stdout",
     "output_type": "stream",
     "text": [
      "8\n",
      "5 6 7 8 1 2 3 4\n",
      "4\n"
     ]
    }
   ],
   "source": [
    "N = int(input())\n",
    "arr = list(map(int, input().split()))\n",
    "result = []\n",
    "\n",
    "for i in range(len(arr)-1):\n",
    "    count = 1\n",
    "    pivot = arr[i]\n",
    "    for j in range(i, len(arr)):\n",
    "        if pivot < arr[j]:\n",
    "            count += 1\n",
    "            pivot = arr[j]\n",
    "    result.append(count)\n",
    "\n",
    "print(max(result))"
   ]
  },
  {
   "cell_type": "code",
   "execution_count": 36,
   "metadata": {},
   "outputs": [
    {
     "data": {
      "text/plain": [
       "[4, 3, 3, 2, 2]"
      ]
     },
     "execution_count": 36,
     "metadata": {},
     "output_type": "execute_result"
    }
   ],
   "source": [
    "result"
   ]
  },
  {
   "cell_type": "code",
   "execution_count": 37,
   "metadata": {},
   "outputs": [
    {
     "name": "stdout",
     "output_type": "stream",
     "text": [
      "6\n",
      "10 20 10 30 20 50\n"
     ]
    }
   ],
   "source": [
    "N = int(input())\n",
    "arr = list(map(int, input().split()))\n",
    "result = [1 for i in range(len(arr))]"
   ]
  },
  {
   "cell_type": "code",
   "execution_count": 39,
   "metadata": {},
   "outputs": [],
   "source": [
    "for i in range(len(arr)):\n",
    "    for j in range(i):\n",
    "        if arr[j] < arr[i]:\n",
    "            result[i] = max(result[i], result[j]+1)"
   ]
  },
  {
   "cell_type": "code",
   "execution_count": 40,
   "metadata": {},
   "outputs": [
    {
     "data": {
      "text/plain": [
       "[1, 2, 1, 3, 2, 4]"
      ]
     },
     "execution_count": 40,
     "metadata": {},
     "output_type": "execute_result"
    }
   ],
   "source": [
    "result"
   ]
  },
  {
   "cell_type": "code",
   "execution_count": 41,
   "metadata": {},
   "outputs": [
    {
     "data": {
      "text/plain": [
       "4"
      ]
     },
     "execution_count": 41,
     "metadata": {},
     "output_type": "execute_result"
    }
   ],
   "source": [
    "max(result)"
   ]
  },
  {
   "cell_type": "markdown",
   "metadata": {},
   "source": [
    "## 1로 만들기"
   ]
  },
  {
   "cell_type": "code",
   "execution_count": 25,
   "metadata": {},
   "outputs": [
    {
     "name": "stdout",
     "output_type": "stream",
     "text": [
      "10\n",
      "3\n",
      "time :  0.0003840923309326172\n"
     ]
    }
   ],
   "source": [
    "import time\n",
    "\n",
    "N = int(input())\n",
    "fix_count = 99999\n",
    "\n",
    "start = time.time()\n",
    "def dfs(N, count):\n",
    "    global fix_count\n",
    "    if N ==1:\n",
    "        fix_count = min(fix_count, count)\n",
    "        return\n",
    "        \n",
    "    if N % 3 ==0:\n",
    "        dfs(N//3, count+1)\n",
    "    \n",
    "    if N % 2 ==0:\n",
    "        dfs(N//2, count+1)\n",
    "        \n",
    "    dfs(N-1, count+1)\n",
    "\n",
    "dfs(N, 0)\n",
    "print(fix_count)\n",
    "print(\"time : \", time.time() - start)"
   ]
  },
  {
   "cell_type": "code",
   "execution_count": 36,
   "metadata": {},
   "outputs": [
    {
     "name": "stdout",
     "output_type": "stream",
     "text": [
      "10\n",
      "3\n"
     ]
    }
   ],
   "source": [
    "N = int(input())\n",
    "dp = [0 for _ in range(N+1)]\n",
    "\n",
    "dp[1] = 0\n",
    "\n",
    "for i in range(2, N+1):\n",
    "    dp[i] = dp[i-1] + 1\n",
    "    \n",
    "    if i%2 == 0:\n",
    "        dp[i] = min(dp[i], dp[int(i//2)]+1)\n",
    "    if i%3 == 0:\n",
    "        dp[i] = min(dp[i], dp[int(i//3)]+1)\n",
    "        \n",
    "print(dp[-1])"
   ]
  },
  {
   "cell_type": "markdown",
   "metadata": {},
   "source": [
    "## DFS와 BFS"
   ]
  },
  {
   "cell_type": "code",
   "execution_count": 1,
   "metadata": {},
   "outputs": [
    {
     "name": "stdout",
     "output_type": "stream",
     "text": [
      "5 5 3\n",
      "5 4\n",
      "5 2\n",
      "1 2\n",
      "3 4\n",
      "3 1\n"
     ]
    }
   ],
   "source": [
    "N, M, V = map(int, input().split())\n",
    "arr = [[] for _ in range(N+1)]\n",
    "\n",
    "for _ in range(M):\n",
    "    a, b = map(int, input().split())\n",
    "    arr[a].append(b)"
   ]
  },
  {
   "cell_type": "code",
   "execution_count": 2,
   "metadata": {},
   "outputs": [
    {
     "data": {
      "text/plain": [
       "[[], [2], [], [4, 1], [], [4, 2]]"
      ]
     },
     "execution_count": 2,
     "metadata": {},
     "output_type": "execute_result"
    }
   ],
   "source": [
    "arr"
   ]
  },
  {
   "cell_type": "code",
   "execution_count": 3,
   "metadata": {},
   "outputs": [],
   "source": [
    "from collections import deque\n",
    "dfs_stack = []\n",
    "dfs_visited = [False]*(N+1)\n",
    "bfs_visited = [False]*(N+1)\n",
    "bfs_result = []\n",
    "dfs_result = []\n",
    "\n",
    "def dfs():\n",
    "    dfs_stack.append(V)\n",
    "    \n",
    "    while dfs_stack:\n",
    "        num = dfs_stack.pop()\n",
    "        if dfs_visited[num] == False:\n",
    "            dfs_visited[num] = True\n",
    "            dfs_stack.extend(arr[num])\n",
    "            print(dfs_stack)\n",
    "            \n",
    "            if num not in dfs_result:\n",
    "                dfs_result.append(num)\n",
    "    print(dfs_result)\n",
    "            \n",
    "def bfs():\n",
    "    bfs_queue = deque([V])\n",
    "    \n",
    "    while bfs_queue:\n",
    "        num = bfs_queue.popleft()\n",
    "        \n",
    "        if bfs_visited[num] == False:\n",
    "            bfs_visited[num] == True\n",
    "            bfs_queue.extend(arr[num])\n",
    "            \n",
    "            if num not in bfs_result:\n",
    "                bfs_result.append(num)\n",
    "    print(bfs_result)"
   ]
  },
  {
   "cell_type": "code",
   "execution_count": 4,
   "metadata": {},
   "outputs": [
    {
     "name": "stdout",
     "output_type": "stream",
     "text": [
      "[4, 1]\n",
      "[4, 2]\n",
      "[4]\n",
      "[]\n",
      "[3, 1, 2, 4]\n"
     ]
    }
   ],
   "source": [
    "dfs()"
   ]
  },
  {
   "cell_type": "code",
   "execution_count": 99,
   "metadata": {},
   "outputs": [
    {
     "name": "stdout",
     "output_type": "stream",
     "text": [
      "[3, 4, 1, 2]\n"
     ]
    }
   ],
   "source": [
    "bfs()"
   ]
  },
  {
   "cell_type": "code",
   "execution_count": 100,
   "metadata": {},
   "outputs": [
    {
     "name": "stdout",
     "output_type": "stream",
     "text": [
      "5 4\n",
      "5 2\n",
      "1 2\n",
      "3 4\n",
      "3 1\n"
     ]
    }
   ],
   "source": [
    "matrix=[[0]*(N+1) for i in range(N+1)]\n",
    "for i in range(M):\n",
    "    a,b = map(int,input().split())\n",
    "    matrix[a][b]=matrix[b][a]=1\n",
    "visit_list=[0]*(N+1)\n",
    "\n",
    "def dfs(V):\n",
    "    visit_list[V]=1 #방문한 점 1로 표시\n",
    "    print(V, end=' ')\n",
    "    for i in range(1,N+1):\n",
    "        if(visit_list[i]==0 and matrix[V][i]==1):\n",
    "            dfs(i)\n",
    "\n",
    "def bfs(V):\n",
    "    queue=[V] #들려야 할 정점 저장\n",
    "    visit_list[V]=0 #방문한 점 0으로 표시\n",
    "    while queue:\n",
    "        V=queue.pop(0)\n",
    "        print(V, end=' ')\n",
    "        for i in range(1, N+1):\n",
    "            if(visit_list[i]==1 and matrix[V][i]==1):\n",
    "                queue.append(i)\n",
    "                visit_list[i]=0"
   ]
  },
  {
   "cell_type": "code",
   "execution_count": 101,
   "metadata": {},
   "outputs": [
    {
     "name": "stdout",
     "output_type": "stream",
     "text": [
      "3 1 2 5 4 "
     ]
    }
   ],
   "source": [
    "dfs(3)"
   ]
  },
  {
   "cell_type": "code",
   "execution_count": 102,
   "metadata": {},
   "outputs": [
    {
     "name": "stdout",
     "output_type": "stream",
     "text": [
      "3 1 4 2 5 "
     ]
    }
   ],
   "source": [
    "bfs(3)"
   ]
  },
  {
   "cell_type": "markdown",
   "metadata": {},
   "source": [
    "## 1, 2, 3 더하기"
   ]
  },
  {
   "cell_type": "code",
   "execution_count": 10,
   "metadata": {},
   "outputs": [
    {
     "name": "stdout",
     "output_type": "stream",
     "text": [
      "3\n",
      "4\n",
      "7\n",
      "10\n",
      "7\n",
      "44\n",
      "274\n"
     ]
    }
   ],
   "source": [
    "N = int(input())\n",
    "want = []\n",
    "count = 0\n",
    "for _ in range(N):\n",
    "    a = int(input())\n",
    "    want.append(a)\n",
    "    \n",
    "def dfs(N):\n",
    "    global count\n",
    "    \n",
    "    if N == 0:\n",
    "        count += 1\n",
    "        return\n",
    "    elif N < 0:\n",
    "        return\n",
    "    dfs(N-1)\n",
    "    dfs(N-2)\n",
    "    dfs(N-3)\n",
    "\n",
    "for i in want:\n",
    "    dfs(i)\n",
    "    print(count)\n",
    "    count = 0"
   ]
  },
  {
   "cell_type": "code",
   "execution_count": 20,
   "metadata": {},
   "outputs": [
    {
     "name": "stdout",
     "output_type": "stream",
     "text": [
      "3\n",
      "4\n",
      "7\n",
      "10\n",
      "7\n",
      "44\n",
      "274\n"
     ]
    }
   ],
   "source": [
    "N = int(input())\n",
    "dp = [0 for _ in range(99999)]\n",
    "want = []\n",
    "dp[1] = 1\n",
    "dp[2] = 2\n",
    "dp[3] = 4\n",
    "\n",
    "for _ in range(N):\n",
    "    a = int(input())\n",
    "    want.append(a)\n",
    "    \n",
    "for i in range(4, max(want)+1):\n",
    "    dp[i] = dp[i-3]+dp[i-2]+dp[i-1]\n",
    "    \n",
    "for i in want:\n",
    "    print(dp[i])"
   ]
  },
  {
   "cell_type": "markdown",
   "metadata": {},
   "source": [
    "## 단지번호붙이기"
   ]
  },
  {
   "cell_type": "code",
   "execution_count": 122,
   "metadata": {},
   "outputs": [
    {
     "name": "stdout",
     "output_type": "stream",
     "text": [
      "7\n",
      "0110100\n",
      "0110101\n",
      "1110101\n",
      "0000111\n",
      "0100000\n",
      "0111110\n",
      "0111000\n"
     ]
    }
   ],
   "source": [
    "N = int(input())\n",
    "arr = []\n",
    "\n",
    "for _ in range(N):\n",
    "    arr.append(list(map(int, input())))"
   ]
  },
  {
   "cell_type": "code",
   "execution_count": 123,
   "metadata": {},
   "outputs": [
    {
     "data": {
      "text/plain": [
       "[[0, 1, 1, 0, 1, 0, 0],\n",
       " [0, 1, 1, 0, 1, 0, 1],\n",
       " [1, 1, 1, 0, 1, 0, 1],\n",
       " [0, 0, 0, 0, 1, 1, 1],\n",
       " [0, 1, 0, 0, 0, 0, 0],\n",
       " [0, 1, 1, 1, 1, 1, 0],\n",
       " [0, 1, 1, 1, 0, 0, 0]]"
      ]
     },
     "execution_count": 123,
     "metadata": {},
     "output_type": "execute_result"
    }
   ],
   "source": [
    "arr"
   ]
  },
  {
   "cell_type": "code",
   "execution_count": 153,
   "metadata": {},
   "outputs": [],
   "source": [
    "import copy\n",
    "bfs_arr = copy.deepcopy(arr)\n",
    "dfs_arr = copy.deepcopy(arr)\n",
    "count = 0\n",
    "result_dfs = []\n",
    "result_bfs = []"
   ]
  },
  {
   "cell_type": "code",
   "execution_count": 131,
   "metadata": {},
   "outputs": [],
   "source": [
    "def dfs(arr, i, j):\n",
    "    global count\n",
    "    \n",
    "    if i <= -1 or j <= -1 or i >= len(arr) or j >= len(arr):\n",
    "        return\n",
    "    \n",
    "    if arr[i][j] != 0:\n",
    "        arr[i][j] = 0\n",
    "        count += 1\n",
    "        dfs(arr, i+1, j)\n",
    "        dfs(arr, i, j+1)\n",
    "        dfs(arr, i-1, j)\n",
    "        dfs(arr, i, j-1)\n",
    "    \n",
    "    else:\n",
    "        return\n",
    "        \n",
    "    return count"
   ]
  },
  {
   "cell_type": "code",
   "execution_count": 132,
   "metadata": {},
   "outputs": [
    {
     "name": "stdout",
     "output_type": "stream",
     "text": [
      "3\n",
      "7\n",
      "8\n",
      "9\n"
     ]
    }
   ],
   "source": [
    "for i in range(len(arr)):\n",
    "    for j in range(len(arr)):\n",
    "        dfs(dfs_arr, i, j)\n",
    "        if count:\n",
    "            result_dfs.append(count)\n",
    "            count = 0\n",
    "        else:\n",
    "            continue\n",
    "\n",
    "result_dfs = sorted(result_dfs)\n",
    "print(len(result_dfs))\n",
    "for i in result_dfs:\n",
    "    print(i)"
   ]
  },
  {
   "cell_type": "code",
   "execution_count": 154,
   "metadata": {
    "scrolled": true
   },
   "outputs": [],
   "source": [
    "from collections import deque\n",
    "dx = [-1, 1, 0, 0]\n",
    "dy = [0, 0, -1, 1]\n",
    "\n",
    "def bfs(arr, i, j):\n",
    "    global count\n",
    "    q = deque()\n",
    "    q.append((i,j))\n",
    "    \n",
    "    while q:\n",
    "        x, y = q.popleft()\n",
    "        \n",
    "        if arr[x][y] == 1:\n",
    "            arr[x][y] = 0\n",
    "            count += 1\n",
    "        \n",
    "        for k in range(4):\n",
    "            ni, nj = x+dx[k], y+dy[k]\n",
    "            \n",
    "            if 0<=ni<N and 0<=nj<N:\n",
    "                if arr[ni][nj] == 1:\n",
    "                    count += 1\n",
    "                    q.append((ni,nj))\n",
    "                    arr[ni][nj] = 0\n",
    "    return count"
   ]
  },
  {
   "cell_type": "code",
   "execution_count": 155,
   "metadata": {},
   "outputs": [
    {
     "name": "stdout",
     "output_type": "stream",
     "text": [
      "3\n",
      "7\n",
      "8\n",
      "9\n"
     ]
    }
   ],
   "source": [
    "for i in range(len(arr)):\n",
    "    for j in range(len(arr)):\n",
    "        bfs(bfs_arr, i, j)\n",
    "        if count:\n",
    "            result_bfs.append(count)\n",
    "            count = 0\n",
    "        else:\n",
    "            continue\n",
    "\n",
    "print(len(result_bfs))\n",
    "for i in result_bfs:\n",
    "    print(i)"
   ]
  },
  {
   "cell_type": "code",
   "execution_count": 2,
   "metadata": {},
   "outputs": [
    {
     "name": "stdout",
     "output_type": "stream",
     "text": [
      "7\n",
      "0110100\n",
      "0110101\n",
      "1110101\n",
      "0000111\n",
      "0100000\n",
      "0111110\n",
      "0111000\n",
      "3\n",
      "7\n",
      "8\n",
      "9\n"
     ]
    }
   ],
   "source": [
    "N = int(input())\n",
    "count = 0\n",
    "result = []\n",
    "arr = []\n",
    "\n",
    "def dfs(arr, i, j):\n",
    "    global count\n",
    "    \n",
    "    if i <= -1 or j <= -1 or i >= len(arr) or j >= len(arr):\n",
    "        return\n",
    "    \n",
    "    if arr[i][j] == 1:\n",
    "        arr[i][j] = 2\n",
    "        count += 1\n",
    "        dfs(arr, i+1, j)\n",
    "        dfs(arr, i, j+1)\n",
    "        dfs(arr, i-1, j)\n",
    "        dfs(arr, i, j-1)\n",
    "    \n",
    "    else:\n",
    "        return\n",
    "        \n",
    "    return count\n",
    "\n",
    "for _ in range(N):\n",
    "    arr.append(list(map(int, input())))\n",
    "\n",
    "for i in range(len(arr)):\n",
    "    for j in range(len(arr)):\n",
    "        dfs(arr, i, j)\n",
    "        if count:\n",
    "            result.append(count)\n",
    "            count = 0\n",
    "        else:\n",
    "            continue\n",
    "\n",
    "result = sorted(result)\n",
    "print(len(result))\n",
    "for i in result:\n",
    "    print(i)"
   ]
  },
  {
   "cell_type": "code",
   "execution_count": 3,
   "metadata": {},
   "outputs": [
    {
     "data": {
      "text/plain": [
       "[[0, 2, 2, 0, 2, 0, 0],\n",
       " [0, 2, 2, 0, 2, 0, 2],\n",
       " [2, 2, 2, 0, 2, 0, 2],\n",
       " [0, 0, 0, 0, 2, 2, 2],\n",
       " [0, 2, 0, 0, 0, 0, 0],\n",
       " [0, 2, 2, 2, 2, 2, 0],\n",
       " [0, 2, 2, 2, 0, 0, 0]]"
      ]
     },
     "execution_count": 3,
     "metadata": {},
     "output_type": "execute_result"
    }
   ],
   "source": [
    "arr"
   ]
  },
  {
   "cell_type": "code",
   "execution_count": 157,
   "metadata": {},
   "outputs": [
    {
     "name": "stdout",
     "output_type": "stream",
     "text": [
      "7\n",
      "0110100\n",
      "0110101\n",
      "1110101\n",
      "0000111\n",
      "0100000\n",
      "0111110\n",
      "0111000\n",
      "3\n",
      "7\n",
      "8\n",
      "9\n"
     ]
    }
   ],
   "source": [
    "from collections import deque\n",
    "\n",
    "N = int(input())\n",
    "count = 0\n",
    "result = []\n",
    "arr = []\n",
    "dx = [-1, 1, 0, 0]\n",
    "dy = [0, 0, -1, 1]\n",
    "\n",
    "def bfs(arr, i, j):\n",
    "    global count\n",
    "    q = deque()\n",
    "    q.append((i,j))\n",
    "    \n",
    "    while q:\n",
    "        x, y = q.popleft()\n",
    "        \n",
    "        if arr[x][y] == 1:\n",
    "            arr[x][y] = 0\n",
    "            count += 1\n",
    "        \n",
    "        for k in range(4):\n",
    "            ni, nj = x+dx[k], y+dy[k]\n",
    "            \n",
    "            if 0<=ni<N and 0<=nj<N:\n",
    "                if arr[ni][nj] == 1:\n",
    "                    count += 1\n",
    "                    q.append((ni,nj))\n",
    "                    arr[ni][nj] = 0\n",
    "    return count\n",
    "\n",
    "for _ in range(N):\n",
    "    arr.append(list(map(int, input())))\n",
    "\n",
    "for i in range(len(arr)):\n",
    "    for j in range(len(arr)):\n",
    "        bfs(arr, i, j)\n",
    "        if count:\n",
    "            result.append(count)\n",
    "            count = 0\n",
    "        else:\n",
    "            continue\n",
    "\n",
    "result = sorted(result)\n",
    "print(len(result))\n",
    "for i in result:\n",
    "    print(i)"
   ]
  },
  {
   "cell_type": "code",
   "execution_count": 158,
   "metadata": {},
   "outputs": [
    {
     "data": {
      "text/plain": [
       "[[0, 0, 0, 0, 0, 0, 0],\n",
       " [0, 0, 0, 0, 0, 0, 0],\n",
       " [0, 0, 0, 0, 0, 0, 0],\n",
       " [0, 0, 0, 0, 0, 0, 0],\n",
       " [0, 0, 0, 0, 0, 0, 0],\n",
       " [0, 0, 0, 0, 0, 0, 0],\n",
       " [0, 0, 0, 0, 0, 0, 0]]"
      ]
     },
     "execution_count": 158,
     "metadata": {},
     "output_type": "execute_result"
    }
   ],
   "source": [
    "arr"
   ]
  },
  {
   "cell_type": "markdown",
   "metadata": {},
   "source": [
    "## 로프"
   ]
  },
  {
   "cell_type": "code",
   "execution_count": 25,
   "metadata": {},
   "outputs": [
    {
     "name": "stdout",
     "output_type": "stream",
     "text": [
      "5\n",
      "32\n",
      "30\n",
      "25\n",
      "12\n",
      "1\n",
      "[1, 12, 25, 30, 32] 5\n",
      "75\n"
     ]
    }
   ],
   "source": [
    "N = int(input())\n",
    "value = []\n",
    "result = 0\n",
    "\n",
    "for i in range(N):\n",
    "    value.append(int(input()))\n",
    "    \n",
    "value.sort()\n",
    "max_value = max(value)\n",
    "num = N\n",
    "    \n",
    "for i in range(N):\n",
    "    if max_value < value[i]*num:\n",
    "        result = value[i]*num\n",
    "        max_value = value[i]*num\n",
    "        \n",
    "    if max_value >= value[i]*num:\n",
    "        result = max_value\n",
    "        \n",
    "    num -= 1\n",
    "        \n",
    "print(result)"
   ]
  },
  {
   "cell_type": "code",
   "execution_count": 18,
   "metadata": {},
   "outputs": [
    {
     "name": "stdout",
     "output_type": "stream",
     "text": [
      "5\n",
      "32\n",
      "12\n",
      "30\n",
      "25\n",
      "1\n",
      "75\n"
     ]
    }
   ],
   "source": [
    "n = int(input())\n",
    "arr = []\n",
    "for i in range(n):\n",
    "    arr.append(int(input()))\n",
    "    \n",
    "arr.sort(reverse=True)\n",
    "solution=[]\n",
    "for i in range(len(arr)):\n",
    "    solution.append(arr[i] * (i+1))\n",
    "\n",
    "print(max(solution))"
   ]
  },
  {
   "cell_type": "markdown",
   "metadata": {},
   "source": [
    "## 수 찾기"
   ]
  },
  {
   "cell_type": "code",
   "execution_count": 10,
   "metadata": {},
   "outputs": [
    {
     "name": "stdout",
     "output_type": "stream",
     "text": [
      "5\n",
      "4 1 5 2 3\n",
      "5\n",
      "1 3 7 9 5\n",
      "1\n",
      "1\n",
      "0\n",
      "0\n",
      "1\n"
     ]
    }
   ],
   "source": [
    "import sys\n",
    "from sys import stdin\n",
    "sys.setrecursionlimit(10000)\n",
    "\n",
    "N = int(input())\n",
    "arr = list(map(int, input().split()))\n",
    "M = int(input())\n",
    "find = list(map(int,input().split()))\n",
    "\n",
    "arr = sorted(arr)\n",
    "\n",
    "def binary(arr, x):\n",
    "    if len(arr) == 1:\n",
    "        if arr[0] == x:\n",
    "            return 1\n",
    "        else:\n",
    "            return 0\n",
    "        \n",
    "    mid = len(arr)//2\n",
    "    \n",
    "    if arr[mid] == x:\n",
    "        return 1\n",
    "    \n",
    "    if arr[mid] <= x:\n",
    "        return binary(arr[mid:], x)\n",
    "    else:\n",
    "        return binary(arr[:mid], x)\n",
    "    \n",
    "for i in find:\n",
    "    print(binary(arr, i))"
   ]
  },
  {
   "cell_type": "markdown",
   "metadata": {},
   "source": [
    "## 연속합"
   ]
  },
  {
   "cell_type": "code",
   "execution_count": 6,
   "metadata": {},
   "outputs": [
    {
     "name": "stdout",
     "output_type": "stream",
     "text": [
      "10\n",
      "10 -4 3 1 5 6 -35 12 21 -1\n",
      "33\n"
     ]
    }
   ],
   "source": [
    "N = int(input())\n",
    "arr = list(map(int, input().split()))\n",
    "dp = [0 for _ in range(len(arr))]\n",
    "dp[0] = arr[0]\n",
    "\n",
    "for i in range(1, len(arr)):\n",
    "    a = dp[i-1] + arr[i]\n",
    "\n",
    "    if a > arr[i]:\n",
    "        dp[i] = a\n",
    "    else:\n",
    "        dp[i] = arr[i]\n",
    "        \n",
    "print(max(dp))"
   ]
  },
  {
   "cell_type": "markdown",
   "metadata": {},
   "source": [
    "## 토마토"
   ]
  },
  {
   "cell_type": "code",
   "execution_count": 6,
   "metadata": {},
   "outputs": [
    {
     "name": "stdout",
     "output_type": "stream",
     "text": [
      "6 4\n",
      "1 -1 0 0 0 0\n",
      "0 -1 0 0 0 0\n",
      "0 0 0 0 -1 0\n",
      "0 0 0 0 -1 1\n"
     ]
    }
   ],
   "source": [
    "N, M = map(int, input().split())\n",
    "arr = []\n",
    "\n",
    "for _ in range(M):\n",
    "    a = list(map(int, input().split()))\n",
    "    arr.append(a)"
   ]
  },
  {
   "cell_type": "code",
   "execution_count": 7,
   "metadata": {},
   "outputs": [],
   "source": [
    "from collections import deque\n",
    "import copy\n",
    "bfs_arr = copy.deepcopy(arr)\n",
    "q = deque()"
   ]
  },
  {
   "cell_type": "code",
   "execution_count": 8,
   "metadata": {},
   "outputs": [],
   "source": [
    "for i in range(M):\n",
    "    for j in range(N):\n",
    "        if arr[i][j] == 1:\n",
    "            q.append((i,j))"
   ]
  },
  {
   "cell_type": "code",
   "execution_count": 9,
   "metadata": {},
   "outputs": [
    {
     "data": {
      "text/plain": [
       "deque([(0, 0), (3, 5)])"
      ]
     },
     "execution_count": 9,
     "metadata": {},
     "output_type": "execute_result"
    }
   ],
   "source": [
    "q"
   ]
  },
  {
   "cell_type": "code",
   "execution_count": 10,
   "metadata": {},
   "outputs": [],
   "source": [
    "count = 0\n",
    "dx = [1, -1, 0, 0]\n",
    "dy = [0, 0, 1, -1]\n",
    "def bfs(arr):\n",
    "    global count\n",
    "    count_total = len(q)\n",
    "    while q:\n",
    "        if count_total == 0:\n",
    "            count += 1\n",
    "            count_total = len(q)\n",
    "            \n",
    "        x, y = q.popleft()\n",
    "        count_total -= 1\n",
    "        print(x, y, \"count_total: \", count_total, \"count : \", count)\n",
    "        \n",
    "        for i in range(4):\n",
    "            nx = x + dx[i]\n",
    "            ny = y + dy[i]\n",
    "            \n",
    "            if 0<=nx< M and 0<=ny <N:\n",
    "                if arr[nx][ny] == 0:\n",
    "                    q.append((nx, ny))\n",
    "                    arr[nx][ny] = 1"
   ]
  },
  {
   "cell_type": "code",
   "execution_count": 11,
   "metadata": {},
   "outputs": [
    {
     "name": "stdout",
     "output_type": "stream",
     "text": [
      "0 0 count_total:  1 count :  0\n",
      "3 5 count_total:  0 count :  0\n",
      "1 0 count_total:  1 count :  1\n",
      "2 5 count_total:  0 count :  1\n",
      "2 0 count_total:  1 count :  2\n",
      "1 5 count_total:  0 count :  2\n",
      "3 0 count_total:  3 count :  3\n",
      "2 1 count_total:  2 count :  3\n",
      "0 5 count_total:  1 count :  3\n",
      "1 4 count_total:  0 count :  3\n",
      "3 1 count_total:  3 count :  4\n",
      "2 2 count_total:  2 count :  4\n",
      "0 4 count_total:  1 count :  4\n",
      "1 3 count_total:  0 count :  4\n",
      "3 2 count_total:  3 count :  5\n",
      "1 2 count_total:  2 count :  5\n",
      "2 3 count_total:  1 count :  5\n",
      "0 3 count_total:  0 count :  5\n",
      "3 3 count_total:  1 count :  6\n",
      "0 2 count_total:  0 count :  6\n"
     ]
    }
   ],
   "source": [
    "bfs(bfs_arr)"
   ]
  },
  {
   "cell_type": "code",
   "execution_count": 146,
   "metadata": {},
   "outputs": [
    {
     "name": "stdout",
     "output_type": "stream",
     "text": [
      "14\n"
     ]
    }
   ],
   "source": [
    "for i in range(M):\n",
    "    for j in range(N):\n",
    "        if bfs_arr[i][j] == 0:\n",
    "            count = -1\n",
    "            break\n",
    "\n",
    "print(count)"
   ]
  },
  {
   "cell_type": "markdown",
   "metadata": {},
   "source": [
    "## 바이러스"
   ]
  },
  {
   "cell_type": "code",
   "execution_count": 56,
   "metadata": {},
   "outputs": [
    {
     "name": "stdout",
     "output_type": "stream",
     "text": [
      "7\n",
      "6\n",
      "1 2\n",
      "2 3\n",
      "1 5\n",
      "5 2\n",
      "5 6\n",
      "4 7\n"
     ]
    }
   ],
   "source": [
    "N = int(input())\n",
    "con = int(input())\n",
    "arr = [[] for _ in range(N+1)]\n",
    "visitied = [False for _ in range(N+1)]\n",
    "\n",
    "for _ in range(con):\n",
    "    a, b = map(int, input().split())\n",
    "    arr[a].append(b)"
   ]
  },
  {
   "cell_type": "code",
   "execution_count": 52,
   "metadata": {},
   "outputs": [
    {
     "data": {
      "text/plain": [
       "[[], [2, 5], [3], [], [7], [2, 6], [], []]"
      ]
     },
     "execution_count": 52,
     "metadata": {},
     "output_type": "execute_result"
    }
   ],
   "source": [
    "arr"
   ]
  },
  {
   "cell_type": "code",
   "execution_count": 57,
   "metadata": {},
   "outputs": [],
   "source": [
    "count = 0\n",
    "stack = []\n",
    "def dfs(arr, start):\n",
    "    global count\n",
    "    \n",
    "    stack.extend(arr[start])\n",
    "    visitied[start] = True\n",
    "    while stack:\n",
    "        visit = stack.pop()\n",
    "        if visitied[visit] != True:\n",
    "            count += 1\n",
    "            visitied[visit] = True\n",
    "            stack.extend(arr[visit])"
   ]
  },
  {
   "cell_type": "code",
   "execution_count": 58,
   "metadata": {},
   "outputs": [
    {
     "name": "stdout",
     "output_type": "stream",
     "text": [
      "4\n"
     ]
    }
   ],
   "source": [
    "dfs(arr, 1)\n",
    "print(count)"
   ]
  },
  {
   "cell_type": "code",
   "execution_count": null,
   "metadata": {},
   "outputs": [],
   "source": []
  },
  {
   "cell_type": "code",
   "execution_count": 59,
   "metadata": {},
   "outputs": [
    {
     "name": "stdout",
     "output_type": "stream",
     "text": [
      "7\n",
      "6\n",
      "1 2\n",
      "2 3\n",
      "1 5\n",
      "5 2\n",
      "5 6\n",
      "4 7\n"
     ]
    }
   ],
   "source": [
    "N = int(input())\n",
    "con = int(input())\n",
    "arr = [[] for _ in range(N+1)]\n",
    "visitied = [False for _ in range(N+1)]\n",
    "\n",
    "for _ in range(con):\n",
    "    a, b = map(int, input().split())\n",
    "    arr[a].append(b)\n",
    "    arr[b].append(a)"
   ]
  },
  {
   "cell_type": "code",
   "execution_count": 60,
   "metadata": {},
   "outputs": [
    {
     "data": {
      "text/plain": [
       "[[], [2, 5], [1, 3, 5], [2], [7], [1, 2, 6], [5], [4]]"
      ]
     },
     "execution_count": 60,
     "metadata": {},
     "output_type": "execute_result"
    }
   ],
   "source": [
    "arr"
   ]
  },
  {
   "cell_type": "code",
   "execution_count": 62,
   "metadata": {},
   "outputs": [],
   "source": [
    "count = 0\n",
    "stack = []\n",
    "def dfs(arr, start):\n",
    "    global count\n",
    "    \n",
    "    stack.extend(arr[start])\n",
    "    visitied[start] = True\n",
    "    while stack:\n",
    "        visit = stack.pop()\n",
    "        if visitied[visit] != True:\n",
    "            count += 1\n",
    "            visitied[visit] = True\n",
    "            stack.extend(arr[visit])"
   ]
  },
  {
   "cell_type": "code",
   "execution_count": 63,
   "metadata": {},
   "outputs": [
    {
     "name": "stdout",
     "output_type": "stream",
     "text": [
      "4\n"
     ]
    }
   ],
   "source": [
    "dfs(arr, 1)\n",
    "print(count)"
   ]
  },
  {
   "cell_type": "markdown",
   "metadata": {},
   "source": [
    "## 신입사원"
   ]
  },
  {
   "cell_type": "code",
   "execution_count": 12,
   "metadata": {},
   "outputs": [
    {
     "name": "stdout",
     "output_type": "stream",
     "text": [
      "2\n",
      "5\n",
      "3 2\n",
      "1 4\n",
      "4 1\n",
      "2 3\n",
      "5 5\n",
      "7\n",
      "3 6\n",
      "7 3\n",
      "4 2\n",
      "1 4\n",
      "5 7\n",
      "2 5\n",
      "6 1\n",
      "4\n",
      "3\n"
     ]
    }
   ],
   "source": [
    "N = int(input())\n",
    "result = []\n",
    "\n",
    "for _ in range(N):\n",
    "    a = int(input())\n",
    "    arr = []\n",
    "    for _ in range(a):\n",
    "        a, b = map(int, input().split())\n",
    "        arr.append((a,b))\n",
    "    result.append(new(arr))\n",
    "\n",
    "for i in range(len(result)):\n",
    "    print(result[i])"
   ]
  },
  {
   "cell_type": "code",
   "execution_count": 9,
   "metadata": {},
   "outputs": [],
   "source": [
    "def new(arr):\n",
    "    result = 1\n",
    "    arr = sorted(arr)\n",
    "    pivot = arr[0][1]\n",
    "    \n",
    "    for i in range(1, len(arr)):\n",
    "        if arr[i][1] <= pivot:\n",
    "            pivot = arr[i][1]\n",
    "            result += 1\n",
    "    return result"
   ]
  },
  {
   "cell_type": "markdown",
   "metadata": {},
   "source": [
    "## 쉬운 계단 수(못풀음)"
   ]
  },
  {
   "cell_type": "code",
   "execution_count": 1,
   "metadata": {},
   "outputs": [],
   "source": [
    "a = 20"
   ]
  },
  {
   "cell_type": "code",
   "execution_count": 6,
   "metadata": {},
   "outputs": [],
   "source": [
    "a = str(a)"
   ]
  },
  {
   "cell_type": "code",
   "execution_count": 7,
   "metadata": {},
   "outputs": [
    {
     "data": {
      "text/plain": [
       "2"
      ]
     },
     "execution_count": 7,
     "metadata": {},
     "output_type": "execute_result"
    }
   ],
   "source": [
    "len(a)"
   ]
  },
  {
   "cell_type": "code",
   "execution_count": 51,
   "metadata": {},
   "outputs": [
    {
     "name": "stdout",
     "output_type": "stream",
     "text": [
      "2\n",
      "10\n",
      "11\n",
      "12\n",
      "13\n",
      "14\n",
      "15\n",
      "16\n",
      "17\n",
      "18\n",
      "19\n",
      "20\n",
      "21\n",
      "22\n",
      "23\n",
      "24\n",
      "25\n",
      "26\n",
      "27\n",
      "28\n",
      "29\n",
      "30\n",
      "31\n",
      "32\n",
      "33\n",
      "34\n",
      "35\n",
      "36\n",
      "37\n",
      "38\n",
      "39\n",
      "40\n",
      "41\n",
      "42\n",
      "43\n",
      "44\n",
      "45\n",
      "46\n",
      "47\n",
      "48\n",
      "49\n",
      "50\n",
      "51\n",
      "52\n",
      "53\n",
      "54\n",
      "55\n",
      "56\n",
      "57\n",
      "58\n",
      "59\n",
      "60\n",
      "61\n",
      "62\n",
      "63\n",
      "64\n",
      "65\n",
      "66\n",
      "67\n",
      "68\n",
      "69\n",
      "70\n",
      "71\n",
      "72\n",
      "73\n",
      "74\n",
      "75\n",
      "76\n",
      "77\n",
      "78\n",
      "79\n",
      "80\n",
      "81\n",
      "82\n",
      "83\n",
      "84\n",
      "85\n",
      "86\n",
      "87\n",
      "88\n",
      "89\n",
      "90\n",
      "91\n",
      "92\n",
      "93\n",
      "94\n",
      "95\n",
      "96\n",
      "97\n",
      "98\n",
      "99\n"
     ]
    }
   ],
   "source": [
    "N = int(input())\n",
    "result = []\n",
    "start = 0\n",
    "a = str(start)\n",
    "count = 0\n",
    "\n",
    "while len(a) <= N:\n",
    "    count += 1\n",
    "    a = str(count)\n",
    "    if len(a) == N:\n",
    "        if abs(start - count) == 1:\n",
    "            print(count)\n",
    "            result.append(count)\n",
    "            start = count\n",
    "        else:\n",
    "            start = count\n",
    "    else:\n",
    "        start = count"
   ]
  },
  {
   "cell_type": "code",
   "execution_count": 48,
   "metadata": {},
   "outputs": [
    {
     "data": {
      "text/plain": [
       "2"
      ]
     },
     "execution_count": 48,
     "metadata": {},
     "output_type": "execute_result"
    }
   ],
   "source": [
    "len(a)"
   ]
  },
  {
   "cell_type": "code",
   "execution_count": 50,
   "metadata": {},
   "outputs": [
    {
     "data": {
      "text/plain": [
       "9"
      ]
     },
     "execution_count": 50,
     "metadata": {},
     "output_type": "execute_result"
    }
   ],
   "source": [
    "len(result)"
   ]
  },
  {
   "cell_type": "markdown",
   "metadata": {},
   "source": [
    "## 가장 긴 증가하는 부분 수열"
   ]
  },
  {
   "cell_type": "code",
   "execution_count": 30,
   "metadata": {},
   "outputs": [
    {
     "name": "stdout",
     "output_type": "stream",
     "text": [
      "6\n",
      "10 20 10 30 20 50\n"
     ]
    }
   ],
   "source": [
    "N = int(input())\n",
    "arr = list(map(int, input().split()))\n",
    "pivot = arr[0]\n",
    "dp = [1 for _ in range(N)]"
   ]
  },
  {
   "cell_type": "code",
   "execution_count": 31,
   "metadata": {},
   "outputs": [
    {
     "name": "stdout",
     "output_type": "stream",
     "text": [
      "4\n"
     ]
    }
   ],
   "source": [
    "for i in range(1, N):\n",
    "    for j in range(i, -1, -1):\n",
    "        if arr[j] < arr[i]:\n",
    "            dp[i] = max(dp[i], dp[j]+1)\n",
    "        \n",
    "print(max(dp))"
   ]
  },
  {
   "cell_type": "code",
   "execution_count": 32,
   "metadata": {},
   "outputs": [
    {
     "data": {
      "text/plain": [
       "[1, 2, 1, 3, 2, 4]"
      ]
     },
     "execution_count": 32,
     "metadata": {},
     "output_type": "execute_result"
    }
   ],
   "source": [
    "dp"
   ]
  },
  {
   "cell_type": "markdown",
   "metadata": {},
   "source": [
    "## 퇴사"
   ]
  },
  {
   "cell_type": "code",
   "execution_count": 133,
   "metadata": {},
   "outputs": [
    {
     "name": "stdout",
     "output_type": "stream",
     "text": [
      "7\n",
      "3 10\n",
      "5 20\n",
      "1 10\n",
      "1 20\n",
      "2 15\n",
      "4 40\n",
      "2 200\n"
     ]
    }
   ],
   "source": [
    "N = int(input())\n",
    "arr = []\n",
    "arr.append(())\n",
    "for _ in range(N):\n",
    "    a, b = map(int, input().split())\n",
    "    arr.append((a, b))"
   ]
  },
  {
   "cell_type": "code",
   "execution_count": 134,
   "metadata": {},
   "outputs": [],
   "source": [
    "result = [0]*(N+1)"
   ]
  },
  {
   "cell_type": "code",
   "execution_count": 135,
   "metadata": {},
   "outputs": [],
   "source": [
    "for i in range(N, 0, -1):\n",
    "    if i == N:\n",
    "        if arr[i][0] == 1:\n",
    "            dp[i] = arr[i][1]\n",
    "    elif arr[i][0]+i == N+1:\n",
    "        result[i] = max(arr[i][1], result[i+1])\n",
    "    elif arr[i][0]+i < N+1:\n",
    "        result[i] = max(arr[i][1]+result[i+arr[i][0]], result[i+1])\n",
    "    else:\n",
    "        result[i] = result[i+1]"
   ]
  },
  {
   "cell_type": "code",
   "execution_count": 136,
   "metadata": {},
   "outputs": [
    {
     "data": {
      "text/plain": [
       "[0, 45, 45, 45, 35, 15, 0, 0]"
      ]
     },
     "execution_count": 136,
     "metadata": {},
     "output_type": "execute_result"
    }
   ],
   "source": [
    "result"
   ]
  },
  {
   "cell_type": "markdown",
   "metadata": {},
   "source": [
    "## 유기농 배추"
   ]
  },
  {
   "cell_type": "code",
   "execution_count": 157,
   "metadata": {},
   "outputs": [],
   "source": [
    "from collections import deque\n",
    "\n",
    "dx = [1, -1, 0, 0]\n",
    "dy = [0, 0, 1, -1]\n",
    "\n",
    "def bfs(i, j, arr):\n",
    "    q = deque()\n",
    "    q.append((i, j))\n",
    "    while q:\n",
    "        x, y = q.popleft()\n",
    "        arr[x][y] = 2\n",
    "        \n",
    "        for i in range(4):\n",
    "            ix = x + dx[i]\n",
    "            iy = y + dy[i]\n",
    "            \n",
    "            if 0<= ix < N and 0<= iy < M:\n",
    "                if arr[ix][iy] == 1:\n",
    "                    q.append((ix, iy))\n",
    "                    arr[ix][iy] = 2"
   ]
  },
  {
   "cell_type": "code",
   "execution_count": 158,
   "metadata": {
    "scrolled": true
   },
   "outputs": [
    {
     "name": "stdout",
     "output_type": "stream",
     "text": [
      "2\n",
      "10 8 17\n",
      "0 0\n",
      "1 0\n",
      "1 1\n",
      "4 2\n",
      "4 3\n",
      "4 5\n",
      "2 4\n",
      "3 4\n",
      "7 4\n",
      "8 4\n",
      "9 4\n",
      "7 5\n",
      "8 5\n",
      "9 5\n",
      "7 6\n",
      "8 6\n",
      "9 6\n",
      "5 3 6\n",
      "0 2\n",
      "1 2\n",
      "2 2\n",
      "3 2\n",
      "4 2\n",
      "4 0\n",
      "5\n",
      "2\n"
     ]
    }
   ],
   "source": [
    "T = int(input())\n",
    "result = []\n",
    "\n",
    "for _ in range(T):\n",
    "    M, N, K = map(int, input().split())\n",
    "    arr = [[0 for _ in range(M)] for _ in range(N)]\n",
    "    count = 0\n",
    "    for _ in range(K):\n",
    "        a, b = map(int, input().split())\n",
    "        arr[b][a] = 1\n",
    "        \n",
    "    for i in range(N):\n",
    "        for j in range(M):\n",
    "            if arr[i][j] == 1:\n",
    "                count += 1\n",
    "                bfs(i, j, arr)\n",
    "                \n",
    "    result.append(count)\n",
    "\n",
    "for i in range(len(result)):\n",
    "    print(result[i])"
   ]
  },
  {
   "cell_type": "markdown",
   "metadata": {},
   "source": [
    "## 안전 영역"
   ]
  },
  {
   "cell_type": "code",
   "execution_count": 49,
   "metadata": {},
   "outputs": [],
   "source": [
    "def dfs(i, j, value):\n",
    "    global count\n",
    "    if i <= -1 or j <= -1 or i >= N or j >= N:\n",
    "        return\n",
    "    \n",
    "    if test[i][j] > value:\n",
    "        test[i][j] = 0\n",
    "        dfs(i+1, j, value)\n",
    "        dfs(i, j+1, value)\n",
    "        dfs(i-1, j, value)\n",
    "        dfs(i, j-1, value)\n",
    "    \n",
    "    else:\n",
    "        return"
   ]
  },
  {
   "cell_type": "code",
   "execution_count": 4,
   "metadata": {},
   "outputs": [
    {
     "name": "stdout",
     "output_type": "stream",
     "text": [
      "5\n",
      "6 8 2 6 2\n",
      "3 2 3 4 6\n",
      "6 7 3 3 2\n",
      "7 2 5 3 6\n",
      "8 9 5 2 7\n"
     ]
    }
   ],
   "source": [
    "N = int(input())\n",
    "arr = []\n",
    "\n",
    "for _ in range(N):\n",
    "    arr.append(list(map(int,input().split())))"
   ]
  },
  {
   "cell_type": "code",
   "execution_count": 22,
   "metadata": {},
   "outputs": [],
   "source": [
    "import copy\n",
    "value = 0\n",
    "count = 0\n",
    "limit = max(max(arr))\n",
    "result = []"
   ]
  },
  {
   "cell_type": "code",
   "execution_count": 23,
   "metadata": {},
   "outputs": [
    {
     "name": "stdout",
     "output_type": "stream",
     "text": [
      "1\n",
      "1\n",
      "4\n",
      "5\n",
      "5\n",
      "4\n",
      "2\n",
      "1\n",
      "5\n"
     ]
    }
   ],
   "source": [
    "while value < limit:\n",
    "    test = copy.deepcopy(arr)\n",
    "    count = 0\n",
    "    for i in range(N):\n",
    "        for j in range(N):\n",
    "            if test[i][j] > value and test[i][j] != 0:\n",
    "                count += 1\n",
    "                dfs_2(i, j, value)\n",
    "    print(count)\n",
    "    result.append(count)\n",
    "    value += 1\n",
    "print(max(result))"
   ]
  },
  {
   "cell_type": "code",
   "execution_count": 17,
   "metadata": {},
   "outputs": [],
   "source": [
    "dx = [1, -1, 0, 0]\n",
    "dy = [0, 0, 1, -1]\n",
    "\n",
    "def dfs_2(x, y, value):\n",
    "    \n",
    "    for i in range(4):\n",
    "        ix = x + dx[i]\n",
    "        iy = y + dy[i]\n",
    "        \n",
    "        if 0<=ix < N and 0 <= iy < N and test[ix][iy] != 0 and test[ix][iy] > value:\n",
    "            test[ix][iy] = 0\n",
    "            dfs_2(ix, iy, value)"
   ]
  },
  {
   "cell_type": "markdown",
   "metadata": {},
   "source": [
    "## 단어 수학(못풀음ㅠ)"
   ]
  },
  {
   "cell_type": "code",
   "execution_count": 29,
   "metadata": {},
   "outputs": [
    {
     "name": "stdout",
     "output_type": "stream",
     "text": [
      "2\n",
      "GCF\n",
      "ACDEB\n"
     ]
    },
    {
     "ename": "TypeError",
     "evalue": "'int' object is not iterable",
     "output_type": "error",
     "traceback": [
      "\u001b[0;31m---------------------------------------------------------------------------\u001b[0m",
      "\u001b[0;31mTypeError\u001b[0m                                 Traceback (most recent call last)",
      "\u001b[0;32m<ipython-input-29-84dc9cf5b8d1>\u001b[0m in \u001b[0;36m<module>\u001b[0;34m\u001b[0m\n\u001b[1;32m      7\u001b[0m     \u001b[0marr\u001b[0m\u001b[0;34m.\u001b[0m\u001b[0mappend\u001b[0m\u001b[0;34m(\u001b[0m\u001b[0ma\u001b[0m\u001b[0;34m)\u001b[0m\u001b[0;34m\u001b[0m\u001b[0;34m\u001b[0m\u001b[0m\n\u001b[1;32m      8\u001b[0m \u001b[0;34m\u001b[0m\u001b[0m\n\u001b[0;32m----> 9\u001b[0;31m \u001b[0mlimit\u001b[0m \u001b[0;34m=\u001b[0m \u001b[0mmax\u001b[0m\u001b[0;34m(\u001b[0m\u001b[0mlen\u001b[0m\u001b[0;34m(\u001b[0m\u001b[0marr\u001b[0m\u001b[0;34m)\u001b[0m\u001b[0;34m)\u001b[0m\u001b[0;34m\u001b[0m\u001b[0;34m\u001b[0m\u001b[0m\n\u001b[0m",
      "\u001b[0;31mTypeError\u001b[0m: 'int' object is not iterable"
     ]
    }
   ],
   "source": [
    "N = int(input())\n",
    "arr = []\n",
    "library = {}\n",
    "\n",
    "for _ in range(N):\n",
    "    a = input()\n",
    "    arr.append(a)\n",
    "\n",
    "a = len(arr)"
   ]
  },
  {
   "cell_type": "code",
   "execution_count": 25,
   "metadata": {},
   "outputs": [
    {
     "data": {
      "text/plain": [
       "['AAA', 'AAA']"
      ]
     },
     "execution_count": 25,
     "metadata": {},
     "output_type": "execute_result"
    }
   ],
   "source": [
    "while"
   ]
  },
  {
   "cell_type": "code",
   "execution_count": 28,
   "metadata": {},
   "outputs": [
    {
     "data": {
      "text/plain": [
       "3"
      ]
     },
     "execution_count": 28,
     "metadata": {},
     "output_type": "execute_result"
    }
   ],
   "source": [
    "len(arr[0])"
   ]
  },
  {
   "cell_type": "markdown",
   "metadata": {},
   "source": [
    "## 한 줄로 서기"
   ]
  },
  {
   "cell_type": "code",
   "execution_count": 30,
   "metadata": {
    "scrolled": true
   },
   "outputs": [
    {
     "name": "stdout",
     "output_type": "stream",
     "text": [
      "4\n",
      "2 1 1 0\n",
      "4 2 1 3 "
     ]
    }
   ],
   "source": [
    "N = int(input())\n",
    "line = []\n",
    "\n",
    "arr = list(map(int, input().split()))\n",
    "\n",
    "for i in range(len(arr)-1, -1, -1):\n",
    "    line.insert(arr[i], i+1)\n",
    "    \n",
    "\n",
    "for i in line:\n",
    "    print(i, end=' ')"
   ]
  },
  {
   "cell_type": "markdown",
   "metadata": {},
   "source": [
    "## 카드 구매하기"
   ]
  },
  {
   "cell_type": "code",
   "execution_count": 2,
   "metadata": {},
   "outputs": [
    {
     "name": "stdout",
     "output_type": "stream",
     "text": [
      "10\n",
      "1 1 2 3 5 8 13 21 34 55\n",
      "55\n"
     ]
    }
   ],
   "source": [
    "N = int(input())\n",
    "arr = [0] + list(map(int, input().split()))\n",
    "dp = [0]*(N+1)\n",
    "\n",
    "for i in range(1,N+1):\n",
    "    for k in range(1,i+1):\n",
    "        dp[i] = max(dp[i], dp[i-k] + arr[k])\n",
    "print(dp[i])"
   ]
  },
  {
   "cell_type": "markdown",
   "metadata": {},
   "source": [
    "## 세 수"
   ]
  },
  {
   "cell_type": "code",
   "execution_count": 4,
   "metadata": {},
   "outputs": [
    {
     "name": "stdout",
     "output_type": "stream",
     "text": [
      "20 30 10\n",
      "20\n"
     ]
    }
   ],
   "source": [
    "arr = list(map(int, input().split()))\n",
    "result = []\n",
    "arr.sort(reverse=True)\n",
    "\n",
    "for _ in range(2):\n",
    "    result = arr.pop()\n",
    "    \n",
    "print(result)"
   ]
  },
  {
   "cell_type": "markdown",
   "metadata": {},
   "source": [
    "## 더하기 사이클"
   ]
  },
  {
   "cell_type": "code",
   "execution_count": 31,
   "metadata": {},
   "outputs": [
    {
     "name": "stdout",
     "output_type": "stream",
     "text": [
      "1\n",
      "60\n"
     ]
    }
   ],
   "source": [
    "N = int(input())\n",
    "strN = str(N)\n",
    "count = 0\n",
    "intN = 0\n",
    "result = 0\n",
    "result_str = ''\n",
    "test = ''\n",
    "\n",
    "if len(strN) > 1:\n",
    "    intN = int(strN[0]) + int(strN[1])\n",
    "    test = str(intN)\n",
    "        \n",
    "    if len(test) >1:\n",
    "        test = strN[1] + test[1]\n",
    "        count += 1\n",
    "    else:\n",
    "        test = strN[1] + test\n",
    "        count += 1\n",
    "    \n",
    "if len(strN) == 1:\n",
    "    test = strN[0] + strN[0]\n",
    "    count += 1\n",
    "    \n",
    "result_str = test\n",
    "result = int(result_str)    \n",
    "    \n",
    "while result != N:\n",
    "    if len(result_str) >1:\n",
    "        intN = int(result_str[0]) + int(result_str[1])\n",
    "        test = str(intN)\n",
    "        \n",
    "        if len(test) > 1:\n",
    "            test = result_str[1] + test[1]\n",
    "            count +=1\n",
    "        else:\n",
    "            test = result_str[1] + test\n",
    "            count += 1\n",
    "            \n",
    "    if len(result_str) == 1:\n",
    "        test = result_str + result_str\n",
    "        count += 1\n",
    "        \n",
    "    result_str = test\n",
    "    result = int(result_str)\n",
    "\n",
    "print(count)"
   ]
  },
  {
   "cell_type": "markdown",
   "metadata": {},
   "source": [
    "## A+B - 5"
   ]
  },
  {
   "cell_type": "code",
   "execution_count": 34,
   "metadata": {},
   "outputs": [
    {
     "name": "stdout",
     "output_type": "stream",
     "text": [
      "1 1\n",
      "2 3\n",
      "3 4\n",
      "9 8\n",
      "5 2\n",
      "0 0\n",
      "2\n",
      "5\n",
      "7\n",
      "17\n",
      "7\n"
     ]
    }
   ],
   "source": [
    "result = []\n",
    "\n",
    "while True:\n",
    "    a, b = map(int, input().split())\n",
    "    \n",
    "    if a == 0 and b == 0:\n",
    "        break\n",
    "    else:\n",
    "        result.append(a+b)\n",
    "for i in range(len(result)):\n",
    "    print(result[i])"
   ]
  },
  {
   "cell_type": "markdown",
   "metadata": {},
   "source": [
    "## OX퀴즈"
   ]
  },
  {
   "cell_type": "code",
   "execution_count": 44,
   "metadata": {},
   "outputs": [
    {
     "name": "stdout",
     "output_type": "stream",
     "text": [
      "5\n",
      "OOXXOXXOOO\n",
      "OOXXOOXXOO\n",
      "OXOXOXOXOXOXOX\n",
      "OOOOOOOOOO\n",
      "OOOOXOOOOXOOOOX\n",
      "10\n",
      "9\n",
      "7\n",
      "55\n",
      "30\n"
     ]
    }
   ],
   "source": [
    "N = int(input())\n",
    "result = []\n",
    "\n",
    "for _ in range(N):\n",
    "    a = input()\n",
    "    arr= list(a)\n",
    "    count = 0\n",
    "    total = 0\n",
    "    for i in range(len(arr)):\n",
    "        if arr[i] == 'O':\n",
    "            count += 1\n",
    "            total = total + count\n",
    "        if arr[i] == 'X':\n",
    "            count = 0\n",
    "    result.append(total)\n",
    "\n",
    "for i in range(len(result)):\n",
    "    print(result[i])"
   ]
  },
  {
   "cell_type": "markdown",
   "metadata": {},
   "source": [
    "## 최소, 최대"
   ]
  },
  {
   "cell_type": "code",
   "execution_count": 48,
   "metadata": {
    "scrolled": true
   },
   "outputs": [
    {
     "name": "stdout",
     "output_type": "stream",
     "text": [
      "5\n",
      "20 10 35 30 7\n",
      "7 35\n"
     ]
    }
   ],
   "source": [
    "N = int(input())\n",
    "arr = list(map(int, input().split()))\n",
    "arr.sort()\n",
    "print('{} {}'.format(arr[0],arr[-1]))"
   ]
  },
  {
   "cell_type": "markdown",
   "metadata": {},
   "source": [
    "## 단어의 개수"
   ]
  },
  {
   "cell_type": "code",
   "execution_count": 51,
   "metadata": {},
   "outputs": [
    {
     "name": "stdout",
     "output_type": "stream",
     "text": [
      "Mazatneunde Wae Teullyeoyo\n",
      "3\n"
     ]
    }
   ],
   "source": [
    "arr = list(input().split())\n",
    "print(len(arr))"
   ]
  },
  {
   "cell_type": "markdown",
   "metadata": {},
   "source": [
    "## 수 정렬하기"
   ]
  },
  {
   "cell_type": "code",
   "execution_count": 58,
   "metadata": {},
   "outputs": [
    {
     "name": "stdout",
     "output_type": "stream",
     "text": [
      "5\n",
      "5\n",
      "2\n",
      "3\n",
      "4\n",
      "1\n",
      "1\n",
      "2\n",
      "3\n",
      "4\n",
      "5\n"
     ]
    }
   ],
   "source": [
    "N = int(input())\n",
    "arr = []\n",
    "\n",
    "for _ in range(N):\n",
    "    a = int(input())\n",
    "    arr.append(a)\n",
    "\n",
    "## set을 이용하면 중복값 제거 가능!!\n",
    "result = list(set(arr))\n",
    "result.sort()\n",
    "\n",
    "for i in range(len(result)):\n",
    "    print(result[i])"
   ]
  },
  {
   "cell_type": "code",
   "execution_count": 57,
   "metadata": {},
   "outputs": [
    {
     "data": {
      "text/plain": [
       "[5, 2, 3, 4, 1]"
      ]
     },
     "execution_count": 57,
     "metadata": {},
     "output_type": "execute_result"
    }
   ],
   "source": [
    "arr"
   ]
  },
  {
   "cell_type": "markdown",
   "metadata": {},
   "source": [
    "## 최대값"
   ]
  },
  {
   "cell_type": "code",
   "execution_count": 61,
   "metadata": {},
   "outputs": [
    {
     "name": "stdout",
     "output_type": "stream",
     "text": [
      "3\n",
      "29\n",
      "38\n",
      "12\n",
      "57\n",
      "74\n",
      "40\n",
      "85\n",
      "61\n",
      "85\n",
      "8\n"
     ]
    }
   ],
   "source": [
    "arr = []\n",
    "result = 0\n",
    "index = 0\n",
    "\n",
    "for _ in range(9):\n",
    "    arr.append(int(input()))\n",
    "    \n",
    "for i in range(len(arr)):\n",
    "    if result < arr[i]:\n",
    "        result = arr[i]\n",
    "        index = i+1\n",
    "print(result)\n",
    "print(index)"
   ]
  },
  {
   "cell_type": "markdown",
   "metadata": {},
   "source": [
    "## 벽 부수고 이동하기(시간초과,,,)"
   ]
  },
  {
   "cell_type": "code",
   "execution_count": 52,
   "metadata": {},
   "outputs": [
    {
     "name": "stdout",
     "output_type": "stream",
     "text": [
      "6 4\n",
      "0100\n",
      "1110\n",
      "1000\n",
      "0000\n",
      "0111\n",
      "0000\n"
     ]
    }
   ],
   "source": [
    "from collections import deque\n",
    "import copy\n",
    "\n",
    "N, M = map(int, input().split())\n",
    "arr =[]\n",
    "one = []\n",
    "\n",
    "for _ in range(N):\n",
    "    arr.append(list(map(int, input())))\n",
    "\n",
    "for i in range(N):\n",
    "    for j in range(M):\n",
    "        if arr[i][j] == 1:\n",
    "            one.append((i,j))"
   ]
  },
  {
   "cell_type": "code",
   "execution_count": 53,
   "metadata": {},
   "outputs": [
    {
     "data": {
      "text/plain": [
       "[(0, 1), (1, 0), (1, 1), (1, 2), (2, 0), (4, 1), (4, 2), (4, 3)]"
      ]
     },
     "execution_count": 53,
     "metadata": {},
     "output_type": "execute_result"
    }
   ],
   "source": [
    "one"
   ]
  },
  {
   "cell_type": "code",
   "execution_count": 93,
   "metadata": {},
   "outputs": [],
   "source": [
    "dx = [1, -1, 0, 0]\n",
    "dy = [0, 0, 1, -1]\n",
    "\n",
    "def bfs(i, j, arr):\n",
    "    global count\n",
    "    q = deque()\n",
    "    q.append((i,j))\n",
    "    term_count = len(q)\n",
    "    \n",
    "    while q:\n",
    "        if term_count == 0:\n",
    "            term_count = len(q)\n",
    "            count += 1\n",
    "            \n",
    "        x, y = q.popleft()\n",
    "        term_count -= 1\n",
    "        arr[x][y] = 2\n",
    "\n",
    "        for i in range(4):\n",
    "            ix = x + dx[i]\n",
    "            iy = y + dy[i]\n",
    "            \n",
    "            if 0<= ix < N and 0<= iy < M and arr[ix][iy] == 0:\n",
    "                q.append((ix, iy))\n",
    "                arr[ix][iy] = 2"
   ]
  },
  {
   "cell_type": "code",
   "execution_count": 94,
   "metadata": {},
   "outputs": [
    {
     "name": "stdout",
     "output_type": "stream",
     "text": [
      "15\n"
     ]
    }
   ],
   "source": [
    "result = []\n",
    "\n",
    "for i in range(len(one)):\n",
    "    fake = copy.deepcopy(arr)\n",
    "    fake[one[i][0]][one[i][1]] = 0\n",
    "    count = 1\n",
    "    bfs(0, 0, fake)\n",
    "    if count > 2:\n",
    "        result.append(count)\n",
    "    \n",
    "if len(result) >= 1:\n",
    "    print(min(result))\n",
    "\n",
    "else:\n",
    "    print(-1)"
   ]
  },
  {
   "cell_type": "markdown",
   "metadata": {},
   "source": [
    "## 수 묶기"
   ]
  },
  {
   "cell_type": "code",
   "execution_count": 11,
   "metadata": {},
   "outputs": [
    {
     "name": "stdout",
     "output_type": "stream",
     "text": [
      "4\n",
      "-1\n",
      "2\n",
      "1\n",
      "3\n"
     ]
    }
   ],
   "source": [
    "N = int(input())\n",
    "arr = []\n",
    "result = []\n",
    "\n",
    "for _ in range(N):\n",
    "    arr.append(int(input()))\n",
    "    \n",
    "arr.sort()\n",
    "buffer = 0\n",
    "count = 0\n",
    "count_0 = 0\n",
    "\n",
    "while arr:\n",
    "    a = arr.pop()\n",
    "    count += 1\n",
    "    \n",
    "    if count ==2 and a>=2:\n",
    "        result.append(a * buffer)\n",
    "        buffer = 0\n",
    "        count = 0\n",
    "            \n",
    "    elif a>=2 and count != 2:\n",
    "        buffer = a\n",
    "    \n",
    "    elif a <= 1:\n",
    "        if a == 0:\n",
    "            count_0 += 1\n",
    "        else:\n",
    "            result.append(a)\n",
    "        \n",
    "result.sort()\n",
    "i = 0\n",
    "ans = 0\n",
    "\n",
    "for i in range(len(result)):\n",
    "    if result[i] >=2 :\n",
    "        ans += result[i]\n",
    "    \n",
    "    if result[i] < 0:\n",
    "        ans += result[i]"
   ]
  },
  {
   "cell_type": "code",
   "execution_count": 12,
   "metadata": {},
   "outputs": [
    {
     "data": {
      "text/plain": [
       "[6, 1, -1]"
      ]
     },
     "execution_count": 12,
     "metadata": {},
     "output_type": "execute_result"
    }
   ],
   "source": [
    "result"
   ]
  },
  {
   "cell_type": "code",
   "execution_count": 25,
   "metadata": {},
   "outputs": [
    {
     "name": "stdout",
     "output_type": "stream",
     "text": [
      "6\n",
      "-9\n",
      "20\n",
      "0\n",
      "-10\n",
      "200\n",
      "0\n",
      "4090\n"
     ]
    }
   ],
   "source": [
    "N = int(input())\n",
    "arr = []\n",
    "arr_min = []\n",
    "result = 0\n",
    "\n",
    "for _ in range(N):\n",
    "    a = int(input())\n",
    "    \n",
    "    if a == 1:\n",
    "        result += 1\n",
    "        \n",
    "    elif a <1:\n",
    "        arr_min.append(a)\n",
    "        \n",
    "    else:\n",
    "        arr.append(a)\n",
    "\n",
    "arr_min.sort()\n",
    "arr.sort(reverse= True)\n",
    "\n",
    "for i in range(0, len(arr_min), 2):\n",
    "    if i+1 < len(arr_min):\n",
    "        result += arr_min[i]*arr_min[i+1]\n",
    "        \n",
    "    else:\n",
    "        result += arr_min[i]\n",
    "        \n",
    "for i in range(0, len(arr), 2):\n",
    "    if i+1 < len(arr):\n",
    "        result += arr[i]*arr[i+1]\n",
    "    else:\n",
    "        result += arr[i]\n",
    "        \n",
    "print(result)"
   ]
  },
  {
   "cell_type": "code",
   "execution_count": 22,
   "metadata": {},
   "outputs": [
    {
     "data": {
      "text/plain": [
       "27"
      ]
     },
     "execution_count": 22,
     "metadata": {},
     "output_type": "execute_result"
    }
   ],
   "source": [
    "result"
   ]
  },
  {
   "cell_type": "code",
   "execution_count": 17,
   "metadata": {},
   "outputs": [
    {
     "data": {
      "text/plain": [
       "[1, -3, -6]"
      ]
     },
     "execution_count": 17,
     "metadata": {},
     "output_type": "execute_result"
    }
   ],
   "source": [
    "arr_min"
   ]
  },
  {
   "cell_type": "markdown",
   "metadata": {},
   "source": [
    "##  방 번호"
   ]
  },
  {
   "cell_type": "code",
   "execution_count": 33,
   "metadata": {},
   "outputs": [
    {
     "name": "stdout",
     "output_type": "stream",
     "text": [
      "99966\n"
     ]
    }
   ],
   "source": [
    "N = list(map(int, input()))"
   ]
  },
  {
   "cell_type": "code",
   "execution_count": 40,
   "metadata": {
    "scrolled": true
   },
   "outputs": [
    {
     "name": "stdout",
     "output_type": "stream",
     "text": [
      "3\n"
     ]
    }
   ],
   "source": [
    "check = [0]*10\n",
    "for i in range(len(N)):\n",
    "    if N[i] == 9 or N[i] ==6:\n",
    "        if check[6] == check[9]:\n",
    "            check[9] += 1\n",
    "        else:\n",
    "            check[6] += 1\n",
    "    else:\n",
    "        check[N[i]] += 1\n",
    "print(max(check))"
   ]
  },
  {
   "cell_type": "code",
   "execution_count": 41,
   "metadata": {
    "scrolled": true
   },
   "outputs": [
    {
     "data": {
      "text/plain": [
       "[0, 0, 0, 0, 0, 0, 2, 0, 0, 3]"
      ]
     },
     "execution_count": 41,
     "metadata": {},
     "output_type": "execute_result"
    }
   ],
   "source": [
    "check"
   ]
  },
  {
   "cell_type": "markdown",
   "metadata": {},
   "source": [
    "## 랜선 자르기"
   ]
  },
  {
   "cell_type": "code",
   "execution_count": 44,
   "metadata": {},
   "outputs": [
    {
     "name": "stdout",
     "output_type": "stream",
     "text": [
      "4 11\n",
      "802\n",
      "743\n",
      "457\n",
      "539\n"
     ]
    }
   ],
   "source": [
    "K, N = map(int, input().split())\n",
    "cable = []\n",
    "\n",
    "for _ in range(K):\n",
    "    cable.append(int(input()))"
   ]
  },
  {
   "cell_type": "code",
   "execution_count": 49,
   "metadata": {},
   "outputs": [
    {
     "name": "stdout",
     "output_type": "stream",
     "text": [
      "200\n"
     ]
    }
   ],
   "source": [
    "def binary(x, y, cable):\n",
    "    count = 0\n",
    "    mid = y//2\n",
    "    \n",
    "    for i in range(K):\n",
    "        count += cable[i]//mid\n",
    "    \n",
    "    if count > N:\n",
    "        return binary(mid, y, cable)\n",
    "    \n",
    "    elif count < N:\n",
    "        return binary(x, mid, cable)\n",
    "    \n",
    "    elif count == N:\n",
    "        return mid\n",
    "    \n",
    "print(binary(1, max(cable), cable))"
   ]
  },
  {
   "cell_type": "markdown",
   "metadata": {},
   "source": [
    "## 스티커"
   ]
  },
  {
   "cell_type": "code",
   "execution_count": 24,
   "metadata": {},
   "outputs": [
    {
     "name": "stdout",
     "output_type": "stream",
     "text": [
      "2\n",
      "5\n",
      "50 10 100 20 40\n",
      "30 50 70 10 60\n",
      "7\n",
      "10 30 10 50 100 20 40\n",
      "20 40 30 50 60 20 80\n",
      "260\n",
      "290\n"
     ]
    }
   ],
   "source": [
    "T = int(input())\n",
    "result = []\n",
    "for _ in range(T):\n",
    "    N = int(input())\n",
    "    arr = []\n",
    "    arr.append(list(map(int, input().split())))\n",
    "    arr.append(list(map(int, input().split())))\n",
    "    dp = [0]*(N+1)\n",
    "    pivot = 1\n",
    "\n",
    "    if arr[0][0] > arr[1][0]:\n",
    "        dp[1] = arr[0][0]\n",
    "        pivot = 1\n",
    "    if arr[0][0] <= arr[1][0]:\n",
    "        dp[1] = arr[1][0]\n",
    "        pivot = 0\n",
    "\n",
    "    if arr[0][1] + arr[1][0] > arr[1][1]+ arr[0][0]:\n",
    "        dp[2] = arr[0][1] + arr[1][0]\n",
    "        pivot = 1\n",
    "    if arr[0][1] + arr[1][0] <= arr[1][1]+ arr[0][0]:\n",
    "        dp[2] = arr[1][1] + arr[0][0]\n",
    "        pivot = 0  \n",
    "        \n",
    "    for i in range(2, N):\n",
    "        if pivot == 1:\n",
    "            a = dp[i-1] + arr[pivot][i]\n",
    "            b = dp[i-1] + arr[pivot-1][i]\n",
    "            c = dp[i] + arr[pivot][i]\n",
    "\n",
    "            if c > max(a, b):\n",
    "                dp[i+1] = c\n",
    "                pivot = 0\n",
    "            else:\n",
    "                if a > b:\n",
    "                    dp[i+1] = a\n",
    "                    pivot = 0\n",
    "                else:\n",
    "                    dp[i+1] = b\n",
    "                    pivot = 1\n",
    "\n",
    "        elif pivot == 0:\n",
    "            a = dp[i-1] + arr[pivot][i]\n",
    "            b = dp[i-1] + arr[pivot+1][i]\n",
    "            c = dp[i] + arr[pivot][i]\n",
    "\n",
    "            if c > max(a, b):\n",
    "                dp[i+1] = c\n",
    "                pivot = 1\n",
    "            else:\n",
    "                if a > b:\n",
    "                    dp[i+1] = a\n",
    "                    pivot = 1\n",
    "                else:\n",
    "                    dp[i+1] = b\n",
    "                    pivot = 0\n",
    "                    \n",
    "    result.append(dp[-1])\n",
    "    \n",
    "for i in result:\n",
    "    print(i)"
   ]
  },
  {
   "cell_type": "code",
   "execution_count": 1,
   "metadata": {},
   "outputs": [
    {
     "name": "stdout",
     "output_type": "stream",
     "text": [
      "2\n",
      "5\n",
      "50 10 100 20 40\n",
      "30 50 70 10 60\n",
      "260\n",
      "7\n",
      "10 30 10 50 100 20 40\n",
      "20 40 30 50 60 20 80\n",
      "290\n"
     ]
    }
   ],
   "source": [
    "## dp를 2차원으로 해결한것(pivot 없어서 훨씬 간단,,,)\n",
    "tc = int(input())\n",
    "for _ in range(tc):\n",
    "    n = int(input())\n",
    "    dp = []\n",
    "    for _ in range(2):\n",
    "        dp.append(list(map(int, input().split())))\n",
    "    dp[0][1] += dp[1][0]\n",
    "    dp[1][1] += dp[0][0]\n",
    "    \n",
    "    for i in range(2, n):\n",
    "        dp[0][i] += max(dp[1][i-1], dp[1][i-2])\n",
    "        dp[1][i] += max(dp[0][i-1], dp[0][i-2])\n",
    "    print(max(dp[0][n-1], dp[1][n-1]))"
   ]
  },
  {
   "cell_type": "markdown",
   "metadata": {},
   "source": [
    "## 섬의 개수"
   ]
  },
  {
   "cell_type": "code",
   "execution_count": 27,
   "metadata": {},
   "outputs": [
    {
     "name": "stdout",
     "output_type": "stream",
     "text": [
      "1\n",
      "5 4\n",
      "1 0 1 0 0\n",
      "1 0 0 0 0\n",
      "1 0 1 0 1\n",
      "1 0 0 1 0\n",
      "0 0\n",
      "3\n"
     ]
    }
   ],
   "source": [
    "from collections import deque\n",
    "\n",
    "N = int(input())\n",
    "result = []\n",
    "\n",
    "dx = [1, -1, 0 ,0, 1, -1, 1, -1]\n",
    "dy = [0, 0, 1, -1, 1, -1, -1, 1]\n",
    "\n",
    "def bfs(i, j, arr):\n",
    "    queue = deque()\n",
    "    queue.append((i, j))\n",
    "    arr[i][j] = 0\n",
    "    \n",
    "    while queue:\n",
    "        x, y = queue.popleft()\n",
    "        \n",
    "        for i in range(8):\n",
    "            ix = x+dx[i]\n",
    "            iy = y + dy[i]\n",
    "            \n",
    "            if 0<=ix < H and 0<= iy < W:\n",
    "                if arr[ix][iy] == 1:\n",
    "                    arr[ix][iy] = 0\n",
    "                    queue.append((ix, iy))\n",
    "\n",
    "for _ in range(N):\n",
    "    W, H = map(int, input().split())\n",
    "    arr = []\n",
    "    count = 0\n",
    "    \n",
    "    for _ in range(H):\n",
    "        arr.append(list(map(int, input().split())))\n",
    "        \n",
    "    for i in range(H):\n",
    "        for j in range(W):\n",
    "            if arr[i][j] == 1:\n",
    "                bfs(i, j, arr)\n",
    "                count += 1\n",
    "            else:\n",
    "                pass\n",
    "    result.append(count)\n",
    "    \n",
    "W, H = map(int, input().split())\n",
    "\n",
    "for i in result:\n",
    "    print(i)"
   ]
  },
  {
   "cell_type": "code",
   "execution_count": 28,
   "metadata": {
    "scrolled": true
   },
   "outputs": [
    {
     "data": {
      "text/plain": [
       "[3]"
      ]
     },
     "execution_count": 28,
     "metadata": {},
     "output_type": "execute_result"
    }
   ],
   "source": [
    "result"
   ]
  },
  {
   "cell_type": "code",
   "execution_count": 29,
   "metadata": {},
   "outputs": [
    {
     "data": {
      "text/plain": [
       "[[0, 0, 0, 0, 0], [0, 0, 0, 0, 0], [0, 0, 0, 0, 0], [0, 0, 0, 0, 0]]"
      ]
     },
     "execution_count": 29,
     "metadata": {},
     "output_type": "execute_result"
    }
   ],
   "source": [
    "arr"
   ]
  },
  {
   "cell_type": "markdown",
   "metadata": {},
   "source": [
    "## 연구소"
   ]
  },
  {
   "cell_type": "code",
   "execution_count": 30,
   "metadata": {},
   "outputs": [
    {
     "name": "stdout",
     "output_type": "stream",
     "text": [
      "4 6\n",
      "0 0 0 0 0 0\n",
      "1 0 0 0 0 2\n",
      "1 1 1 0 0 2\n",
      "0 0 0 0 0 2\n",
      "9\n"
     ]
    }
   ],
   "source": [
    "from collections import deque\n",
    "import copy\n",
    "\n",
    "N, M = map(int, input().split())\n",
    "q = deque()\n",
    "dx = [1, -1, 0, 0]\n",
    "dy = [0, 0, 1, -1]\n",
    "graph = []\n",
    "ans = 0\n",
    "\n",
    "for _ in range(N):\n",
    "    graph.append(list(map(int, input().split())))\n",
    "\n",
    "def bfs():\n",
    "    global ans\n",
    "    labor = copy.deepcopy(graph)\n",
    "    \n",
    "    for i in range(N):\n",
    "        for j in range(M):\n",
    "            if graph[i][j] == 2:\n",
    "                q.append([i, j])\n",
    "    \n",
    "    while q:\n",
    "        x, y = q.popleft()\n",
    "        for i in range(4):\n",
    "            nx = x + dx[i]\n",
    "            ny = y + dy[i]\n",
    "            if 0 <= nx < N and 0 <= ny < M:\n",
    "                if labor[nx][ny] == 0:\n",
    "                    labor[nx][ny] = 2\n",
    "                    q.append([nx, ny])\n",
    "                    \n",
    "    cnt = 0\n",
    "    for i in labor:\n",
    "        cnt += i.count(0)\n",
    "    ans = max(ans, cnt)\n",
    "    \n",
    "def wall(x):\n",
    "    if x == 3:\n",
    "        bfs()\n",
    "        return\n",
    "    \n",
    "    for i in range(N):\n",
    "        for j in range(M):\n",
    "            if graph[i][j] == 0:\n",
    "                graph[i][j] = 1\n",
    "                wall(x+1)\n",
    "                graph[i][j] = 0\n",
    "                \n",
    "wall(0)\n",
    "print(ans)"
   ]
  },
  {
   "cell_type": "markdown",
   "metadata": {},
   "source": [
    "## 다리 놓기"
   ]
  },
  {
   "cell_type": "code",
   "execution_count": 33,
   "metadata": {},
   "outputs": [
    {
     "name": "stdout",
     "output_type": "stream",
     "text": [
      "3\n",
      "2 2\n",
      "1 5\n",
      "13 29\n"
     ]
    }
   ],
   "source": [
    "N = int(input())\n",
    "dp = [[0 for _ in range(30)] for _ in range(30)]\n",
    "want = []\n",
    "\n",
    "for _ in range(N):\n",
    "    want.append(list(map(int, input().split())))"
   ]
  },
  {
   "cell_type": "code",
   "execution_count": 34,
   "metadata": {},
   "outputs": [
    {
     "name": "stdout",
     "output_type": "stream",
     "text": [
      "29\n"
     ]
    }
   ],
   "source": [
    "pivot_list = max(want, key = lambda x: x[1])\n",
    "pivot = pivot_list[1]\n",
    "print(pivot)"
   ]
  },
  {
   "cell_type": "code",
   "execution_count": 35,
   "metadata": {},
   "outputs": [],
   "source": [
    "for i in range(1, pivot+1):\n",
    "    for j in range(1, i+1):\n",
    "        if j == 1:\n",
    "            dp[i][j] = i\n",
    "        else:\n",
    "            dp[i][j] = dp[i-1][j-1]+dp[i-1][j]"
   ]
  },
  {
   "cell_type": "code",
   "execution_count": 37,
   "metadata": {},
   "outputs": [
    {
     "name": "stdout",
     "output_type": "stream",
     "text": [
      "1\n",
      "5\n",
      "67863915\n"
     ]
    }
   ],
   "source": [
    "for i in range(len(want)):\n",
    "    print(dp[want[i][1]][want[i][0]])"
   ]
  },
  {
   "cell_type": "code",
   "execution_count": null,
   "metadata": {},
   "outputs": [],
   "source": []
  }
 ],
 "metadata": {
  "kernelspec": {
   "display_name": "Python 3",
   "language": "python",
   "name": "python3"
  },
  "language_info": {
   "codemirror_mode": {
    "name": "ipython",
    "version": 3
   },
   "file_extension": ".py",
   "mimetype": "text/x-python",
   "name": "python",
   "nbconvert_exporter": "python",
   "pygments_lexer": "ipython3",
   "version": "3.6.9"
  }
 },
 "nbformat": 4,
 "nbformat_minor": 2
}
